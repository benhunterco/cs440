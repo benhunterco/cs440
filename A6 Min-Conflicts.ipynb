{
 "cells": [
  {
   "cell_type": "markdown",
   "metadata": {},
   "source": [
    "$\\newcommand{\\xv}{\\mathbf{x}}\n",
    "\\newcommand{\\Xv}{\\mathbf{X}}\n",
    "\\newcommand{\\yv}{\\mathbf{y}}\n",
    "\\newcommand{\\zv}{\\mathbf{z}}\n",
    "\\newcommand{\\av}{\\mathbf{a}}\n",
    "\\newcommand{\\Wv}{\\mathbf{W}}\n",
    "\\newcommand{\\wv}{\\mathbf{w}}\n",
    "\\newcommand{\\tv}{\\mathbf{t}}\n",
    "\\newcommand{\\Tv}{\\mathbf{T}}\n",
    "\\newcommand{\\muv}{\\boldsymbol{\\mu}}\n",
    "\\newcommand{\\sigmav}{\\boldsymbol{\\sigma}}\n",
    "\\newcommand{\\phiv}{\\boldsymbol{\\phi}}\n",
    "\\newcommand{\\Phiv}{\\boldsymbol{\\Phi}}\n",
    "\\newcommand{\\Sigmav}{\\boldsymbol{\\Sigma}}\n",
    "\\newcommand{\\Lambdav}{\\boldsymbol{\\Lambda}}\n",
    "\\newcommand{\\half}{\\frac{1}{2}}\n",
    "\\newcommand{\\argmax}[1]{\\underset{#1}{\\operatorname{argmax}}}\n",
    "\\newcommand{\\argmin}[1]{\\underset{#1}{\\operatorname{argmin}}}$"
   ]
  },
  {
   "cell_type": "markdown",
   "metadata": {},
   "source": [
    "# Assignment 6: Min-Conflicts"
   ]
  },
  {
   "cell_type": "markdown",
   "metadata": {},
   "source": [
    "*Type your name here and rewrite all of the following sections.  Add more sections to present your code, results, and discussions.*"
   ]
  },
  {
   "cell_type": "markdown",
   "metadata": {},
   "source": [
    "For this assignment, you will use the `min-conflicts` code from the lecture notes to solve the following scheduling problem. <font color=\"red\">Do not change this code in completing this assignment.</font>"
   ]
  },
  {
   "cell_type": "markdown",
   "metadata": {},
   "source": [
    "You are in charge of assigning classes to classrooms and times for the\n",
    "department. The scheduling is simplified by the fact at this imaginary university each class meets every day. \n",
    "\n",
    "You have been asked to schedule only thee class rooms:\n",
    "\n",
    "  * CSB 130\n",
    "  * CSB 325\n",
    "  * CSB 425\n",
    "  \n",
    "Classes start on the hour. You can only assign classes to the hours of\n",
    "\n",
    "  * 9 am\n",
    "  * 10 am\n",
    "  * 11 am\n",
    "  * 12 pm\n",
    "  *  1 pm\n",
    "  *  2 pm\n",
    "  *  3 pm\n",
    "  *  4 pm\n",
    "  \n",
    "You must schedule these 22 classes:\n",
    "\n",
    "  * CS160, CS163, CS164,\n",
    "  * CS220, CS270, CS253,\n",
    "  * CS320, CS314, CS356, CS370,\n",
    "  * CS410, CS414, CS420, CS430, CS440, CS445, CS453, CS464,\n",
    "  * CS510, CS514, CS535, CS540, CS545\n",
    "\n",
    "Your schedule must not violate any of the following constraints.\n",
    "\n",
    "  * Two classes cannot meet in the same room at the same time.\n",
    "  * Classes with the same first digit cannot meet at the same time, because students might take a subset of these in one semester. There is one exception to this rule. CS163 and CS164 can meet at the same time."
   ]
  },
  {
   "cell_type": "markdown",
   "metadata": {},
   "source": [
    "The variables for this CSP problem are the classes.  The values you assign to each class will be a tuple containing a room and a time."
   ]
  },
  {
   "cell_type": "markdown",
   "metadata": {},
   "source": [
    "## Required Functions"
   ]
  },
  {
   "cell_type": "markdown",
   "metadata": {},
   "source": [
    "     assignments, steps = schedule(classes, times, rooms, max_steps)\n",
    "     \n",
    "     # classes: list of all class names, like 'CS410'\n",
    "     # times: list of all start times, like '10 am' and ' 1 pm'\n",
    "     # rooms: list of all rooms, like 'CSB 325'\n",
    "     # max_steps: maximum number of assignments to try\n",
    "     # assignments: dictionary of values assigned to variables, like {'CS410': ('CSB 425', '10 am'), ...}\n",
    "     # steps: actual number of assignments tested before solution found\n",
    "     #    assignments and steps will each be None if solution was not found.\n",
    "     \n",
    "     result = constraints_ok(class_name_1, value_1, class_name_2, value_2)\n",
    "     \n",
    "     # class_name_1: as above, like 'CS410'\n",
    "     # value_1: tuple containing room and time.\n",
    "     # class_name_2: a second class name\n",
    "     # value_2: another tuple containing a room and time\n",
    "     # result: True of the assignment of value_1 to class_name 1 and value_2 to class_name 2 does\n",
    "     #         not violate any constraints.  False otherwise.\n",
    "     \n",
    "     display(assignments, rooms, times)\n",
    "     \n",
    "     # assignments: returned from call to your schedule function\n",
    "     # rooms: list of all rooms as above\n",
    "     # times: list of all times as above\n",
    "     "
   ]
  },
  {
   "cell_type": "markdown",
   "metadata": {},
   "source": [
    "## Examples"
   ]
  },
  {
   "cell_type": "code",
   "execution_count": 19,
   "metadata": {},
   "outputs": [],
   "source": [
    "classes = ['CS160', 'CS163', 'CS164',\n",
    "           'CS220', 'CS270', 'CS253',\n",
    "           'CS320', 'CS314', 'CS356', 'CS370',\n",
    "           'CS410', 'CS414', 'CS420', 'CS430', 'CS440', 'CS445', 'CS453', 'CS464',\n",
    "           'CS510', 'CS514', 'CS535', 'CS540', 'CS545']\n",
    "\n",
    "times = [' 9 am',\n",
    "         '10 am',\n",
    "         '11 am',\n",
    "         '12 pm',\n",
    "         ' 1 pm',\n",
    "         ' 2 pm',\n",
    "         ' 3 pm',\n",
    "         ' 4 pm']\n",
    "\n",
    "rooms = ['CSB 130', 'CSB 325', 'CSB 425']"
   ]
  },
  {
   "cell_type": "code",
   "execution_count": 26,
   "metadata": {},
   "outputs": [
    {
     "name": "stdout",
     "output_type": "stream",
     "text": [
      "Took 5 steps\n",
      "{'CS160': ('CSB 425', ' 9 am'), 'CS163': ('CSB 425', ' 1 pm'), 'CS164': ('CSB 325', ' 2 pm'), 'CS220': ('CSB 425', '10 am'), 'CS270': ('CSB 425', '12 pm'), 'CS253': ('CSB 425', ' 3 pm'), 'CS320': ('CSB 425', ' 2 pm'), 'CS314': ('CSB 325', '12 pm'), 'CS356': ('CSB 130', ' 3 pm'), 'CS370': ('CSB 130', ' 4 pm'), 'CS410': ('CSB 130', '12 pm'), 'CS414': ('CSB 130', ' 9 am'), 'CS420': ('CSB 325', ' 4 pm'), 'CS430': ('CSB 325', '10 am'), 'CS440': ('CSB 325', ' 3 pm'), 'CS445': ('CSB 130', ' 2 pm'), 'CS453': ('CSB 130', '11 am'), 'CS470': ('CSB 325', ' 1 pm'), 'CS510': ('CSB 130', '10 am'), 'CS514': ('CSB 325', ' 9 am'), 'CS535': ('CSB 325', '11 am'), 'CS540': ('CSB 130', ' 1 pm'), 'CS545': ('CSB 425', ' 4 pm')}\n"
     ]
    }
   ],
   "source": [
    "max_steps = 100\n",
    "assignments, steps = schedule(classes, times, rooms, max_steps)\n",
    "print('Took', steps, 'steps')\n",
    "print(assignments)"
   ]
  },
  {
   "cell_type": "code",
   "execution_count": 27,
   "metadata": {},
   "outputs": [
    {
     "name": "stdout",
     "output_type": "stream",
     "text": [
      "\n",
      "       CSB 130  CSB 325  CSB 425 \n",
      " -------------------------------\n",
      " 9 am    CS414    CS514    CS160\n",
      "10 am    CS510    CS430    CS220\n",
      "11 am    CS453    CS535         \n",
      "12 pm    CS410    CS314    CS270\n",
      " 1 pm    CS540    CS470    CS163\n",
      " 2 pm    CS445    CS164    CS320\n",
      " 3 pm    CS356    CS440    CS253\n",
      " 4 pm    CS370    CS420    CS545\n"
     ]
    }
   ],
   "source": [
    "display(assignments, rooms, times)"
   ]
  },
  {
   "cell_type": "markdown",
   "metadata": {},
   "source": [
    "## Check-in"
   ]
  },
  {
   "cell_type": "markdown",
   "metadata": {},
   "source": [
    "Do not include this section in your notebook.\n",
    "\n",
    "Name your notebook ```Lastname-A6.ipynb```.  So, for me it would be ```Anderson-A6.ipynb```.  Submit the file using the ```Assignment 6``` link on [Canvas](https://colostate.instructure.com/courses/68135)."
   ]
  },
  {
   "cell_type": "markdown",
   "metadata": {},
   "source": [
    "## Grading\n",
    "\n",
    "Download [A6grader.tar](http://www.cs.colostate.edu/~anderson/cs440/notebooks/A6grader.tar) and extract `A6grader.py` from it.  Grader will be available soon."
   ]
  },
  {
   "cell_type": "code",
   "execution_count": 1,
   "metadata": {
    "scrolled": true
   },
   "outputs": [
    {
     "name": "stderr",
     "output_type": "stream",
     "text": [
      "ERROR:root:File `'A6grader.py'` not found.\n"
     ]
    }
   ],
   "source": [
    "%run -i A6grader.py"
   ]
  },
  {
   "cell_type": "markdown",
   "metadata": {},
   "source": [
    "# Extra Credit\n",
    "\n",
    "Solve the scheduling problem again but with the addition of\n",
    "these preferences:\n",
    "\n",
    "  * prefer schedules that do not schedule classes at 9 am, 12 pm or 4 pm.\n",
    "  * prefer schedules with CS163 and CS164 meeting at 1 pm or 2 pm.\n",
    "\n",
    "To accomplish this, do not modify `min_conflicts`.  Write another function that calls `min_conflicts` repeatedly, and for each solution found count the number of these new preferences that are not satisfied.  Remember the solution with the smallest count of unsatisfied preferences.  "
   ]
  }
 ],
 "metadata": {
  "anaconda-cloud": {},
  "kernelspec": {
   "display_name": "Python 3",
   "language": "python",
   "name": "python3"
  },
  "language_info": {
   "codemirror_mode": {
    "name": "ipython",
    "version": 3
   },
   "file_extension": ".py",
   "mimetype": "text/x-python",
   "name": "python",
   "nbconvert_exporter": "python",
   "pygments_lexer": "ipython3",
   "version": "3.6.6"
  },
  "toc": {
   "nav_menu": {},
   "number_sections": true,
   "sideBar": true,
   "skip_h1_title": false,
   "toc_cell": false,
   "toc_position": {},
   "toc_section_display": "block",
   "toc_window_display": false
  }
 },
 "nbformat": 4,
 "nbformat_minor": 1
}
