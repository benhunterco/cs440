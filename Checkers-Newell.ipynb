{
 "cells": [
  {
   "cell_type": "markdown",
   "metadata": {},
   "source": [
    "## Representation of Board for Network"
   ]
  },
  {
   "cell_type": "code",
   "execution_count": 1,
   "metadata": {},
   "outputs": [],
   "source": [
    "#from board import *...\n",
    "#board.toVector()"
   ]
  },
  {
   "cell_type": "markdown",
   "metadata": {},
   "source": [
    "# Neural Network Stuff\n",
    "Trying to add pytorch stuff to the old code. "
   ]
  },
  {
   "cell_type": "code",
   "execution_count": 11,
   "metadata": {},
   "outputs": [],
   "source": [
    "import torch\n",
    "import numpy as np\n",
    "import neuralnetworks as nn\n",
    "import math\n",
    "import matplotlib.pyplot as plt\n",
    "import pandas as pd\n",
    "import mlutils as ml\n",
    "import time"
   ]
  },
  {
   "cell_type": "code",
   "execution_count": 2,
   "metadata": {},
   "outputs": [],
   "source": [
    "## Traditional arrays\n",
    "X = np.arange(10).reshape((-1,1))\n",
    "X = X.astype(float)\n",
    "T = X + 1 + np.random.uniform(-1, 1, ((10,1)))\n",
    "\n",
    "## torchy tensors (default to gpu)\n",
    "Xt = torch.from_numpy(X.astype(float)).cuda() #converts to float for the .mean() call.\n",
    "Tt = torch.from_numpy(T).cuda()"
   ]
  },
  {
   "cell_type": "code",
   "execution_count": 3,
   "metadata": {},
   "outputs": [
    {
     "name": "stdout",
     "output_type": "stream",
     "text": [
      "[[0.]\n",
      " [1.]\n",
      " [2.]\n",
      " [3.]\n",
      " [4.]\n",
      " [5.]\n",
      " [6.]\n",
      " [7.]\n",
      " [8.]\n",
      " [9.]]\n",
      "tensor([[0.],\n",
      "        [1.],\n",
      "        [2.],\n",
      "        [3.],\n",
      "        [4.],\n",
      "        [5.],\n",
      "        [6.],\n",
      "        [7.],\n",
      "        [8.],\n",
      "        [9.]], device='cuda:0', dtype=torch.float64)\n"
     ]
    }
   ],
   "source": [
    "print(X)\n",
    "print(Xt)"
   ]
  },
  {
   "cell_type": "code",
   "execution_count": 4,
   "metadata": {},
   "outputs": [],
   "source": [
    "cpuNet = nn.NeuralNetwork(X.shape[1], 2, T.shape[1])"
   ]
  },
  {
   "cell_type": "code",
   "execution_count": 5,
   "metadata": {},
   "outputs": [],
   "source": [
    "gpuNet = nn.NeuralNetwork(Xt.shape[1], 2, Tt.shape[1], True)"
   ]
  },
  {
   "cell_type": "code",
   "execution_count": 6,
   "metadata": {},
   "outputs": [
    {
     "data": {
      "text/plain": [
       "NeuralNetwork(1, [2], 1)\n",
       "   Network was trained for 101 iterations. Final error is 0.32780252256851294."
      ]
     },
     "execution_count": 6,
     "metadata": {},
     "output_type": "execute_result"
    }
   ],
   "source": [
    "cpuNet.train(X,T,100)"
   ]
  },
  {
   "cell_type": "code",
   "execution_count": 7,
   "metadata": {},
   "outputs": [
    {
     "data": {
      "text/plain": [
       "NeuralNetwork(1, [2], 1)\n",
       "   Network was trained for 101 iterations. Final error is 0.8597776191837884."
      ]
     },
     "execution_count": 7,
     "metadata": {},
     "output_type": "execute_result"
    }
   ],
   "source": [
    "gpuNet.train(Xt,Tt,100)"
   ]
  },
  {
   "cell_type": "code",
   "execution_count": 8,
   "metadata": {},
   "outputs": [
    {
     "data": {
      "text/plain": [
       "[<matplotlib.lines.Line2D at 0x7f6a841a29e8>]"
      ]
     },
     "execution_count": 8,
     "metadata": {},
     "output_type": "execute_result"
    },
    {
     "data": {
      "image/png": "[encoded data removed]",
      "text/plain": [
       "<Figure size 432x288 with 1 Axes>"
      ]
     },
     "metadata": {},
     "output_type": "display_data"
    }
   ],
   "source": [
    "plt.plot(cpuNet.getErrors())"
   ]
  },
  {
   "cell_type": "code",
   "execution_count": 9,
   "metadata": {},
   "outputs": [
    {
     "data": {
      "text/plain": [
       "[<matplotlib.lines.Line2D at 0x7f6a84139898>]"
      ]
     },
     "execution_count": 9,
     "metadata": {},
     "output_type": "execute_result"
    },
    {
     "data": {
      "image/png": "[encoded data removed]",
      "text/plain": [
       "<Figure size 432x288 with 1 Axes>"
      ]
     },
     "metadata": {},
     "output_type": "display_data"
    }
   ],
   "source": [
    "plt.plot(gpuNet.getErrors())"
   ]
  },
  {
   "cell_type": "markdown",
   "metadata": {},
   "source": [
    "The above code doesn not get really reliable results. Could be something wrong with the scg though..."
   ]
  },
  {
   "cell_type": "code",
   "execution_count": 10,
   "metadata": {},
   "outputs": [],
   "source": [
    "# testing with a5 data...\n",
    "csv = pd.read_csv(\"energydata_complete.csv\")\n",
    "#drop unneeded columns\n",
    "csv = csv.drop(['date', 'rv1', 'rv2'], axis = 1)\n",
    "data = csv.values #.values is a numpy array! \n",
    "Tenergy = data[:, :2]\n",
    "Xenergy = data[:, 2:]"
   ]
  },
  {
   "cell_type": "code",
   "execution_count": 14,
   "metadata": {},
   "outputs": [
    {
     "data": {
      "text/plain": [
       "NeuralNetwork(24, [10, 10], 2)\n",
       "   Network was trained for 10001 iterations. Final error is 4715.99911828145."
      ]
     },
     "execution_count": 14,
     "metadata": {},
     "output_type": "execute_result"
    }
   ],
   "source": [
    "testNN = nn.NeuralNetwork(Xenergy.shape[1], [10,10], Tenergy.shape[1])\n",
    "testNN.train(Xenergy, Tenergy, 10000) #300 should be fine\n",
    "#Final error is not the same as RMSE\n"
   ]
  },
  {
   "cell_type": "code",
   "execution_count": 15,
   "metadata": {},
   "outputs": [
    {
     "data": {
      "text/plain": [
       "NeuralNetwork(24, [10, 10], 2)\n",
       "   Network was trained for 10001 iterations. Final error is 10074.343105026634."
      ]
     },
     "execution_count": 15,
     "metadata": {},
     "output_type": "execute_result"
    }
   ],
   "source": [
    "XenergyGPU = torch.from_numpy(Xenergy).cuda()\n",
    "TenergyGPU = torch.from_numpy(Tenergy).cuda()\n",
    "testNNGPU = nn.NeuralNetwork(XenergyGPU.shape[1], [10,10], TenergyGPU.shape[1], True)\n",
    "testNNGPU.train(XenergyGPU, TenergyGPU, 10000) #300 should be fine\n",
    "#Final error is not the same as RMSE"
   ]
  },
  {
   "cell_type": "code",
   "execution_count": 16,
   "metadata": {},
   "outputs": [],
   "source": [
    "def train(X, T, learning_rate_hidden, learning_rate_output, nHiddens, nIterations):\n",
    "    nSamples = X.shape[0]\n",
    "    nOutputs = T.shape[1]\n",
    "\n",
    "    # Initialize weights to uniformly distributed values between small normally-distributed between -0.1 and 0.1\n",
    "    V = 0.1*2*(np.random.uniform(size=(1+1, nHiddens))-0.5)\n",
    "    W = 0.1*2*(np.random.uniform(size=(1+nHiddens ,nOutputs))-0.5)\n",
    "\n",
    "    if not isinstance(X, np.ndarray):\n",
    "        V = torch.from_numpy(V).cuda()\n",
    "        W = torch.from_numpy(W).cuda()\n",
    "\n",
    "    start_time = time.time()\n",
    "    \n",
    "    for step in range(nIterations):\n",
    "\n",
    "        # Forward pass on training data\n",
    "        if isinstance(X, np.ndarray):\n",
    "            Z = np.tanh(X @ V[1:, :] + V[0:1, :])\n",
    "        else:\n",
    "            Z = (X @ V[1:, :] + V[0:1, :]).tanh()\n",
    "        Y = Z @ W[1:, :] + W[0:1, :]\n",
    "\n",
    "        # Error in output\n",
    "        deltaW = (T - Y) / nSamples\n",
    "\n",
    "        lrh = learning_rate_hidden\n",
    "        lro = learning_rate_output\n",
    "        # Backward pass - the backpropagation and weight update steps\n",
    "        try:\n",
    "            deltaV = (deltaW @ W[1:, :].T) * (1 - Z**2)\n",
    "            V[1:, :] += lrh * X.T @ deltaV\n",
    "            V[0:1, :] += lrh * deltaV.sum(0)\n",
    "            W[1:, :] += lro * Z.T @ deltaW\n",
    "            W[0:1, :] += lro * deltaW.sum()\n",
    "        except:\n",
    "            deltaV = (deltaW @ W[1:, :].t()) * (1 - Z**2)\n",
    "            V[1:, :] += lrh * X.t() @ deltaV\n",
    "            V[0:1, :] += lrh * deltaV.sum(0)\n",
    "            W[1:, :] += lro * Z.t() @ deltaW\n",
    "            W[0:1, :] += lro * deltaW.sum()\n",
    "           \n",
    "    print('train took', time.time() - start_time, 'seconds')\n",
    "    \n",
    "    return V, W\n",
    "def use(X, V, W):\n",
    "    if isinstance(X, np.ndarray):\n",
    "        Z = np.tanh(X @ V[1:, :] + V[0:1, :])\n",
    "    else:\n",
    "        Z = (X @ V[1:, :] + V[0:1, :]).tanh()\n",
    "    Y = Z @ W[1:, :] + W[0:1, :]\n",
    "    return Y"
   ]
  },
  {
   "cell_type": "code",
   "execution_count": 21,
   "metadata": {},
   "outputs": [
    {
     "ename": "ValueError",
     "evalue": "shapes (19735,24) and (1,50) not aligned: 24 (dim 1) != 1 (dim 0)",
     "output_type": "error",
     "traceback": [
      "\u001b[0;31m---------------------------------------------------------------------------\u001b[0m",
      "\u001b[0;31mValueError\u001b[0m                                Traceback (most recent call last)",
      "\u001b[0;32m<ipython-input-21-52c4d56201b0>\u001b[0m in \u001b[0;36m<module>\u001b[0;34m()\u001b[0m\n\u001b[0;32m----> 1\u001b[0;31m \u001b[0mV\u001b[0m\u001b[0;34m,\u001b[0m \u001b[0mW\u001b[0m \u001b[0;34m=\u001b[0m \u001b[0mtrain\u001b[0m\u001b[0;34m(\u001b[0m\u001b[0mXenergy\u001b[0m\u001b[0;34m,\u001b[0m \u001b[0mTenergy\u001b[0m\u001b[0;34m,\u001b[0m \u001b[0;36m10\u001b[0m\u001b[0;34m,\u001b[0m \u001b[0;36m.01\u001b[0m\u001b[0;34m,\u001b[0m \u001b[0;36m50\u001b[0m\u001b[0;34m,\u001b[0m \u001b[0;36m100\u001b[0m\u001b[0;34m)\u001b[0m\u001b[0;34m\u001b[0m\u001b[0m\n\u001b[0m",
      "\u001b[0;32m<ipython-input-16-2cc3a5e38e10>\u001b[0m in \u001b[0;36mtrain\u001b[0;34m(X, T, learning_rate_hidden, learning_rate_output, nHiddens, nIterations)\u001b[0m\n\u001b[1;32m     17\u001b[0m         \u001b[0;31m# Forward pass on training data\u001b[0m\u001b[0;34m\u001b[0m\u001b[0;34m\u001b[0m\u001b[0m\n\u001b[1;32m     18\u001b[0m         \u001b[0;32mif\u001b[0m \u001b[0misinstance\u001b[0m\u001b[0;34m(\u001b[0m\u001b[0mX\u001b[0m\u001b[0;34m,\u001b[0m \u001b[0mnp\u001b[0m\u001b[0;34m.\u001b[0m\u001b[0mndarray\u001b[0m\u001b[0;34m)\u001b[0m\u001b[0;34m:\u001b[0m\u001b[0;34m\u001b[0m\u001b[0m\n\u001b[0;32m---> 19\u001b[0;31m             \u001b[0mZ\u001b[0m \u001b[0;34m=\u001b[0m \u001b[0mnp\u001b[0m\u001b[0;34m.\u001b[0m\u001b[0mtanh\u001b[0m\u001b[0;34m(\u001b[0m\u001b[0mX\u001b[0m \u001b[0;34m@\u001b[0m \u001b[0mV\u001b[0m\u001b[0;34m[\u001b[0m\u001b[0;36m1\u001b[0m\u001b[0;34m:\u001b[0m\u001b[0;34m,\u001b[0m \u001b[0;34m:\u001b[0m\u001b[0;34m]\u001b[0m \u001b[0;34m+\u001b[0m \u001b[0mV\u001b[0m\u001b[0;34m[\u001b[0m\u001b[0;36m0\u001b[0m\u001b[0;34m:\u001b[0m\u001b[0;36m1\u001b[0m\u001b[0;34m,\u001b[0m \u001b[0;34m:\u001b[0m\u001b[0;34m]\u001b[0m\u001b[0;34m)\u001b[0m\u001b[0;34m\u001b[0m\u001b[0m\n\u001b[0m\u001b[1;32m     20\u001b[0m         \u001b[0;32melse\u001b[0m\u001b[0;34m:\u001b[0m\u001b[0;34m\u001b[0m\u001b[0m\n\u001b[1;32m     21\u001b[0m             \u001b[0mZ\u001b[0m \u001b[0;34m=\u001b[0m \u001b[0;34m(\u001b[0m\u001b[0mX\u001b[0m \u001b[0;34m@\u001b[0m \u001b[0mV\u001b[0m\u001b[0;34m[\u001b[0m\u001b[0;36m1\u001b[0m\u001b[0;34m:\u001b[0m\u001b[0;34m,\u001b[0m \u001b[0;34m:\u001b[0m\u001b[0;34m]\u001b[0m \u001b[0;34m+\u001b[0m \u001b[0mV\u001b[0m\u001b[0;34m[\u001b[0m\u001b[0;36m0\u001b[0m\u001b[0;34m:\u001b[0m\u001b[0;36m1\u001b[0m\u001b[0;34m,\u001b[0m \u001b[0;34m:\u001b[0m\u001b[0;34m]\u001b[0m\u001b[0;34m)\u001b[0m\u001b[0;34m.\u001b[0m\u001b[0mtanh\u001b[0m\u001b[0;34m(\u001b[0m\u001b[0;34m)\u001b[0m\u001b[0;34m\u001b[0m\u001b[0m\n",
      "\u001b[0;31mValueError\u001b[0m: shapes (19735,24) and (1,50) not aligned: 24 (dim 1) != 1 (dim 0)"
     ]
    }
   ],
   "source": [
    "V, W = train(Xenergy, Tenergy, 10, .01, 50, 100)"
   ]
  },
  {
   "cell_type": "code",
   "execution_count": 24,
   "metadata": {},
   "outputs": [],
   "source": [
    "def train_pytorch(X, T, learning_rate, nHiddens, nIterations, useAdam=False):\n",
    "    \n",
    "    class Torchnn(torch.nn.Module):\n",
    "    \n",
    "        def __init__(self, n_inputs, n_hidden_units, n_outputs):\n",
    "            super(Torchnn, self).__init__()\n",
    "            self.hidden = torch.nn.Linear(n_inputs, n_hidden_units) \n",
    "            self.tanh = torch.nn.Tanh()\n",
    "            self.output = torch.nn.Linear(n_hidden_units, n_outputs)\n",
    "\n",
    "        def forward(self, X):\n",
    "            out = self.hidden(X)\n",
    "            out = self.tanh(out)\n",
    "            out = self.output(out)\n",
    "            return out\n",
    "\n",
    "    device = torch.device('cuda' if torch.cuda.is_available() else 'cpu')\n",
    "    print('Running on', device)\n",
    "    \n",
    "    torchnn = Torchnn(1, nHiddens, 1).to(device).double()  # default is single precision\n",
    "    \n",
    "    if useAdam:\n",
    "        optimizer = torch.optim.Adam(torchnn.parameters(), lr=learning_rate)\n",
    "    else:\n",
    "        optimizer = torch.optim.SGD(torchnn.parameters(), lr=learning_rate)\n",
    "    loss_func = torch.nn.MSELoss()\n",
    "    \n",
    "    errors = []\n",
    "    startTime = time.time()\n",
    "\n",
    "    for iteration in range(nIterations):\n",
    "        # Forward pass\n",
    "        outputs = torchnn(X)\n",
    "        loss = loss_func(outputs, T)\n",
    "        errors.append(torch.sqrt(loss))\n",
    "\n",
    "        # Backward and optimize\n",
    "        optimizer.zero_grad()\n",
    "        loss.backward()\n",
    "        optimizer.step()\n",
    "\n",
    "    print('Training took {} seconds'.format(time.time() - startTime))\n",
    "    \n",
    "    return torchnn, errors"
   ]
  },
  {
   "cell_type": "code",
   "execution_count": 25,
   "metadata": {},
   "outputs": [
    {
     "name": "stdout",
     "output_type": "stream",
     "text": [
      "Running on cuda\n"
     ]
    },
    {
     "ename": "RuntimeError",
     "evalue": "size mismatch, m1: [19735 x 24], m2: [1 x 50] at /pytorch/aten/src/THC/generic/THCTensorMathBlas.cu:249",
     "output_type": "error",
     "traceback": [
      "\u001b[0;31m---------------------------------------------------------------------------\u001b[0m",
      "\u001b[0;31mRuntimeError\u001b[0m                              Traceback (most recent call last)",
      "\u001b[0;32m<ipython-input-25-1334a91bb593>\u001b[0m in \u001b[0;36m<module>\u001b[0;34m()\u001b[0m\n\u001b[0;32m----> 1\u001b[0;31m \u001b[0mtorchnn\u001b[0m\u001b[0;34m,\u001b[0m \u001b[0merrors\u001b[0m \u001b[0;34m=\u001b[0m \u001b[0mtrain_pytorch\u001b[0m\u001b[0;34m(\u001b[0m\u001b[0mXenergyGPU\u001b[0m\u001b[0;34m,\u001b[0m \u001b[0mTenergyGPU\u001b[0m\u001b[0;34m,\u001b[0m \u001b[0;36m.01\u001b[0m\u001b[0;34m,\u001b[0m \u001b[0;36m50\u001b[0m\u001b[0;34m,\u001b[0m \u001b[0;36m100\u001b[0m\u001b[0;34m)\u001b[0m\u001b[0;34m\u001b[0m\u001b[0m\n\u001b[0m",
      "\u001b[0;32m<ipython-input-24-0c4a47090da5>\u001b[0m in \u001b[0;36mtrain_pytorch\u001b[0;34m(X, T, learning_rate, nHiddens, nIterations, useAdam)\u001b[0m\n\u001b[1;32m     31\u001b[0m     \u001b[0;32mfor\u001b[0m \u001b[0miteration\u001b[0m \u001b[0;32min\u001b[0m \u001b[0mrange\u001b[0m\u001b[0;34m(\u001b[0m\u001b[0mnIterations\u001b[0m\u001b[0;34m)\u001b[0m\u001b[0;34m:\u001b[0m\u001b[0;34m\u001b[0m\u001b[0m\n\u001b[1;32m     32\u001b[0m         \u001b[0;31m# Forward pass\u001b[0m\u001b[0;34m\u001b[0m\u001b[0;34m\u001b[0m\u001b[0m\n\u001b[0;32m---> 33\u001b[0;31m         \u001b[0moutputs\u001b[0m \u001b[0;34m=\u001b[0m \u001b[0mtorchnn\u001b[0m\u001b[0;34m(\u001b[0m\u001b[0mX\u001b[0m\u001b[0;34m)\u001b[0m\u001b[0;34m\u001b[0m\u001b[0m\n\u001b[0m\u001b[1;32m     34\u001b[0m         \u001b[0mloss\u001b[0m \u001b[0;34m=\u001b[0m \u001b[0mloss_func\u001b[0m\u001b[0;34m(\u001b[0m\u001b[0moutputs\u001b[0m\u001b[0;34m,\u001b[0m \u001b[0mT\u001b[0m\u001b[0;34m)\u001b[0m\u001b[0;34m\u001b[0m\u001b[0m\n\u001b[1;32m     35\u001b[0m         \u001b[0merrors\u001b[0m\u001b[0;34m.\u001b[0m\u001b[0mappend\u001b[0m\u001b[0;34m(\u001b[0m\u001b[0mtorch\u001b[0m\u001b[0;34m.\u001b[0m\u001b[0msqrt\u001b[0m\u001b[0;34m(\u001b[0m\u001b[0mloss\u001b[0m\u001b[0;34m)\u001b[0m\u001b[0;34m)\u001b[0m\u001b[0;34m\u001b[0m\u001b[0m\n",
      "\u001b[0;32m~/anaconda3/lib/python3.6/site-packages/torch/nn/modules/module.py\u001b[0m in \u001b[0;36m__call__\u001b[0;34m(self, *input, **kwargs)\u001b[0m\n\u001b[1;32m    475\u001b[0m             \u001b[0mresult\u001b[0m \u001b[0;34m=\u001b[0m \u001b[0mself\u001b[0m\u001b[0;34m.\u001b[0m\u001b[0m_slow_forward\u001b[0m\u001b[0;34m(\u001b[0m\u001b[0;34m*\u001b[0m\u001b[0minput\u001b[0m\u001b[0;34m,\u001b[0m \u001b[0;34m**\u001b[0m\u001b[0mkwargs\u001b[0m\u001b[0;34m)\u001b[0m\u001b[0;34m\u001b[0m\u001b[0m\n\u001b[1;32m    476\u001b[0m         \u001b[0;32melse\u001b[0m\u001b[0;34m:\u001b[0m\u001b[0;34m\u001b[0m\u001b[0m\n\u001b[0;32m--> 477\u001b[0;31m             \u001b[0mresult\u001b[0m \u001b[0;34m=\u001b[0m \u001b[0mself\u001b[0m\u001b[0;34m.\u001b[0m\u001b[0mforward\u001b[0m\u001b[0;34m(\u001b[0m\u001b[0;34m*\u001b[0m\u001b[0minput\u001b[0m\u001b[0;34m,\u001b[0m \u001b[0;34m**\u001b[0m\u001b[0mkwargs\u001b[0m\u001b[0;34m)\u001b[0m\u001b[0;34m\u001b[0m\u001b[0m\n\u001b[0m\u001b[1;32m    478\u001b[0m         \u001b[0;32mfor\u001b[0m \u001b[0mhook\u001b[0m \u001b[0;32min\u001b[0m \u001b[0mself\u001b[0m\u001b[0;34m.\u001b[0m\u001b[0m_forward_hooks\u001b[0m\u001b[0;34m.\u001b[0m\u001b[0mvalues\u001b[0m\u001b[0;34m(\u001b[0m\u001b[0;34m)\u001b[0m\u001b[0;34m:\u001b[0m\u001b[0;34m\u001b[0m\u001b[0m\n\u001b[1;32m    479\u001b[0m             \u001b[0mhook_result\u001b[0m \u001b[0;34m=\u001b[0m \u001b[0mhook\u001b[0m\u001b[0;34m(\u001b[0m\u001b[0mself\u001b[0m\u001b[0;34m,\u001b[0m \u001b[0minput\u001b[0m\u001b[0;34m,\u001b[0m \u001b[0mresult\u001b[0m\u001b[0;34m)\u001b[0m\u001b[0;34m\u001b[0m\u001b[0m\n",
      "\u001b[0;32m<ipython-input-24-0c4a47090da5>\u001b[0m in \u001b[0;36mforward\u001b[0;34m(self, X)\u001b[0m\n\u001b[1;32m     10\u001b[0m \u001b[0;34m\u001b[0m\u001b[0m\n\u001b[1;32m     11\u001b[0m         \u001b[0;32mdef\u001b[0m \u001b[0mforward\u001b[0m\u001b[0;34m(\u001b[0m\u001b[0mself\u001b[0m\u001b[0;34m,\u001b[0m \u001b[0mX\u001b[0m\u001b[0;34m)\u001b[0m\u001b[0;34m:\u001b[0m\u001b[0;34m\u001b[0m\u001b[0m\n\u001b[0;32m---> 12\u001b[0;31m             \u001b[0mout\u001b[0m \u001b[0;34m=\u001b[0m \u001b[0mself\u001b[0m\u001b[0;34m.\u001b[0m\u001b[0mhidden\u001b[0m\u001b[0;34m(\u001b[0m\u001b[0mX\u001b[0m\u001b[0;34m)\u001b[0m\u001b[0;34m\u001b[0m\u001b[0m\n\u001b[0m\u001b[1;32m     13\u001b[0m             \u001b[0mout\u001b[0m \u001b[0;34m=\u001b[0m \u001b[0mself\u001b[0m\u001b[0;34m.\u001b[0m\u001b[0mtanh\u001b[0m\u001b[0;34m(\u001b[0m\u001b[0mout\u001b[0m\u001b[0;34m)\u001b[0m\u001b[0;34m\u001b[0m\u001b[0m\n\u001b[1;32m     14\u001b[0m             \u001b[0mout\u001b[0m \u001b[0;34m=\u001b[0m \u001b[0mself\u001b[0m\u001b[0;34m.\u001b[0m\u001b[0moutput\u001b[0m\u001b[0;34m(\u001b[0m\u001b[0mout\u001b[0m\u001b[0;34m)\u001b[0m\u001b[0;34m\u001b[0m\u001b[0m\n",
      "\u001b[0;32m~/anaconda3/lib/python3.6/site-packages/torch/nn/modules/module.py\u001b[0m in \u001b[0;36m__call__\u001b[0;34m(self, *input, **kwargs)\u001b[0m\n\u001b[1;32m    475\u001b[0m             \u001b[0mresult\u001b[0m \u001b[0;34m=\u001b[0m \u001b[0mself\u001b[0m\u001b[0;34m.\u001b[0m\u001b[0m_slow_forward\u001b[0m\u001b[0;34m(\u001b[0m\u001b[0;34m*\u001b[0m\u001b[0minput\u001b[0m\u001b[0;34m,\u001b[0m \u001b[0;34m**\u001b[0m\u001b[0mkwargs\u001b[0m\u001b[0;34m)\u001b[0m\u001b[0;34m\u001b[0m\u001b[0m\n\u001b[1;32m    476\u001b[0m         \u001b[0;32melse\u001b[0m\u001b[0;34m:\u001b[0m\u001b[0;34m\u001b[0m\u001b[0m\n\u001b[0;32m--> 477\u001b[0;31m             \u001b[0mresult\u001b[0m \u001b[0;34m=\u001b[0m \u001b[0mself\u001b[0m\u001b[0;34m.\u001b[0m\u001b[0mforward\u001b[0m\u001b[0;34m(\u001b[0m\u001b[0;34m*\u001b[0m\u001b[0minput\u001b[0m\u001b[0;34m,\u001b[0m \u001b[0;34m**\u001b[0m\u001b[0mkwargs\u001b[0m\u001b[0;34m)\u001b[0m\u001b[0;34m\u001b[0m\u001b[0m\n\u001b[0m\u001b[1;32m    478\u001b[0m         \u001b[0;32mfor\u001b[0m \u001b[0mhook\u001b[0m \u001b[0;32min\u001b[0m \u001b[0mself\u001b[0m\u001b[0;34m.\u001b[0m\u001b[0m_forward_hooks\u001b[0m\u001b[0;34m.\u001b[0m\u001b[0mvalues\u001b[0m\u001b[0;34m(\u001b[0m\u001b[0;34m)\u001b[0m\u001b[0;34m:\u001b[0m\u001b[0;34m\u001b[0m\u001b[0m\n\u001b[1;32m    479\u001b[0m             \u001b[0mhook_result\u001b[0m \u001b[0;34m=\u001b[0m \u001b[0mhook\u001b[0m\u001b[0;34m(\u001b[0m\u001b[0mself\u001b[0m\u001b[0;34m,\u001b[0m \u001b[0minput\u001b[0m\u001b[0;34m,\u001b[0m \u001b[0mresult\u001b[0m\u001b[0;34m)\u001b[0m\u001b[0;34m\u001b[0m\u001b[0m\n",
      "\u001b[0;32m~/anaconda3/lib/python3.6/site-packages/torch/nn/modules/linear.py\u001b[0m in \u001b[0;36mforward\u001b[0;34m(self, input)\u001b[0m\n\u001b[1;32m     53\u001b[0m \u001b[0;34m\u001b[0m\u001b[0m\n\u001b[1;32m     54\u001b[0m     \u001b[0;32mdef\u001b[0m \u001b[0mforward\u001b[0m\u001b[0;34m(\u001b[0m\u001b[0mself\u001b[0m\u001b[0;34m,\u001b[0m \u001b[0minput\u001b[0m\u001b[0;34m)\u001b[0m\u001b[0;34m:\u001b[0m\u001b[0;34m\u001b[0m\u001b[0m\n\u001b[0;32m---> 55\u001b[0;31m         \u001b[0;32mreturn\u001b[0m \u001b[0mF\u001b[0m\u001b[0;34m.\u001b[0m\u001b[0mlinear\u001b[0m\u001b[0;34m(\u001b[0m\u001b[0minput\u001b[0m\u001b[0;34m,\u001b[0m \u001b[0mself\u001b[0m\u001b[0;34m.\u001b[0m\u001b[0mweight\u001b[0m\u001b[0;34m,\u001b[0m \u001b[0mself\u001b[0m\u001b[0;34m.\u001b[0m\u001b[0mbias\u001b[0m\u001b[0;34m)\u001b[0m\u001b[0;34m\u001b[0m\u001b[0m\n\u001b[0m\u001b[1;32m     56\u001b[0m \u001b[0;34m\u001b[0m\u001b[0m\n\u001b[1;32m     57\u001b[0m     \u001b[0;32mdef\u001b[0m \u001b[0mextra_repr\u001b[0m\u001b[0;34m(\u001b[0m\u001b[0mself\u001b[0m\u001b[0;34m)\u001b[0m\u001b[0;34m:\u001b[0m\u001b[0;34m\u001b[0m\u001b[0m\n",
      "\u001b[0;32m~/anaconda3/lib/python3.6/site-packages/torch/nn/functional.py\u001b[0m in \u001b[0;36mlinear\u001b[0;34m(input, weight, bias)\u001b[0m\n\u001b[1;32m   1022\u001b[0m     \u001b[0;32mif\u001b[0m \u001b[0minput\u001b[0m\u001b[0;34m.\u001b[0m\u001b[0mdim\u001b[0m\u001b[0;34m(\u001b[0m\u001b[0;34m)\u001b[0m \u001b[0;34m==\u001b[0m \u001b[0;36m2\u001b[0m \u001b[0;32mand\u001b[0m \u001b[0mbias\u001b[0m \u001b[0;32mis\u001b[0m \u001b[0;32mnot\u001b[0m \u001b[0;32mNone\u001b[0m\u001b[0;34m:\u001b[0m\u001b[0;34m\u001b[0m\u001b[0m\n\u001b[1;32m   1023\u001b[0m         \u001b[0;31m# fused op is marginally faster\u001b[0m\u001b[0;34m\u001b[0m\u001b[0;34m\u001b[0m\u001b[0m\n\u001b[0;32m-> 1024\u001b[0;31m         \u001b[0;32mreturn\u001b[0m \u001b[0mtorch\u001b[0m\u001b[0;34m.\u001b[0m\u001b[0maddmm\u001b[0m\u001b[0;34m(\u001b[0m\u001b[0mbias\u001b[0m\u001b[0;34m,\u001b[0m \u001b[0minput\u001b[0m\u001b[0;34m,\u001b[0m \u001b[0mweight\u001b[0m\u001b[0;34m.\u001b[0m\u001b[0mt\u001b[0m\u001b[0;34m(\u001b[0m\u001b[0;34m)\u001b[0m\u001b[0;34m)\u001b[0m\u001b[0;34m\u001b[0m\u001b[0m\n\u001b[0m\u001b[1;32m   1025\u001b[0m \u001b[0;34m\u001b[0m\u001b[0m\n\u001b[1;32m   1026\u001b[0m     \u001b[0moutput\u001b[0m \u001b[0;34m=\u001b[0m \u001b[0minput\u001b[0m\u001b[0;34m.\u001b[0m\u001b[0mmatmul\u001b[0m\u001b[0;34m(\u001b[0m\u001b[0mweight\u001b[0m\u001b[0;34m.\u001b[0m\u001b[0mt\u001b[0m\u001b[0;34m(\u001b[0m\u001b[0;34m)\u001b[0m\u001b[0;34m)\u001b[0m\u001b[0;34m\u001b[0m\u001b[0m\n",
      "\u001b[0;31mRuntimeError\u001b[0m: size mismatch, m1: [19735 x 24], m2: [1 x 50] at /pytorch/aten/src/THC/generic/THCTensorMathBlas.cu:249"
     ]
    }
   ],
   "source": [
    "torchnn, errors = train_pytorch(XenergyGPU, TenergyGPU, .01, 50, 100)"
   ]
  },
  {
   "cell_type": "markdown",
   "metadata": {},
   "source": [
    "Well this section seems to be dead to me. I cannot get anything to work consistently. We'll have to go with the old nn implementation and waiting instead. My server could work as well. "
   ]
  },
  {
   "cell_type": "markdown",
   "metadata": {},
   "source": [
    "## Reinforcement Learning With a Neural Network\n",
    "\n",
    "Will be a combination of the NNet for Hanoi and tic tac toe.\n",
    "\n",
    "First learn against a dumb opponent. "
   ]
  },
  {
   "cell_type": "markdown",
   "metadata": {},
   "source": [
    "Here is the representation of the board. *Unsure of which side should be player. Currently I think its red? Here represented as ones*\n",
    "\n",
    "Here we train the red player?"
   ]
  },
  {
   "cell_type": "code",
   "execution_count": 3,
   "metadata": {},
   "outputs": [],
   "source": [
    "from board import *\n",
    "from piece import *"
   ]
  },
  {
   "cell_type": "code",
   "execution_count": 3,
   "metadata": {},
   "outputs": [
    {
     "name": "stdout",
     "output_type": "stream",
     "text": [
      "      0 |  1 |  2 |  3 |  4 |  5 |  6 |  7\n",
      " 0 | -  | BK | -  | B  | -  | B  | -  | B \n",
      " 1 | B  | -  | B  | -  | B  | -  | B  | - \n",
      " 2 | -  | B  | -  | B  | -  | B  | -  | B \n",
      " 3 | -  | -  | -  | -  | -  | -  | -  | - \n",
      " 4 | -  | -  | -  | -  | -  | -  | -  | - \n",
      " 5 | R  | -  | R  | -  | R  | -  | R  | - \n",
      " 6 | -  | R  | -  | R  | -  | R  | -  | R \n",
      " 7 | R  | -  | R  | -  | R  | -  | RK | - \n",
      "\n",
      "The first of valid moves is seen easily in the board, from 0,5 to 4,1\n"
     ]
    },
    {
     "data": {
      "text/plain": [
       "68"
      ]
     },
     "execution_count": 3,
     "metadata": {},
     "output_type": "execute_result"
    }
   ],
   "source": [
    "b = Board()\n",
    "dr = b.draught\n",
    "## add kings to show that they have *3 weight\n",
    "blackKing = Piece(Color.BLACK, (0,1))\n",
    "blackKing.king_me()\n",
    "redKing = Piece(Color.RED, (7,6))\n",
    "redKing.king_me()\n",
    "dr[0, 1] = blackKing\n",
    "dr[7, 6] = redKing\n",
    "b.draught = dr\n",
    "print(b)\n",
    "print(\"The first of valid moves is seen easily in the board, from 0,5 to 4,1\")\n",
    "moves = b.validMoves()\n",
    "vector = b.stateMoveVectorForNN(moves[0])\n",
    "len(vector)\n",
    "#shows a vector representation of the board for the nerual network.\n",
    "#see newStateRep in notebook 20(?) for more. \n"
   ]
  },
  {
   "cell_type": "markdown",
   "metadata": {},
   "source": [
    "### Using and Testing that bad boy"
   ]
  },
  {
   "cell_type": "markdown",
   "metadata": {},
   "source": [
    "Imports for the neaded functions:\n",
    "*description of each*"
   ]
  },
  {
   "cell_type": "code",
   "execution_count": 16,
   "metadata": {},
   "outputs": [],
   "source": [
    "import NeuralReinforcement as nr\n",
    "import numpy as np\n",
    "import time\n",
    "import datetime\n",
    "import dill as pickle # this library is like regular pickle but tastier. Serializes lambdas.\n",
    "import random\n",
    "from board import *"
   ]
  },
  {
   "cell_type": "markdown",
   "metadata": {},
   "source": [
    "Some useful function definitions. Doing iterations is much easier in a notebook"
   ]
  },
  {
   "cell_type": "code",
   "execution_count": 17,
   "metadata": {},
   "outputs": [],
   "source": [
    "def loadNetwork(filename):\n",
    "    networkDir = \"qnets/\"\n",
    "    filename = networkDir + filename\n",
    "    with open(filename, 'rb') as network_output_file:\n",
    "        return pickle.load(network_output_file)"
   ]
  },
  {
   "cell_type": "code",
   "execution_count": 18,
   "metadata": {},
   "outputs": [],
   "source": [
    "def saveNetwork(filename, Qnet):\n",
    "    networkDir = \"qnets/\"\n",
    "    filename = networkDir + filename\n",
    "    with open(filename, 'wb') as network_output_file:\n",
    "        pickle.dump(Qnet, network_output_file)"
   ]
  },
  {
   "cell_type": "code",
   "execution_count": 19,
   "metadata": {},
   "outputs": [],
   "source": [
    "def trainNN(nBatches, nRepsPerBatch, hiddenLayers, nIterations, epsilonDecayFactor):\n",
    "    epsilon = 1 #haven't needed to change this\n",
    "    nReplays = 0 # not used\n",
    "    # nBatches, nRepsPerBatch, hiddenLayers, nIterations, nReplays, epsilon, epsilonDecayFacto\n",
    "    start = time.time()\n",
    "    Qnet = nr.trainQnet(nBatches, nRepsPerBatch, hiddenLayers, \n",
    "                                           nIterations, nReplays, epsilon, epsilonDecayFactor)\n",
    "    end = time.time()\n",
    "    print(\"Training took {}!\".format(str(datetime.timedelta(seconds = end-start))))\n",
    "    return Qnet"
   ]
  },
  {
   "cell_type": "markdown",
   "metadata": {},
   "source": [
    "I have tested this itermitently over a few weeks. I was not getting great results at first, starting with win rates at 55%, and eventually getting my best at 70%. But during one of the presentations in the last week, someone had a huge network structure, so I decided to try that. That plus fewer iterations improved performance more, eventually getting up to an 87% win rate! I also found that very few batches with a lot of reps was more favorable. I haven't quite figured out why yet, but I think it has to do with the number of iterations training the nn (more reps and fewer batches = more iterations). \n",
    "\n",
    "Here I will show the the performance of my first structures and some simple structures. Then show the better ones. All of the Qnets will be saved using `dill` and put in a the director `Qnets/` so they can be used without retraining. "
   ]
  },
  {
   "cell_type": "code",
   "execution_count": 22,
   "metadata": {},
   "outputs": [
    {
     "name": "stdout",
     "output_type": "stream",
     "text": [
      "Black won: batch=0 rep=0 epsilon=1.000 steps=147 outcome=-1, Black won: batch=0 rep=9 epsilon=1.000 steps=192 outcome=-1, Red won: batch=1 rep=10 epsilon=0.970 steps=79 outcome=1, Red won: batch=1 rep=19 epsilon=0.970 steps=193 outcome=1, Red won: batch=2 rep=20 epsilon=0.941 steps=49 outcome=1, Black won: batch=2 rep=29 epsilon=0.941 steps=135 outcome=-1, Black won: batch=3 rep=30 epsilon=0.913 steps=212 outcome=-1, Black won: batch=3 rep=39 epsilon=0.913 steps=213 outcome=-1, Red won: batch=4 rep=40 epsilon=0.885 steps=139 outcome=1, Red won: batch=4 rep=49 epsilon=0.885 steps=175 outcome=1, Red won: batch=5 rep=50 epsilon=0.859 steps=108 outcome=1, Black won: batch=5 rep=59 epsilon=0.859 steps=123 outcome=-1, Red won: batch=6 rep=60 epsilon=0.833 steps=92 outcome=1, Black won: batch=6 rep=69 epsilon=0.833 steps=150 outcome=-1, Red won: batch=7 rep=70 epsilon=0.808 steps=134 outcome=1, Black won: batch=7 rep=79 epsilon=0.808 steps=115 outcome=-1, Red won: batch=8 rep=80 epsilon=0.784 steps=157 outcome=1, Red won: batch=8 rep=89 epsilon=0.784 steps=101 outcome=1, Black won: batch=9 rep=90 epsilon=0.760 steps=86 outcome=-1, Red won: batch=9 rep=99 epsilon=0.760 steps=102 outcome=1, Black won: batch=10 rep=100 epsilon=0.737 steps=210 outcome=-1, Red won: batch=10 rep=109 epsilon=0.737 steps=138 outcome=1, Red won: batch=11 rep=110 epsilon=0.715 steps=211 outcome=1, Black won: batch=11 rep=119 epsilon=0.715 steps=93 outcome=-1, Red won: batch=12 rep=120 epsilon=0.694 steps=94 outcome=1, Black won: batch=12 rep=129 epsilon=0.694 steps=138 outcome=-1, Red won: batch=13 rep=130 epsilon=0.673 steps=204 outcome=1, Black won: batch=13 rep=139 epsilon=0.673 steps=175 outcome=-1, Red won: batch=14 rep=140 epsilon=0.653 steps=123 outcome=1, Black won: batch=14 rep=149 epsilon=0.653 steps=269 outcome=-1, Red won: batch=15 rep=150 epsilon=0.633 steps=87 outcome=1, Black won: batch=15 rep=159 epsilon=0.633 steps=20 outcome=-1, Black won: batch=16 rep=160 epsilon=0.614 steps=154 outcome=-1, Red won: batch=16 rep=169 epsilon=0.614 steps=130 outcome=1, Red won: batch=17 rep=170 epsilon=0.596 steps=91 outcome=1, Red won: batch=17 rep=179 epsilon=0.596 steps=193 outcome=1, Red won: batch=18 rep=180 epsilon=0.578 steps=164 outcome=1, Red won: batch=18 rep=189 epsilon=0.578 steps=90 outcome=1, Black won: batch=19 rep=190 epsilon=0.561 steps=163 outcome=-1, Red won: batch=19 rep=199 epsilon=0.561 steps=155 outcome=1, DONE\n",
      "Training took 0:00:27.335442!\n"
     ]
    }
   ],
   "source": [
    "try:\n",
    "    qnet68 = loadNetwork(\"68.qnet\")\n",
    "except:\n",
    "    qnet68 = trainNN(20, 10, [68], 10, .97)\n",
    "    saveNetwork(\"68.qnet\", qnet68)"
   ]
  },
  {
   "cell_type": "code",
   "execution_count": null,
   "metadata": {},
   "outputs": [],
   "source": [
    "res = nr.testQ(qnet68.qnet, 1000, maxSteps = 1500)"
   ]
  },
  {
   "cell_type": "code",
   "execution_count": 8,
   "metadata": {},
   "outputs": [
    {
     "name": "stdout",
     "output_type": "stream",
     "text": [
      "Black won: batch=0 rep=0 epsilon=1.000 steps=174 outcome=-1, Red won: batch=0 rep=9 epsilon=1.000 steps=120 outcome=1, Black won: batch=1 rep=10 epsilon=0.970 steps=184 outcome=-1, Red won: batch=1 rep=19 epsilon=0.970 steps=137 outcome=1, Black won: batch=2 rep=20 epsilon=0.941 steps=127 outcome=-1, Black won: batch=2 rep=29 epsilon=0.941 steps=46 outcome=-1, Red won: batch=3 rep=30 epsilon=0.913 steps=118 outcome=1, Black won: batch=3 rep=39 epsilon=0.913 steps=77 outcome=-1, Black won: batch=4 rep=40 epsilon=0.885 steps=122 outcome=-1, Red won: batch=4 rep=49 epsilon=0.885 steps=196 outcome=1, Red won: batch=5 rep=50 epsilon=0.859 steps=83 outcome=1, Black won: batch=5 rep=59 epsilon=0.859 steps=120 outcome=-1, Red won: batch=6 rep=60 epsilon=0.833 steps=148 outcome=1, Red won: batch=6 rep=69 epsilon=0.833 steps=81 outcome=1, Red won: batch=7 rep=70 epsilon=0.808 steps=152 outcome=1, Black won: batch=7 rep=79 epsilon=0.808 steps=158 outcome=-1, Black won: batch=8 rep=80 epsilon=0.784 steps=94 outcome=-1, Red won: batch=8 rep=89 epsilon=0.784 steps=269 outcome=1, Red won: batch=9 rep=90 epsilon=0.760 steps=107 outcome=1, Red won: batch=9 rep=99 epsilon=0.760 steps=202 outcome=1, Black won: batch=10 rep=100 epsilon=0.737 steps=158 outcome=-1, Black won: batch=10 rep=109 epsilon=0.737 steps=163 outcome=-1, Black won: batch=11 rep=110 epsilon=0.715 steps=67 outcome=-1, Red won: batch=11 rep=119 epsilon=0.715 steps=177 outcome=1, Red won: batch=12 rep=120 epsilon=0.694 steps=133 outcome=1, Black won: batch=12 rep=129 epsilon=0.694 steps=77 outcome=-1, Red won: batch=13 rep=130 epsilon=0.673 steps=181 outcome=1, Red won: batch=13 rep=139 epsilon=0.673 steps=221 outcome=1, Red won: batch=14 rep=140 epsilon=0.653 steps=142 outcome=1, Black won: batch=14 rep=149 epsilon=0.653 steps=270 outcome=-1, Red won: batch=15 rep=150 epsilon=0.633 steps=56 outcome=1, Red won: batch=15 rep=159 epsilon=0.633 steps=216 outcome=1, Red won: batch=16 rep=160 epsilon=0.614 steps=154 outcome=1, Black won: batch=16 rep=169 epsilon=0.614 steps=122 outcome=-1, Black won: batch=17 rep=170 epsilon=0.596 steps=135 outcome=-1, Black won: batch=17 rep=179 epsilon=0.596 steps=268 outcome=-1, Red won: batch=18 rep=180 epsilon=0.578 steps=130 outcome=1, Black won: batch=18 rep=189 epsilon=0.578 steps=186 outcome=-1, Black won: batch=19 rep=190 epsilon=0.561 steps=118 outcome=-1, Red won: batch=19 rep=199 epsilon=0.561 steps=274 outcome=1, DONE\n",
      "Training took 0:00:33.870462!\n"
     ]
    }
   ],
   "source": [
    "try:\n",
    "    qnet50_50_5020x10 = loadNetwork(\"50_50_5020x10.qnet\")\n",
    "except:\n",
    "    qnet50_50_5020x10 = trainNN(20, 10, [50, 50, 50], 10, .97)\n",
    "    saveNetwork(\"50_50_5020x10.qnet\", qnet50_50_5020x10)"
   ]
  },
  {
   "cell_type": "code",
   "execution_count": 9,
   "metadata": {},
   "outputs": [
    {
     "name": "stdout",
     "output_type": "stream",
     "text": [
      "Red won 57.40% of games!\n"
     ]
    }
   ],
   "source": [
    "res = nr.testQ(qnet50_50_5020x10, 1000, maxSteps = 1500)"
   ]
  },
  {
   "cell_type": "code",
   "execution_count": 12,
   "metadata": {},
   "outputs": [
    {
     "name": "stdout",
     "output_type": "stream",
     "text": [
      "Black won: batch=0 rep=0 epsilon=1.000 steps=108 outcome=-1, Black won: batch=0 rep=10 epsilon=1.000 steps=212 outcome=-1, Red won: batch=0 rep=20 epsilon=1.000 steps=126 outcome=1, Black won: batch=0 rep=30 epsilon=1.000 steps=142 outcome=-1, Red won: batch=0 rep=40 epsilon=1.000 steps=110 outcome=1, Red won: batch=0 rep=50 epsilon=1.000 steps=111 outcome=1, Red won: batch=0 rep=60 epsilon=1.000 steps=150 outcome=1, Red won: batch=0 rep=70 epsilon=1.000 steps=145 outcome=1, Red won: batch=0 rep=80 epsilon=1.000 steps=153 outcome=1, Red won: batch=0 rep=90 epsilon=1.000 steps=118 outcome=1, Black won: batch=0 rep=99 epsilon=1.000 steps=131 outcome=-1, Black won: batch=1 rep=100 epsilon=0.970 steps=243 outcome=-1, Red won: batch=1 rep=110 epsilon=0.970 steps=97 outcome=1, Red won: batch=1 rep=120 epsilon=0.970 steps=114 outcome=1, Black won: batch=1 rep=130 epsilon=0.970 steps=209 outcome=-1, Red won: batch=1 rep=140 epsilon=0.970 steps=174 outcome=1, Red won: batch=1 rep=150 epsilon=0.970 steps=67 outcome=1, Black won: batch=1 rep=160 epsilon=0.970 steps=276 outcome=-1, Black won: batch=1 rep=170 epsilon=0.970 steps=123 outcome=-1, Red won: batch=1 rep=180 epsilon=0.970 steps=106 outcome=1, Red won: batch=1 rep=190 epsilon=0.970 steps=210 outcome=1, Black won: batch=1 rep=199 epsilon=0.970 steps=110 outcome=-1, DONE\n",
      "Training took 0:02:03.578179!\n"
     ]
    }
   ],
   "source": [
    "try:\n",
    "    qnet50_50_50 = loadNetwork(\"50_50_50.qnet\")\n",
    "except:\n",
    "    qnet50_50_50 = trainNN(2, 100, [50, 50, 50], 10, .97)\n",
    "    saveNetwork(\"50_50_50.qnet\", qnet50_50_50)"
   ]
  },
  {
   "cell_type": "code",
   "execution_count": 13,
   "metadata": {},
   "outputs": [
    {
     "name": "stdout",
     "output_type": "stream",
     "text": [
      "Red won 65.80% of games!\n"
     ]
    }
   ],
   "source": [
    "res = nr.testQ(qnet50_50_50, 1000, maxSteps = 1500)"
   ]
  },
  {
   "cell_type": "code",
   "execution_count": 29,
   "metadata": {},
   "outputs": [
    {
     "name": "stdout",
     "output_type": "stream",
     "text": [
      "Black won: batch=0 rep=0 epsilon=1.000 steps=194 outcome=-1, Black won: batch=0 rep=10 epsilon=1.000 steps=288 outcome=-1, Black won: batch=0 rep=20 epsilon=1.000 steps=196 outcome=-1, Black won: batch=0 rep=30 epsilon=1.000 steps=208 outcome=-1, Red won: batch=0 rep=40 epsilon=1.000 steps=186 outcome=1, Red won: batch=0 rep=50 epsilon=1.000 steps=181 outcome=1, Black won: batch=0 rep=60 epsilon=1.000 steps=125 outcome=-1, Black won: batch=0 rep=70 epsilon=1.000 steps=184 outcome=-1, Red won: batch=0 rep=80 epsilon=1.000 steps=95 outcome=1, Black won: batch=0 rep=90 epsilon=1.000 steps=164 outcome=-1, Red won: batch=0 rep=99 epsilon=1.000 steps=166 outcome=1, Red won: batch=1 rep=100 epsilon=0.970 steps=114 outcome=1, Red won: batch=1 rep=110 epsilon=0.970 steps=133 outcome=1, Red won: batch=1 rep=120 epsilon=0.970 steps=103 outcome=1, Red won: batch=1 rep=130 epsilon=0.970 steps=73 outcome=1, Black won: batch=1 rep=140 epsilon=0.970 steps=159 outcome=-1, Black won: batch=1 rep=150 epsilon=0.970 steps=150 outcome=-1, Black won: batch=1 rep=160 epsilon=0.970 steps=135 outcome=-1, Red won: batch=1 rep=170 epsilon=0.970 steps=117 outcome=1, Red won: batch=1 rep=180 epsilon=0.970 steps=236 outcome=1, Red won: batch=1 rep=190 epsilon=0.970 steps=151 outcome=1, Black won: batch=1 rep=199 epsilon=0.970 steps=95 outcome=-1, DONE\n",
      "Training took 0:02:48.270902!\n"
     ]
    }
   ],
   "source": [
    "try:\n",
    "    qnet100_100 = loadNetwork(\"100_100.qnet\")\n",
    "except:\n",
    "    qnet100_100 = trainNN(2, 100, [100,100], 10, .97)\n",
    "    saveNetwork(\"100_100.qnet\", qnet100_100)"
   ]
  },
  {
   "cell_type": "code",
   "execution_count": 30,
   "metadata": {},
   "outputs": [
    {
     "name": "stdout",
     "output_type": "stream",
     "text": [
      "Red won 82.10% of games!\n"
     ]
    }
   ],
   "source": [
    "res = nr.testQ(qnet100_100, 1000, maxSteps = 1500)"
   ]
  },
  {
   "cell_type": "code",
   "execution_count": 40,
   "metadata": {},
   "outputs": [],
   "source": [
    "try:\n",
    "    qnet1000 = loadNetwork(\"1000.qnet\")\n",
    "except:\n",
    "    qnet1000 = trainNN(2, 500, [1000], 10, .97)\n",
    "    saveNetwork(\"1000.qnet\", qnet1000)"
   ]
  },
  {
   "cell_type": "code",
   "execution_count": 42,
   "metadata": {
    "scrolled": true
   },
   "outputs": [
    {
     "name": "stdout",
     "output_type": "stream",
     "text": [
      "Red won 98.20% of games!\n"
     ]
    }
   ],
   "source": [
    "res = nr.testQ(qnet1000, 1000, maxSteps = 1500)"
   ]
  },
  {
   "cell_type": "markdown",
   "metadata": {},
   "source": [
    "Looks like 5 hours of training was worth it!"
   ]
  },
  {
   "cell_type": "code",
   "execution_count": 10,
   "metadata": {},
   "outputs": [],
   "source": [
    "import matplotlib.pyplot as plt\n",
    "def plotOutcomes(outcomes, binRate = 10):\n",
    "    winRate = []\n",
    "    box = []\n",
    "    for i in range(len(outcomes)):\n",
    "        box.append(outcomes[i])\n",
    "        if i % binRate == 0:\n",
    "            winRate.append(np.mean(box))\n",
    "            box = []\n",
    "    plt.plot(winRate)"
   ]
  },
  {
   "cell_type": "code",
   "execution_count": 11,
   "metadata": {},
   "outputs": [
    {
     "data": {
      "image/png": "[encoded data removed]",
      "text/plain": [
       "<Figure size 432x288 with 1 Axes>"
      ]
     },
     "metadata": {},
     "output_type": "display_data"
    }
   ],
   "source": [
    "plotOutcomes(qnet50_50_5020x10.outcomes)"
   ]
  },
  {
   "cell_type": "markdown",
   "metadata": {},
   "source": [
    "Demonstrate what the q value look like here, as well as picking moves."
   ]
  },
  {
   "cell_type": "code",
   "execution_count": 31,
   "metadata": {},
   "outputs": [],
   "source": [
    "# create a demonstration board\n",
    "b = Board()"
   ]
  },
  {
   "cell_type": "code",
   "execution_count": 32,
   "metadata": {},
   "outputs": [],
   "source": [
    "moves = b.validMoves()"
   ]
  },
  {
   "cell_type": "markdown",
   "metadata": {},
   "source": [
    "Show all the q values on the best nn. Ought to be pretty sparse but I'm not sure yet. "
   ]
  },
  {
   "cell_type": "code",
   "execution_count": 34,
   "metadata": {},
   "outputs": [
    {
     "name": "stdout",
     "output_type": "stream",
     "text": [
      "[[0.02078446]]\n",
      "[[0.02232421]]\n",
      "[[0.0392772]]\n",
      "[[0.04072942]]\n",
      "[[0.03672907]]\n",
      "[[0.03459328]]\n",
      "[[0.01826239]]\n"
     ]
    }
   ],
   "source": [
    "for move in moves:\n",
    "    X = b.stateMoveVectorForNN(move)\n",
    "    # without this, we give it a list. Needs an np array.\n",
    "    X = np.array(X)\n",
    "    # expects a 2d array. We want one row of a that array, so reshape first.\n",
    "    X = X.reshape(1, 68)\n",
    "    print(qnet1000.use(X))"
   ]
  },
  {
   "cell_type": "code",
   "execution_count": 36,
   "metadata": {},
   "outputs": [
    {
     "data": {
      "text/plain": [
       "(((5, 4), ((4, 3),)), 0.04072942055390917)"
      ]
     },
     "execution_count": 36,
     "metadata": {},
     "output_type": "execute_result"
    }
   ],
   "source": [
    "nr.epsilonGreedy(qnet1000, b, 0)"
   ]
  },
  {
   "cell_type": "markdown",
   "metadata": {},
   "source": [
    "Here we verify that there isn't a bias in checkers that leads red to win. We play random moves against each other to check to see that red wins around 50% of the time. "
   ]
  },
  {
   "cell_type": "code",
   "execution_count": 16,
   "metadata": {},
   "outputs": [],
   "source": [
    "def finished(state):\n",
    "    return len(state.validMoves()) == 0"
   ]
  },
  {
   "cell_type": "code",
   "execution_count": 27,
   "metadata": {},
   "outputs": [],
   "source": [
    "def randomQ(maxSteps):\n",
    "    states = []\n",
    "    done = False\n",
    "    state = Board()\n",
    "    step = 0\n",
    "\n",
    "    while not done and step < maxSteps:\n",
    "        step += 1\n",
    "\n",
    "        # Red will make a move\n",
    "        valid_moves = state.validMoves()\n",
    "        move = valid_moves[random.randint(0, len(valid_moves) - 1)]\n",
    "        state.makeMove(move)\n",
    "        states.append(str(state))\n",
    "\n",
    "        if finished(state):\n",
    "            done = True\n",
    "            return 1\n",
    "        else:\n",
    "            # Black will take a turn\n",
    "            valid_moves = state.validMoves()\n",
    "            black_move = valid_moves[random.randint(0, len(valid_moves) - 1)]\n",
    "            state.makeMove(black_move)\n",
    "            if finished(state):\n",
    "                done = True\n",
    "                return 0\n",
    "    return states\n"
   ]
  },
  {
   "cell_type": "code",
   "execution_count": 36,
   "metadata": {},
   "outputs": [],
   "source": [
    "random_wins = []\n",
    "for _ in range(100):\n",
    "    random_wins.append(randomQ(1000))"
   ]
  },
  {
   "cell_type": "code",
   "execution_count": 37,
   "metadata": {
    "scrolled": true
   },
   "outputs": [
    {
     "data": {
      "text/plain": [
       "0.48"
      ]
     },
     "execution_count": 37,
     "metadata": {},
     "output_type": "execute_result"
    }
   ],
   "source": [
    "np.mean(random_wins)"
   ]
  },
  {
   "cell_type": "markdown",
   "metadata": {},
   "source": [
    "Some preliminary results. I trained with this (30, 100, [50, 50, 50], 20, 0, 1, .99) call and got back a trained neural network! It ran for over an hour and a half, which indicates some tweaking is necessary(reduce the reps, increse the batches? Should lower matrix size for training). I ran useQ for 5000 simulated games against a random opponent, and the Qnet won 55.85% of the time. A random player for red won 50.52% of the time with the same number of games. This seems to suggest that the neural network has at the very least learned something, although I think that the structure could be improved, and it is possible that I messed up the implementation. Although its odd that I would still get somewhat positive results anyways."
   ]
  },
  {
   "cell_type": "code",
   "execution_count": null,
   "metadata": {},
   "outputs": [],
   "source": []
  }
 ],
 "metadata": {
  "kernelspec": {
   "display_name": "Python 3",
   "language": "python",
   "name": "python3"
  },
  "language_info": {
   "codemirror_mode": {
    "name": "ipython",
    "version": 3
   },
   "file_extension": ".py",
   "mimetype": "text/x-python",
   "name": "python",
   "nbconvert_exporter": "python",
   "pygments_lexer": "ipython3",
   "version": "3.6.5"
  }
 },
 "nbformat": 4,
 "nbformat_minor": 2
}
