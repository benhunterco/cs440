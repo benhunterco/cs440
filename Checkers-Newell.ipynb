{
 "cells": [
  {
   "cell_type": "markdown",
   "metadata": {},
   "source": [
    "## Representation of Board for Network"
   ]
  },
  {
   "cell_type": "code",
   "execution_count": 1,
   "metadata": {},
   "outputs": [],
   "source": [
    "#from board import *...\n",
    "#board.toVector()"
   ]
  },
  {
   "cell_type": "markdown",
   "metadata": {},
   "source": [
    "# Neural Network Stuff\n",
    "Trying to add pytorch stuff to the old code. "
   ]
  },
  {
   "cell_type": "code",
   "execution_count": 18,
   "metadata": {},
   "outputs": [],
   "source": [
    "import torch\n",
    "import numpy as np\n",
    "import neuralnetworks as nn\n",
    "import math\n",
    "import matplotlib.pyplot as plt\n",
    "import pandas as pd\n",
    "import mlutils as ml\n",
    "import time"
   ]
  },
  {
   "cell_type": "code",
   "execution_count": 2,
   "metadata": {},
   "outputs": [],
   "source": [
    "## Traditional arrays\n",
    "X = np.arange(10).reshape((-1,1))\n",
    "X = X.astype(float)\n",
    "T = X + 1 + np.random.uniform(-1, 1, ((10,1)))\n",
    "\n",
    "## torchy tensors (default to gpu)\n",
    "Xt = torch.from_numpy(X.astype(float)).cuda() #converts to float for the .mean() call.\n",
    "Tt = torch.from_numpy(T).cuda()"
   ]
  },
  {
   "cell_type": "code",
   "execution_count": 3,
   "metadata": {},
   "outputs": [
    {
     "name": "stdout",
     "output_type": "stream",
     "text": [
      "[[0.]\n",
      " [1.]\n",
      " [2.]\n",
      " [3.]\n",
      " [4.]\n",
      " [5.]\n",
      " [6.]\n",
      " [7.]\n",
      " [8.]\n",
      " [9.]]\n",
      "tensor([[0.],\n",
      "        [1.],\n",
      "        [2.],\n",
      "        [3.],\n",
      "        [4.],\n",
      "        [5.],\n",
      "        [6.],\n",
      "        [7.],\n",
      "        [8.],\n",
      "        [9.]], device='cuda:0', dtype=torch.float64)\n"
     ]
    }
   ],
   "source": [
    "print(X)\n",
    "print(Xt)"
   ]
  },
  {
   "cell_type": "code",
   "execution_count": 4,
   "metadata": {},
   "outputs": [],
   "source": [
    "cpuNet = nn.NeuralNetwork(X.shape[1], 2, T.shape[1])"
   ]
  },
  {
   "cell_type": "code",
   "execution_count": 5,
   "metadata": {},
   "outputs": [],
   "source": [
    "gpuNet = nn.NeuralNetwork(Xt.shape[1], 2, Tt.shape[1], True)"
   ]
  },
  {
   "cell_type": "code",
   "execution_count": 6,
   "metadata": {},
   "outputs": [
    {
     "data": {
      "text/plain": [
       "NeuralNetwork(1, [2], 1)\n",
       "   Network was trained for 101 iterations. Final error is 0.32780252256851294."
      ]
     },
     "execution_count": 6,
     "metadata": {},
     "output_type": "execute_result"
    }
   ],
   "source": [
    "cpuNet.train(X,T,100)"
   ]
  },
  {
   "cell_type": "code",
   "execution_count": 7,
   "metadata": {},
   "outputs": [
    {
     "data": {
      "text/plain": [
       "NeuralNetwork(1, [2], 1)\n",
       "   Network was trained for 101 iterations. Final error is 0.8597776191837884."
      ]
     },
     "execution_count": 7,
     "metadata": {},
     "output_type": "execute_result"
    }
   ],
   "source": [
    "gpuNet.train(Xt,Tt,100)"
   ]
  },
  {
   "cell_type": "code",
   "execution_count": 8,
   "metadata": {},
   "outputs": [
    {
     "data": {
      "text/plain": [
       "[<matplotlib.lines.Line2D at 0x7f6a841a29e8>]"
      ]
     },
     "execution_count": 8,
     "metadata": {},
     "output_type": "execute_result"
    },
    {
     "data": {
      "image/png": "[encoded data removed]",
      "text/plain": [
       "<Figure size 432x288 with 1 Axes>"
      ]
     },
     "metadata": {},
     "output_type": "display_data"
    }
   ],
   "source": [
    "plt.plot(cpuNet.getErrors())"
   ]
  },
  {
   "cell_type": "code",
   "execution_count": 9,
   "metadata": {},
   "outputs": [
    {
     "data": {
      "text/plain": [
       "[<matplotlib.lines.Line2D at 0x7f6a84139898>]"
      ]
     },
     "execution_count": 9,
     "metadata": {},
     "output_type": "execute_result"
    },
    {
     "data": {
      "image/png": "[encoded data removed]",
      "text/plain": [
       "<Figure size 432x288 with 1 Axes>"
      ]
     },
     "metadata": {},
     "output_type": "display_data"
    }
   ],
   "source": [
    "plt.plot(gpuNet.getErrors())"
   ]
  },
  {
   "cell_type": "markdown",
   "metadata": {},
   "source": [
    "The above code doesn not get really reliable results. Could be something wrong with the scg though..."
   ]
  },
  {
   "cell_type": "code",
   "execution_count": 10,
   "metadata": {},
   "outputs": [],
   "source": [
    "# testing with a5 data...\n",
    "csv = pd.read_csv(\"energydata_complete.csv\")\n",
    "#drop unneeded columns\n",
    "csv = csv.drop(['date', 'rv1', 'rv2'], axis = 1)\n",
    "data = csv.values #.values is a numpy array! \n",
    "Tenergy = data[:, :2]\n",
    "Xenergy = data[:, 2:]"
   ]
  },
  {
   "cell_type": "code",
   "execution_count": 14,
   "metadata": {},
   "outputs": [
    {
     "data": {
      "text/plain": [
       "NeuralNetwork(24, [10, 10], 2)\n",
       "   Network was trained for 10001 iterations. Final error is 4715.99911828145."
      ]
     },
     "execution_count": 14,
     "metadata": {},
     "output_type": "execute_result"
    }
   ],
   "source": [
    "testNN = nn.NeuralNetwork(Xenergy.shape[1], [10,10], Tenergy.shape[1])\n",
    "testNN.train(Xenergy, Tenergy, 10000) #300 should be fine\n",
    "#Final error is not the same as RMSE\n"
   ]
  },
  {
   "cell_type": "code",
   "execution_count": 15,
   "metadata": {},
   "outputs": [
    {
     "data": {
      "text/plain": [
       "NeuralNetwork(24, [10, 10], 2)\n",
       "   Network was trained for 10001 iterations. Final error is 10074.343105026634."
      ]
     },
     "execution_count": 15,
     "metadata": {},
     "output_type": "execute_result"
    }
   ],
   "source": [
    "XenergyGPU = torch.from_numpy(Xenergy).cuda()\n",
    "TenergyGPU = torch.from_numpy(Tenergy).cuda()\n",
    "testNNGPU = nn.NeuralNetwork(XenergyGPU.shape[1], [10,10], TenergyGPU.shape[1], True)\n",
    "testNNGPU.train(XenergyGPU, TenergyGPU, 10000) #300 should be fine\n",
    "#Final error is not the same as RMSE"
   ]
  },
  {
   "cell_type": "code",
   "execution_count": 16,
   "metadata": {},
   "outputs": [],
   "source": [
    "def train(X, T, learning_rate_hidden, learning_rate_output, nHiddens, nIterations):\n",
    "    nSamples = X.shape[0]\n",
    "    nOutputs = T.shape[1]\n",
    "\n",
    "    # Initialize weights to uniformly distributed values between small normally-distributed between -0.1 and 0.1\n",
    "    V = 0.1*2*(np.random.uniform(size=(1+1, nHiddens))-0.5)\n",
    "    W = 0.1*2*(np.random.uniform(size=(1+nHiddens ,nOutputs))-0.5)\n",
    "\n",
    "    if not isinstance(X, np.ndarray):\n",
    "        V = torch.from_numpy(V).cuda()\n",
    "        W = torch.from_numpy(W).cuda()\n",
    "\n",
    "    start_time = time.time()\n",
    "    \n",
    "    for step in range(nIterations):\n",
    "\n",
    "        # Forward pass on training data\n",
    "        if isinstance(X, np.ndarray):\n",
    "            Z = np.tanh(X @ V[1:, :] + V[0:1, :])\n",
    "        else:\n",
    "            Z = (X @ V[1:, :] + V[0:1, :]).tanh()\n",
    "        Y = Z @ W[1:, :] + W[0:1, :]\n",
    "\n",
    "        # Error in output\n",
    "        deltaW = (T - Y) / nSamples\n",
    "\n",
    "        lrh = learning_rate_hidden\n",
    "        lro = learning_rate_output\n",
    "        # Backward pass - the backpropagation and weight update steps\n",
    "        try:\n",
    "            deltaV = (deltaW @ W[1:, :].T) * (1 - Z**2)\n",
    "            V[1:, :] += lrh * X.T @ deltaV\n",
    "            V[0:1, :] += lrh * deltaV.sum(0)\n",
    "            W[1:, :] += lro * Z.T @ deltaW\n",
    "            W[0:1, :] += lro * deltaW.sum()\n",
    "        except:\n",
    "            deltaV = (deltaW @ W[1:, :].t()) * (1 - Z**2)\n",
    "            V[1:, :] += lrh * X.t() @ deltaV\n",
    "            V[0:1, :] += lrh * deltaV.sum(0)\n",
    "            W[1:, :] += lro * Z.t() @ deltaW\n",
    "            W[0:1, :] += lro * deltaW.sum()\n",
    "           \n",
    "    print('train took', time.time() - start_time, 'seconds')\n",
    "    \n",
    "    return V, W\n",
    "def use(X, V, W):\n",
    "    if isinstance(X, np.ndarray):\n",
    "        Z = np.tanh(X @ V[1:, :] + V[0:1, :])\n",
    "    else:\n",
    "        Z = (X @ V[1:, :] + V[0:1, :]).tanh()\n",
    "    Y = Z @ W[1:, :] + W[0:1, :]\n",
    "    return Y"
   ]
  },
  {
   "cell_type": "code",
   "execution_count": 21,
   "metadata": {},
   "outputs": [
    {
     "ename": "ValueError",
     "evalue": "shapes (19735,24) and (1,50) not aligned: 24 (dim 1) != 1 (dim 0)",
     "output_type": "error",
     "traceback": [
      "\u001b[0;31m---------------------------------------------------------------------------\u001b[0m",
      "\u001b[0;31mValueError\u001b[0m                                Traceback (most recent call last)",
      "\u001b[0;32m<ipython-input-21-52c4d56201b0>\u001b[0m in \u001b[0;36m<module>\u001b[0;34m()\u001b[0m\n\u001b[0;32m----> 1\u001b[0;31m \u001b[0mV\u001b[0m\u001b[0;34m,\u001b[0m \u001b[0mW\u001b[0m \u001b[0;34m=\u001b[0m \u001b[0mtrain\u001b[0m\u001b[0;34m(\u001b[0m\u001b[0mXenergy\u001b[0m\u001b[0;34m,\u001b[0m \u001b[0mTenergy\u001b[0m\u001b[0;34m,\u001b[0m \u001b[0;36m10\u001b[0m\u001b[0;34m,\u001b[0m \u001b[0;36m.01\u001b[0m\u001b[0;34m,\u001b[0m \u001b[0;36m50\u001b[0m\u001b[0;34m,\u001b[0m \u001b[0;36m100\u001b[0m\u001b[0;34m)\u001b[0m\u001b[0;34m\u001b[0m\u001b[0m\n\u001b[0m",
      "\u001b[0;32m<ipython-input-16-2cc3a5e38e10>\u001b[0m in \u001b[0;36mtrain\u001b[0;34m(X, T, learning_rate_hidden, learning_rate_output, nHiddens, nIterations)\u001b[0m\n\u001b[1;32m     17\u001b[0m         \u001b[0;31m# Forward pass on training data\u001b[0m\u001b[0;34m\u001b[0m\u001b[0;34m\u001b[0m\u001b[0m\n\u001b[1;32m     18\u001b[0m         \u001b[0;32mif\u001b[0m \u001b[0misinstance\u001b[0m\u001b[0;34m(\u001b[0m\u001b[0mX\u001b[0m\u001b[0;34m,\u001b[0m \u001b[0mnp\u001b[0m\u001b[0;34m.\u001b[0m\u001b[0mndarray\u001b[0m\u001b[0;34m)\u001b[0m\u001b[0;34m:\u001b[0m\u001b[0;34m\u001b[0m\u001b[0m\n\u001b[0;32m---> 19\u001b[0;31m             \u001b[0mZ\u001b[0m \u001b[0;34m=\u001b[0m \u001b[0mnp\u001b[0m\u001b[0;34m.\u001b[0m\u001b[0mtanh\u001b[0m\u001b[0;34m(\u001b[0m\u001b[0mX\u001b[0m \u001b[0;34m@\u001b[0m \u001b[0mV\u001b[0m\u001b[0;34m[\u001b[0m\u001b[0;36m1\u001b[0m\u001b[0;34m:\u001b[0m\u001b[0;34m,\u001b[0m \u001b[0;34m:\u001b[0m\u001b[0;34m]\u001b[0m \u001b[0;34m+\u001b[0m \u001b[0mV\u001b[0m\u001b[0;34m[\u001b[0m\u001b[0;36m0\u001b[0m\u001b[0;34m:\u001b[0m\u001b[0;36m1\u001b[0m\u001b[0;34m,\u001b[0m \u001b[0;34m:\u001b[0m\u001b[0;34m]\u001b[0m\u001b[0;34m)\u001b[0m\u001b[0;34m\u001b[0m\u001b[0m\n\u001b[0m\u001b[1;32m     20\u001b[0m         \u001b[0;32melse\u001b[0m\u001b[0;34m:\u001b[0m\u001b[0;34m\u001b[0m\u001b[0m\n\u001b[1;32m     21\u001b[0m             \u001b[0mZ\u001b[0m \u001b[0;34m=\u001b[0m \u001b[0;34m(\u001b[0m\u001b[0mX\u001b[0m \u001b[0;34m@\u001b[0m \u001b[0mV\u001b[0m\u001b[0;34m[\u001b[0m\u001b[0;36m1\u001b[0m\u001b[0;34m:\u001b[0m\u001b[0;34m,\u001b[0m \u001b[0;34m:\u001b[0m\u001b[0;34m]\u001b[0m \u001b[0;34m+\u001b[0m \u001b[0mV\u001b[0m\u001b[0;34m[\u001b[0m\u001b[0;36m0\u001b[0m\u001b[0;34m:\u001b[0m\u001b[0;36m1\u001b[0m\u001b[0;34m,\u001b[0m \u001b[0;34m:\u001b[0m\u001b[0;34m]\u001b[0m\u001b[0;34m)\u001b[0m\u001b[0;34m.\u001b[0m\u001b[0mtanh\u001b[0m\u001b[0;34m(\u001b[0m\u001b[0;34m)\u001b[0m\u001b[0;34m\u001b[0m\u001b[0m\n",
      "\u001b[0;31mValueError\u001b[0m: shapes (19735,24) and (1,50) not aligned: 24 (dim 1) != 1 (dim 0)"
     ]
    }
   ],
   "source": [
    "V, W = train(Xenergy, Tenergy, 10, .01, 50, 100)"
   ]
  },
  {
   "cell_type": "code",
   "execution_count": 24,
   "metadata": {},
   "outputs": [],
   "source": [
    "def train_pytorch(X, T, learning_rate, nHiddens, nIterations, useAdam=False):\n",
    "    \n",
    "    class Torchnn(torch.nn.Module):\n",
    "    \n",
    "        def __init__(self, n_inputs, n_hidden_units, n_outputs):\n",
    "            super(Torchnn, self).__init__()\n",
    "            self.hidden = torch.nn.Linear(n_inputs, n_hidden_units) \n",
    "            self.tanh = torch.nn.Tanh()\n",
    "            self.output = torch.nn.Linear(n_hidden_units, n_outputs)\n",
    "\n",
    "        def forward(self, X):\n",
    "            out = self.hidden(X)\n",
    "            out = self.tanh(out)\n",
    "            out = self.output(out)\n",
    "            return out\n",
    "\n",
    "    device = torch.device('cuda' if torch.cuda.is_available() else 'cpu')\n",
    "    print('Running on', device)\n",
    "    \n",
    "    torchnn = Torchnn(1, nHiddens, 1).to(device).double()  # default is single precision\n",
    "    \n",
    "    if useAdam:\n",
    "        optimizer = torch.optim.Adam(torchnn.parameters(), lr=learning_rate)\n",
    "    else:\n",
    "        optimizer = torch.optim.SGD(torchnn.parameters(), lr=learning_rate)\n",
    "    loss_func = torch.nn.MSELoss()\n",
    "    \n",
    "    errors = []\n",
    "    startTime = time.time()\n",
    "\n",
    "    for iteration in range(nIterations):\n",
    "        # Forward pass\n",
    "        outputs = torchnn(X)\n",
    "        loss = loss_func(outputs, T)\n",
    "        errors.append(torch.sqrt(loss))\n",
    "\n",
    "        # Backward and optimize\n",
    "        optimizer.zero_grad()\n",
    "        loss.backward()\n",
    "        optimizer.step()\n",
    "\n",
    "    print('Training took {} seconds'.format(time.time() - startTime))\n",
    "    \n",
    "    return torchnn, errors"
   ]
  },
  {
   "cell_type": "code",
   "execution_count": 25,
   "metadata": {},
   "outputs": [
    {
     "name": "stdout",
     "output_type": "stream",
     "text": [
      "Running on cuda\n"
     ]
    },
    {
     "ename": "RuntimeError",
     "evalue": "size mismatch, m1: [19735 x 24], m2: [1 x 50] at /pytorch/aten/src/THC/generic/THCTensorMathBlas.cu:249",
     "output_type": "error",
     "traceback": [
      "\u001b[0;31m---------------------------------------------------------------------------\u001b[0m",
      "\u001b[0;31mRuntimeError\u001b[0m                              Traceback (most recent call last)",
      "\u001b[0;32m<ipython-input-25-1334a91bb593>\u001b[0m in \u001b[0;36m<module>\u001b[0;34m()\u001b[0m\n\u001b[0;32m----> 1\u001b[0;31m \u001b[0mtorchnn\u001b[0m\u001b[0;34m,\u001b[0m \u001b[0merrors\u001b[0m \u001b[0;34m=\u001b[0m \u001b[0mtrain_pytorch\u001b[0m\u001b[0;34m(\u001b[0m\u001b[0mXenergyGPU\u001b[0m\u001b[0;34m,\u001b[0m \u001b[0mTenergyGPU\u001b[0m\u001b[0;34m,\u001b[0m \u001b[0;36m.01\u001b[0m\u001b[0;34m,\u001b[0m \u001b[0;36m50\u001b[0m\u001b[0;34m,\u001b[0m \u001b[0;36m100\u001b[0m\u001b[0;34m)\u001b[0m\u001b[0;34m\u001b[0m\u001b[0m\n\u001b[0m",
      "\u001b[0;32m<ipython-input-24-0c4a47090da5>\u001b[0m in \u001b[0;36mtrain_pytorch\u001b[0;34m(X, T, learning_rate, nHiddens, nIterations, useAdam)\u001b[0m\n\u001b[1;32m     31\u001b[0m     \u001b[0;32mfor\u001b[0m \u001b[0miteration\u001b[0m \u001b[0;32min\u001b[0m \u001b[0mrange\u001b[0m\u001b[0;34m(\u001b[0m\u001b[0mnIterations\u001b[0m\u001b[0;34m)\u001b[0m\u001b[0;34m:\u001b[0m\u001b[0;34m\u001b[0m\u001b[0m\n\u001b[1;32m     32\u001b[0m         \u001b[0;31m# Forward pass\u001b[0m\u001b[0;34m\u001b[0m\u001b[0;34m\u001b[0m\u001b[0m\n\u001b[0;32m---> 33\u001b[0;31m         \u001b[0moutputs\u001b[0m \u001b[0;34m=\u001b[0m \u001b[0mtorchnn\u001b[0m\u001b[0;34m(\u001b[0m\u001b[0mX\u001b[0m\u001b[0;34m)\u001b[0m\u001b[0;34m\u001b[0m\u001b[0m\n\u001b[0m\u001b[1;32m     34\u001b[0m         \u001b[0mloss\u001b[0m \u001b[0;34m=\u001b[0m \u001b[0mloss_func\u001b[0m\u001b[0;34m(\u001b[0m\u001b[0moutputs\u001b[0m\u001b[0;34m,\u001b[0m \u001b[0mT\u001b[0m\u001b[0;34m)\u001b[0m\u001b[0;34m\u001b[0m\u001b[0m\n\u001b[1;32m     35\u001b[0m         \u001b[0merrors\u001b[0m\u001b[0;34m.\u001b[0m\u001b[0mappend\u001b[0m\u001b[0;34m(\u001b[0m\u001b[0mtorch\u001b[0m\u001b[0;34m.\u001b[0m\u001b[0msqrt\u001b[0m\u001b[0;34m(\u001b[0m\u001b[0mloss\u001b[0m\u001b[0;34m)\u001b[0m\u001b[0;34m)\u001b[0m\u001b[0;34m\u001b[0m\u001b[0m\n",
      "\u001b[0;32m~/anaconda3/lib/python3.6/site-packages/torch/nn/modules/module.py\u001b[0m in \u001b[0;36m__call__\u001b[0;34m(self, *input, **kwargs)\u001b[0m\n\u001b[1;32m    475\u001b[0m             \u001b[0mresult\u001b[0m \u001b[0;34m=\u001b[0m \u001b[0mself\u001b[0m\u001b[0;34m.\u001b[0m\u001b[0m_slow_forward\u001b[0m\u001b[0;34m(\u001b[0m\u001b[0;34m*\u001b[0m\u001b[0minput\u001b[0m\u001b[0;34m,\u001b[0m \u001b[0;34m**\u001b[0m\u001b[0mkwargs\u001b[0m\u001b[0;34m)\u001b[0m\u001b[0;34m\u001b[0m\u001b[0m\n\u001b[1;32m    476\u001b[0m         \u001b[0;32melse\u001b[0m\u001b[0;34m:\u001b[0m\u001b[0;34m\u001b[0m\u001b[0m\n\u001b[0;32m--> 477\u001b[0;31m             \u001b[0mresult\u001b[0m \u001b[0;34m=\u001b[0m \u001b[0mself\u001b[0m\u001b[0;34m.\u001b[0m\u001b[0mforward\u001b[0m\u001b[0;34m(\u001b[0m\u001b[0;34m*\u001b[0m\u001b[0minput\u001b[0m\u001b[0;34m,\u001b[0m \u001b[0;34m**\u001b[0m\u001b[0mkwargs\u001b[0m\u001b[0;34m)\u001b[0m\u001b[0;34m\u001b[0m\u001b[0m\n\u001b[0m\u001b[1;32m    478\u001b[0m         \u001b[0;32mfor\u001b[0m \u001b[0mhook\u001b[0m \u001b[0;32min\u001b[0m \u001b[0mself\u001b[0m\u001b[0;34m.\u001b[0m\u001b[0m_forward_hooks\u001b[0m\u001b[0;34m.\u001b[0m\u001b[0mvalues\u001b[0m\u001b[0;34m(\u001b[0m\u001b[0;34m)\u001b[0m\u001b[0;34m:\u001b[0m\u001b[0;34m\u001b[0m\u001b[0m\n\u001b[1;32m    479\u001b[0m             \u001b[0mhook_result\u001b[0m \u001b[0;34m=\u001b[0m \u001b[0mhook\u001b[0m\u001b[0;34m(\u001b[0m\u001b[0mself\u001b[0m\u001b[0;34m,\u001b[0m \u001b[0minput\u001b[0m\u001b[0;34m,\u001b[0m \u001b[0mresult\u001b[0m\u001b[0;34m)\u001b[0m\u001b[0;34m\u001b[0m\u001b[0m\n",
      "\u001b[0;32m<ipython-input-24-0c4a47090da5>\u001b[0m in \u001b[0;36mforward\u001b[0;34m(self, X)\u001b[0m\n\u001b[1;32m     10\u001b[0m \u001b[0;34m\u001b[0m\u001b[0m\n\u001b[1;32m     11\u001b[0m         \u001b[0;32mdef\u001b[0m \u001b[0mforward\u001b[0m\u001b[0;34m(\u001b[0m\u001b[0mself\u001b[0m\u001b[0;34m,\u001b[0m \u001b[0mX\u001b[0m\u001b[0;34m)\u001b[0m\u001b[0;34m:\u001b[0m\u001b[0;34m\u001b[0m\u001b[0m\n\u001b[0;32m---> 12\u001b[0;31m             \u001b[0mout\u001b[0m \u001b[0;34m=\u001b[0m \u001b[0mself\u001b[0m\u001b[0;34m.\u001b[0m\u001b[0mhidden\u001b[0m\u001b[0;34m(\u001b[0m\u001b[0mX\u001b[0m\u001b[0;34m)\u001b[0m\u001b[0;34m\u001b[0m\u001b[0m\n\u001b[0m\u001b[1;32m     13\u001b[0m             \u001b[0mout\u001b[0m \u001b[0;34m=\u001b[0m \u001b[0mself\u001b[0m\u001b[0;34m.\u001b[0m\u001b[0mtanh\u001b[0m\u001b[0;34m(\u001b[0m\u001b[0mout\u001b[0m\u001b[0;34m)\u001b[0m\u001b[0;34m\u001b[0m\u001b[0m\n\u001b[1;32m     14\u001b[0m             \u001b[0mout\u001b[0m \u001b[0;34m=\u001b[0m \u001b[0mself\u001b[0m\u001b[0;34m.\u001b[0m\u001b[0moutput\u001b[0m\u001b[0;34m(\u001b[0m\u001b[0mout\u001b[0m\u001b[0;34m)\u001b[0m\u001b[0;34m\u001b[0m\u001b[0m\n",
      "\u001b[0;32m~/anaconda3/lib/python3.6/site-packages/torch/nn/modules/module.py\u001b[0m in \u001b[0;36m__call__\u001b[0;34m(self, *input, **kwargs)\u001b[0m\n\u001b[1;32m    475\u001b[0m             \u001b[0mresult\u001b[0m \u001b[0;34m=\u001b[0m \u001b[0mself\u001b[0m\u001b[0;34m.\u001b[0m\u001b[0m_slow_forward\u001b[0m\u001b[0;34m(\u001b[0m\u001b[0;34m*\u001b[0m\u001b[0minput\u001b[0m\u001b[0;34m,\u001b[0m \u001b[0;34m**\u001b[0m\u001b[0mkwargs\u001b[0m\u001b[0;34m)\u001b[0m\u001b[0;34m\u001b[0m\u001b[0m\n\u001b[1;32m    476\u001b[0m         \u001b[0;32melse\u001b[0m\u001b[0;34m:\u001b[0m\u001b[0;34m\u001b[0m\u001b[0m\n\u001b[0;32m--> 477\u001b[0;31m             \u001b[0mresult\u001b[0m \u001b[0;34m=\u001b[0m \u001b[0mself\u001b[0m\u001b[0;34m.\u001b[0m\u001b[0mforward\u001b[0m\u001b[0;34m(\u001b[0m\u001b[0;34m*\u001b[0m\u001b[0minput\u001b[0m\u001b[0;34m,\u001b[0m \u001b[0;34m**\u001b[0m\u001b[0mkwargs\u001b[0m\u001b[0;34m)\u001b[0m\u001b[0;34m\u001b[0m\u001b[0m\n\u001b[0m\u001b[1;32m    478\u001b[0m         \u001b[0;32mfor\u001b[0m \u001b[0mhook\u001b[0m \u001b[0;32min\u001b[0m \u001b[0mself\u001b[0m\u001b[0;34m.\u001b[0m\u001b[0m_forward_hooks\u001b[0m\u001b[0;34m.\u001b[0m\u001b[0mvalues\u001b[0m\u001b[0;34m(\u001b[0m\u001b[0;34m)\u001b[0m\u001b[0;34m:\u001b[0m\u001b[0;34m\u001b[0m\u001b[0m\n\u001b[1;32m    479\u001b[0m             \u001b[0mhook_result\u001b[0m \u001b[0;34m=\u001b[0m \u001b[0mhook\u001b[0m\u001b[0;34m(\u001b[0m\u001b[0mself\u001b[0m\u001b[0;34m,\u001b[0m \u001b[0minput\u001b[0m\u001b[0;34m,\u001b[0m \u001b[0mresult\u001b[0m\u001b[0;34m)\u001b[0m\u001b[0;34m\u001b[0m\u001b[0m\n",
      "\u001b[0;32m~/anaconda3/lib/python3.6/site-packages/torch/nn/modules/linear.py\u001b[0m in \u001b[0;36mforward\u001b[0;34m(self, input)\u001b[0m\n\u001b[1;32m     53\u001b[0m \u001b[0;34m\u001b[0m\u001b[0m\n\u001b[1;32m     54\u001b[0m     \u001b[0;32mdef\u001b[0m \u001b[0mforward\u001b[0m\u001b[0;34m(\u001b[0m\u001b[0mself\u001b[0m\u001b[0;34m,\u001b[0m \u001b[0minput\u001b[0m\u001b[0;34m)\u001b[0m\u001b[0;34m:\u001b[0m\u001b[0;34m\u001b[0m\u001b[0m\n\u001b[0;32m---> 55\u001b[0;31m         \u001b[0;32mreturn\u001b[0m \u001b[0mF\u001b[0m\u001b[0;34m.\u001b[0m\u001b[0mlinear\u001b[0m\u001b[0;34m(\u001b[0m\u001b[0minput\u001b[0m\u001b[0;34m,\u001b[0m \u001b[0mself\u001b[0m\u001b[0;34m.\u001b[0m\u001b[0mweight\u001b[0m\u001b[0;34m,\u001b[0m \u001b[0mself\u001b[0m\u001b[0;34m.\u001b[0m\u001b[0mbias\u001b[0m\u001b[0;34m)\u001b[0m\u001b[0;34m\u001b[0m\u001b[0m\n\u001b[0m\u001b[1;32m     56\u001b[0m \u001b[0;34m\u001b[0m\u001b[0m\n\u001b[1;32m     57\u001b[0m     \u001b[0;32mdef\u001b[0m \u001b[0mextra_repr\u001b[0m\u001b[0;34m(\u001b[0m\u001b[0mself\u001b[0m\u001b[0;34m)\u001b[0m\u001b[0;34m:\u001b[0m\u001b[0;34m\u001b[0m\u001b[0m\n",
      "\u001b[0;32m~/anaconda3/lib/python3.6/site-packages/torch/nn/functional.py\u001b[0m in \u001b[0;36mlinear\u001b[0;34m(input, weight, bias)\u001b[0m\n\u001b[1;32m   1022\u001b[0m     \u001b[0;32mif\u001b[0m \u001b[0minput\u001b[0m\u001b[0;34m.\u001b[0m\u001b[0mdim\u001b[0m\u001b[0;34m(\u001b[0m\u001b[0;34m)\u001b[0m \u001b[0;34m==\u001b[0m \u001b[0;36m2\u001b[0m \u001b[0;32mand\u001b[0m \u001b[0mbias\u001b[0m \u001b[0;32mis\u001b[0m \u001b[0;32mnot\u001b[0m \u001b[0;32mNone\u001b[0m\u001b[0;34m:\u001b[0m\u001b[0;34m\u001b[0m\u001b[0m\n\u001b[1;32m   1023\u001b[0m         \u001b[0;31m# fused op is marginally faster\u001b[0m\u001b[0;34m\u001b[0m\u001b[0;34m\u001b[0m\u001b[0m\n\u001b[0;32m-> 1024\u001b[0;31m         \u001b[0;32mreturn\u001b[0m \u001b[0mtorch\u001b[0m\u001b[0;34m.\u001b[0m\u001b[0maddmm\u001b[0m\u001b[0;34m(\u001b[0m\u001b[0mbias\u001b[0m\u001b[0;34m,\u001b[0m \u001b[0minput\u001b[0m\u001b[0;34m,\u001b[0m \u001b[0mweight\u001b[0m\u001b[0;34m.\u001b[0m\u001b[0mt\u001b[0m\u001b[0;34m(\u001b[0m\u001b[0;34m)\u001b[0m\u001b[0;34m)\u001b[0m\u001b[0;34m\u001b[0m\u001b[0m\n\u001b[0m\u001b[1;32m   1025\u001b[0m \u001b[0;34m\u001b[0m\u001b[0m\n\u001b[1;32m   1026\u001b[0m     \u001b[0moutput\u001b[0m \u001b[0;34m=\u001b[0m \u001b[0minput\u001b[0m\u001b[0;34m.\u001b[0m\u001b[0mmatmul\u001b[0m\u001b[0;34m(\u001b[0m\u001b[0mweight\u001b[0m\u001b[0;34m.\u001b[0m\u001b[0mt\u001b[0m\u001b[0;34m(\u001b[0m\u001b[0;34m)\u001b[0m\u001b[0;34m)\u001b[0m\u001b[0;34m\u001b[0m\u001b[0m\n",
      "\u001b[0;31mRuntimeError\u001b[0m: size mismatch, m1: [19735 x 24], m2: [1 x 50] at /pytorch/aten/src/THC/generic/THCTensorMathBlas.cu:249"
     ]
    }
   ],
   "source": [
    "torchnn, errors = train_pytorch(XenergyGPU, TenergyGPU, .01, 50, 100)"
   ]
  },
  {
   "cell_type": "markdown",
   "metadata": {},
   "source": [
    "Well this section seems to be dead to me. I cannot get anything to work consistently. We'll have to go with the old nn implementation and waiting instead. My server could work as well. "
   ]
  },
  {
   "cell_type": "markdown",
   "metadata": {},
   "source": [
    "## Reinforcement Learning With a Neural Network\n",
    "\n",
    "Will be a combination of the NNet for Hanoi and tic tac toe.\n",
    "\n",
    "First learn against a dumb opponent. "
   ]
  },
  {
   "cell_type": "markdown",
   "metadata": {},
   "source": [
    "Here is the representation of the board. *Unsure of which side should be player. Currently I think its red? Here represented as ones*\n",
    "\n",
    "Here we train the red player?"
   ]
  },
  {
   "cell_type": "code",
   "execution_count": 6,
   "metadata": {},
   "outputs": [],
   "source": [
    "from board import *\n",
    "from piece import *"
   ]
  },
  {
   "cell_type": "code",
   "execution_count": 11,
   "metadata": {},
   "outputs": [
    {
     "name": "stdout",
     "output_type": "stream",
     "text": [
      "      0 |  1 |  2 |  3 |  4 |  5 |  6 |  7\n",
      " 0 | -  | BK | -  | B  | -  | B  | -  | B \n",
      " 1 | B  | -  | B  | -  | B  | -  | B  | - \n",
      " 2 | -  | B  | -  | B  | -  | B  | -  | B \n",
      " 3 | -  | -  | -  | -  | -  | -  | -  | - \n",
      " 4 | -  | -  | -  | -  | -  | -  | -  | - \n",
      " 5 | R  | -  | R  | -  | R  | -  | R  | - \n",
      " 6 | -  | R  | -  | R  | -  | R  | -  | R \n",
      " 7 | R  | -  | R  | -  | R  | -  | RK | - \n",
      "\n",
      "The first of valid moves is seen easily in the board, from 0,5 to 4,1\n"
     ]
    },
    {
     "data": {
      "text/plain": [
       "68"
      ]
     },
     "execution_count": 11,
     "metadata": {},
     "output_type": "execute_result"
    }
   ],
   "source": [
    "b = Board()\n",
    "dr = b.draught\n",
    "## add kings to show that they have *3 weight\n",
    "blackKing = Piece(Color.BLACK, (0,1))\n",
    "blackKing.king_me()\n",
    "redKing = Piece(Color.RED, (7,6))\n",
    "redKing.king_me()\n",
    "dr[0, 1] = blackKing\n",
    "dr[7, 6] = redKing\n",
    "b.draught = dr\n",
    "print(b)\n",
    "print(\"The first of valid moves is seen easily in the board, from 0,5 to 4,1\")\n",
    "moves = b.validMoves()\n",
    "vector = b.stateMoveVectorForNN(moves[0])\n",
    "len(vector)\n",
    "#shows a vector representation of the board for the nerual network.\n",
    "#see newStateRep in notebook 20(?) for more. \n"
   ]
  },
  {
   "cell_type": "markdown",
   "metadata": {},
   "source": [
    "### Using and Testing that bad boy"
   ]
  },
  {
   "cell_type": "code",
   "execution_count": 1,
   "metadata": {},
   "outputs": [],
   "source": [
    "import NeuralReinforcement as nr\n",
    "import numpy as np"
   ]
  },
  {
   "cell_type": "code",
   "execution_count": 2,
   "metadata": {},
   "outputs": [
    {
     "name": "stdout",
     "output_type": "stream",
     "text": [
      "Automatic pdb calling has been turned ON\n"
     ]
    }
   ],
   "source": [
    "%pdb"
   ]
  },
  {
   "cell_type": "code",
   "execution_count": null,
   "metadata": {},
   "outputs": [
    {
     "name": "stdout",
     "output_type": "stream",
     "text": [
      "Black won: batch=0 rep=0 epsilon=1.000 steps=-1, Red won: batch=0 rep=10 epsilon=1.000 steps=1, Red won: batch=0 rep=20 epsilon=1.000 steps=1, batch=0 rep=30 epsilon=1.000 steps=0, Black won: batch=0 rep=40 epsilon=1.000 steps=-1, Red won: batch=0 rep=49 epsilon=1.000 steps=1, Red won: batch=1 rep=50 epsilon=0.990 steps=1, batch=1 rep=60 epsilon=0.990 steps=0, batch=1 rep=70 epsilon=0.990 steps=0, Black won: batch=1 rep=80 epsilon=0.990 steps=-1, Black won: batch=1 rep=90 epsilon=0.990 steps=-1, Black won: batch=1 rep=99 epsilon=0.990 steps=-1, batch=2 rep=100 epsilon=0.980 steps=0, Black won: batch=2 rep=110 epsilon=0.980 steps=-1, batch=2 rep=120 epsilon=0.980 steps=0, Black won: batch=2 rep=130 epsilon=0.980 steps=-1, batch=2 rep=140 epsilon=0.980 steps=0, batch=2 rep=149 epsilon=0.980 steps=0, Black won: batch=3 rep=150 epsilon=0.970 steps=-1, batch=3 rep=160 epsilon=0.970 steps=0, Black won: batch=3 rep=170 epsilon=0.970 steps=-1, Black won: batch=3 rep=180 epsilon=0.970 steps=-1, batch=3 rep=190 epsilon=0.970 steps=0, Black won: batch=3 rep=199 epsilon=0.970 steps=-1, batch=4 rep=200 epsilon=0.961 steps=0, batch=4 rep=210 epsilon=0.961 steps=0, Black won: batch=4 rep=220 epsilon=0.961 steps=-1, Black won: batch=4 rep=230 epsilon=0.961 steps=-1, batch=4 rep=240 epsilon=0.961 steps=0, Red won: batch=4 rep=249 epsilon=0.961 steps=1, Black won: batch=5 rep=250 epsilon=0.951 steps=-1, Red won: batch=5 rep=260 epsilon=0.951 steps=1, batch=5 rep=270 epsilon=0.951 steps=0, batch=5 rep=280 epsilon=0.951 steps=0, Black won: batch=5 rep=290 epsilon=0.951 steps=-1, Black won: batch=5 rep=299 epsilon=0.951 steps=-1, Black won: batch=6 rep=300 epsilon=0.941 steps=-1, Red won: batch=6 rep=310 epsilon=0.941 steps=1, Red won: batch=6 rep=320 epsilon=0.941 steps=1, Black won: batch=6 rep=330 epsilon=0.941 steps=-1, Red won: batch=6 rep=340 epsilon=0.941 steps=1, Black won: batch=6 rep=349 epsilon=0.941 steps=-1, Black won: batch=7 rep=350 epsilon=0.932 steps=-1, batch=7 rep=360 epsilon=0.932 steps=0, batch=7 rep=370 epsilon=0.932 steps=0, batch=7 rep=380 epsilon=0.932 steps=0, Black won: batch=7 rep=390 epsilon=0.932 steps=-1, batch=7 rep=399 epsilon=0.932 steps=0, batch=8 rep=400 epsilon=0.923 steps=0, Black won: batch=8 rep=410 epsilon=0.923 steps=-1, Black won: batch=8 rep=420 epsilon=0.923 steps=-1, batch=8 rep=430 epsilon=0.923 steps=0, Black won: batch=8 rep=440 epsilon=0.923 steps=-1, Red won: batch=8 rep=449 epsilon=0.923 steps=1, Black won: batch=9 rep=450 epsilon=0.914 steps=-1, Black won: batch=9 rep=460 epsilon=0.914 steps=-1, Red won: batch=9 rep=470 epsilon=0.914 steps=1, Black won: batch=9 rep=480 epsilon=0.914 steps=-1, Black won: batch=9 rep=490 epsilon=0.914 steps=-1, Black won: batch=9 rep=499 epsilon=0.914 steps=-1, Red won: batch=10 rep=500 epsilon=0.904 steps=1, Black won: batch=10 rep=510 epsilon=0.904 steps=-1, Red won: batch=10 rep=520 epsilon=0.904 steps=1, Red won: batch=10 rep=530 epsilon=0.904 steps=1, batch=10 rep=540 epsilon=0.904 steps=0, batch=10 rep=549 epsilon=0.904 steps=0, batch=11 rep=550 epsilon=0.895 steps=0, Red won: batch=11 rep=560 epsilon=0.895 steps=1, Black won: batch=11 rep=570 epsilon=0.895 steps=-1, Red won: batch=11 rep=580 epsilon=0.895 steps=1, Black won: batch=11 rep=590 epsilon=0.895 steps=-1, Black won: batch=11 rep=599 epsilon=0.895 steps=-1, Red won: batch=12 rep=600 epsilon=0.886 steps=1, batch=12 rep=610 epsilon=0.886 steps=0, Black won: batch=12 rep=620 epsilon=0.886 steps=-1, Black won: batch=12 rep=630 epsilon=0.886 steps=-1, Black won: batch=12 rep=640 epsilon=0.886 steps=-1, batch=12 rep=649 epsilon=0.886 steps=0, Black won: batch=13 rep=650 epsilon=0.878 steps=-1, Black won: batch=13 rep=660 epsilon=0.878 steps=-1, Black won: batch=13 rep=670 epsilon=0.878 steps=-1, Red won: batch=13 rep=680 epsilon=0.878 steps=1, Black won: batch=13 rep=690 epsilon=0.878 steps=-1, Red won: batch=13 rep=699 epsilon=0.878 steps=1, Red won: batch=14 rep=700 epsilon=0.869 steps=1, Red won: batch=14 rep=710 epsilon=0.869 steps=1, Red won: batch=14 rep=720 epsilon=0.869 steps=1, Black won: batch=14 rep=730 epsilon=0.869 steps=-1, batch=14 rep=740 epsilon=0.869 steps=0, Red won: batch=14 rep=749 epsilon=0.869 steps=1, Black won: batch=15 rep=750 epsilon=0.860 steps=-1, Red won: batch=15 rep=760 epsilon=0.860 steps=1, batch=15 rep=770 epsilon=0.860 steps=0, batch=15 rep=780 epsilon=0.860 steps=0, Red won: batch=15 rep=790 epsilon=0.860 steps=1, Black won: batch=15 rep=799 epsilon=0.860 steps=-1, Black won: batch=16 rep=800 epsilon=0.851 steps=-1, batch=16 rep=810 epsilon=0.851 steps=0, Black won: batch=16 rep=820 epsilon=0.851 steps=-1, batch=16 rep=830 epsilon=0.851 steps=0, batch=16 rep=840 epsilon=0.851 steps=0, batch=16 rep=849 epsilon=0.851 steps=0, Black won: batch=17 rep=850 epsilon=0.843 steps=-1, Black won: batch=17 rep=860 epsilon=0.843 steps=-1, Black won: batch=17 rep=870 epsilon=0.843 steps=-1, Black won: batch=17 rep=880 epsilon=0.843 steps=-1, Red won: batch=17 rep=890 epsilon=0.843 steps=1, Black won: batch=17 rep=899 epsilon=0.843 steps=-1, Black won: batch=18 rep=900 epsilon=0.835 steps=-1, batch=18 rep=910 epsilon=0.835 steps=0, batch=18 rep=920 epsilon=0.835 steps=0, Red won: batch=18 rep=930 epsilon=0.835 steps=1, batch=18 rep=940 epsilon=0.835 steps=0, Black won: batch=18 rep=949 epsilon=0.835 steps=-1, Black won: batch=19 rep=950 epsilon=0.826 steps=-1, Red won: batch=19 rep=960 epsilon=0.826 steps=1, Black won: batch=19 rep=970 epsilon=0.826 steps=-1, Red won: batch=19 rep=980 epsilon=0.826 steps=1, Red won: batch=19 rep=990 epsilon=0.826 steps=1, Black won: batch=19 rep=999 epsilon=0.826 steps=-1, batch=20 rep=1000 epsilon=0.818 steps=0, Black won: batch=20 rep=1010 epsilon=0.818 steps=-1, Black won: batch=20 rep=1020 epsilon=0.818 steps=-1, batch=20 rep=1030 epsilon=0.818 steps=0, Red won: batch=20 rep=1040 epsilon=0.818 steps=1, Red won: batch=20 rep=1049 epsilon=0.818 steps=1, Black won: batch=21 rep=1050 epsilon=0.810 steps=-1, Red won: batch=21 rep=1060 epsilon=0.810 steps=1, Black won: batch=21 rep=1070 epsilon=0.810 steps=-1, batch=21 rep=1080 epsilon=0.810 steps=0, Black won: batch=21 rep=1090 epsilon=0.810 steps=-1, Red won: batch=21 rep=1099 epsilon=0.810 steps=1, batch=22 rep=1100 epsilon=0.802 steps=0, Black won: batch=22 rep=1110 epsilon=0.802 steps=-1, batch=22 rep=1120 epsilon=0.802 steps=0, Black won: batch=22 rep=1130 epsilon=0.802 steps=-1, Black won: batch=22 rep=1140 epsilon=0.802 steps=-1, Black won: batch=22 rep=1149 epsilon=0.802 steps=-1, Red won: batch=23 rep=1150 epsilon=0.794 steps=1, Black won: batch=23 rep=1160 epsilon=0.794 steps=-1, Red won: batch=23 rep=1170 epsilon=0.794 steps=1, Black won: batch=23 rep=1180 epsilon=0.794 steps=-1, batch=23 rep=1190 epsilon=0.794 steps=0, Black won: batch=23 rep=1199 epsilon=0.794 steps=-1, Black won: batch=24 rep=1200 epsilon=0.786 steps=-1, Black won: batch=24 rep=1210 epsilon=0.786 steps=-1, Black won: batch=24 rep=1220 epsilon=0.786 steps=-1, batch=24 rep=1230 epsilon=0.786 steps=0, Red won: batch=24 rep=1240 epsilon=0.786 steps=1, Black won: batch=24 rep=1249 epsilon=0.786 steps=-1, Black won: batch=25 rep=1250 epsilon=0.778 steps=-1, Black won: batch=25 rep=1260 epsilon=0.778 steps=-1, batch=25 rep=1270 epsilon=0.778 steps=0, Black won: batch=25 rep=1280 epsilon=0.778 steps=-1, Red won: batch=25 rep=1290 epsilon=0.778 steps=1, batch=25 rep=1299 epsilon=0.778 steps=0, batch=26 rep=1300 epsilon=0.770 steps=0, Red won: batch=26 rep=1310 epsilon=0.770 steps=1, batch=26 rep=1320 epsilon=0.770 steps=0, batch=26 rep=1330 epsilon=0.770 steps=0, Black won: batch=26 rep=1340 epsilon=0.770 steps=-1, Black won: batch=26 rep=1349 epsilon=0.770 steps=-1, Black won: batch=27 rep=1350 epsilon=0.762 steps=-1, Black won: batch=27 rep=1360 epsilon=0.762 steps=-1, Red won: batch=27 rep=1370 epsilon=0.762 steps=1, Black won: batch=27 rep=1380 epsilon=0.762 steps=-1, Black won: batch=27 rep=1390 epsilon=0.762 steps=-1, Black won: batch=27 rep=1399 epsilon=0.762 steps=-1, Red won: batch=28 rep=1400 epsilon=0.755 steps=1, Black won: batch=28 rep=1410 epsilon=0.755 steps=-1, Red won: batch=28 rep=1420 epsilon=0.755 steps=1, Black won: batch=28 rep=1430 epsilon=0.755 steps=-1, "
     ]
    },
    {
     "name": "stdout",
     "output_type": "stream",
     "text": [
      "Black won: batch=28 rep=1440 epsilon=0.755 steps=-1, batch=28 rep=1449 epsilon=0.755 steps=0, batch=29 rep=1450 epsilon=0.747 steps=0, Red won: batch=29 rep=1460 epsilon=0.747 steps=1, Red won: batch=29 rep=1470 epsilon=0.747 steps=1, Black won: batch=29 rep=1480 epsilon=0.747 steps=-1, batch=29 rep=1490 epsilon=0.747 steps=0, Red won: batch=29 rep=1499 epsilon=0.747 steps=1, Black won: batch=30 rep=1500 epsilon=0.740 steps=-1, Red won: batch=30 rep=1510 epsilon=0.740 steps=1, batch=30 rep=1520 epsilon=0.740 steps=0, Red won: batch=30 rep=1530 epsilon=0.740 steps=1, batch=30 rep=1540 epsilon=0.740 steps=0, Black won: batch=30 rep=1549 epsilon=0.740 steps=-1, Red won: batch=31 rep=1550 epsilon=0.732 steps=1, Red won: batch=31 rep=1560 epsilon=0.732 steps=1, Black won: batch=31 rep=1570 epsilon=0.732 steps=-1, batch=31 rep=1580 epsilon=0.732 steps=0, Red won: batch=31 rep=1590 epsilon=0.732 steps=1, Red won: batch=31 rep=1599 epsilon=0.732 steps=1, Black won: batch=32 rep=1600 epsilon=0.725 steps=-1, Red won: batch=32 rep=1610 epsilon=0.725 steps=1, batch=32 rep=1620 epsilon=0.725 steps=0, Red won: batch=32 rep=1630 epsilon=0.725 steps=1, batch=32 rep=1640 epsilon=0.725 steps=0, batch=32 rep=1649 epsilon=0.725 steps=0, batch=33 rep=1650 epsilon=0.718 steps=0, batch=33 rep=1660 epsilon=0.718 steps=0, Black won: batch=33 rep=1670 epsilon=0.718 steps=-1, Black won: batch=33 rep=1680 epsilon=0.718 steps=-1, Black won: batch=33 rep=1690 epsilon=0.718 steps=-1, batch=33 rep=1699 epsilon=0.718 steps=0, Black won: batch=34 rep=1700 epsilon=0.711 steps=-1, batch=34 rep=1710 epsilon=0.711 steps=0, Red won: batch=34 rep=1720 epsilon=0.711 steps=1, Black won: batch=34 rep=1730 epsilon=0.711 steps=-1, Black won: batch=34 rep=1740 epsilon=0.711 steps=-1, Red won: batch=34 rep=1749 epsilon=0.711 steps=1, Red won: batch=35 rep=1750 epsilon=0.703 steps=1, batch=35 rep=1760 epsilon=0.703 steps=0, Red won: batch=35 rep=1770 epsilon=0.703 steps=1, Black won: batch=35 rep=1780 epsilon=0.703 steps=-1, Red won: batch=35 rep=1790 epsilon=0.703 steps=1, Red won: batch=35 rep=1799 epsilon=0.703 steps=1, Black won: batch=36 rep=1800 epsilon=0.696 steps=-1, Black won: batch=36 rep=1810 epsilon=0.696 steps=-1, Black won: batch=36 rep=1820 epsilon=0.696 steps=-1, Black won: batch=36 rep=1830 epsilon=0.696 steps=-1, Black won: batch=36 rep=1840 epsilon=0.696 steps=-1, batch=36 rep=1849 epsilon=0.696 steps=0, Red won: batch=37 rep=1850 epsilon=0.689 steps=1, batch=37 rep=1860 epsilon=0.689 steps=0, batch=37 rep=1870 epsilon=0.689 steps=0, Black won: batch=37 rep=1880 epsilon=0.689 steps=-1, Black won: batch=37 rep=1890 epsilon=0.689 steps=-1, Black won: batch=37 rep=1899 epsilon=0.689 steps=-1, Red won: batch=38 rep=1900 epsilon=0.683 steps=1, Red won: batch=38 rep=1910 epsilon=0.683 steps=1, Black won: batch=38 rep=1920 epsilon=0.683 steps=-1, Red won: batch=38 rep=1930 epsilon=0.683 steps=1, batch=38 rep=1940 epsilon=0.683 steps=0, Black won: batch=38 rep=1949 epsilon=0.683 steps=-1, Red won: batch=39 rep=1950 epsilon=0.676 steps=1, batch=39 rep=1960 epsilon=0.676 steps=0, Red won: batch=39 rep=1970 epsilon=0.676 steps=1, Black won: batch=39 rep=1980 epsilon=0.676 steps=-1, Black won: batch=39 rep=1990 epsilon=0.676 steps=-1, Red won: batch=39 rep=1999 epsilon=0.676 steps=1, Black won: batch=40 rep=2000 epsilon=0.669 steps=-1, batch=40 rep=2010 epsilon=0.669 steps=0, Black won: batch=40 rep=2020 epsilon=0.669 steps=-1, Black won: batch=40 rep=2030 epsilon=0.669 steps=-1, Black won: batch=40 rep=2040 epsilon=0.669 steps=-1, Red won: batch=40 rep=2049 epsilon=0.669 steps=1, batch=41 rep=2050 epsilon=0.662 steps=0, Black won: batch=41 rep=2060 epsilon=0.662 steps=-1, Black won: batch=41 rep=2070 epsilon=0.662 steps=-1, Black won: batch=41 rep=2080 epsilon=0.662 steps=-1, Black won: batch=41 rep=2090 epsilon=0.662 steps=-1, Black won: batch=41 rep=2099 epsilon=0.662 steps=-1, batch=42 rep=2100 epsilon=0.656 steps=0, Black won: batch=42 rep=2110 epsilon=0.656 steps=-1, batch=42 rep=2120 epsilon=0.656 steps=0, Black won: batch=42 rep=2130 epsilon=0.656 steps=-1, Black won: batch=42 rep=2140 epsilon=0.656 steps=-1, batch=42 rep=2149 epsilon=0.656 steps=0, Black won: batch=43 rep=2150 epsilon=0.649 steps=-1, Red won: batch=43 rep=2160 epsilon=0.649 steps=1, batch=43 rep=2170 epsilon=0.649 steps=0, batch=43 rep=2180 epsilon=0.649 steps=0, Black won: batch=43 rep=2190 epsilon=0.649 steps=-1, Black won: batch=43 rep=2199 epsilon=0.649 steps=-1, Black won: batch=44 rep=2200 epsilon=0.643 steps=-1, batch=44 rep=2210 epsilon=0.643 steps=0, Black won: batch=44 rep=2220 epsilon=0.643 steps=-1, batch=44 rep=2230 epsilon=0.643 steps=0, Black won: batch=44 rep=2240 epsilon=0.643 steps=-1, Red won: batch=44 rep=2249 epsilon=0.643 steps=1, Black won: batch=45 rep=2250 epsilon=0.636 steps=-1, Black won: batch=45 rep=2260 epsilon=0.636 steps=-1, Black won: batch=45 rep=2270 epsilon=0.636 steps=-1, Black won: batch=45 rep=2280 epsilon=0.636 steps=-1, Red won: batch=45 rep=2290 epsilon=0.636 steps=1, Black won: batch=45 rep=2299 epsilon=0.636 steps=-1, batch=46 rep=2300 epsilon=0.630 steps=0, batch=46 rep=2310 epsilon=0.630 steps=0, Black won: batch=46 rep=2320 epsilon=0.630 steps=-1, Black won: batch=46 rep=2330 epsilon=0.630 steps=-1, Black won: batch=46 rep=2340 epsilon=0.630 steps=-1, batch=46 rep=2349 epsilon=0.630 steps=0, batch=47 rep=2350 epsilon=0.624 steps=0, Red won: batch=47 rep=2360 epsilon=0.624 steps=1, Black won: batch=47 rep=2370 epsilon=0.624 steps=-1, Black won: batch=47 rep=2380 epsilon=0.624 steps=-1, batch=47 rep=2390 epsilon=0.624 steps=0, batch=47 rep=2399 epsilon=0.624 steps=0, Black won: batch=48 rep=2400 epsilon=0.617 steps=-1, batch=48 rep=2410 epsilon=0.617 steps=0, Black won: batch=48 rep=2420 epsilon=0.617 steps=-1, Black won: batch=48 rep=2430 epsilon=0.617 steps=-1, batch=48 rep=2440 epsilon=0.617 steps=0, Black won: batch=48 rep=2449 epsilon=0.617 steps=-1, Black won: batch=49 rep=2450 epsilon=0.611 steps=-1, Red won: batch=49 rep=2460 epsilon=0.611 steps=1, Red won: batch=49 rep=2470 epsilon=0.611 steps=1, Black won: batch=49 rep=2480 epsilon=0.611 steps=-1, batch=49 rep=2490 epsilon=0.611 steps=0, Red won: batch=49 rep=2499 epsilon=0.611 steps=1, Red won: batch=50 rep=2500 epsilon=0.605 steps=1, Black won: batch=50 rep=2510 epsilon=0.605 steps=-1, Black won: batch=50 rep=2520 epsilon=0.605 steps=-1, Black won: batch=50 rep=2530 epsilon=0.605 steps=-1, Black won: batch=50 rep=2540 epsilon=0.605 steps=-1, batch=50 rep=2549 epsilon=0.605 steps=0, Red won: batch=51 rep=2550 epsilon=0.599 steps=1, batch=51 rep=2560 epsilon=0.599 steps=0, Black won: batch=51 rep=2570 epsilon=0.599 steps=-1, Black won: batch=51 rep=2580 epsilon=0.599 steps=-1, batch=51 rep=2590 epsilon=0.599 steps=0, Black won: batch=51 rep=2599 epsilon=0.599 steps=-1, Red won: batch=52 rep=2600 epsilon=0.593 steps=1, Black won: batch=52 rep=2610 epsilon=0.593 steps=-1, Red won: batch=52 rep=2620 epsilon=0.593 steps=1, Red won: batch=52 rep=2630 epsilon=0.593 steps=1, Red won: batch=52 rep=2640 epsilon=0.593 steps=1, batch=52 rep=2649 epsilon=0.593 steps=0, Black won: batch=53 rep=2650 epsilon=0.587 steps=-1, Black won: batch=53 rep=2660 epsilon=0.587 steps=-1, Black won: batch=53 rep=2670 epsilon=0.587 steps=-1, batch=53 rep=2680 epsilon=0.587 steps=0, Black won: batch=53 rep=2690 epsilon=0.587 steps=-1, Black won: batch=53 rep=2699 epsilon=0.587 steps=-1, batch=54 rep=2700 epsilon=0.581 steps=0, batch=54 rep=2710 epsilon=0.581 steps=0, Black won: batch=54 rep=2720 epsilon=0.581 steps=-1, Black won: batch=54 rep=2730 epsilon=0.581 steps=-1, Black won: batch=54 rep=2740 epsilon=0.581 steps=-1, Red won: batch=54 rep=2749 epsilon=0.581 steps=1, batch=55 rep=2750 epsilon=0.575 steps=0, Black won: batch=55 rep=2760 epsilon=0.575 steps=-1, Red won: batch=55 rep=2770 epsilon=0.575 steps=1, batch=55 rep=2780 epsilon=0.575 steps=0, Black won: batch=55 rep=2790 epsilon=0.575 steps=-1, Black won: batch=55 rep=2799 epsilon=0.575 steps=-1, batch=56 rep=2800 epsilon=0.570 steps=0, Black won: batch=56 rep=2810 epsilon=0.570 steps=-1, Red won: batch=56 rep=2820 epsilon=0.570 steps=1, Red won: batch=56 rep=2830 epsilon=0.570 steps=1, "
     ]
    },
    {
     "name": "stdout",
     "output_type": "stream",
     "text": [
      "Black won: batch=56 rep=2840 epsilon=0.570 steps=-1, Black won: batch=56 rep=2849 epsilon=0.570 steps=-1, Black won: batch=57 rep=2850 epsilon=0.564 steps=-1, Black won: batch=57 rep=2860 epsilon=0.564 steps=-1, batch=57 rep=2870 epsilon=0.564 steps=0, Black won: batch=57 rep=2880 epsilon=0.564 steps=-1, Black won: batch=57 rep=2890 epsilon=0.564 steps=-1, Red won: batch=57 rep=2899 epsilon=0.564 steps=1, Red won: batch=58 rep=2900 epsilon=0.558 steps=1, Black won: batch=58 rep=2910 epsilon=0.558 steps=-1, Black won: batch=58 rep=2920 epsilon=0.558 steps=-1, Black won: batch=58 rep=2930 epsilon=0.558 steps=-1, Red won: batch=58 rep=2940 epsilon=0.558 steps=1, Red won: batch=58 rep=2949 epsilon=0.558 steps=1, Black won: batch=59 rep=2950 epsilon=0.553 steps=-1, Black won: batch=59 rep=2960 epsilon=0.553 steps=-1, Black won: batch=59 rep=2970 epsilon=0.553 steps=-1, Red won: batch=59 rep=2980 epsilon=0.553 steps=1, Black won: batch=59 rep=2990 epsilon=0.553 steps=-1, Black won: batch=59 rep=2999 epsilon=0.553 steps=-1, batch=60 rep=3000 epsilon=0.547 steps=0, batch=60 rep=3010 epsilon=0.547 steps=0, batch=60 rep=3020 epsilon=0.547 steps=0, Black won: batch=60 rep=3030 epsilon=0.547 steps=-1, Red won: batch=60 rep=3040 epsilon=0.547 steps=1, batch=60 rep=3049 epsilon=0.547 steps=0, batch=61 rep=3050 epsilon=0.542 steps=0, Black won: batch=61 rep=3060 epsilon=0.542 steps=-1, batch=61 rep=3070 epsilon=0.542 steps=0, batch=61 rep=3080 epsilon=0.542 steps=0, Black won: batch=61 rep=3090 epsilon=0.542 steps=-1, batch=61 rep=3099 epsilon=0.542 steps=0, Black won: batch=62 rep=3100 epsilon=0.536 steps=-1, Black won: batch=62 rep=3110 epsilon=0.536 steps=-1, Red won: batch=62 rep=3120 epsilon=0.536 steps=1, batch=62 rep=3130 epsilon=0.536 steps=0, batch=62 rep=3140 epsilon=0.536 steps=0, Black won: batch=62 rep=3149 epsilon=0.536 steps=-1, Black won: batch=63 rep=3150 epsilon=0.531 steps=-1, Red won: batch=63 rep=3160 epsilon=0.531 steps=1, Black won: batch=63 rep=3170 epsilon=0.531 steps=-1, Black won: batch=63 rep=3180 epsilon=0.531 steps=-1, Black won: batch=63 rep=3190 epsilon=0.531 steps=-1, Black won: batch=63 rep=3199 epsilon=0.531 steps=-1, Red won: batch=64 rep=3200 epsilon=0.526 steps=1, Red won: batch=64 rep=3210 epsilon=0.526 steps=1, Red won: batch=64 rep=3220 epsilon=0.526 steps=1, batch=64 rep=3230 epsilon=0.526 steps=0, Black won: batch=64 rep=3240 epsilon=0.526 steps=-1, batch=64 rep=3249 epsilon=0.526 steps=0, Black won: batch=65 rep=3250 epsilon=0.520 steps=-1, Black won: batch=65 rep=3260 epsilon=0.520 steps=-1, batch=65 rep=3270 epsilon=0.520 steps=0, Black won: batch=65 rep=3280 epsilon=0.520 steps=-1, Black won: batch=65 rep=3290 epsilon=0.520 steps=-1, Red won: batch=65 rep=3299 epsilon=0.520 steps=1, batch=66 rep=3300 epsilon=0.515 steps=0, Red won: batch=66 rep=3310 epsilon=0.515 steps=1, Red won: batch=66 rep=3320 epsilon=0.515 steps=1, batch=66 rep=3330 epsilon=0.515 steps=0, Black won: batch=66 rep=3340 epsilon=0.515 steps=-1, Black won: batch=66 rep=3349 epsilon=0.515 steps=-1, batch=67 rep=3350 epsilon=0.510 steps=0, batch=67 rep=3360 epsilon=0.510 steps=0, Black won: batch=67 rep=3370 epsilon=0.510 steps=-1, batch=67 rep=3380 epsilon=0.510 steps=0, Red won: batch=67 rep=3390 epsilon=0.510 steps=1, Black won: batch=67 rep=3399 epsilon=0.510 steps=-1, batch=68 rep=3400 epsilon=0.505 steps=0, Black won: batch=68 rep=3410 epsilon=0.505 steps=-1, Black won: batch=68 rep=3420 epsilon=0.505 steps=-1, Black won: batch=68 rep=3430 epsilon=0.505 steps=-1, Black won: batch=68 rep=3440 epsilon=0.505 steps=-1, Red won: batch=68 rep=3449 epsilon=0.505 steps=1, Red won: batch=69 rep=3450 epsilon=0.500 steps=1, Black won: batch=69 rep=3460 epsilon=0.500 steps=-1, Black won: batch=69 rep=3470 epsilon=0.500 steps=-1, Black won: batch=69 rep=3480 epsilon=0.500 steps=-1, Black won: batch=69 rep=3490 epsilon=0.500 steps=-1, batch=69 rep=3499 epsilon=0.500 steps=0, Red won: batch=70 rep=3500 epsilon=0.495 steps=1, batch=70 rep=3510 epsilon=0.495 steps=0, Black won: batch=70 rep=3520 epsilon=0.495 steps=-1, Black won: batch=70 rep=3530 epsilon=0.495 steps=-1, Red won: batch=70 rep=3540 epsilon=0.495 steps=1, Black won: batch=70 rep=3549 epsilon=0.495 steps=-1, Black won: batch=71 rep=3550 epsilon=0.490 steps=-1, Red won: batch=71 rep=3560 epsilon=0.490 steps=1, Red won: batch=71 rep=3570 epsilon=0.490 steps=1, batch=71 rep=3580 epsilon=0.490 steps=0, batch=71 rep=3590 epsilon=0.490 steps=0, Red won: batch=71 rep=3599 epsilon=0.490 steps=1, Black won: batch=72 rep=3600 epsilon=0.485 steps=-1, Red won: batch=72 rep=3610 epsilon=0.485 steps=1, Red won: batch=72 rep=3620 epsilon=0.485 steps=1, Black won: batch=72 rep=3630 epsilon=0.485 steps=-1, batch=72 rep=3640 epsilon=0.485 steps=0, Black won: batch=72 rep=3649 epsilon=0.485 steps=-1, Black won: batch=73 rep=3650 epsilon=0.480 steps=-1, Red won: batch=73 rep=3660 epsilon=0.480 steps=1, Red won: batch=73 rep=3670 epsilon=0.480 steps=1, batch=73 rep=3680 epsilon=0.480 steps=0, batch=73 rep=3690 epsilon=0.480 steps=0, Black won: batch=73 rep=3699 epsilon=0.480 steps=-1, Red won: batch=74 rep=3700 epsilon=0.475 steps=1, batch=74 rep=3710 epsilon=0.475 steps=0, batch=74 rep=3720 epsilon=0.475 steps=0, Black won: batch=74 rep=3730 epsilon=0.475 steps=-1, Red won: batch=74 rep=3740 epsilon=0.475 steps=1, Black won: batch=74 rep=3749 epsilon=0.475 steps=-1, Black won: batch=75 rep=3750 epsilon=0.471 steps=-1, batch=75 rep=3760 epsilon=0.471 steps=0, Red won: batch=75 rep=3770 epsilon=0.471 steps=1, Black won: batch=75 rep=3780 epsilon=0.471 steps=-1, batch=75 rep=3790 epsilon=0.471 steps=0, Red won: batch=75 rep=3799 epsilon=0.471 steps=1, Black won: batch=76 rep=3800 epsilon=0.466 steps=-1, Red won: batch=76 rep=3810 epsilon=0.466 steps=1, batch=76 rep=3820 epsilon=0.466 steps=0, Red won: batch=76 rep=3830 epsilon=0.466 steps=1, batch=76 rep=3840 epsilon=0.466 steps=0, batch=76 rep=3849 epsilon=0.466 steps=0, Black won: batch=77 rep=3850 epsilon=0.461 steps=-1, Black won: batch=77 rep=3860 epsilon=0.461 steps=-1, batch=77 rep=3870 epsilon=0.461 steps=0, Red won: batch=77 rep=3880 epsilon=0.461 steps=1, Black won: batch=77 rep=3890 epsilon=0.461 steps=-1, Black won: batch=77 rep=3899 epsilon=0.461 steps=-1, Black won: batch=78 rep=3900 epsilon=0.457 steps=-1, Red won: batch=78 rep=3910 epsilon=0.457 steps=1, Black won: batch=78 rep=3920 epsilon=0.457 steps=-1, Black won: batch=78 rep=3930 epsilon=0.457 steps=-1, batch=78 rep=3940 epsilon=0.457 steps=0, Black won: batch=78 rep=3949 epsilon=0.457 steps=-1, Red won: batch=79 rep=3950 epsilon=0.452 steps=1, Black won: batch=79 rep=3960 epsilon=0.452 steps=-1, Black won: batch=79 rep=3970 epsilon=0.452 steps=-1, Red won: batch=79 rep=3980 epsilon=0.452 steps=1, Red won: batch=79 rep=3990 epsilon=0.452 steps=1, Black won: batch=79 rep=3999 epsilon=0.452 steps=-1, Black won: batch=80 rep=4000 epsilon=0.448 steps=-1, Red won: batch=80 rep=4010 epsilon=0.448 steps=1, batch=80 rep=4020 epsilon=0.448 steps=0, Black won: batch=80 rep=4030 epsilon=0.448 steps=-1, batch=80 rep=4040 epsilon=0.448 steps=0, batch=80 rep=4049 epsilon=0.448 steps=0, Black won: batch=81 rep=4050 epsilon=0.443 steps=-1, Black won: batch=81 rep=4060 epsilon=0.443 steps=-1, Black won: batch=81 rep=4070 epsilon=0.443 steps=-1, batch=81 rep=4080 epsilon=0.443 steps=0, Black won: batch=81 rep=4090 epsilon=0.443 steps=-1, Black won: batch=81 rep=4099 epsilon=0.443 steps=-1, Red won: batch=82 rep=4100 epsilon=0.439 steps=1, Red won: batch=82 rep=4110 epsilon=0.439 steps=1, Red won: batch=82 rep=4120 epsilon=0.439 steps=1, Black won: batch=82 rep=4130 epsilon=0.439 steps=-1, Red won: batch=82 rep=4140 epsilon=0.439 steps=1, Black won: batch=82 rep=4149 epsilon=0.439 steps=-1, Black won: batch=83 rep=4150 epsilon=0.434 steps=-1, batch=83 rep=4160 epsilon=0.434 steps=0, Red won: batch=83 rep=4170 epsilon=0.434 steps=1, Black won: batch=83 rep=4180 epsilon=0.434 steps=-1, Red won: batch=83 rep=4190 epsilon=0.434 steps=1, Red won: batch=83 rep=4199 epsilon=0.434 steps=1, batch=84 rep=4200 epsilon=0.430 steps=0, batch=84 rep=4210 epsilon=0.430 steps=0, batch=84 rep=4220 epsilon=0.430 steps=0, Black won: batch=84 rep=4230 epsilon=0.430 steps=-1, "
     ]
    },
    {
     "name": "stdout",
     "output_type": "stream",
     "text": [
      "Red won: batch=84 rep=4240 epsilon=0.430 steps=1, Black won: batch=84 rep=4249 epsilon=0.430 steps=-1, batch=85 rep=4250 epsilon=0.426 steps=0, Black won: batch=85 rep=4260 epsilon=0.426 steps=-1, batch=85 rep=4270 epsilon=0.426 steps=0, Black won: batch=85 rep=4280 epsilon=0.426 steps=-1, Black won: batch=85 rep=4290 epsilon=0.426 steps=-1, batch=85 rep=4299 epsilon=0.426 steps=0, Black won: batch=86 rep=4300 epsilon=0.421 steps=-1, Black won: batch=86 rep=4310 epsilon=0.421 steps=-1, Black won: batch=86 rep=4320 epsilon=0.421 steps=-1, batch=86 rep=4330 epsilon=0.421 steps=0, Black won: batch=86 rep=4340 epsilon=0.421 steps=-1, Black won: batch=86 rep=4349 epsilon=0.421 steps=-1, Black won: batch=87 rep=4350 epsilon=0.417 steps=-1, batch=87 rep=4360 epsilon=0.417 steps=0, batch=87 rep=4370 epsilon=0.417 steps=0, batch=87 rep=4380 epsilon=0.417 steps=0, batch=87 rep=4390 epsilon=0.417 steps=0, Black won: batch=87 rep=4399 epsilon=0.417 steps=-1, Black won: batch=88 rep=4400 epsilon=0.413 steps=-1, batch=88 rep=4410 epsilon=0.413 steps=0, Black won: batch=88 rep=4420 epsilon=0.413 steps=-1, Black won: batch=88 rep=4430 epsilon=0.413 steps=-1, Black won: batch=88 rep=4440 epsilon=0.413 steps=-1, batch=88 rep=4449 epsilon=0.413 steps=0, Red won: batch=89 rep=4450 epsilon=0.409 steps=1, Black won: batch=89 rep=4460 epsilon=0.409 steps=-1, Red won: batch=89 rep=4470 epsilon=0.409 steps=1, Black won: batch=89 rep=4480 epsilon=0.409 steps=-1, Red won: batch=89 rep=4490 epsilon=0.409 steps=1, Black won: batch=89 rep=4499 epsilon=0.409 steps=-1, Red won: batch=90 rep=4500 epsilon=0.405 steps=1, batch=90 rep=4510 epsilon=0.405 steps=0, Black won: batch=90 rep=4520 epsilon=0.405 steps=-1, Black won: batch=90 rep=4530 epsilon=0.405 steps=-1, Red won: batch=90 rep=4540 epsilon=0.405 steps=1, Black won: batch=90 rep=4549 epsilon=0.405 steps=-1, batch=91 rep=4550 epsilon=0.401 steps=0, Black won: batch=91 rep=4560 epsilon=0.401 steps=-1, Red won: batch=91 rep=4570 epsilon=0.401 steps=1, batch=91 rep=4580 epsilon=0.401 steps=0, Red won: batch=91 rep=4590 epsilon=0.401 steps=1, Black won: batch=91 rep=4599 epsilon=0.401 steps=-1, Red won: batch=92 rep=4600 epsilon=0.397 steps=1, batch=92 rep=4610 epsilon=0.397 steps=0, Black won: batch=92 rep=4620 epsilon=0.397 steps=-1, Red won: batch=92 rep=4630 epsilon=0.397 steps=1, Red won: batch=92 rep=4640 epsilon=0.397 steps=1, batch=92 rep=4649 epsilon=0.397 steps=0, Red won: batch=93 rep=4650 epsilon=0.393 steps=1, batch=93 rep=4660 epsilon=0.393 steps=0, Red won: batch=93 rep=4670 epsilon=0.393 steps=1, Black won: batch=93 rep=4680 epsilon=0.393 steps=-1, Red won: batch=93 rep=4690 epsilon=0.393 steps=1, "
     ]
    }
   ],
   "source": [
    "# nBatches, nRepsPerBatch, hiddenLayers, nIterations, nReplays, epsilon, epsilonDecayFacto\n",
    "Qnet, outcomes, samples = nr.trainQnet(100, 50, [50, 50, 50], 20, 0, 1, .99)"
   ]
  },
  {
   "cell_type": "code",
   "execution_count": 7,
   "metadata": {},
   "outputs": [
    {
     "data": {
      "text/plain": [
       "[((5, 0), ((4, 1),)),\n",
       " ((5, 2), ((4, 1),)),\n",
       " ((5, 2), ((4, 3),)),\n",
       " ((5, 4), ((4, 3),)),\n",
       " ((5, 4), ((4, 5),)),\n",
       " ((5, 6), ((4, 5),)),\n",
       " ((5, 6), ((4, 7),))]"
      ]
     },
     "execution_count": 7,
     "metadata": {},
     "output_type": "execute_result"
    }
   ],
   "source": [
    "b = Board()\n",
    "moves = b.validMoves()\n",
    "moves"
   ]
  },
  {
   "cell_type": "code",
   "execution_count": 11,
   "metadata": {},
   "outputs": [
    {
     "data": {
      "text/plain": [
       "((5, 0), [(4, 1)])"
      ]
     },
     "execution_count": 11,
     "metadata": {},
     "output_type": "execute_result"
    }
   ],
   "source": [
    "moves[0]"
   ]
  },
  {
   "cell_type": "code",
   "execution_count": 37,
   "metadata": {},
   "outputs": [
    {
     "data": {
      "text/plain": [
       "((5, 6), [(4, 5)])"
      ]
     },
     "execution_count": 37,
     "metadata": {},
     "output_type": "execute_result"
    }
   ],
   "source": [
    "moves[np.random.choice(range(len(moves)))]"
   ]
  },
  {
   "cell_type": "code",
   "execution_count": 9,
   "metadata": {},
   "outputs": [],
   "source": [
    "vect =  b.stateMoveVectorForNN(moves[0])"
   ]
  },
  {
   "cell_type": "code",
   "execution_count": 11,
   "metadata": {},
   "outputs": [
    {
     "ename": "SyntaxError",
     "evalue": "can't use starred expression here (<ipython-input-11-255a534de36c>, line 1)",
     "output_type": "error",
     "traceback": [
      "\u001b[0;36m  File \u001b[0;32m\"<ipython-input-11-255a534de36c>\"\u001b[0;36m, line \u001b[0;32m1\u001b[0m\n\u001b[0;31m    *vect\u001b[0m\n\u001b[0m         ^\u001b[0m\n\u001b[0;31mSyntaxError\u001b[0m\u001b[0;31m:\u001b[0m can't use starred expression here\n"
     ]
    }
   ],
   "source": [
    "*vect"
   ]
  },
  {
   "cell_type": "code",
   "execution_count": 3,
   "metadata": {},
   "outputs": [],
   "source": [
    "import matplotlib.pyplot as plt\n"
   ]
  },
  {
   "cell_type": "code",
   "execution_count": 13,
   "metadata": {},
   "outputs": [
    {
     "data": {
      "text/plain": [
       "[<matplotlib.lines.Line2D at 0x7f5ff2c8b2b0>]"
      ]
     },
     "execution_count": 13,
     "metadata": {},
     "output_type": "execute_result"
    },
    {
     "data": {
      "image/png": "[encoded data removed]",
      "text/plain": [
       "<Figure size 432x288 with 1 Axes>"
      ]
     },
     "metadata": {},
     "output_type": "display_data"
    }
   ],
   "source": [
    "plt.plot(outcomes)"
   ]
  },
  {
   "cell_type": "code",
   "execution_count": 3,
   "metadata": {},
   "outputs": [
    {
     "data": {
      "text/plain": [
       "-0.002"
      ]
     },
     "execution_count": 3,
     "metadata": {},
     "output_type": "execute_result"
    }
   ],
   "source": [
    "np.mean(outcomes)"
   ]
  },
  {
   "cell_type": "code",
   "execution_count": 5,
   "metadata": {},
   "outputs": [],
   "source": [
    "import numpy as np"
   ]
  },
  {
   "cell_type": "code",
   "execution_count": 8,
   "metadata": {},
   "outputs": [
    {
     "data": {
      "text/plain": [
       "(((5, 6), ((4, 5),)), 0.0015250492977207453)"
      ]
     },
     "execution_count": 8,
     "metadata": {},
     "output_type": "execute_result"
    }
   ],
   "source": [
    "nr.epsilonGreedy(Qnet, b, 0)"
   ]
  },
  {
   "cell_type": "code",
   "execution_count": null,
   "metadata": {},
   "outputs": [],
   "source": []
  }
 ],
 "metadata": {
  "kernelspec": {
   "display_name": "Python 3",
   "language": "python",
   "name": "python3"
  },
  "language_info": {
   "codemirror_mode": {
    "name": "ipython",
    "version": 3
   },
   "file_extension": ".py",
   "mimetype": "text/x-python",
   "name": "python",
   "nbconvert_exporter": "python",
   "pygments_lexer": "ipython3",
   "version": "3.6.5"
  }
 },
 "nbformat": 4,
 "nbformat_minor": 2
}
