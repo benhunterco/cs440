{
 "cells": [
  {
   "cell_type": "markdown",
   "metadata": {},
   "source": [
    "$\\newcommand{\\xv}{\\mathbf{x}}\n",
    "\\newcommand{\\Xv}{\\mathbf{X}}\n",
    "\\newcommand{\\yv}{\\mathbf{y}}\n",
    "\\newcommand{\\zv}{\\mathbf{z}}\n",
    "\\newcommand{\\av}{\\mathbf{a}}\n",
    "\\newcommand{\\Wv}{\\mathbf{W}}\n",
    "\\newcommand{\\wv}{\\mathbf{w}}\n",
    "\\newcommand{\\tv}{\\mathbf{t}}\n",
    "\\newcommand{\\Tv}{\\mathbf{T}}\n",
    "\\newcommand{\\muv}{\\boldsymbol{\\mu}}\n",
    "\\newcommand{\\sigmav}{\\boldsymbol{\\sigma}}\n",
    "\\newcommand{\\phiv}{\\boldsymbol{\\phi}}\n",
    "\\newcommand{\\Phiv}{\\boldsymbol{\\Phi}}\n",
    "\\newcommand{\\Sigmav}{\\boldsymbol{\\Sigma}}\n",
    "\\newcommand{\\Lambdav}{\\boldsymbol{\\Lambda}}\n",
    "\\newcommand{\\half}{\\frac{1}{2}}\n",
    "\\newcommand{\\argmax}[1]{\\underset{#1}{\\operatorname{argmax}}}\n",
    "\\newcommand{\\argmin}[1]{\\underset{#1}{\\operatorname{argmin}}}$"
   ]
  },
  {
   "cell_type": "markdown",
   "metadata": {},
   "source": [
    "# Project Proposal"
   ]
  },
  {
   "cell_type": "markdown",
   "metadata": {},
   "source": [
    "Ben Newell, Ryan Williams, Chris Haynes"
   ]
  },
  {
   "cell_type": "markdown",
   "metadata": {},
   "source": [
    "## AI problem:\n",
    "\n",
    "We are looking at the game of checkers. With a team of three we will investigate the performance of different game playing algorithms and how well they tackle the problem of defeating the opponent. Also, we will have two AIs train and compete in parallel to see which one comes out on top, to be declared king of the AIs. Furthermore, we will look at the versatility of the algorithms to see if they come up with unique strategies to use against each other. "
   ]
  },
  {
   "cell_type": "markdown",
   "metadata": {},
   "source": [
    "## AI code and data:\n",
    "\n",
    "* For the implementation of the algorithms we will use the notebooks given in class. \n",
    "* For the checkers game playing, we will write the code (validmoves, makemove, boardstate, etc.).\n",
    "* To train the networks, we can use data generated from our implementation of adversarial search."
   ]
  },
  {
   "cell_type": "markdown",
   "metadata": {},
   "source": [
    "## Questions to answer about the problem\n",
    "\n",
    "* How well can an AI solution solve different states. For example, could it handle a losing starting state. \n",
    "* Will the algorithms come to draws after training or will one side always win."
   ]
  },
  {
   "cell_type": "markdown",
   "metadata": {},
   "source": [
    "## AI algorithms:\n",
    "\n",
    "* We will use minimax/negamax for our adversarial search implementation.\n",
    "* We will use the reinforcement learning with a Q dictionary and temporal difference like in the assignment A4. \n",
    "* We will also use a neural network as a Q function as well."
   ]
  },
  {
   "cell_type": "markdown",
   "metadata": {},
   "source": [
    "## Questions to answer about the algorithm\n",
    "\n",
    "* For reinforcement learning, is it more effective to train against a smart opponent or a dumb one.\n",
    "* For reinforcement learning, how do different epsilon decay rates prepare the AI for different situations\n",
    "* Can a neural network suffice sans Q. "
   ]
  },
  {
   "cell_type": "markdown",
   "metadata": {},
   "source": [
    "## Methods"
   ]
  },
  {
   "cell_type": "markdown",
   "metadata": {},
   "source": [
    "We will code together with Github as version control. \n",
    "\n",
    "We will use a mix of code provided in class, our own, and possibly online sources. For the main implementation of the algorithms we will use the code from class. We will have to write the helper functions in addition to the game code on our own. We may look into neural network code from online sources as well. \n",
    "\n",
    "Chris: \n",
    "* Checkers game playing (validmoves, printstate etc)\n",
    "* Reinforcement learning with Q dictionary\n",
    "Ryan: \n",
    "* Negamax/minimax (a kind of adversarial search)\n",
    "* Training based on opponent moves taken by negamax.\n",
    "\n",
    "Ben: \n",
    "* Reinforcement learning with Q function (neural net)\n",
    "* More investigations into neural networks\n",
    "* Help with alpha beta pruning\n",
    "\n",
    "Shared:\n",
    "* Describing outcomes in notebooks\n",
    "* Games of different algorithms against each other (tournament bracket?).\n",
    "* Play an online AI with our best\n"
   ]
  },
  {
   "cell_type": "markdown",
   "metadata": {},
   "source": [
    "## Possible Results\n",
    "\n",
    "* We could find that the starting order could develope different strategies, or if one side wins more often. \n",
    "* We could find that certain strategies are more efficient than others. For example, adversarial search may not require a long duration of training, but could be slower during gameplay.\n",
    "* For lower epsilon decay rates, the algorithm could find its way out of more adverse situations."
   ]
  },
  {
   "cell_type": "markdown",
   "metadata": {},
   "source": [
    "## Timeline\n",
    "\n",
    "Make a list with at least four entries with dates and describe what each team member will accomplish by these dates.  This is for your use.  Your grade will not depend on meeting these deadlines.\n",
    "\n",
    "* By November 14th have the game playing code done. Find all sources of code by this point\n",
    "* By the end of thanksgiving break(26) progress done on all algorithms. Feasible and in sight.\n",
    "* By December 5th have all the algorithms working and begin comparing them.\n",
    "* By December 8th have all programming finished and continue our write up. \n",
    "* By December 11th turn this bad boy in. "
   ]
  },
  {
   "cell_type": "code",
   "execution_count": null,
   "metadata": {},
   "outputs": [],
   "source": []
  }
 ],
 "metadata": {
  "kernelspec": {
   "display_name": "Python 3",
   "language": "python",
   "name": "python3"
  },
  "language_info": {
   "codemirror_mode": {
    "name": "ipython",
    "version": 3
   },
   "file_extension": ".py",
   "mimetype": "text/x-python",
   "name": "python",
   "nbconvert_exporter": "python",
   "pygments_lexer": "ipython3",
   "version": "3.6.5"
  }
 },
 "nbformat": 4,
 "nbformat_minor": 1
}
