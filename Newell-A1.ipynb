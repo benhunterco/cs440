{
 "cells": [
  {
   "cell_type": "markdown",
   "metadata": {},
   "source": [
    "# Assignment 1: Uninformed Search"
   ]
  },
  {
   "cell_type": "markdown",
   "metadata": {},
   "source": [
    "Ben Newell"
   ]
  },
  {
   "cell_type": "markdown",
   "metadata": {},
   "source": [
    "## Overview"
   ]
  },
  {
   "cell_type": "markdown",
   "metadata": {},
   "source": [
    "Breadth-first and depth-first are two algorithms for performing\n",
    "uninformed search---a search that does not use\n",
    "knowledge about the goal of the search.  You will implement both\n",
    "search algorithms in python and test them on a simple graph."
   ]
  },
  {
   "cell_type": "markdown",
   "metadata": {},
   "source": [
    "# Explanation\n",
    "Here is my python implimentation based off of the method specified in [03 Problem-Solving Agents](http://nbviewer.jupyter.org/url/www.cs.colostate.edu/~anderson/cs440/notebooks/03 Problem-Solving Agents.ipynb).\n",
    "It starts simply by taking the inputs required by the search functions as well as a boolean to tell the difference between breadth and depth first search. Then it initializes variables `expanded` and `unexpanded` which will be used to keep track of what states to look for. Afterwards is a quick check to see if we are done.\n",
    "Then it continues to follow the algorithm...\n",
    "\n",
    "\n",
    "Tricky lines\n",
    "* list comprehension to set children. In plain english it adds i to children if it is not in expanded or unExpanded\n",
    "* The additions at the end. If breadthFirst, we want to add the children to the beginning of the list because we pop off the back\n",
    "* In depthFirst, we add to the end so that the lastest child is expanded in the next call to general search.\n",
    "* Solution is built by adding the goalstates parent to the solution list at index 0 then retrieving the parent's parent from the list. "
   ]
  },
  {
   "cell_type": "code",
   "execution_count": 120,
   "metadata": {},
   "outputs": [],
   "source": [
    "def generalSearch(startState, goalState, successorsf, breadthFirst):\n",
    "    #Initialization\n",
    "    expanded = {}\n",
    "    unExpanded = [(startState, None)]\n",
    "    #Simple check for \"trick question\"\n",
    "    if startState == goalState:\n",
    "        return startState\n",
    "    #Main loop. Goes while unExpanded has values\n",
    "    while unExpanded:\n",
    "        state, parent = unExpanded.pop()\n",
    "        children = successorsf(state)\n",
    "        expanded[state] = parent\n",
    "        #Populate children with list comprehension. Avoids loops and redundant paths\n",
    "        children = [i for i in children if i not in expanded and i not in [c for (c,_) in unExpanded]]\n",
    "        #Build solution\n",
    "        if goalState in children:\n",
    "            solution = [state, goalState]\n",
    "            while parent:\n",
    "                solution.insert(0,parent)\n",
    "                parent = expanded[parent]\n",
    "            return solution\n",
    "        #Enforce order of children for grading\n",
    "        children.sort(reverse = True)\n",
    "        #Change children to add in parents\n",
    "        children = [(i, state) for i in children]\n",
    "        #Post-pend or pre-pend based on which search the boolean requires\n",
    "        if breadthFirst:\n",
    "            unExpanded = children + unExpanded\n",
    "        else:\n",
    "            unExpanded += children\n",
    "    #If soltion was not returned before this point, then we did not find it.\n",
    "    return \"Goal not found\""
   ]
  },
  {
   "cell_type": "markdown",
   "metadata": {},
   "source": [
    "# Function definitions\n",
    "These are mostly simple. The generalSearch method does the work, these just allow for calls to either specific search method."
   ]
  },
  {
   "cell_type": "code",
   "execution_count": 52,
   "metadata": {},
   "outputs": [],
   "source": [
    "def breadthFirstSearch(startState, goalState, successorsf):\n",
    "    return generalSearch(startState, goalState, successorsf, True)"
   ]
  },
  {
   "cell_type": "code",
   "execution_count": 53,
   "metadata": {},
   "outputs": [],
   "source": [
    "def depthFirstSearch(startState, goalState, successorsf):\n",
    "    return generalSearch(startState, goalState, successorsf, False)"
   ]
  },
  {
   "cell_type": "markdown",
   "metadata": {},
   "source": [
    "# Example"
   ]
  },
  {
   "cell_type": "markdown",
   "metadata": {},
   "source": [
    "Here is a simple example.  States are defined by lower case letters.  A dictionary stores a list of successor states for each state in the graph that has successors."
   ]
  },
  {
   "cell_type": "code",
   "execution_count": 54,
   "metadata": {},
   "outputs": [
    {
     "data": {
      "text/plain": [
       "{'a': ['b', 'c', 'd'],\n",
       " 'b': ['e', 'f', 'g'],\n",
       " 'c': ['a', 'h', 'i'],\n",
       " 'd': ['j', 'z'],\n",
       " 'e': ['k', 'l'],\n",
       " 'g': ['m'],\n",
       " 'k': ['z']}"
      ]
     },
     "execution_count": 54,
     "metadata": {},
     "output_type": "execute_result"
    }
   ],
   "source": [
    "successors = {'a':  ['b', 'c', 'd'],\n",
    "              'b':  ['e', 'f', 'g'],\n",
    "              'c':  ['a', 'h', 'i'],\n",
    "              'd':  ['j', 'z'],\n",
    "              'e':  ['k', 'l'],\n",
    "              'g':  ['m'],\n",
    "              'k':  ['z']}\n",
    "successors"
   ]
  },
  {
   "cell_type": "code",
   "execution_count": 55,
   "metadata": {},
   "outputs": [],
   "source": [
    "import copy\n",
    "\n",
    "def successorsf(state):\n",
    "    return copy.copy(successors.get(state, []))"
   ]
  },
  {
   "cell_type": "code",
   "execution_count": 56,
   "metadata": {},
   "outputs": [
    {
     "data": {
      "text/plain": [
       "['k', 'l']"
      ]
     },
     "execution_count": 56,
     "metadata": {},
     "output_type": "execute_result"
    }
   ],
   "source": [
    "successorsf('e')"
   ]
  },
  {
   "cell_type": "code",
   "execution_count": 57,
   "metadata": {},
   "outputs": [
    {
     "name": "stdout",
     "output_type": "stream",
     "text": [
      "Breadth-first\n",
      "path from a to a is a\n",
      "path from a to m is ['a', 'b', 'g', 'm']\n",
      "path from a to z is ['a', 'd', 'z']\n"
     ]
    }
   ],
   "source": [
    "print('Breadth-first')\n",
    "print('path from a to a is', breadthFirstSearch('a', 'a', successorsf))\n",
    "print('path from a to m is', breadthFirstSearch('a', 'm', successorsf))\n",
    "print('path from a to z is', breadthFirstSearch('a', 'z', successorsf))"
   ]
  },
  {
   "cell_type": "code",
   "execution_count": null,
   "metadata": {},
   "outputs": [],
   "source": []
  },
  {
   "cell_type": "code",
   "execution_count": 58,
   "metadata": {},
   "outputs": [
    {
     "name": "stdout",
     "output_type": "stream",
     "text": [
      "Depth-first\n",
      "path from a to a is a\n",
      "path from a to m is ['a', 'b', 'g', 'm']\n",
      "path from a to z is ['a', 'b', 'e', 'k', 'z']\n"
     ]
    }
   ],
   "source": [
    "print('Depth-first')\n",
    "print('path from a to a is', depthFirstSearch('a', 'a', successorsf))\n",
    "print('path from a to m is', depthFirstSearch('a', 'm', successorsf))\n",
    "print('path from a to z is', depthFirstSearch('a', 'z', successorsf))"
   ]
  },
  {
   "cell_type": "markdown",
   "metadata": {},
   "source": [
    "Let's try a navigation problem around a grid of size 10 x 10."
   ]
  },
  {
   "cell_type": "code",
   "execution_count": 59,
   "metadata": {},
   "outputs": [],
   "source": [
    "def gridSuccessors(state):\n",
    "    row, col = state\n",
    "    # succs will be list of tuples () rather than list of lists [] because state must\n",
    "    # be an immutable type to serve as a key in dictionary of expanded nodes\n",
    "    succs = []\n",
    "    for r in [-1, 0, 1]:\n",
    "        for c in [-1, 0, 1]:\n",
    "            newr = row + r\n",
    "            newc = col + c\n",
    "            if 0 <= newr <= 9 and 0 <= newc <= 9:  # cool, huh?\n",
    "                succs.append( (newr, newc) )\n",
    "    return succs"
   ]
  },
  {
   "cell_type": "code",
   "execution_count": 60,
   "metadata": {},
   "outputs": [
    {
     "data": {
      "text/plain": [
       "[(2, 3), (2, 4), (2, 5), (3, 3), (3, 4), (3, 5), (4, 3), (4, 4), (4, 5)]"
      ]
     },
     "execution_count": 60,
     "metadata": {},
     "output_type": "execute_result"
    }
   ],
   "source": [
    "gridSuccessors([3,4])"
   ]
  },
  {
   "cell_type": "code",
   "execution_count": 61,
   "metadata": {},
   "outputs": [
    {
     "data": {
      "text/plain": [
       "[(2, 8), (2, 9), (3, 8), (3, 9), (4, 8), (4, 9)]"
      ]
     },
     "execution_count": 61,
     "metadata": {},
     "output_type": "execute_result"
    }
   ],
   "source": [
    "gridSuccessors([3,9])"
   ]
  },
  {
   "cell_type": "code",
   "execution_count": 62,
   "metadata": {},
   "outputs": [
    {
     "data": {
      "text/plain": [
       "[(0, 0), (0, 1), (1, 0), (1, 1)]"
      ]
     },
     "execution_count": 62,
     "metadata": {},
     "output_type": "execute_result"
    }
   ],
   "source": [
    "gridSuccessors([0,0])"
   ]
  },
  {
   "cell_type": "code",
   "execution_count": 63,
   "metadata": {},
   "outputs": [
    {
     "name": "stdout",
     "output_type": "stream",
     "text": [
      "Breadth-first\n",
      "path from (0, 0) to (9, 9) is [(0, 0), (1, 1), (2, 2), (3, 3), (4, 4), (5, 5), (6, 6), (7, 7), (8, 8), (9, 9)]\n"
     ]
    }
   ],
   "source": [
    "print('Breadth-first')\n",
    "print('path from (0, 0) to (9, 9) is', breadthFirstSearch((0, 0), (9, 9), gridSuccessors))"
   ]
  },
  {
   "cell_type": "code",
   "execution_count": 64,
   "metadata": {},
   "outputs": [
    {
     "name": "stdout",
     "output_type": "stream",
     "text": [
      "Depth-first\n",
      "path from (0, 0) to (9, 9) is [(0, 0), (0, 1), (0, 2), (0, 3), (0, 4), (0, 5), (0, 6), (0, 7), (0, 8), (1, 9), (2, 8), (2, 7), (2, 6), (2, 5), (2, 4), (2, 3), (2, 2), (2, 1), (3, 0), (4, 0), (5, 0), (6, 0), (7, 0), (8, 0), (9, 1), (8, 2), (7, 2), (6, 2), (5, 2), (4, 3), (4, 4), (4, 5), (4, 6), (4, 7), (4, 8), (5, 9), (6, 8), (6, 7), (6, 6), (6, 5), (7, 4), (8, 4), (9, 5), (8, 6), (8, 7), (8, 8), (9, 9)]\n"
     ]
    }
   ],
   "source": [
    "print('Depth-first')\n",
    "print('path from (0, 0) to (9, 9) is', depthFirstSearch((0, 0), (9, 9), gridSuccessors))"
   ]
  },
  {
   "cell_type": "markdown",
   "metadata": {},
   "source": [
    "Oooo, what kind of path is that?  Let's plot it."
   ]
  },
  {
   "cell_type": "code",
   "execution_count": 65,
   "metadata": {},
   "outputs": [],
   "source": [
    "import matplotlib.pyplot as plt\n",
    "%matplotlib inline"
   ]
  },
  {
   "cell_type": "code",
   "execution_count": 66,
   "metadata": {},
   "outputs": [
    {
     "data": {
      "text/plain": [
       "[(0, 0),\n",
       " (0, 1),\n",
       " (0, 2),\n",
       " (0, 3),\n",
       " (0, 4),\n",
       " (0, 5),\n",
       " (0, 6),\n",
       " (0, 7),\n",
       " (0, 8),\n",
       " (1, 9),\n",
       " (2, 8),\n",
       " (2, 7),\n",
       " (2, 6),\n",
       " (2, 5),\n",
       " (2, 4),\n",
       " (2, 3),\n",
       " (2, 2),\n",
       " (2, 1),\n",
       " (3, 0),\n",
       " (4, 0),\n",
       " (5, 0),\n",
       " (6, 0),\n",
       " (7, 0),\n",
       " (8, 0),\n",
       " (9, 1),\n",
       " (8, 2),\n",
       " (7, 2),\n",
       " (6, 2),\n",
       " (5, 2),\n",
       " (4, 3),\n",
       " (4, 4),\n",
       " (4, 5),\n",
       " (4, 6),\n",
       " (4, 7),\n",
       " (4, 8),\n",
       " (5, 9),\n",
       " (6, 8),\n",
       " (6, 7),\n",
       " (6, 6),\n",
       " (6, 5),\n",
       " (7, 4),\n",
       " (8, 4),\n",
       " (9, 5),\n",
       " (8, 6),\n",
       " (8, 7),\n",
       " (8, 8),\n",
       " (9, 9)]"
      ]
     },
     "execution_count": 66,
     "metadata": {},
     "output_type": "execute_result"
    }
   ],
   "source": [
    "path = depthFirstSearch((0, 0), (9, 9), gridSuccessors)\n",
    "path"
   ]
  },
  {
   "cell_type": "code",
   "execution_count": 67,
   "metadata": {
    "scrolled": true
   },
   "outputs": [
    {
     "data": {
      "image/png": "[encoded data removed]",
      "text/plain": [
       "<Figure size 432x288 with 1 Axes>"
      ]
     },
     "metadata": {},
     "output_type": "display_data"
    }
   ],
   "source": [
    "rows = [location[0] for location in path]\n",
    "cols = [location[1] for location in path]\n",
    "plt.plot(rows,cols,'o-');"
   ]
  },
  {
   "cell_type": "code",
   "execution_count": 68,
   "metadata": {},
   "outputs": [
    {
     "data": {
      "text/plain": [
       "[(0, 0),\n",
       " (1, 1),\n",
       " (2, 2),\n",
       " (3, 3),\n",
       " (4, 4),\n",
       " (5, 5),\n",
       " (6, 6),\n",
       " (7, 7),\n",
       " (8, 8),\n",
       " (9, 9)]"
      ]
     },
     "execution_count": 68,
     "metadata": {},
     "output_type": "execute_result"
    }
   ],
   "source": [
    "path = breadthFirstSearch((0, 0), (9, 9), gridSuccessors)\n",
    "path"
   ]
  },
  {
   "cell_type": "code",
   "execution_count": 69,
   "metadata": {},
   "outputs": [
    {
     "data": {
      "image/png": "[encoded data removed]",
      "text/plain": [
       "<Figure size 432x288 with 1 Axes>"
      ]
     },
     "metadata": {},
     "output_type": "display_data"
    }
   ],
   "source": [
    "rows = [location[0] for location in path]\n",
    "cols = [location[1] for location in path]\n",
    "plt.plot(rows,cols,'o-');"
   ]
  },
  {
   "cell_type": "code",
   "execution_count": 70,
   "metadata": {},
   "outputs": [
    {
     "data": {
      "text/plain": [
       "'Goal not found'"
      ]
     },
     "execution_count": 70,
     "metadata": {},
     "output_type": "execute_result"
    }
   ],
   "source": [
    "depthFirstSearch((0, 0), (9, 20), gridSuccessors)"
   ]
  },
  {
   "cell_type": "markdown",
   "metadata": {},
   "source": [
    "# Extra Credit\n",
    "\n",
    "For extra credit, use your functions to solve the Camels Puzzle, described at [Logic Puzzles](http://www.folj.com/puzzles/).\n",
    "The following code illustrates one possible state representation and shows results of a breadth-first and a dept-first search.  You must define a new successors function, called `camelSuccessorsf`. "
   ]
  },
  {
   "cell_type": "markdown",
   "metadata": {},
   "source": [
    "# Extra Credit Solution\n",
    "I approached the successors function by looking at the various ways the blank space could move. I found that there were four cases for it to move, and the successors to each state could be found by observing which of these cases were present. The cases are based on the following sequences.\n",
    "* If the sequence `('R', ' ')` is present, we can move R to the right.\n",
    "* If the sequence `(' ', 'L')` is present, we can move L to the left.\n",
    "* If the sequence `(' ', 'R', 'L')` is present, L can \"climb over\" R.\n",
    "* If the sequence `('R', 'L', ' ')` is present, R can \"climb over\" L.\n",
    "\n",
    "The successors function works by simply seeing if any of these states are present, and adding the new list to the successors list. The tricky parts are indexing all these different swaps and converting from tuple to list and back to tuple again. "
   ]
  },
  {
   "cell_type": "code",
   "execution_count": 108,
   "metadata": {},
   "outputs": [],
   "source": [
    "def camelSuccessorsf(camelState):\n",
    "    successors = []\n",
    "    index = camelState.index(' ')\n",
    "    if index - 1 >= 0 and camelState[index - 1] == 'R':\n",
    "        moveLeft = list(camelState)\n",
    "        moveLeft[index - 1], moveLeft[index] = moveLeft[index], moveLeft[index - 1]\n",
    "        successors.append(tuple(moveLeft))\n",
    "    if index + 1 < len(camelState) and camelState[index + 1] == 'L':\n",
    "        moveRight = list(camelState)\n",
    "        moveRight[index + 1], moveRight[index] = moveRight[index], moveRight[index + 1]\n",
    "        successors.append(tuple(moveRight))\n",
    "    if index + 2 < len(camelState) and camelState[index + 1] == 'R' and camelState[index + 2] == 'L':\n",
    "        stepLeft = list(camelState)\n",
    "        stepLeft[index], stepLeft[index + 2] = stepLeft[index + 2], stepLeft[index]\n",
    "        successors.append(tuple(stepLeft))\n",
    "    if index - 2 > 0 and camelState[index - 1] == \"L\" and camelState[index - 2] == 'R':\n",
    "        stepRight = list(camelState)\n",
    "        stepRight[index], stepRight[index - 2] = stepRight[index -2], stepRight[index]\n",
    "        successors.append(tuple(stepRight))\n",
    "    return successors"
   ]
  },
  {
   "cell_type": "code",
   "execution_count": 114,
   "metadata": {},
   "outputs": [],
   "source": [
    "camelStartState = ('R','R','R','R', ' ', 'L', 'L', 'L','L')"
   ]
  },
  {
   "cell_type": "code",
   "execution_count": 115,
   "metadata": {},
   "outputs": [],
   "source": [
    "camelGoalState=('L','L','L','L', ' ', 'R', 'R', 'R', 'R')"
   ]
  },
  {
   "cell_type": "code",
   "execution_count": 116,
   "metadata": {},
   "outputs": [
    {
     "data": {
      "text/plain": [
       "[('R', 'R', 'R', ' ', 'R', 'L', 'L', 'L', 'L'),\n",
       " ('R', 'R', 'R', 'R', 'L', ' ', 'L', 'L', 'L')]"
      ]
     },
     "execution_count": 116,
     "metadata": {},
     "output_type": "execute_result"
    }
   ],
   "source": [
    "camelSuccessorsf(camelStartState)"
   ]
  },
  {
   "cell_type": "code",
   "execution_count": 117,
   "metadata": {},
   "outputs": [
    {
     "name": "stdout",
     "output_type": "stream",
     "text": [
      "[('R', 'R', 'R', ' ', 'R', 'L', 'L', 'L', 'L'), ('R', 'R', 'R', 'R', 'L', ' ', 'L', 'L', 'L')]\n",
      "[('R', 'R', ' ', 'R', 'R', 'L', 'L', 'L', 'L'), ('R', 'R', 'R', 'L', 'R', ' ', 'L', 'L', 'L')]\n"
     ]
    },
    {
     "data": {
      "text/plain": [
       "[('R', ' ', 'R', 'R', 'R', 'L', 'L', 'L', 'L')]"
      ]
     },
     "execution_count": 117,
     "metadata": {},
     "output_type": "execute_result"
    }
   ],
   "source": [
    "children = camelSuccessorsf(camelStartState)\n",
    "print(children)\n",
    "grandChildren = camelSuccessorsf(children[0])\n",
    "print(grandChildren)\n",
    "camelSuccessorsf(grandChildren[0])"
   ]
  },
  {
   "cell_type": "code",
   "execution_count": 118,
   "metadata": {},
   "outputs": [
    {
     "name": "stdout",
     "output_type": "stream",
     "text": [
      "Breadth-first solution: ( 25 steps)\n",
      "('R', 'R', 'R', 'R', ' ', 'L', 'L', 'L', 'L')\n",
      "('R', 'R', 'R', 'R', 'L', ' ', 'L', 'L', 'L')\n",
      "('R', 'R', 'R', ' ', 'L', 'R', 'L', 'L', 'L')\n",
      "('R', 'R', ' ', 'R', 'L', 'R', 'L', 'L', 'L')\n",
      "('R', 'R', 'L', 'R', ' ', 'R', 'L', 'L', 'L')\n",
      "('R', 'R', 'L', 'R', 'L', 'R', ' ', 'L', 'L')\n",
      "('R', 'R', 'L', 'R', 'L', 'R', 'L', ' ', 'L')\n",
      "('R', 'R', 'L', 'R', 'L', ' ', 'L', 'R', 'L')\n",
      "('R', 'R', 'L', ' ', 'L', 'R', 'L', 'R', 'L')\n",
      "('R', ' ', 'L', 'R', 'L', 'R', 'L', 'R', 'L')\n",
      "(' ', 'R', 'L', 'R', 'L', 'R', 'L', 'R', 'L')\n",
      "('L', 'R', ' ', 'R', 'L', 'R', 'L', 'R', 'L')\n",
      "('L', 'R', 'L', 'R', ' ', 'R', 'L', 'R', 'L')\n",
      "('L', 'R', 'L', 'R', 'L', 'R', ' ', 'R', 'L')\n",
      "('L', 'R', 'L', 'R', 'L', 'R', 'L', 'R', ' ')\n",
      "('L', 'R', 'L', 'R', 'L', 'R', 'L', ' ', 'R')\n",
      "('L', 'R', 'L', 'R', 'L', ' ', 'L', 'R', 'R')\n",
      "('L', 'R', 'L', ' ', 'L', 'R', 'L', 'R', 'R')\n",
      "('L', ' ', 'L', 'R', 'L', 'R', 'L', 'R', 'R')\n",
      "('L', 'L', ' ', 'R', 'L', 'R', 'L', 'R', 'R')\n",
      "('L', 'L', 'L', 'R', ' ', 'R', 'L', 'R', 'R')\n",
      "('L', 'L', 'L', 'R', 'L', 'R', ' ', 'R', 'R')\n",
      "('L', 'L', 'L', 'R', 'L', ' ', 'R', 'R', 'R')\n",
      "('L', 'L', 'L', ' ', 'L', 'R', 'R', 'R', 'R')\n",
      "('L', 'L', 'L', 'L', ' ', 'R', 'R', 'R', 'R')\n",
      "Depth-first solution: ( 25 steps)\n",
      "('R', 'R', 'R', 'R', ' ', 'L', 'L', 'L', 'L')\n",
      "('R', 'R', 'R', 'R', 'L', ' ', 'L', 'L', 'L')\n",
      "('R', 'R', 'R', ' ', 'L', 'R', 'L', 'L', 'L')\n",
      "('R', 'R', ' ', 'R', 'L', 'R', 'L', 'L', 'L')\n",
      "('R', 'R', 'L', 'R', ' ', 'R', 'L', 'L', 'L')\n",
      "('R', 'R', 'L', 'R', 'L', 'R', ' ', 'L', 'L')\n",
      "('R', 'R', 'L', 'R', 'L', 'R', 'L', ' ', 'L')\n",
      "('R', 'R', 'L', 'R', 'L', ' ', 'L', 'R', 'L')\n",
      "('R', 'R', 'L', ' ', 'L', 'R', 'L', 'R', 'L')\n",
      "('R', ' ', 'L', 'R', 'L', 'R', 'L', 'R', 'L')\n",
      "(' ', 'R', 'L', 'R', 'L', 'R', 'L', 'R', 'L')\n",
      "('L', 'R', ' ', 'R', 'L', 'R', 'L', 'R', 'L')\n",
      "('L', 'R', 'L', 'R', ' ', 'R', 'L', 'R', 'L')\n",
      "('L', 'R', 'L', 'R', 'L', 'R', ' ', 'R', 'L')\n",
      "('L', 'R', 'L', 'R', 'L', 'R', 'L', 'R', ' ')\n",
      "('L', 'R', 'L', 'R', 'L', 'R', 'L', ' ', 'R')\n",
      "('L', 'R', 'L', 'R', 'L', ' ', 'L', 'R', 'R')\n",
      "('L', 'R', 'L', ' ', 'L', 'R', 'L', 'R', 'R')\n",
      "('L', ' ', 'L', 'R', 'L', 'R', 'L', 'R', 'R')\n",
      "('L', 'L', ' ', 'R', 'L', 'R', 'L', 'R', 'R')\n",
      "('L', 'L', 'L', 'R', ' ', 'R', 'L', 'R', 'R')\n",
      "('L', 'L', 'L', 'R', 'L', 'R', ' ', 'R', 'R')\n",
      "('L', 'L', 'L', 'R', 'L', ' ', 'R', 'R', 'R')\n",
      "('L', 'L', 'L', ' ', 'L', 'R', 'R', 'R', 'R')\n",
      "('L', 'L', 'L', 'L', ' ', 'R', 'R', 'R', 'R')\n"
     ]
    }
   ],
   "source": [
    "bfs = breadthFirstSearch(camelStartState, camelGoalState, camelSuccessorsf)\n",
    "print('Breadth-first solution: (', len(bfs), 'steps)')\n",
    "for s in bfs:\n",
    "    print(s)\n",
    "\n",
    "dfs = depthFirstSearch(camelStartState, camelGoalState, camelSuccessorsf)\n",
    "print('Depth-first solution: (', len(dfs), 'steps)')\n",
    "for s in dfs:\n",
    "    print(s)"
   ]
  },
  {
   "cell_type": "markdown",
   "metadata": {},
   "source": [
    "# Problems Encountered\n",
    "\n",
    "I struggled with some of the quirks of python like:\n",
    "* Complex list comprehensions like the one to populate `children`. I mostly figured out the syntax for this one before we went over it in lecture, except for the following issue. \n",
    "* Membership testing with a list of tuples. I was testing the whole list, not just specific element. This in turn led to the next issue.\n",
    "* My breadth first search would find the goal even though children were being added with the described flaw. Depth search would not always find the same path as in the examples though, because it had extra children that should have been eliminated. \n",
    "\n",
    "So a quirk of python membership testing led my algorithm to be slightly off. In lecture though we discussed this pitfall which saved me a headache!"
   ]
  },
  {
   "cell_type": "markdown",
   "metadata": {},
   "source": [
    "## Grading\n",
    "\n",
    "Your notebook will be run and graded automatically. Download [A1grader.tar](http://www.cs.colostate.edu/~anderson/cs440/notebooks/A1grader.tar) <font color=\"red\">(COMING SOON)</font> and extract A1grader.py from it. Run the code in the following cell to demonstrate an example grading session. You should see a perfect score of 80/100 if your functions are defined correctly. \n",
    "\n",
    "The remaining 20% will be based on your writing.  In markdown cells, explain what your functions are doing and summarize the algorithms.\n",
    "\n",
    "Add at least one markdown cell that describes problems you encountered in trying to solve this assignment."
   ]
  },
  {
   "cell_type": "markdown",
   "metadata": {},
   "source": [
    "## Check-in"
   ]
  },
  {
   "cell_type": "markdown",
   "metadata": {},
   "source": [
    "Do not include this section in your notebook.\n",
    "\n",
    "Name your notebook ```Lastname-A1.ipynb```.  So, for me it would be ```Anderson-A1.ipynb```.  Submit the file using the ```Assignment 1``` link on [Canvas](https://colostate.instructure.com/courses/55296).\n",
    "\n",
    "Grading will be based on \n",
    "\n",
    "  * correct behavior of the required functions, and\n",
    "  * readability of the notebook."
   ]
  },
  {
   "cell_type": "code",
   "execution_count": 119,
   "metadata": {},
   "outputs": [
    {
     "name": "stdout",
     "output_type": "stream",
     "text": [
      "\n",
      "======================= Code Execution =======================\n",
      "\n",
      "Extracting python code from notebook named 'Newell-A1.ipynb' and storing in notebookcode.py\n",
      "Removing all statements that are not function or class defs or import statements.\n",
      "Searching this graph:\n",
      " {'a': ['b'], 'b': ['c', 'd'], 'c': ['e'], 'd': ['f', 'i'], 'e': ['g', 'h', 'i']}\n",
      "\n",
      "Looking for path from a to b.\n",
      "  Calling breadthFirstSearch(a, b, successorsf)\n",
      "      and depthFirstSearch(a, b, successorsf)\n",
      "10/10 points. Your breadthFirstSearch found correct solution path of ['a', 'b']\n",
      "10/10 points. Your depthFirstSearch found correct solution path of ['a', 'b']\n",
      "\n",
      "Looking for path from a to i.\n",
      "  Calling breadthFirstSearch(a, i, successorsf)\n",
      "      and depthFirstSearch(a, i, successorsf)\n",
      "20/20 points. Your breadthFirstSearch found correct solution path of ['a', 'b', 'd', 'i']\n",
      "20/20 points. Your depthFirstSearch found correct solution path of ['a', 'b', 'c', 'e', 'i']\n",
      "\n",
      "Looking for non-existant path from a to denver.\n",
      "  Calling breadthFirstSearch(a, denver, successorsf)\n",
      "      and depthFirstSearch(a, denver, successorsf)\n",
      "10/10 points. Your breadthFirstSearch found correct solution path of Goal not found\n",
      "10/10 points. Your depthFirstSearch found correct solution path of Goal not found\n",
      "\n",
      "cs440 Execution Grade is 80/80\n",
      "\n",
      "======================= Description of Code and Results =======================\n",
      "\n",
      "Up to 20 more points will be given based on the qualty of your descriptions of the method and the results.\n"
     ]
    },
    {
     "data": {
      "text/plain": [
       "<Figure size 432x288 with 0 Axes>"
      ]
     },
     "metadata": {},
     "output_type": "display_data"
    }
   ],
   "source": [
    "%run -i A1grader.py"
   ]
  },
  {
   "cell_type": "code",
   "execution_count": null,
   "metadata": {
    "collapsed": true
   },
   "outputs": [],
   "source": []
  }
 ],
 "metadata": {
  "anaconda-cloud": {},
  "kernelspec": {
   "display_name": "Python 3",
   "language": "python",
   "name": "python3"
  },
  "language_info": {
   "codemirror_mode": {
    "name": "ipython",
    "version": 3
   },
   "file_extension": ".py",
   "mimetype": "text/x-python",
   "name": "python",
   "nbconvert_exporter": "python",
   "pygments_lexer": "ipython3",
   "version": "3.6.5"
  }
 },
 "nbformat": 4,
 "nbformat_minor": 1
}
