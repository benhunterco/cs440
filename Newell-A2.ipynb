{
 "cells": [
  {
   "cell_type": "markdown",
   "metadata": {},
   "source": [
    "# Assignment 2: Iterative-Deepening Search"
   ]
  },
  {
   "cell_type": "markdown",
   "metadata": {},
   "source": [
    "Ben Newell"
   ]
  },
  {
   "cell_type": "markdown",
   "metadata": {},
   "source": [
    "## Overview"
   ]
  },
  {
   "cell_type": "markdown",
   "metadata": {},
   "source": [
    "Implement the iterative-deepening search algorithm as discussed in our Week 2 lecture notes and as shown in figures 3.17 and 3.18 in our text book. Apply it to the 8-puzzle and a second puzzle of your choice. "
   ]
  },
  {
   "cell_type": "markdown",
   "metadata": {},
   "source": [
    "## Required Code"
   ]
  },
  {
   "cell_type": "markdown",
   "metadata": {},
   "source": [
    "In this jupyter notebook, implement the following functions:\n",
    "\n",
    "  * `iterativeDeepeningSearch(startState, goalState, actionsF, takeActionF, maxDepth)`\n",
    "  * `depthLimitedSearch(startState, goalState, actionsF, takeActionF, depthLimit)`\n",
    "  \n",
    "`depthLimitedSearch` is called by `iterativeDeepeningSearch` with `depthLimit`s of $0, 1, \\ldots, $ `maxDepth`. Both must return either the solution path as a list of states, or the strings `cutoff` or `failure`.  `failure` signifies that all states were searched and the goal was not found. \n",
    "\n",
    "Each receives the arguments\n",
    "\n",
    "  * the starting state, \n",
    "  * the goal state,\n",
    "  * a function `actionsF` that is given a state and returns a list of valid actions from that state,\n",
    "  * a function `takeActionF` that is given a state and an action and returns the new state that results from applying the action to the state,\n",
    "  * either a `depthLimit` for `depthLimitedSearch`, or `maxDepth` for `iterativeDeepeningSearch`."
   ]
  },
  {
   "cell_type": "markdown",
   "metadata": {},
   "source": [
    "Use your solution to solve the 8-puzzle.\n",
    "Implement the state of the puzzle as a list of integers. 0 represents the empty position. \n",
    "\n",
    "Required functions for the 8-puzzle are the following.\n",
    "\n",
    "  * `findBlank_8p(state)`: return the row and column index for the location of the blank (the 0 value).\n",
    "  * `actionsF_8p(state)`: returns a list of up to four valid actions that can be applied in `state`. Return them in the order `left`, `right`, `up`, `down`, though only if each one is a valid action.\n",
    "  * `takeActionF_8p(state, action)`: return the state that results from applying `action` in `state`.\n",
    "  * `printPath_8p(startState, goalState, path)`: print a solution path in a readable form.  You choose the format."
   ]
  },
  {
   "cell_type": "markdown",
   "metadata": {},
   "source": [
    "<font color='red'>Also</font>, implement a second search problem of your choice.  Apply your `iterativeDeepeningSearch` function to it."
   ]
  },
  {
   "cell_type": "markdown",
   "metadata": {},
   "source": [
    "Insert your function definitions in this notebook."
   ]
  },
  {
   "cell_type": "markdown",
   "metadata": {},
   "source": [
    "Here are some example results."
   ]
  },
  {
   "cell_type": "markdown",
   "metadata": {},
   "source": [
    "## Funcitons"
   ]
  },
  {
   "cell_type": "code",
   "execution_count": 184,
   "metadata": {},
   "outputs": [],
   "source": [
    "def findBlank_8p(state):\n",
    "    # find index of 0\n",
    "    index = state.index(0)\n",
    "    #return modulo and python op // for row and column\n",
    "    return index // 3, index % 3"
   ]
  },
  {
   "cell_type": "code",
   "execution_count": 185,
   "metadata": {},
   "outputs": [],
   "source": [
    "def printState_8p(state):\n",
    "    state = state.copy()\n",
    "    state[state.index(0)] = \"-\"\n",
    "    #make each line as its own list\n",
    "    l1,l2,l3 = state[:3], state[3:6], state[6:]\n",
    "    #print theses lists seperated by a new line\n",
    "    print(*[l1,l2,l3], sep = \"\\n\")\n",
    "    return\n"
   ]
  },
  {
   "cell_type": "code",
   "execution_count": 186,
   "metadata": {},
   "outputs": [],
   "source": [
    "def actionsF_8p(state):\n",
    "    i = state.index(0)\n",
    "    if i % 3 > 0:\n",
    "        yield \"left\"\n",
    "    if i % 3 < 2:\n",
    "        yield \"right\"\n",
    "    if i // 3 > 0:\n",
    "        yield \"up\"\n",
    "    if i // 3 < 2:\n",
    "        yield \"down\""
   ]
  },
  {
   "cell_type": "code",
   "execution_count": 187,
   "metadata": {},
   "outputs": [],
   "source": [
    "def takeActionF_8p(state, action):\n",
    "    #this does not check if action is allowed\n",
    "    state = state.copy()\n",
    "    i = state.index(0)\n",
    "    if action == \"right\":\n",
    "        state[i], state[i+1] = state[i+1], state[i]\n",
    "    elif action == \"left\":\n",
    "        state[i], state[i-1] = state[i-1], state[i]\n",
    "    elif action == \"up\":\n",
    "        state[i], state[i-3] = state[i-3], state[i]\n",
    "    elif action == \"down\":\n",
    "        state[i], state[i+3] = state[i+3], state[i]\n",
    "    return state\n"
   ]
  },
  {
   "cell_type": "code",
   "execution_count": 188,
   "metadata": {},
   "outputs": [],
   "source": [
    "def depthLimitedSearch(state, goalState, actionsF, takeActionF, depthLimit):\n",
    "    if state == goalState:\n",
    "        return []\n",
    "    if depthLimit == 0:\n",
    "        return \"cutoff\"\n",
    "    cutoffoccurred = False\n",
    "    for action in actionsF(state):\n",
    "        childState = takeActionF(state, action)\n",
    "        result = depthLimitedSearch(childState, goalState, actionsF, takeActionF, depthLimit - 1)\n",
    "        if result == \"cutoff\":\n",
    "            cutoffoccurred = True\n",
    "        elif result != \"failure\":\n",
    "            result.insert(0, childState)\n",
    "            return result\n",
    "    if cutoffoccurred:\n",
    "        return \"cutoff\"\n",
    "    else:\n",
    "        return \"failure\"\n"
   ]
  },
  {
   "cell_type": "code",
   "execution_count": 189,
   "metadata": {},
   "outputs": [],
   "source": [
    "def iterativeDeepeningSearch(startState, goalState, actionsF, takeActionF, maxDepth):\n",
    "    for depth in range(0, maxDepth):\n",
    "        result = depthLimitedSearch(startState, goalState, actionsF, takeActionF, depth)\n",
    "        if result == \"failure\":\n",
    "            return \"failure\"\n",
    "        if result != \"cutoff\":\n",
    "            result.insert(0, startState)\n",
    "            return result\n",
    "    return \"cutoff\""
   ]
  },
  {
   "cell_type": "code",
   "execution_count": 190,
   "metadata": {},
   "outputs": [],
   "source": [
    "def printPath_8p(startState, goalState, path):\n",
    "    pass"
   ]
  },
  {
   "cell_type": "code",
   "execution_count": 191,
   "metadata": {},
   "outputs": [],
   "source": [
    "startState = [1, 0, 3, 4, 2, 5, 6, 7, 8]"
   ]
  },
  {
   "cell_type": "code",
   "execution_count": 192,
   "metadata": {},
   "outputs": [
    {
     "name": "stdout",
     "output_type": "stream",
     "text": [
      "[1, '-', 3]\n",
      "[4, 2, 5]\n",
      "[6, 7, 8]\n"
     ]
    }
   ],
   "source": [
    "printState_8p(startState)  # not a required function for this assignment, but it helps when implementing printPath_8p"
   ]
  },
  {
   "cell_type": "code",
   "execution_count": 193,
   "metadata": {},
   "outputs": [
    {
     "name": "stdout",
     "output_type": "stream",
     "text": [
      "All tests passed for findBlank_8p\n"
     ]
    }
   ],
   "source": [
    "assert(findBlank_8p(startState) == (0,1))\n",
    "assert(findBlank_8p([1,2,3,0,5,6,7,8,4]) == (1,0))\n",
    "assert(findBlank_8p([1,2,3,8,5,6,7,4,0]) == (2,2))\n",
    "assert(findBlank_8p([1,2,3,8,0,6,7,4,5]) == (1,1))\n",
    "print(\"All tests passed for findBlank_8p\")"
   ]
  },
  {
   "cell_type": "code",
   "execution_count": 194,
   "metadata": {},
   "outputs": [
    {
     "name": "stdout",
     "output_type": "stream",
     "text": [
      "left\n",
      "right\n",
      "down\n"
     ]
    }
   ],
   "source": [
    "for action in actionsF_8p(startState):\n",
    "    print(action)"
   ]
  },
  {
   "cell_type": "code",
   "execution_count": 195,
   "metadata": {},
   "outputs": [],
   "source": [
    "actionList = list(actionsF_8p(startState))\n",
    "assert(actionList == ['left', 'right', 'down'])\n",
    "bottomRight, bottomLeft = [1,2,3,8,5,6,7,4,0], [1,2,3,8,5,6,0,4,7]\n",
    "topRight, topLeft = [1,2,0,8,5,6,7,4,1],[0,2,3,8,5,6,7,4,1]\n",
    "center = [1,2,3,4,0,5,6,7,8]\n",
    "actionList = list(actionsF_8p(bottomRight))\n",
    "assert(actionList == ['left', 'up'])\n",
    "actionList = list(actionsF_8p(bottomLeft))\n",
    "assert(actionList == ['right', 'up'])\n",
    "actionList = list(actionsF_8p(topRight))\n",
    "assert(actionList == ['left', 'down'])\n",
    "actionList = list(actionsF_8p(topLeft))\n",
    "assert(actionList == ['right', 'down'])\n",
    "actionList = list(actionsF_8p(center))\n",
    "assert(actionList == ['left', 'right', 'up', 'down'])"
   ]
  },
  {
   "cell_type": "code",
   "execution_count": 196,
   "metadata": {},
   "outputs": [
    {
     "data": {
      "text/plain": [
       "[1, 2, 3, 4, 0, 5, 6, 7, 8]"
      ]
     },
     "execution_count": 196,
     "metadata": {},
     "output_type": "execute_result"
    }
   ],
   "source": [
    "takeActionF_8p(startState, 'down')"
   ]
  },
  {
   "cell_type": "code",
   "execution_count": 197,
   "metadata": {},
   "outputs": [
    {
     "name": "stdout",
     "output_type": "stream",
     "text": [
      "[1, '-', 3]\n",
      "[4, 2, 5]\n",
      "[6, 7, 8]\n",
      "Moves down to\n",
      "[1, 2, 3]\n",
      "[4, '-', 5]\n",
      "[6, 7, 8]\n"
     ]
    }
   ],
   "source": [
    "printState_8p(startState)\n",
    "print(\"Moves down to\")\n",
    "printState_8p(takeActionF_8p(startState, 'down'))"
   ]
  },
  {
   "cell_type": "code",
   "execution_count": 198,
   "metadata": {},
   "outputs": [],
   "source": [
    "goalState = takeActionF_8p(startState, 'down')"
   ]
  },
  {
   "cell_type": "code",
   "execution_count": 199,
   "metadata": {},
   "outputs": [],
   "source": [
    "newState = takeActionF_8p(startState, 'down')"
   ]
  },
  {
   "cell_type": "code",
   "execution_count": 200,
   "metadata": {},
   "outputs": [
    {
     "data": {
      "text/plain": [
       "True"
      ]
     },
     "execution_count": 200,
     "metadata": {},
     "output_type": "execute_result"
    }
   ],
   "source": [
    "newState == goalState"
   ]
  },
  {
   "cell_type": "code",
   "execution_count": 201,
   "metadata": {},
   "outputs": [
    {
     "data": {
      "text/plain": [
       "[1, 0, 3, 4, 2, 5, 6, 7, 8]"
      ]
     },
     "execution_count": 201,
     "metadata": {},
     "output_type": "execute_result"
    }
   ],
   "source": [
    "startState"
   ]
  },
  {
   "cell_type": "code",
   "execution_count": 202,
   "metadata": {
    "scrolled": true
   },
   "outputs": [
    {
     "data": {
      "text/plain": [
       "[[0, 1, 3, 4, 2, 5, 6, 7, 8],\n",
       " [1, 0, 3, 4, 2, 5, 6, 7, 8],\n",
       " [1, 2, 3, 4, 0, 5, 6, 7, 8]]"
      ]
     },
     "execution_count": 202,
     "metadata": {},
     "output_type": "execute_result"
    }
   ],
   "source": [
    "path = depthLimitedSearch(startState, goalState, actionsF_8p, takeActionF_8p, 3)\n",
    "path"
   ]
  },
  {
   "cell_type": "markdown",
   "metadata": {},
   "source": [
    "Notice that `depthLimitedSearch` result is missing the start state.  This is inserted by `iterativeDeepeningSearch`.\n",
    "\n",
    "But, when we try `iterativeDeepeningSearch` to do the same search, it finds a shorter path!"
   ]
  },
  {
   "cell_type": "code",
   "execution_count": 203,
   "metadata": {
    "scrolled": true
   },
   "outputs": [
    {
     "data": {
      "text/plain": [
       "[[1, 0, 3, 4, 2, 5, 6, 7, 8], [1, 2, 3, 4, 0, 5, 6, 7, 8]]"
      ]
     },
     "execution_count": 203,
     "metadata": {},
     "output_type": "execute_result"
    }
   ],
   "source": [
    "path = iterativeDeepeningSearch(startState, goalState, actionsF_8p, takeActionF_8p, 3)\n",
    "path"
   ]
  },
  {
   "cell_type": "markdown",
   "metadata": {},
   "source": [
    "Also notice that the successor states are lists, not tuples.  This is okay, because the search functions for this assignment do not"
   ]
  },
  {
   "cell_type": "code",
   "execution_count": 204,
   "metadata": {},
   "outputs": [
    {
     "data": {
      "text/plain": [
       "'cutoff'"
      ]
     },
     "execution_count": 204,
     "metadata": {},
     "output_type": "execute_result"
    }
   ],
   "source": [
    "startState = [4, 7, 2, 1, 6, 5, 0, 3, 8]\n",
    "path = iterativeDeepeningSearch(startState, goalState, actionsF_8p, takeActionF_8p, 3)\n",
    "path"
   ]
  },
  {
   "cell_type": "code",
   "execution_count": 205,
   "metadata": {},
   "outputs": [
    {
     "data": {
      "text/plain": [
       "'cutoff'"
      ]
     },
     "execution_count": 205,
     "metadata": {},
     "output_type": "execute_result"
    }
   ],
   "source": [
    "startState = [4, 7, 2, 1, 6, 5, 0, 3, 8]\n",
    "path = iterativeDeepeningSearch(startState, goalState, actionsF_8p, takeActionF_8p, 5)\n",
    "path"
   ]
  },
  {
   "cell_type": "markdown",
   "metadata": {},
   "source": [
    "Humm...maybe we can't reach the goal state from this state.  We need a way to randomly generate a valid start state."
   ]
  },
  {
   "cell_type": "code",
   "execution_count": 206,
   "metadata": {},
   "outputs": [],
   "source": [
    "import random"
   ]
  },
  {
   "cell_type": "code",
   "execution_count": 207,
   "metadata": {},
   "outputs": [
    {
     "data": {
      "text/plain": [
       "'left'"
      ]
     },
     "execution_count": 207,
     "metadata": {},
     "output_type": "execute_result"
    }
   ],
   "source": [
    "random.choice(['left', 'right'])"
   ]
  },
  {
   "cell_type": "code",
   "execution_count": 208,
   "metadata": {},
   "outputs": [],
   "source": [
    "def randomStartState(goalState, actionsF, takeActionF, nSteps):\n",
    "    state = goalState\n",
    "    for i in range(nSteps):\n",
    "        l = list(actionsF(state))\n",
    "        state = takeActionF(state, random.choice(l))\n",
    "    return state"
   ]
  },
  {
   "cell_type": "code",
   "execution_count": 209,
   "metadata": {},
   "outputs": [
    {
     "data": {
      "text/plain": [
       "[1, 2, 3, 4, 0, 7, 6, 8, 5]"
      ]
     },
     "execution_count": 209,
     "metadata": {},
     "output_type": "execute_result"
    }
   ],
   "source": [
    "goalState = [1, 2, 3, 4, 0, 5, 6, 7, 8]\n",
    "randomStartState(goalState, actionsF_8p, takeActionF_8p, 10)"
   ]
  },
  {
   "cell_type": "code",
   "execution_count": 210,
   "metadata": {},
   "outputs": [
    {
     "data": {
      "text/plain": [
       "[4, 8, 2, 6, 1, 3, 7, 5, 0]"
      ]
     },
     "execution_count": 210,
     "metadata": {},
     "output_type": "execute_result"
    }
   ],
   "source": [
    "startState = randomStartState(goalState, actionsF_8p, takeActionF_8p, 50)\n",
    "startState"
   ]
  },
  {
   "cell_type": "code",
   "execution_count": 211,
   "metadata": {},
   "outputs": [
    {
     "data": {
      "text/plain": [
       "[[4, 8, 2, 6, 1, 3, 7, 5, 0],\n",
       " [4, 8, 2, 6, 1, 3, 7, 0, 5],\n",
       " [4, 8, 2, 6, 1, 3, 0, 7, 5],\n",
       " [4, 8, 2, 0, 1, 3, 6, 7, 5],\n",
       " [4, 8, 2, 1, 0, 3, 6, 7, 5],\n",
       " [4, 0, 2, 1, 8, 3, 6, 7, 5],\n",
       " [0, 4, 2, 1, 8, 3, 6, 7, 5],\n",
       " [1, 4, 2, 0, 8, 3, 6, 7, 5],\n",
       " [1, 4, 2, 6, 8, 3, 0, 7, 5],\n",
       " [1, 4, 2, 6, 8, 3, 7, 0, 5],\n",
       " [1, 4, 2, 6, 0, 3, 7, 8, 5],\n",
       " [1, 0, 2, 6, 4, 3, 7, 8, 5],\n",
       " [1, 2, 0, 6, 4, 3, 7, 8, 5],\n",
       " [1, 2, 3, 6, 4, 0, 7, 8, 5],\n",
       " [1, 2, 3, 6, 4, 5, 7, 8, 0],\n",
       " [1, 2, 3, 6, 4, 5, 7, 0, 8],\n",
       " [1, 2, 3, 6, 4, 5, 0, 7, 8],\n",
       " [1, 2, 3, 0, 4, 5, 6, 7, 8],\n",
       " [1, 2, 3, 4, 0, 5, 6, 7, 8]]"
      ]
     },
     "execution_count": 211,
     "metadata": {},
     "output_type": "execute_result"
    }
   ],
   "source": [
    "path = iterativeDeepeningSearch(startState, goalState, actionsF_8p, takeActionF_8p, 20)\n",
    "path"
   ]
  },
  {
   "cell_type": "markdown",
   "metadata": {},
   "source": [
    "Let's print out the state sequence in a readable form."
   ]
  },
  {
   "cell_type": "code",
   "execution_count": 212,
   "metadata": {},
   "outputs": [
    {
     "name": "stdout",
     "output_type": "stream",
     "text": [
      "[4, 8, 2]\n",
      "[6, 1, 3]\n",
      "[7, 5, '-']\n",
      "\n",
      "[4, 8, 2]\n",
      "[6, 1, 3]\n",
      "[7, '-', 5]\n",
      "\n",
      "[4, 8, 2]\n",
      "[6, 1, 3]\n",
      "['-', 7, 5]\n",
      "\n",
      "[4, 8, 2]\n",
      "['-', 1, 3]\n",
      "[6, 7, 5]\n",
      "\n",
      "[4, 8, 2]\n",
      "[1, '-', 3]\n",
      "[6, 7, 5]\n",
      "\n",
      "[4, '-', 2]\n",
      "[1, 8, 3]\n",
      "[6, 7, 5]\n",
      "\n",
      "['-', 4, 2]\n",
      "[1, 8, 3]\n",
      "[6, 7, 5]\n",
      "\n",
      "[1, 4, 2]\n",
      "['-', 8, 3]\n",
      "[6, 7, 5]\n",
      "\n",
      "[1, 4, 2]\n",
      "[6, 8, 3]\n",
      "['-', 7, 5]\n",
      "\n",
      "[1, 4, 2]\n",
      "[6, 8, 3]\n",
      "[7, '-', 5]\n",
      "\n",
      "[1, 4, 2]\n",
      "[6, '-', 3]\n",
      "[7, 8, 5]\n",
      "\n",
      "[1, '-', 2]\n",
      "[6, 4, 3]\n",
      "[7, 8, 5]\n",
      "\n",
      "[1, 2, '-']\n",
      "[6, 4, 3]\n",
      "[7, 8, 5]\n",
      "\n",
      "[1, 2, 3]\n",
      "[6, 4, '-']\n",
      "[7, 8, 5]\n",
      "\n",
      "[1, 2, 3]\n",
      "[6, 4, 5]\n",
      "[7, 8, '-']\n",
      "\n",
      "[1, 2, 3]\n",
      "[6, 4, 5]\n",
      "[7, '-', 8]\n",
      "\n",
      "[1, 2, 3]\n",
      "[6, 4, 5]\n",
      "['-', 7, 8]\n",
      "\n",
      "[1, 2, 3]\n",
      "['-', 4, 5]\n",
      "[6, 7, 8]\n",
      "\n",
      "[1, 2, 3]\n",
      "[4, '-', 5]\n",
      "[6, 7, 8]\n",
      "\n"
     ]
    }
   ],
   "source": [
    "for p in path:\n",
    "    printState_8p(p)\n",
    "    print()"
   ]
  },
  {
   "cell_type": "markdown",
   "metadata": {},
   "source": [
    "Here is one way to format the search problem and solution in a readable form."
   ]
  },
  {
   "cell_type": "code",
   "execution_count": 213,
   "metadata": {},
   "outputs": [],
   "source": [
    "printPath_8p(startState, goalState, path)"
   ]
  },
  {
   "cell_type": "markdown",
   "metadata": {},
   "source": [
    "Download [A2grader.tar](A2grader.tar) and extract A2grader.py from it."
   ]
  },
  {
   "cell_type": "code",
   "execution_count": 214,
   "metadata": {
    "scrolled": true
   },
   "outputs": [
    {
     "name": "stdout",
     "output_type": "stream",
     "text": [
      "\n",
      "======================= Code Execution =======================\n",
      "\n",
      "Extracting python code from notebook named 'Newell-A2.ipynb' and storing in notebookcode.py\n",
      "Removing all statements that are not function or class defs or import statements.\n",
      "\n",
      "Searching this graph:\n",
      " {'a': ['b', 'z', 'd'], 'b': ['a'], 'e': ['z'], 'd': ['y'], 'y': ['z']}\n",
      "\n",
      "Looking for path from a to y with max depth of 1.\n",
      " 5/ 5 points. Your search correctly returned cutoff\n",
      "\n",
      "Looking for path from a to z with max depth of 5.\n",
      "10/10 points. Your search correctly returned ['a', 'z']\n",
      "\n",
      "Testing findBlank_8p([1, 2, 3, 4, 5, 6, 7, 0, 8])\n",
      " 5/ 5 points. Your findBlank_8p correctly returned 2 1\n",
      "\n",
      "Testing actionsF_8p([1, 2, 3, 4, 5, 6, 7, 0, 8])\n",
      " 0/10 points. Your actionsF_8p should have returned ['left', 'right', 'up'] but you returned <generator object actionsF_8p at 0x7fd0fc130830>\n",
      "\n",
      "Testing takeActionF_8p([1, 2, 3, 4, 5, 6, 7, 0, 8],up)\n",
      "10/10 points. Your takeActionsF_8p correctly returned [1, 2, 3, 4, 0, 6, 7, 5, 8]\n",
      "\n",
      "Testing iterativeDeepeningSearch([1, 2, 3, 4, 5, 6, 7, 0, 8],[0, 2, 3, 1, 4,  6, 7, 5, 8], actionsF_8p, takeActionF_8p, 5)\n",
      "20/20 points. Your search correctly returned [[1, 2, 3, 4, 5, 6, 7, 0, 8], [1, 2, 3, 4, 0, 6, 7, 5, 8], [1, 2, 3, 0, 4, 6, 7, 5, 8], [0, 2, 3, 1, 4, 6, 7, 5, 8]]\n",
      "\n",
      "Testing iterativeDeepeningSearch([5, 2, 8, 0, 1, 4, 3, 7, 6], [0, 2, 3, 1, 4,  6, 7, 5, 8], actionsF_8p, takeActionF_8p, 10)\n",
      "20/20 points. Your search correctly returned cutoff\n",
      "\n",
      "cs440 Grade is 70/80\n",
      "\n",
      "Up to 20 more points will be given based on the quality of your descriptions of the method and the results.\n"
     ]
    }
   ],
   "source": [
    "%run -i A2grader.py"
   ]
  },
  {
   "cell_type": "markdown",
   "metadata": {},
   "source": [
    "## Extra Credit\n",
    "\n",
    "For extra credit, apply your solution to the grid example in Assignment 1 with the addition of a horizontal and vertical barrier at least three positions long.  Demonstrate the solutions found in four different pairs of start and goal states."
   ]
  }
 ],
 "metadata": {
  "anaconda-cloud": {},
  "kernelspec": {
   "display_name": "Python 3",
   "language": "python",
   "name": "python3"
  },
  "language_info": {
   "codemirror_mode": {
    "name": "ipython",
    "version": 3
   },
   "file_extension": ".py",
   "mimetype": "text/x-python",
   "name": "python",
   "nbconvert_exporter": "python",
   "pygments_lexer": "ipython3",
   "version": "3.6.5"
  }
 },
 "nbformat": 4,
 "nbformat_minor": 1
}
