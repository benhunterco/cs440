{
 "cells": [
  {
   "cell_type": "markdown",
   "metadata": {},
   "source": [
    "# Assignment 2: Iterative-Deepening Search"
   ]
  },
  {
   "cell_type": "markdown",
   "metadata": {},
   "source": [
    "Ben Newell"
   ]
  },
  {
   "cell_type": "markdown",
   "metadata": {},
   "source": [
    "## Overview"
   ]
  },
  {
   "cell_type": "markdown",
   "metadata": {},
   "source": [
    "This project gives an implemintation of the iterative deepening function and depth limited search. These strategies  are applied to the 8p, 15p and simple maze problem. \n",
    "\n",
    "The 8 puzzle problem was discussed in class. 8 numbered pieces are shuffled across a board with only one free space to manipulate. By moving this free space in a series of steps, a goal state (usually having the numbers in order) can be reached. We represent it with a three by three grid, implemented as a list, where the 0 represents the blank space. The blank piece is then swapped with its neighbors to represent sliding across the board.  \n",
    "\n",
    "The maze puzzle here is fairly simple. The goal is to find the path from one state to the other while navigating a grid with obstacles in the way. The problem space is a ten by ten grid where \"-\" represents a open space, \"x\" represents a blocked space, and \"O\" represents the current location of the maze solver. The \"O\" can only move left, right, up, or down.  The path is found by finding a path from the \"O\" in startState to the \"O\" goalState. When printed by `printMazePath` the path is designated by \"~\". \n",
    "\n",
    "Note: I realized at the end of the assignment the extra credit is mostly the same as the maze problem I came up with here. I had written the entire maze problem by the time I read the extra credit, so I'll treat that as extra credit and provide an implimentation for the 15 puzzle as well. The 15 puzzle is the same as the 8 puzzle, just with extra complexity. Instead of numbers 1 through 8, 1 through 15 are present on a four by four grid. "
   ]
  },
  {
   "cell_type": "markdown",
   "metadata": {},
   "source": [
    "# Functions and Explanations"
   ]
  },
  {
   "cell_type": "markdown",
   "metadata": {},
   "source": [
    "## Search Functions"
   ]
  },
  {
   "cell_type": "code",
   "execution_count": 1,
   "metadata": {},
   "outputs": [],
   "source": [
    "def depthLimitedSearch(state, goalState, actionsF, takeActionF, depthLimit):\n",
    "    if state == goalState:\n",
    "        return []\n",
    "    if depthLimit == 0:\n",
    "        return \"cutoff\"\n",
    "    cutoffoccurred = False\n",
    "    for action in actionsF(state):\n",
    "        childState = takeActionF(state, action)\n",
    "        result = depthLimitedSearch(childState, goalState, actionsF, takeActionF, depthLimit - 1)\n",
    "        if result == \"cutoff\":\n",
    "            cutoffoccurred = True\n",
    "        elif result != \"failure\":\n",
    "            result.insert(0, childState)\n",
    "            return result\n",
    "    if cutoffoccurred:\n",
    "        return \"cutoff\"\n",
    "    else:\n",
    "        return \"failure\"\n"
   ]
  },
  {
   "cell_type": "markdown",
   "metadata": {},
   "source": [
    "`depthLimitedSearch` is a modification of depth FirstSearch that limits the maximum depth into the graph that the search can go. In this implementation we use a recursive strategy. `state`, `goalState`, `actionsF`, `takeActionF` and `depthLimit` are all passed into the function at each step of the recursion. First, it checks some base cases, that either we have found the goalState or that depthLimit has been reached. In this case we return [] or \"cutoff\" respectively. Otherwise, we set `cutoff` to false, indicating that another recursion can occur. For each action possible at this state, we call depthLimitedSearch with depthLimit-1 in order to continue the recursion. Then depending on the results of this call, we can either return cutoff, failure or the result path. "
   ]
  },
  {
   "cell_type": "code",
   "execution_count": 2,
   "metadata": {},
   "outputs": [],
   "source": [
    "def iterativeDeepeningSearch(startState, goalState, actionsF, takeActionF, maxDepth):\n",
    "    for depth in range(0, maxDepth):\n",
    "        result = depthLimitedSearch(startState, goalState, actionsF, takeActionF, depth)\n",
    "        if result == \"failure\":\n",
    "            return \"failure\"\n",
    "        if result != \"cutoff\":\n",
    "            result.insert(0, startState)\n",
    "            return result\n",
    "    return \"cutoff\""
   ]
  },
  {
   "cell_type": "markdown",
   "metadata": {},
   "source": [
    "`iterativeDeepeningSearch` is simple, it calls depthLimitedSearch at increasing depths until it reaches the max depth. If the result is a path, it prepends the startState to the path and returns it. It may also return \"cutoff\" indicating that the search did not find the goal, but unexplored nodes exist at further depth levels. Finally, a return of \"failure\" indicates that the all nodes have been searched and the result was not found. By searching in this manner, we can combine the low memory cost of depth first search with the other benefits of breadth first search. "
   ]
  },
  {
   "cell_type": "markdown",
   "metadata": {},
   "source": [
    "## 8 Puzzle Functions"
   ]
  },
  {
   "cell_type": "code",
   "execution_count": 3,
   "metadata": {},
   "outputs": [],
   "source": [
    "def findBlank_8p(state):\n",
    "    # find index of 0\n",
    "    index = state.index(0)\n",
    "    #return modulo and python op // for row and column\n",
    "    return index // 3, index % 3"
   ]
  },
  {
   "cell_type": "markdown",
   "metadata": {},
   "source": [
    "This function uses a strategy of indexing that most other functions in this project use. We can use integer division and modulo in python to treat the list as a grid. Index // x where x is the number of values in a row will return the row of index. This is because of the properties of integer devision. As an example, index 5 // 3 = 1, meaning it is in the second row. Similarly, % can be used to find the column of an index. 5 % 3 = 2, meaning it is in the third column. Using this strategy, we can return the row and the column of the index as if state was stored in an array."
   ]
  },
  {
   "cell_type": "code",
   "execution_count": 4,
   "metadata": {},
   "outputs": [],
   "source": [
    "def printState_8p(state):\n",
    "    state = state.copy()\n",
    "    state[state.index(0)] = \"-\"\n",
    "    #make each line as its own list\n",
    "    l1,l2,l3 = state[:3], state[3:6], state[6:]\n",
    "    #print theses lists seperated by a new line\n",
    "    for l in [l1,l2,l3]:\n",
    "        print(*l, sep = \" \")\n",
    "    return"
   ]
  },
  {
   "cell_type": "markdown",
   "metadata": {},
   "source": [
    "This function prints the state of an 8p in a readable fashion. 0 is replaced with \"-\" to represent the blank space. The list is broken up into three sub lists, each representing a row in the puzzle. Then we print each of these on a new line using some features of `print()` that allow the characters to appear without quotes and be seperated by a space. "
   ]
  },
  {
   "cell_type": "code",
   "execution_count": 5,
   "metadata": {},
   "outputs": [],
   "source": [
    "def actionsF_8p(state):\n",
    "    i = state.index(0)\n",
    "    if i % 3 > 0:\n",
    "        yield \"left\"\n",
    "    if i % 3 < 2:\n",
    "        yield \"right\"\n",
    "    if i // 3 > 0:\n",
    "        yield \"up\"\n",
    "    if i // 3 < 2:\n",
    "        yield \"down\""
   ]
  },
  {
   "cell_type": "markdown",
   "metadata": {},
   "source": [
    "`actionsF_8p` is critical for iterative deepening search to function. Here it is implemented as a generator, so that actions are not found until they are needed. We determine the possible actions using // and %. Essentially, if the blank space is not up against a wall, it can move in that given direction. We check if it is against a wall with % for the left and right sides and // for the top and bottom. As an example, say the blank space is in the bottom left corner with an index of 6. We know that it can only move up and to the right logically. The function represents this because 6 % 3 = 0, so it will not yield \"left\". Similarly, it will not yield \"down\" because 6 // 3 = 2. In this way, the actions of a blank space can be calculated. "
   ]
  },
  {
   "cell_type": "code",
   "execution_count": 6,
   "metadata": {},
   "outputs": [],
   "source": [
    "def takeActionF_8p(state, action):\n",
    "    #this does not check if action is allowed\n",
    "    state = state.copy()\n",
    "    i = state.index(0)\n",
    "    if action == \"right\":\n",
    "        state[i], state[i+1] = state[i+1], state[i]\n",
    "    elif action == \"left\":\n",
    "        state[i], state[i-1] = state[i-1], state[i]\n",
    "    elif action == \"up\":\n",
    "        state[i], state[i-3] = state[i-3], state[i]\n",
    "    elif action == \"down\":\n",
    "        state[i], state[i+3] = state[i+3], state[i]\n",
    "    return state\n"
   ]
  },
  {
   "cell_type": "markdown",
   "metadata": {},
   "source": [
    "Continuing on the list indexing system, `takeActionF_8p` takes the action on a state by swapping the blank in the direciton of the desired move. For going left and right, this is as simple as a +1 or a -1. In order to go up or down, the length of the row is subtracted or added. In this case the rows are length 3."
   ]
  },
  {
   "cell_type": "code",
   "execution_count": 7,
   "metadata": {},
   "outputs": [],
   "source": [
    "def printPath_8p(startState, goalState, path):\n",
    "    for state in path:\n",
    "        printState_8p(state)\n",
    "        print()\n",
    "    printState_8p(goalState)"
   ]
  },
  {
   "cell_type": "markdown",
   "metadata": {},
   "source": [
    "This simply prints out the solution path by printing out each state in `path` using `printState_8p`. The goal state is then added to the end. The solution, then, is represented by each successive step the search took to find the goal. Unfortunately, there is not a compact way of showing the solution like in the maze below, because the location of the numbers changes at each step along with the blank space. "
   ]
  },
  {
   "cell_type": "markdown",
   "metadata": {},
   "source": [
    "## 15 Puzzle Functions"
   ]
  },
  {
   "cell_type": "code",
   "execution_count": 8,
   "metadata": {},
   "outputs": [],
   "source": [
    "def printState_15p(state):\n",
    "    state = state.copy()\n",
    "    state[state.index(0)] = \"-\"\n",
    "    #make each line as its own list\n",
    "    l1,l2,l3,l4 = state[:4], state[4:8], state[8:12], state[12:]\n",
    "    #print theses lists seperated by a new line\n",
    "    for l in [l1, l2, l3, l4]:\n",
    "        print(*l, sep = \" \")\n",
    "    return"
   ]
  },
  {
   "cell_type": "markdown",
   "metadata": {},
   "source": [
    "This is implemented the same as the 8p, but instead we add the extra row of the 15p and adjust the indices to match. "
   ]
  },
  {
   "cell_type": "code",
   "execution_count": 9,
   "metadata": {},
   "outputs": [],
   "source": [
    "def actionsF_15p(state):\n",
    "    i = state.index(0)\n",
    "    if i % 4 > 0:\n",
    "        yield \"left\"\n",
    "    if i % 4 < 3:\n",
    "        yield \"right\"\n",
    "    if i // 4 > 0:\n",
    "        yield \"up\"\n",
    "    if i // 4 < 3:\n",
    "        yield \"down\""
   ]
  },
  {
   "cell_type": "markdown",
   "metadata": {},
   "source": [
    "This uses the same logic as the 8p as well. Except here we must check `i` against four because the puzzle has four rows and four columns."
   ]
  },
  {
   "cell_type": "code",
   "execution_count": 10,
   "metadata": {},
   "outputs": [],
   "source": [
    "def takeActionF_15p(state, action):\n",
    "    #this does not check if action is allowed\n",
    "    state = state.copy()\n",
    "    i = state.index(0)\n",
    "    if action == \"right\":\n",
    "        state[i], state[i+1] = state[i+1], state[i]\n",
    "    elif action == \"left\":\n",
    "        state[i], state[i-1] = state[i-1], state[i]\n",
    "    elif action == \"up\":\n",
    "        state[i], state[i-4] = state[i-4], state[i]\n",
    "    elif action == \"down\":\n",
    "        state[i], state[i+4] = state[i+4], state[i]\n",
    "    return state\n"
   ]
  },
  {
   "cell_type": "markdown",
   "metadata": {},
   "source": [
    "Once again the same, only we need to add or subtract four in order to go up or down a row in the 15p."
   ]
  },
  {
   "cell_type": "code",
   "execution_count": 11,
   "metadata": {},
   "outputs": [],
   "source": [
    "def printPath_15p(startState, goalState, path):\n",
    "    for state in path:\n",
    "        printState_15p(state)\n",
    "        print()\n",
    "    printState_15p(goalState)"
   ]
  },
  {
   "cell_type": "markdown",
   "metadata": {},
   "source": [
    "This is identical to the 8p, but calls the correct printState function."
   ]
  },
  {
   "cell_type": "markdown",
   "metadata": {},
   "source": [
    "## Maze Functions"
   ]
  },
  {
   "cell_type": "code",
   "execution_count": 12,
   "metadata": {},
   "outputs": [],
   "source": [
    "def actionsF_maze(state):\n",
    "    i = state.index(\"O\")\n",
    "    if i % 10 > 0 and state[i-1] != \"x\":\n",
    "        yield \"left\"\n",
    "    if i % 10 < 9 and state[i+1] != \"x\":\n",
    "        yield \"right\"\n",
    "    if i // 10 > 0 and state[i-10] != \"x\":\n",
    "        yield \"up\"\n",
    "    if i // 10 < 9 and state[i+10] != \"x\":\n",
    "        yield \"down\""
   ]
  },
  {
   "cell_type": "markdown",
   "metadata": {},
   "source": [
    "While this actions function is similar to the previous two, there are more conditions that must be met for a move to be possible. In addition to not going out of bounds, the action function must also avoid stepping into an \"x\". At each check the function looks to see whether the destination is out of bounds and then checks to see whether it is a valid move withing the maze construct. In this way we get an action function that behaves as if it was navigating through a maze by avoiding obstacles."
   ]
  },
  {
   "cell_type": "code",
   "execution_count": 13,
   "metadata": {},
   "outputs": [],
   "source": [
    "def takeActionF_maze(state, action):\n",
    "    #this does not check if action is allowed\n",
    "    state = state.copy()\n",
    "    i = state.index(\"O\")\n",
    "    if action == \"right\":\n",
    "        state[i], state[i+1] = state[i+1], state[i]\n",
    "    elif action == \"left\":\n",
    "        state[i], state[i-1] = state[i-1], state[i]\n",
    "    elif action == \"up\":\n",
    "        state[i], state[i-10] = state[i-10], state[i]\n",
    "    elif action == \"down\":\n",
    "        state[i], state[i+10] = state[i+10], state[i]\n",
    "    return state"
   ]
  },
  {
   "cell_type": "markdown",
   "metadata": {},
   "source": [
    "Because the actions function only creates valid moves, we do not need to check for anything here in the take action function. It behaves similarly to the previous two, only adjusted for a grid size of ten."
   ]
  },
  {
   "cell_type": "code",
   "execution_count": 14,
   "metadata": {},
   "outputs": [],
   "source": [
    "def printMaze_10(state):\n",
    "    for i in range(0,10):\n",
    "        print(*state[i*10:(i+1)*10], sep = \" \")"
   ]
  },
  {
   "cell_type": "markdown",
   "metadata": {},
   "source": [
    "This function is a reduced form of the previous two. Here we loop from 0 to 10 and print out a line for each. Each line prints the ten indices at that iteration of the loop. For example, on the second iteration, i = 1, we print `state[10:20]`. Each value is seperated by a space. As a result, we get a readable ten by ten representation of the maze. "
   ]
  },
  {
   "cell_type": "code",
   "execution_count": 15,
   "metadata": {},
   "outputs": [],
   "source": [
    "import random\n",
    "def generateMaze():\n",
    "    state = [random.sample(['x','-','-'],1)[0] for _ in range(0,100)] \n",
    "    return state"
   ]
  },
  {
   "cell_type": "markdown",
   "metadata": {},
   "source": [
    "This function can be used to generate a random maze template. It generates a ten by ten grid where around 1/3 of the values are \"x\" and 2/3 of the values are \"-\". It is not guaranteed to be solvable, and the user must create the start and goal states by placing a \"O\" by hand. However, in my trials it usually created an interesting board to place starts and goals in. "
   ]
  },
  {
   "cell_type": "code",
   "execution_count": 16,
   "metadata": {},
   "outputs": [],
   "source": [
    "def printMazePath(startState, goalState, path):\n",
    "    printingPath = path[0].copy()\n",
    "    for i in path:\n",
    "        printingPath[i.index(\"O\")] = \"~\"\n",
    "    printingPath[startState.index(\"O\")] = \"S\"\n",
    "    printingPath[goalState.index(\"O\")] = \"G\"\n",
    "    print(\"Path from startState S to goalState G\")\n",
    "    printMaze_10(printingPath)"
   ]
  },
  {
   "cell_type": "markdown",
   "metadata": {},
   "source": [
    "Printing the maze solution is a little more flexible than the 8p or 15p solutions. Instead of printing a list of the steps, we can instead show the path of the solution directly. This works by iterating through the solution path and replacing the location of \"O\" in the printing list with \"~\". Then at the end we replace the start index of \"O\" with \"S\" to represent start, and the goal index of \"O\" with \"G\" to represent goal. At the end we are left with the solved maze drawn out in a readable form. "
   ]
  },
  {
   "cell_type": "markdown",
   "metadata": {},
   "source": [
    "## Testing 8p"
   ]
  },
  {
   "cell_type": "markdown",
   "metadata": {},
   "source": [
    "A list representation the 8p."
   ]
  },
  {
   "cell_type": "code",
   "execution_count": 17,
   "metadata": {},
   "outputs": [],
   "source": [
    "startState = [1, 0, 3, 4, 2, 5, 6, 7, 8]\n",
    "goalState = [1, 2, 3, 4, 0, 5, 6, 7, 8]"
   ]
  },
  {
   "cell_type": "markdown",
   "metadata": {},
   "source": [
    "Printed out by the printState function. Here we can visualize how the list is representing a grid or matrix even though it is one dimensional. "
   ]
  },
  {
   "cell_type": "code",
   "execution_count": 18,
   "metadata": {
    "scrolled": true
   },
   "outputs": [
    {
     "name": "stdout",
     "output_type": "stream",
     "text": [
      "1 - 3\n",
      "4 2 5\n",
      "6 7 8\n"
     ]
    }
   ],
   "source": [
    "printState_8p(startState)"
   ]
  },
  {
   "cell_type": "markdown",
   "metadata": {},
   "source": [
    "Testing the `findBlank_8p` function. Although it is required, I stick to index and some division to implement my functions instead of using tuple indexing."
   ]
  },
  {
   "cell_type": "code",
   "execution_count": 19,
   "metadata": {},
   "outputs": [
    {
     "name": "stdout",
     "output_type": "stream",
     "text": [
      "All tests passed for findBlank_8p\n"
     ]
    }
   ],
   "source": [
    "assert(findBlank_8p(startState) == (0,1))\n",
    "assert(findBlank_8p([1,2,3,0,5,6,7,8,4]) == (1,0))\n",
    "assert(findBlank_8p([1,2,3,8,5,6,7,4,0]) == (2,2))\n",
    "assert(findBlank_8p([1,2,3,8,0,6,7,4,5]) == (1,1))\n",
    "print(\"All tests passed for findBlank_8p\")"
   ]
  },
  {
   "cell_type": "markdown",
   "metadata": {},
   "source": [
    "Testing `actionsF_8p` using \"corner\" cases."
   ]
  },
  {
   "cell_type": "code",
   "execution_count": 20,
   "metadata": {},
   "outputs": [
    {
     "name": "stdout",
     "output_type": "stream",
     "text": [
      "Tests for actionsF_8p passed\n"
     ]
    }
   ],
   "source": [
    "actionList = list(actionsF_8p(startState))\n",
    "assert(actionList == ['left', 'right', 'down'])\n",
    "bottomRight, bottomLeft = [1,2,3,8,5,6,7,4,0], [1,2,3,8,5,6,0,4,7]\n",
    "topRight, topLeft = [1,2,0,8,5,6,7,4,1],[0,2,3,8,5,6,7,4,1]\n",
    "center = [1,2,3,4,0,5,6,7,8]\n",
    "actionList = list(actionsF_8p(bottomRight))\n",
    "assert(actionList == ['left', 'up'])\n",
    "actionList = list(actionsF_8p(bottomLeft))\n",
    "assert(actionList == ['right', 'up'])\n",
    "actionList = list(actionsF_8p(topRight))\n",
    "assert(actionList == ['left', 'down'])\n",
    "actionList = list(actionsF_8p(topLeft))\n",
    "assert(actionList == ['right', 'down'])\n",
    "actionList = list(actionsF_8p(center))\n",
    "assert(actionList == ['left', 'right', 'up', 'down'])\n",
    "print(\"Tests for actionsF_8p passed\")"
   ]
  },
  {
   "cell_type": "markdown",
   "metadata": {},
   "source": [
    "Demonstrating moving the blank tile in the puzzle. This shows the state before and after the move."
   ]
  },
  {
   "cell_type": "code",
   "execution_count": 21,
   "metadata": {},
   "outputs": [
    {
     "name": "stdout",
     "output_type": "stream",
     "text": [
      "1 - 3\n",
      "4 2 5\n",
      "6 7 8\n",
      "Moves down to\n",
      "1 2 3\n",
      "4 - 5\n",
      "6 7 8\n"
     ]
    }
   ],
   "source": [
    "printState_8p(startState)\n",
    "print(\"Moves down to\")\n",
    "printState_8p(takeActionF_8p(startState, 'down'))"
   ]
  },
  {
   "cell_type": "markdown",
   "metadata": {},
   "source": [
    "First, a quick demonstration of `depthLimitedSearch`."
   ]
  },
  {
   "cell_type": "code",
   "execution_count": 22,
   "metadata": {
    "scrolled": true
   },
   "outputs": [
    {
     "data": {
      "text/plain": [
       "[[0, 1, 3, 4, 2, 5, 6, 7, 8],\n",
       " [1, 0, 3, 4, 2, 5, 6, 7, 8],\n",
       " [1, 2, 3, 4, 0, 5, 6, 7, 8]]"
      ]
     },
     "execution_count": 22,
     "metadata": {},
     "output_type": "execute_result"
    }
   ],
   "source": [
    "path = depthLimitedSearch(startState, goalState, actionsF_8p, takeActionF_8p, 3)\n",
    "path"
   ]
  },
  {
   "cell_type": "markdown",
   "metadata": {},
   "source": [
    "As pointed out in the assignment, the `depthLimitedSearch` does not contain the start state.  This is inserted by `iterativeDeepeningSearch`.\n",
    "\n",
    "When we use `iterativeDeepeningSearch` a shorter path with the start state present is found. We also gain the benefits of increasing the depth limit in an iterative fashion, so the goal may be found earlier."
   ]
  },
  {
   "cell_type": "code",
   "execution_count": 23,
   "metadata": {
    "scrolled": true
   },
   "outputs": [
    {
     "data": {
      "text/plain": [
       "[[1, 0, 3, 4, 2, 5, 6, 7, 8], [1, 2, 3, 4, 0, 5, 6, 7, 8]]"
      ]
     },
     "execution_count": 23,
     "metadata": {},
     "output_type": "execute_result"
    }
   ],
   "source": [
    "path = iterativeDeepeningSearch(startState, goalState, actionsF_8p, takeActionF_8p, 3)\n",
    "path"
   ]
  },
  {
   "cell_type": "markdown",
   "metadata": {},
   "source": [
    "Here we demonstrate `iterativeDeepeningSearch` not finding the goal."
   ]
  },
  {
   "cell_type": "code",
   "execution_count": 24,
   "metadata": {},
   "outputs": [
    {
     "data": {
      "text/plain": [
       "'cutoff'"
      ]
     },
     "execution_count": 24,
     "metadata": {},
     "output_type": "execute_result"
    }
   ],
   "source": [
    "startState = [4, 7, 2, 1, 6, 5, 0, 3, 8]\n",
    "path = iterativeDeepeningSearch(startState, goalState, actionsF_8p, takeActionF_8p, 5)\n",
    "path"
   ]
  },
  {
   "cell_type": "markdown",
   "metadata": {},
   "source": [
    "Here I have compacted the assignment code to generate random startStates. It works by taking a random choice from the actionsF of each state, so that we know it started from a valid start. "
   ]
  },
  {
   "cell_type": "code",
   "execution_count": 25,
   "metadata": {},
   "outputs": [],
   "source": [
    "import random\n",
    "def randomStartState(goalState, actionsF, takeActionF, nSteps):\n",
    "    state = goalState\n",
    "    for i in range(nSteps):\n",
    "        l = list(actionsF(state))\n",
    "        state = takeActionF(state, random.choice(l))\n",
    "    return state"
   ]
  },
  {
   "cell_type": "code",
   "execution_count": 26,
   "metadata": {},
   "outputs": [
    {
     "data": {
      "text/plain": [
       "[0, 2, 3, 1, 4, 7, 6, 8, 5]"
      ]
     },
     "execution_count": 26,
     "metadata": {},
     "output_type": "execute_result"
    }
   ],
   "source": [
    "goalState = [1, 2, 3, 4, 0, 5, 6, 7, 8]\n",
    "randomStartState(goalState, actionsF_8p, takeActionF_8p, 10)"
   ]
  },
  {
   "cell_type": "code",
   "execution_count": 27,
   "metadata": {},
   "outputs": [
    {
     "data": {
      "text/plain": [
       "[6, 1, 3, 7, 2, 4, 0, 8, 5]"
      ]
     },
     "execution_count": 27,
     "metadata": {},
     "output_type": "execute_result"
    }
   ],
   "source": [
    "startState = randomStartState(goalState, actionsF_8p, takeActionF_8p, 50)\n",
    "startState"
   ]
  },
  {
   "cell_type": "markdown",
   "metadata": {},
   "source": [
    "Here we solve the randomly created startState and print it out using `printPath_8p` which prints out each step in a readable format. "
   ]
  },
  {
   "cell_type": "code",
   "execution_count": 28,
   "metadata": {},
   "outputs": [
    {
     "name": "stdout",
     "output_type": "stream",
     "text": [
      "6 1 3\n",
      "7 2 4\n",
      "- 8 5\n",
      "\n",
      "6 1 3\n",
      "- 2 4\n",
      "7 8 5\n",
      "\n",
      "- 1 3\n",
      "6 2 4\n",
      "7 8 5\n",
      "\n",
      "1 - 3\n",
      "6 2 4\n",
      "7 8 5\n",
      "\n",
      "1 2 3\n",
      "6 - 4\n",
      "7 8 5\n",
      "\n",
      "1 2 3\n",
      "6 4 -\n",
      "7 8 5\n",
      "\n",
      "1 2 3\n",
      "6 4 5\n",
      "7 8 -\n",
      "\n",
      "1 2 3\n",
      "6 4 5\n",
      "7 - 8\n",
      "\n",
      "1 2 3\n",
      "6 4 5\n",
      "- 7 8\n",
      "\n",
      "1 2 3\n",
      "- 4 5\n",
      "6 7 8\n",
      "\n",
      "1 2 3\n",
      "4 - 5\n",
      "6 7 8\n",
      "\n",
      "1 2 3\n",
      "4 - 5\n",
      "6 7 8\n"
     ]
    }
   ],
   "source": [
    "path = iterativeDeepeningSearch(startState, goalState, actionsF_8p, takeActionF_8p, 20)\n",
    "printPath_8p(startState, goalState, path)"
   ]
  },
  {
   "cell_type": "markdown",
   "metadata": {},
   "source": [
    "Looks like it worked! On to the next puzzle."
   ]
  },
  {
   "cell_type": "markdown",
   "metadata": {},
   "source": [
    "## Testing 15p"
   ]
  },
  {
   "cell_type": "markdown",
   "metadata": {},
   "source": [
    "Here is a sample start and goal state for the 15p problem."
   ]
  },
  {
   "cell_type": "code",
   "execution_count": 29,
   "metadata": {},
   "outputs": [],
   "source": [
    "goalState = [1, 2, 3, 4, 5, 6, 7, 8, 9, 10, 11, 12, 13, 14, 15, 0]\n",
    "startState = [0, 2, 3, 4, 1, 6, 7, 8, 5, 14, 10, 11, 9, 13, 15, 12]"
   ]
  },
  {
   "cell_type": "code",
   "execution_count": 30,
   "metadata": {},
   "outputs": [
    {
     "name": "stdout",
     "output_type": "stream",
     "text": [
      "startState: \n",
      "- 2 3 4\n",
      "1 6 7 8\n",
      "5 14 10 11\n",
      "9 13 15 12\n",
      "goalState: \n",
      "1 2 3 4\n",
      "5 6 7 8\n",
      "9 10 11 12\n",
      "13 14 15 -\n"
     ]
    }
   ],
   "source": [
    "print(\"startState: \")\n",
    "printState_15p(startState) \n",
    "print(\"goalState: \")\n",
    "printState_15p(goalState)"
   ]
  },
  {
   "cell_type": "markdown",
   "metadata": {},
   "source": [
    "First, we use assertions to test `actionsF_15p`"
   ]
  },
  {
   "cell_type": "code",
   "execution_count": 31,
   "metadata": {},
   "outputs": [
    {
     "name": "stdout",
     "output_type": "stream",
     "text": [
      "Tests of actionsF_15p  Passed\n"
     ]
    }
   ],
   "source": [
    "assert(list(actionsF_15p(startState)) == [\"right\", \"down\"])  \n",
    "assert(list(actionsF_15p(goalState)) == [\"left\", \"up\"])\n",
    "print(\"Tests of actionsF_15p  Passed\")"
   ]
  },
  {
   "cell_type": "markdown",
   "metadata": {},
   "source": [
    "Then, visually confirm that the desired moves are done by `takeActionF_15p`"
   ]
  },
  {
   "cell_type": "code",
   "execution_count": 32,
   "metadata": {},
   "outputs": [
    {
     "name": "stdout",
     "output_type": "stream",
     "text": [
      "startState: \n",
      "- 2 3 4\n",
      "1 6 7 8\n",
      "5 14 10 11\n",
      "9 13 15 12\n",
      "Moves down to\n",
      "1 2 3 4\n",
      "- 6 7 8\n",
      "5 14 10 11\n",
      "9 13 15 12\n",
      "and moves right to\n",
      "2 - 3 4\n",
      "1 6 7 8\n",
      "5 14 10 11\n",
      "9 13 15 12\n"
     ]
    }
   ],
   "source": [
    "print(\"startState: \")\n",
    "printState_15p(startState)\n",
    "print(\"Moves down to\")\n",
    "printState_15p(takeActionF_15p(startState, 'down'))\n",
    "print(\"and moves right to\")\n",
    "printState_15p(takeActionF_15p(startState, 'right'))"
   ]
  },
  {
   "cell_type": "markdown",
   "metadata": {},
   "source": [
    "Finally, a demonstration of solving the 15p with `iterativeDeepeningSearch`."
   ]
  },
  {
   "cell_type": "code",
   "execution_count": 33,
   "metadata": {},
   "outputs": [
    {
     "name": "stdout",
     "output_type": "stream",
     "text": [
      "- 2 3 4\n",
      "1 6 7 8\n",
      "5 14 10 11\n",
      "9 13 15 12\n",
      "\n",
      "1 2 3 4\n",
      "- 6 7 8\n",
      "5 14 10 11\n",
      "9 13 15 12\n",
      "\n",
      "1 2 3 4\n",
      "5 6 7 8\n",
      "- 14 10 11\n",
      "9 13 15 12\n",
      "\n",
      "1 2 3 4\n",
      "5 6 7 8\n",
      "9 14 10 11\n",
      "- 13 15 12\n",
      "\n",
      "1 2 3 4\n",
      "5 6 7 8\n",
      "9 14 10 11\n",
      "13 - 15 12\n",
      "\n",
      "1 2 3 4\n",
      "5 6 7 8\n",
      "9 - 10 11\n",
      "13 14 15 12\n",
      "\n",
      "1 2 3 4\n",
      "5 6 7 8\n",
      "9 10 - 11\n",
      "13 14 15 12\n",
      "\n",
      "1 2 3 4\n",
      "5 6 7 8\n",
      "9 10 11 -\n",
      "13 14 15 12\n",
      "\n",
      "1 2 3 4\n",
      "5 6 7 8\n",
      "9 10 11 12\n",
      "13 14 15 -\n",
      "\n",
      "1 2 3 4\n",
      "5 6 7 8\n",
      "9 10 11 12\n",
      "13 14 15 -\n"
     ]
    }
   ],
   "source": [
    "path = iterativeDeepeningSearch(startState, goalState, actionsF_15p, takeActionF_15p, 15)\n",
    "printPath_15p(startState, goalState, path)"
   ]
  },
  {
   "cell_type": "markdown",
   "metadata": {},
   "source": [
    "Looks like it works correctly for solvable 15 puzzles! What about an unsolvable 15p? This uses the simple [example](https://en.wikipedia.org/wiki/File:15-puzzle-loyd.svg) of an unsolvable puzzle from wikipedia. "
   ]
  },
  {
   "cell_type": "code",
   "execution_count": 34,
   "metadata": {},
   "outputs": [
    {
     "name": "stdout",
     "output_type": "stream",
     "text": [
      "startState: \n",
      "1 2 3 4\n",
      "5 6 7 8\n",
      "9 10 11 12\n",
      "13 15 14 -\n",
      "goalState: \n",
      "1 2 3 4\n",
      "5 6 7 8\n",
      "9 10 11 12\n",
      "13 14 15 -\n"
     ]
    }
   ],
   "source": [
    "startState = [1, 2, 3, 4, 5, 6, 7, 8, 9, 10, 11, 12, 13, 15, 14, 0]\n",
    "goalState = [1, 2, 3, 4, 5, 6, 7, 8, 9, 10, 11, 12, 13, 14, 15, 0]\n",
    "print(\"startState: \")\n",
    "printState_15p(startState)\n",
    "print(\"goalState: \")\n",
    "printState_15p(goalState)"
   ]
  },
  {
   "cell_type": "markdown",
   "metadata": {},
   "source": [
    "Here we see `iterativeDeepeningSearch` try to find a goal that cannot be found and reach a cutoff."
   ]
  },
  {
   "cell_type": "code",
   "execution_count": 35,
   "metadata": {},
   "outputs": [
    {
     "data": {
      "text/plain": [
       "'cutoff'"
      ]
     },
     "execution_count": 35,
     "metadata": {},
     "output_type": "execute_result"
    }
   ],
   "source": [
    "iterativeDeepeningSearch(startState, goalState, actionsF_15p, takeActionF_15p, 15)"
   ]
  },
  {
   "cell_type": "markdown",
   "metadata": {},
   "source": [
    "Finally, a random startState."
   ]
  },
  {
   "cell_type": "code",
   "execution_count": 36,
   "metadata": {},
   "outputs": [
    {
     "name": "stdout",
     "output_type": "stream",
     "text": [
      "1 2 3 4\n",
      "5 7 10 8\n",
      "9 6 - 11\n",
      "13 14 15 12\n",
      "\n",
      "1 2 3 4\n",
      "5 7 - 8\n",
      "9 6 10 11\n",
      "13 14 15 12\n",
      "\n",
      "1 2 3 4\n",
      "5 - 7 8\n",
      "9 6 10 11\n",
      "13 14 15 12\n",
      "\n",
      "1 2 3 4\n",
      "5 6 7 8\n",
      "9 - 10 11\n",
      "13 14 15 12\n",
      "\n",
      "1 2 3 4\n",
      "5 6 7 8\n",
      "9 10 - 11\n",
      "13 14 15 12\n",
      "\n",
      "1 2 3 4\n",
      "5 6 7 8\n",
      "9 10 11 -\n",
      "13 14 15 12\n",
      "\n",
      "1 2 3 4\n",
      "5 6 7 8\n",
      "9 10 11 12\n",
      "13 14 15 -\n",
      "\n",
      "1 2 3 4\n",
      "5 6 7 8\n",
      "9 10 11 12\n",
      "13 14 15 -\n"
     ]
    }
   ],
   "source": [
    "startState = randomStartState(goalState, actionsF_15p, takeActionF_15p, 20)\n",
    "result = iterativeDeepeningSearch(startState, goalState,actionsF_15p, takeActionF_15p, 17)\n",
    "printPath_15p(startState, goalState, result)"
   ]
  },
  {
   "cell_type": "markdown",
   "metadata": {},
   "source": [
    "This can be run several times to see different outcomes of iterative deepening search."
   ]
  },
  {
   "cell_type": "markdown",
   "metadata": {},
   "source": [
    "## Testing the maze"
   ]
  },
  {
   "cell_type": "markdown",
   "metadata": {},
   "source": [
    "First, we have our start and goal states of the maze. \"O\" will move about the maze similar to how \"-\" did in the 8 puzzle. "
   ]
  },
  {
   "cell_type": "code",
   "execution_count": 37,
   "metadata": {},
   "outputs": [
    {
     "name": "stdout",
     "output_type": "stream",
     "text": [
      "The Start: \n",
      "O x - - - x - x x -\n",
      "- - - - x - - - x -\n",
      "x x x - - - x x - x\n",
      "x x - - - - - - x x\n",
      "x - x x x - x - x -\n",
      "- x - x x - - - - x\n",
      "- - - x - - - - - x\n",
      "x - x x - - - x - -\n",
      "x - x - - x x - - x\n",
      "x x - x x - - x - -\n",
      "The Goal: \n",
      "- x - - - x - x x -\n",
      "- - - - x - - - x -\n",
      "x x x - - - x x - x\n",
      "x x - - - - - - x x\n",
      "x - x x x - x - x -\n",
      "- x - x x - - - - x\n",
      "- - - x - - - - - x\n",
      "x - x x - - - x - -\n",
      "x - x - - x x - - x\n",
      "x x - x x - - x - O\n"
     ]
    }
   ],
   "source": [
    "startState = ['O', 'x', '-', '-', '-', 'x', '-', 'x', 'x','-',\n",
    " '-', '-', '-', '-', 'x', '-', '-',\n",
    " '-', 'x', '-', 'x', 'x', 'x', '-', '-',\n",
    " '-', 'x', 'x', '-', 'x', 'x', 'x', '-',\n",
    " '-', '-', '-', '-', '-', 'x', 'x', 'x',\n",
    " '-', 'x', 'x', 'x', '-', 'x',\n",
    " '-', 'x', '-', '-', 'x', '-', 'x', 'x',\n",
    " '-', '-', '-', '-', 'x', '-', '-', '-',\n",
    " 'x', '-', '-', '-', '-', '-', 'x', 'x',\n",
    " '-', 'x', 'x', '-', '-', '-', 'x', '-',\n",
    " '-', 'x', '-', 'x', '-', '-', 'x', 'x',\n",
    " '-', '-', 'x', 'x', 'x', '-', 'x', 'x',\n",
    " '-', '-', 'x', '-', '-']\n",
    "print(\"The Start: \")\n",
    "printMaze_10(startState)\n",
    "goalState = startState.copy()\n",
    "goalState[0] = \"-\"\n",
    "goalState[99] = \"O\"\n",
    "print(\"The Goal: \")\n",
    "printMaze_10(goalState)"
   ]
  },
  {
   "cell_type": "markdown",
   "metadata": {},
   "source": [
    "First, test the actions function."
   ]
  },
  {
   "cell_type": "code",
   "execution_count": 38,
   "metadata": {},
   "outputs": [
    {
     "name": "stdout",
     "output_type": "stream",
     "text": [
      "Test Passed\n"
     ]
    }
   ],
   "source": [
    "assert(list(actionsF_maze(startState)) == ['down'])\n",
    "assert(list(actionsF_maze(goalState)) == ['left'])\n",
    "print(\"Test Passed\")"
   ]
  },
  {
   "cell_type": "markdown",
   "metadata": {},
   "source": [
    "Next, test the take action function from a few states."
   ]
  },
  {
   "cell_type": "code",
   "execution_count": 39,
   "metadata": {},
   "outputs": [
    {
     "name": "stdout",
     "output_type": "stream",
     "text": [
      "We expect \"O\" to have moved down a space\n",
      "- x - - - x - x x -\n",
      "O - - - x - - - x -\n",
      "x x x - - - x x - x\n",
      "x x - - - - - - x x\n",
      "x - x x x - x - x -\n",
      "- x - x x - - - - x\n",
      "- - - x - - - - - x\n",
      "x - x x - - - x - -\n",
      "x - x - - x x - - x\n",
      "x x - x x - - x - -\n",
      "We expect \"O\" to have moved right a space\n",
      "- x - - - x - x x -\n",
      "- O - - x - - - x -\n",
      "x x x - - - x x - x\n",
      "x x - - - - - - x x\n",
      "x - x x x - x - x -\n",
      "- x - x x - - - - x\n",
      "- - - x - - - - - x\n",
      "x - x x - - - x - -\n",
      "x - x - - x x - - x\n",
      "x x - x x - - x - -\n"
     ]
    }
   ],
   "source": [
    "print(\"We expect \\\"O\\\" to have moved down a space\")\n",
    "downone = takeActionF_maze(startState,\"down\")\n",
    "printMaze_10(downone)\n",
    "print(\"We expect \\\"O\\\" to have moved right a space\")\n",
    "rightone = takeActionF_maze(downone, \"right\")\n",
    "printMaze_10(rightone)"
   ]
  },
  {
   "cell_type": "markdown",
   "metadata": {},
   "source": [
    "An additional test of `actionsF_maze` with the new state we generated"
   ]
  },
  {
   "cell_type": "code",
   "execution_count": 40,
   "metadata": {},
   "outputs": [
    {
     "name": "stdout",
     "output_type": "stream",
     "text": [
      "Test Passed\n"
     ]
    }
   ],
   "source": [
    "assert(list(actionsF_maze(downone)) == ['right', 'up'])\n",
    "print(\"Test Passed\")"
   ]
  },
  {
   "cell_type": "markdown",
   "metadata": {},
   "source": [
    "Finally, try out `iterativeDeepeningSearch` to see whether it works!"
   ]
  },
  {
   "cell_type": "code",
   "execution_count": 41,
   "metadata": {},
   "outputs": [
    {
     "name": "stdout",
     "output_type": "stream",
     "text": [
      "Path from startState S to goalState G\n",
      "S x - - - x - x x -\n",
      "~ ~ ~ ~ x - - - x -\n",
      "x x x ~ ~ ~ x x - x\n",
      "x x - - - ~ ~ ~ x x\n",
      "x - x x x - x ~ x -\n",
      "- x - x x - - ~ ~ x\n",
      "- - - x - - - - ~ x\n",
      "x - x x - - - x ~ -\n",
      "x - x - - x x - ~ x\n",
      "x x - x x - - x ~ G\n"
     ]
    }
   ],
   "source": [
    "result = iterativeDeepeningSearch(startState, goalState, actionsF_maze, takeActionF_maze, 20)\n",
    "printMazePath(startState, goalState, result)"
   ]
  },
  {
   "cell_type": "markdown",
   "metadata": {},
   "source": [
    "Looks like the first startState and goalState worked! Next we can generate more cases to test."
   ]
  },
  {
   "cell_type": "code",
   "execution_count": 52,
   "metadata": {},
   "outputs": [
    {
     "name": "stdout",
     "output_type": "stream",
     "text": [
      "x x - x - - - - - -\n",
      "- x x - - - - - - x\n",
      "- - - x x x x - - -\n",
      "- - - - - - - x - x\n",
      "- - - x - x x x x x\n",
      "x - - x x - - - - x\n",
      "- - x - - - - x - -\n",
      "- - - - - - - - x x\n",
      "x x - - - - - - - -\n",
      "- - x - - x x - - -\n"
     ]
    }
   ],
   "source": [
    "startState = generateMaze()\n",
    "printMaze_10(startState)"
   ]
  },
  {
   "cell_type": "markdown",
   "metadata": {},
   "source": [
    "This created an empty template where the user can place an \"O\" for the startState and the goalState. It is not guaranteed to be solvable however. "
   ]
  },
  {
   "cell_type": "code",
   "execution_count": 53,
   "metadata": {},
   "outputs": [
    {
     "name": "stdout",
     "output_type": "stream",
     "text": [
      "startState: \n",
      "O x - x - - - - - -\n",
      "- x x - - - - - - x\n",
      "- - - x x x x - - -\n",
      "- - - - - - - x - x\n",
      "- - - x - x x x x x\n",
      "x - - x x - - - - x\n",
      "- - x - - - - x - -\n",
      "- - - - - - - - x x\n",
      "x x - - - - - - - -\n",
      "- - x - - x x - - -\n",
      "goalState: \n",
      "- x - x - - - - - -\n",
      "- x x - - - - - - x\n",
      "- - - x x x x - - -\n",
      "- - - - - - - x - x\n",
      "- - - x - x x x x x\n",
      "x - - x x - - - - x\n",
      "- - x - - - - x - -\n",
      "- - - - - - - - x x\n",
      "x x - - - - - - - -\n",
      "- - x - - x x - - O\n"
     ]
    }
   ],
   "source": [
    "goalState = startState.copy()\n",
    "startState[0] = \"O\"\n",
    "print(\"startState: \")\n",
    "printMaze_10(startState)\n",
    "goalState[0] = \"-\"\n",
    "goalState[99] = \"O\"\n",
    "print(\"goalState: \")\n",
    "printMaze_10(goalState)"
   ]
  },
  {
   "cell_type": "markdown",
   "metadata": {},
   "source": [
    "You can usually eyeball whether the maze is solvable or not in a few seconds. Lets see how long `iterativeDeepeningSearch` takes to find out! You may run the previous cells over again to try a few different random states."
   ]
  },
  {
   "cell_type": "code",
   "execution_count": 56,
   "metadata": {},
   "outputs": [
    {
     "name": "stdout",
     "output_type": "stream",
     "text": [
      "Path from startState S to goalState G\n",
      "S x - x - - - - - -\n",
      "~ x x - - - - - - x\n",
      "~ ~ - x x x x - - -\n",
      "- ~ - - - - - x - x\n",
      "- ~ - x - x x x x x\n",
      "x ~ - x x - - - - x\n",
      "- ~ x - - - - x - -\n",
      "- ~ ~ ~ ~ ~ ~ ~ x x\n",
      "x x - - - - - ~ ~ ~\n",
      "- - x - - x x - - G\n"
     ]
    }
   ],
   "source": [
    "result = iterativeDeepeningSearch(startState, goalState, actionsF_maze, takeActionF_maze, 20)\n",
    "if result != \"cutoff\" and result != \"failure\":\n",
    "    printMazePath(startState, goalState, result)\n",
    "else:\n",
    "    print(result + \" at this Max Depth\")"
   ]
  },
  {
   "cell_type": "markdown",
   "metadata": {},
   "source": [
    "It may take awhile if there is no solution. But it does demonstrate the \"cutoff\" part of `iterativeDeepeningSearch`."
   ]
  },
  {
   "cell_type": "markdown",
   "metadata": {},
   "source": [
    "Here are a few pre-made solvable cases to demonstrate the maze solver. It is a messy block of hard coded lists, feel free to skip over. "
   ]
  },
  {
   "cell_type": "code",
   "execution_count": 57,
   "metadata": {},
   "outputs": [],
   "source": [
    "start1 = ['-', '-', '-', '-', 'x', 'x', '-', '-', 'x', 'x', '-', '-', '-', 'x', 'x', 'x',\n",
    " '-', '-', 'x', '-', 'x', '-', '-', '-', '-', '-', 'x', '-', '-', '-', '-', '-',\n",
    " 'x', 'x', 'x', '-', '-', '-', '-', '-', 'x', 'x', '-', '-', '-', '-', 'x', 'x',\n",
    " 'x', 'x', 'x', '-', '-', '-', '-', '-', '-', 'x', '-', '-', '-', '-', '-', '-',\n",
    " '-', '-', '-', '-', 'x', '-', '-', '-', '-', '-', '-', 'x', '-', '-', '-', 'x',\n",
    " '-', 'x', '-', '-', 'x', '-', 'x', 'x', '-', 'x', '-', '-', 'O', '-', 'x', 'x',\n",
    " '-', '-', '-', 'x']\n",
    "goal1 = ['-', '-', '-', '-', 'x', 'x', '-', '-', 'x', 'x', '-', '-', '-', 'x', 'x', 'x',\n",
    " '-', '-', 'x', '-', 'x', '-', '-', '-', '-', '-', 'x', '-', '-', '-', '-', '-',\n",
    " 'x', 'x', 'x', '-', '-', '-', '-', '-', 'x', 'x', '-', '-', '-', '-', 'x', 'x',\n",
    " 'x', 'x', 'x', '-', '-', '-', '-', '-', '-', 'x', '-', '-', '-', '-', '-', '-',\n",
    " '-', '-', '-', '-', 'x', '-', '-', '-', '-', '-', '-', 'x', '-', '-', '-', 'x',\n",
    " '-', 'x', '-', '-', 'x', '-', 'x', 'x', '-', 'x', '-', '-', '-', '-', 'x', 'x',\n",
    " '-', 'O', '-', 'x']\n",
    "case2 = ['-', '-', '-', '-', '-', '-', '-', '-',\n",
    " '-', 'x', '-', 'x', 'x', '-', 'x', '-', '-', '-', 'x', '-', '-', 'x', 'x', '-',\n",
    " '-', '-', '-', '-', 'x', '-', '-', 'x', 'x', '-', 'x', '-', '-', 'x', 'x', '-',\n",
    " '-', '-', 'x', '-', 'x', '-', 'x', 'x', 'x', 'x', '-', '-', 'x', 'x', '-', '-',\n",
    " '-', 'x', '-', '-', 'x', 'x', 'x', '-', '-', '-', '-', '-', '-', '-', '-', '-',\n",
    " '-', '-', 'x', '-', 'x', '-', 'x', 'x', '-', '-', '-', 'x', '-', '-', '-', 'x',\n",
    " '-', 'x', '-', '-', '-', '-', 'x', '-', '-', '-', 'x', '-']\n",
    "goal2 = case2.copy()\n",
    "start2 = case2.copy()\n",
    "start2[0] = \"O\"\n",
    "goal2[90] = \"O\"\n",
    "case3 = ['-', '-',\n",
    " '-', '-', '-', '-', '-', '-', '-', 'x', '-', 'x', 'x', '-', 'x', '-', '-',\n",
    " '-', 'x', '-', '-', 'x', 'x', '-', '-', '-', '-', '-', 'x', '-', '-', 'x', 'x',\n",
    " '-', 'x', '-', '-', 'x', 'x', '-', '-', '-', 'x', '-', 'x', '-', 'x', 'x', 'x',\n",
    " 'x', '-', '-', 'x', 'x', '-', '-', '-', 'x', '-', '-', 'x', 'x', 'x', '-', '-',\n",
    " '-', '-', '-', '-', '-', '-', '-', '-', '-', 'x', '-', 'x', '-', 'x', 'x', '-',\n",
    " '-', '-', 'x', '-', '-', '-', 'x', '-', 'x', '-', '-', '-', '-', 'x', '-', '-',\n",
    " '-', 'x', '-']\n",
    "goal3 = case3.copy()\n",
    "start3 = case3.copy()\n",
    "start3[51] = \"O\"\n",
    "goal3[54] = \"O\"\n",
    "case4 = ['x', '-', '-', '-', '-', '-', '-', '-', '-', 'x', '-', '-', 'x', 'x', 'x', '-',\n",
    " '-', 'x', '-', '-', 'x', '-', 'x', '-', '-', '-', 'x', 'x', '-', '-', '-', '-',\n",
    " '-', 'x', '-', '-', '-', '-', 'x', '-', 'x', '-', '-', '-', 'x', 'x', '-', '-',\n",
    " 'x', 'x', '-', '-', '-', '-', '-', '-', 'x', '-', '-', '-', '-', 'x', '-', '-',\n",
    " 'x', '-', '-', '-', 'x', 'x', 'x', '-', '-', '-', '-', 'x', '-', '-', '-', '-',\n",
    " '-', '-', '-', 'x', '-', '-', '-', '-', '-', '-', '-', '-', '-', 'x', 'x', 'x',\n",
    " '-', 'x', 'x', '-']\n",
    "goal4 = case4.copy()\n",
    "start4 = case4.copy()\n",
    "start4[39] = \"O\"\n",
    "goal4[50] = \"O\""
   ]
  },
  {
   "cell_type": "markdown",
   "metadata": {},
   "source": [
    "**Demonstration of Extra Credit**\n",
    "\n",
    "Here we demonstrate four cases of the maze solver. More cases can be generated with the `generateMaze` function, which gives a ten by ten grid with a distribution of impassable x's and passable -'s. The start and goal locations must be placed by hand by setting the desired start index to \"O\" and the desired goal index to \"O\" in their respective lists. I've generated a few sample problems to demonstrate the maze solver. It is worth mentioning that although this is not exactly like the description of the extra credit, I came up with this problem and implemented it before I noticed the extra credit option. Because they are essentially the same (a maze is just multiple verticle and horizontal obstacles) I left it in. This took a little while to run on my laptop, about a minute.  "
   ]
  },
  {
   "cell_type": "code",
   "execution_count": 58,
   "metadata": {},
   "outputs": [
    {
     "name": "stdout",
     "output_type": "stream",
     "text": [
      "Path from startState S to goalState G\n",
      "- - - - x x - - x x\n",
      "- - - x x x - - x -\n",
      "x - - - - - x - - -\n",
      "- - x x x - - - - -\n",
      "x x - - - - x x x x\n",
      "x - - - - - - x - -\n",
      "- - - - ~ ~ ~ ~ x -\n",
      "- - - ~ ~ x - ~ ~ x\n",
      "- x - ~ x - x x ~ x\n",
      "- - S ~ x x - G ~ x\n",
      "Path from startState S to goalState G\n",
      "S ~ ~ ~ ~ ~ - - - x\n",
      "- x x - x ~ - - x -\n",
      "- x x - - ~ - - x -\n",
      "- x x - x ~ - x x -\n",
      "- - x - x ~ x x x x\n",
      "- - x x ~ ~ - x - -\n",
      "x x x ~ ~ - - - - -\n",
      "~ ~ ~ ~ x - x - x x\n",
      "~ - - x - - - x - x\n",
      "G - - - x - - - x -\n",
      "Path from startState S to goalState G\n",
      "~ ~ ~ ~ ~ ~ - - - x\n",
      "~ x x - x ~ - - x -\n",
      "~ x x - - ~ - - x -\n",
      "~ x x - x ~ - x x -\n",
      "~ - x - x ~ x x x x\n",
      "~ S x x G ~ - x - -\n",
      "x x x - - - - - - -\n",
      "- - - - x - x - x x\n",
      "- - - x - - - x - x\n",
      "- - - - x - - - x -\n",
      "Path from startState S to goalState G\n",
      "x ~ ~ ~ ~ ~ ~ ~ ~ x\n",
      "- ~ x x x - - x ~ -\n",
      "x ~ x - - - x x ~ ~\n",
      "- ~ - x - - - - x S\n",
      "x ~ - - x x - - x x\n",
      "G ~ - - - - x - - -\n",
      "- x - - x - - - x x\n",
      "x - - - - x - - - -\n",
      "- - - x - - - - - -\n",
      "- - - x x x - x x -\n"
     ]
    }
   ],
   "source": [
    "cases = [(start1, goal1),(start2, goal2),(start3, goal3),(start4, goal4)]\n",
    "for case in cases:\n",
    "    result = iterativeDeepeningSearch(case[0], case[1], actionsF_maze, takeActionF_maze, 20)\n",
    "    if result != \"cutoff\" and result != \"failure\":\n",
    "        printMazePath(case[0], case[1], result)\n",
    "    else:\n",
    "        print(result + \" at this Max Depth\")"
   ]
  },
  {
   "cell_type": "markdown",
   "metadata": {},
   "source": [
    "## Conclusion\n",
    "The `iterativeDeepeningSearch` function has been applied successfully to three different types of puzzles. While it is not always fast, it does work well in the examples demonstrated here. In the process of this project, I encountered a few problems. The 8p was fairly straightforward following the example given in the class notebook. However, it was difficult to think of other problems to try it out on. At first I thought of the maze problem, which does work well with this search strategy. The biggest problem I faced was that I read the extra credit late into the assignment and wanted to come up with an additional problem. While it was not too much work, implementing the 15p did stretch my time a little thin. Coming up with a simple way of printing out the paths was also somewhat dificult. The current solution is functional, but could possibly be more polished."
   ]
  }
 ],
 "metadata": {
  "anaconda-cloud": {},
  "kernelspec": {
   "display_name": "Python 3",
   "language": "python",
   "name": "python3"
  },
  "language_info": {
   "codemirror_mode": {
    "name": "ipython",
    "version": 3
   },
   "file_extension": ".py",
   "mimetype": "text/x-python",
   "name": "python",
   "nbconvert_exporter": "python",
   "pygments_lexer": "ipython3",
   "version": "3.6.5"
  }
 },
 "nbformat": 4,
 "nbformat_minor": 1
}
