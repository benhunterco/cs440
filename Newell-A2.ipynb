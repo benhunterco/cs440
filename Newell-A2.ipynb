{
 "cells": [
  {
   "cell_type": "markdown",
   "metadata": {},
   "source": [
    "# Assignment 2: Iterative-Deepening Search"
   ]
  },
  {
   "cell_type": "markdown",
   "metadata": {},
   "source": [
    "Ben Newell"
   ]
  },
  {
   "cell_type": "markdown",
   "metadata": {},
   "source": [
    "## Overview"
   ]
  },
  {
   "cell_type": "markdown",
   "metadata": {},
   "source": [
    "Implemintation of iterative deepening function and depth limited search. Applies these strategies to the provided 8p and to a simple maze problem. \n",
    "\n",
    "The 8 puzzle problem was discussed in class. 8 numbered pieces are shuffled across a board with only one free space to manipulate. By moving this free space in a series of steps, a goal state (usually having the numbers in order) can be reached. \n",
    "\n",
    "The maze puzzle here is fairly simple. The goal is to find the path from one state to the other while navigating a grid with obstacles in the way. The problem space is a ten by ten grid where \"-\" represents a open space, \"x\" represents a blocked space, and \"O\" represents the current location of the maze solver. The path is found by finding a path from the \"O\" in startState to the \"O\" goalState. When printed by `printMazePath` the path is designated by \"~\". \n",
    "\n",
    "Note: I realized at the end of the assignment the extra credit is mostly the same as the maze problem I came up with here. So I'll treat that as extra credit and provide an implimentation for the 15 puzzle as well. The 15 puzzle is the same as the 8 puzzle, just with extra complexity"
   ]
  },
  {
   "cell_type": "markdown",
   "metadata": {},
   "source": [
    "# Functions"
   ]
  },
  {
   "cell_type": "markdown",
   "metadata": {},
   "source": [
    "## Search Functions"
   ]
  },
  {
   "cell_type": "code",
   "execution_count": 1,
   "metadata": {},
   "outputs": [],
   "source": [
    "def depthLimitedSearch(state, goalState, actionsF, takeActionF, depthLimit):\n",
    "    if state == goalState:\n",
    "        return []\n",
    "    if depthLimit == 0:\n",
    "        return \"cutoff\"\n",
    "    cutoffoccurred = False\n",
    "    for action in actionsF(state):\n",
    "        childState = takeActionF(state, action)\n",
    "        result = depthLimitedSearch(childState, goalState, actionsF, takeActionF, depthLimit - 1)\n",
    "        if result == \"cutoff\":\n",
    "            cutoffoccurred = True\n",
    "        elif result != \"failure\":\n",
    "            result.insert(0, childState)\n",
    "            return result\n",
    "    if cutoffoccurred:\n",
    "        return \"cutoff\"\n",
    "    else:\n",
    "        return \"failure\"\n"
   ]
  },
  {
   "cell_type": "code",
   "execution_count": 2,
   "metadata": {},
   "outputs": [],
   "source": [
    "def iterativeDeepeningSearch(startState, goalState, actionsF, takeActionF, maxDepth):\n",
    "    for depth in range(0, maxDepth):\n",
    "        result = depthLimitedSearch(startState, goalState, actionsF, takeActionF, depth)\n",
    "        if result == \"failure\":\n",
    "            return \"failure\"\n",
    "        if result != \"cutoff\":\n",
    "            result.insert(0, startState)\n",
    "            return result\n",
    "    return \"cutoff\""
   ]
  },
  {
   "cell_type": "markdown",
   "metadata": {},
   "source": [
    "## 8 Puzzle Functions"
   ]
  },
  {
   "cell_type": "code",
   "execution_count": 3,
   "metadata": {},
   "outputs": [],
   "source": [
    "def findBlank_8p(state):\n",
    "    # find index of 0\n",
    "    index = state.index(0)\n",
    "    #return modulo and python op // for row and column\n",
    "    return index // 3, index % 3"
   ]
  },
  {
   "cell_type": "code",
   "execution_count": 4,
   "metadata": {},
   "outputs": [],
   "source": [
    "def printState_8p(state):\n",
    "    state = state.copy()\n",
    "    state[state.index(0)] = \"-\"\n",
    "    #make each line as its own list\n",
    "    l1,l2,l3 = state[:3], state[3:6], state[6:]\n",
    "    #print theses lists seperated by a new line\n",
    "    for l in [l1,l2,l3]:\n",
    "        print(*l, sep = \" \")\n",
    "    return\n"
   ]
  },
  {
   "cell_type": "code",
   "execution_count": 5,
   "metadata": {},
   "outputs": [],
   "source": [
    "def actionsF_8p(state):\n",
    "    i = state.index(0)\n",
    "    if i % 3 > 0:\n",
    "        yield \"left\"\n",
    "    if i % 3 < 2:\n",
    "        yield \"right\"\n",
    "    if i // 3 > 0:\n",
    "        yield \"up\"\n",
    "    if i // 3 < 2:\n",
    "        yield \"down\""
   ]
  },
  {
   "cell_type": "code",
   "execution_count": 6,
   "metadata": {},
   "outputs": [],
   "source": [
    "def takeActionF_8p(state, action):\n",
    "    #this does not check if action is allowed\n",
    "    state = state.copy()\n",
    "    i = state.index(0)\n",
    "    if action == \"right\":\n",
    "        state[i], state[i+1] = state[i+1], state[i]\n",
    "    elif action == \"left\":\n",
    "        state[i], state[i-1] = state[i-1], state[i]\n",
    "    elif action == \"up\":\n",
    "        state[i], state[i-3] = state[i-3], state[i]\n",
    "    elif action == \"down\":\n",
    "        state[i], state[i+3] = state[i+3], state[i]\n",
    "    return state\n"
   ]
  },
  {
   "cell_type": "code",
   "execution_count": 7,
   "metadata": {},
   "outputs": [],
   "source": [
    "def printPath_8p(startState, goalState, path):\n",
    "    printState_8p(startState)\n",
    "    print()\n",
    "    for state in path:\n",
    "        printState_8p(state)\n",
    "        print()\n",
    "    printState_8p(goalState)"
   ]
  },
  {
   "cell_type": "markdown",
   "metadata": {},
   "source": [
    "## 15 Puzzle Functions"
   ]
  },
  {
   "cell_type": "code",
   "execution_count": 8,
   "metadata": {},
   "outputs": [],
   "source": [
    "def findBlank_15p(state):\n",
    "    # find index of 0\n",
    "    index = state.index(0)\n",
    "    #return modulo and python op // for row and column\n",
    "    return index // 4, index % 4"
   ]
  },
  {
   "cell_type": "code",
   "execution_count": 9,
   "metadata": {},
   "outputs": [],
   "source": [
    "def printState_15p(state):\n",
    "    state = state.copy()\n",
    "    state[state.index(0)] = \"-\"\n",
    "    #make each line as its own list\n",
    "    l1,l2,l3,l4 = state[:4], state[4:8], state[8:12], state[12:]\n",
    "    #print theses lists seperated by a new line\n",
    "    for l in [l1,l2,l3, l4]:\n",
    "        print(*l, sep = \" \")\n",
    "    return\n"
   ]
  },
  {
   "cell_type": "code",
   "execution_count": 49,
   "metadata": {},
   "outputs": [],
   "source": [
    "def actionsF_15p(state):\n",
    "    i = state.index(0)\n",
    "    if i % 4 > 0:\n",
    "        yield \"left\"\n",
    "    if i % 4 < 3:\n",
    "        yield \"right\"\n",
    "    if i // 4 > 0:\n",
    "        yield \"up\"\n",
    "    if i // 4 < 3:\n",
    "        yield \"down\""
   ]
  },
  {
   "cell_type": "code",
   "execution_count": 11,
   "metadata": {},
   "outputs": [],
   "source": [
    "def takeActionF_15p(state, action):\n",
    "    #this does not check if action is allowed\n",
    "    state = state.copy()\n",
    "    i = state.index(0)\n",
    "    if action == \"right\":\n",
    "        state[i], state[i+1] = state[i+1], state[i]\n",
    "    elif action == \"left\":\n",
    "        state[i], state[i-1] = state[i-1], state[i]\n",
    "    elif action == \"up\":\n",
    "        state[i], state[i-4] = state[i-4], state[i]\n",
    "    elif action == \"down\":\n",
    "        state[i], state[i+4] = state[i+4], state[i]\n",
    "    return state\n"
   ]
  },
  {
   "cell_type": "code",
   "execution_count": 12,
   "metadata": {},
   "outputs": [],
   "source": [
    "def printPath_15p(startState, goalState, path):\n",
    "    printState_15p(startState)\n",
    "    print()\n",
    "    for state in path:\n",
    "        printState_15p(state)\n",
    "        print()\n",
    "    printState_15p(goalState)"
   ]
  },
  {
   "cell_type": "markdown",
   "metadata": {},
   "source": [
    "## Maze Functions"
   ]
  },
  {
   "cell_type": "code",
   "execution_count": 13,
   "metadata": {},
   "outputs": [],
   "source": [
    "def actionsF_maze(state):\n",
    "    i = state.index(\"O\")\n",
    "    if i % 10 > 0 and state[i-1] != \"x\":\n",
    "        yield \"left\"\n",
    "    if i % 10 < 9 and state[i+1] != \"x\":\n",
    "        yield \"right\"\n",
    "    if i // 10 > 0 and state[i-10] != \"x\":\n",
    "        yield \"up\"\n",
    "    if i // 10 < 9 and state[i+10] != \"x\":\n",
    "        yield \"down\""
   ]
  },
  {
   "cell_type": "code",
   "execution_count": 14,
   "metadata": {},
   "outputs": [],
   "source": [
    "def takeActionF_maze(state, action):\n",
    "    #this does not check if action is allowed\n",
    "    state = state.copy()\n",
    "    i = state.index(\"O\")\n",
    "    if action == \"right\":\n",
    "        state[i], state[i+1] = state[i+1], state[i]\n",
    "    elif action == \"left\":\n",
    "        state[i], state[i-1] = state[i-1], state[i]\n",
    "    elif action == \"up\":\n",
    "        state[i], state[i-10] = state[i-10], state[i]\n",
    "    elif action == \"down\":\n",
    "        state[i], state[i+10] = state[i+10], state[i]\n",
    "    return state"
   ]
  },
  {
   "cell_type": "code",
   "execution_count": 15,
   "metadata": {},
   "outputs": [],
   "source": [
    "def printMaze_10(state):\n",
    "    for i in range(0,10):\n",
    "        print(*state[i*10:(i+1)*10], sep = \" \")"
   ]
  },
  {
   "cell_type": "code",
   "execution_count": 16,
   "metadata": {},
   "outputs": [],
   "source": [
    "import random\n",
    "def regenerateMaze(state):\n",
    "    state = [random.sample(['x','-','-'],1)[0] for _ in range(0,100)] \n",
    "    return state"
   ]
  },
  {
   "cell_type": "code",
   "execution_count": 17,
   "metadata": {},
   "outputs": [],
   "source": [
    "def printMazePath(startState, goalState, path):\n",
    "    printingPath = path[0].copy()\n",
    "    for i in path:\n",
    "        printingPath[i.index(\"O\")] = \"~\"\n",
    "    printingPath[startState.index(\"O\")] = \"S\"\n",
    "    printingPath[goalState.index(\"O\")] = \"G\"\n",
    "    print(\"Path from startState S to goalState G\")\n",
    "    printMaze_10(printingPath)"
   ]
  },
  {
   "cell_type": "markdown",
   "metadata": {},
   "source": [
    "## Testing 8p"
   ]
  },
  {
   "cell_type": "code",
   "execution_count": 18,
   "metadata": {},
   "outputs": [],
   "source": [
    "startState = [1, 0, 3, 4, 2, 5, 6, 7, 8]"
   ]
  },
  {
   "cell_type": "code",
   "execution_count": 19,
   "metadata": {},
   "outputs": [
    {
     "name": "stdout",
     "output_type": "stream",
     "text": [
      "1 - 3\n",
      "4 2 5\n",
      "6 7 8\n"
     ]
    }
   ],
   "source": [
    "printState_8p(startState)  # not a required function for this assignment, but it helps when implementing printPath_8p"
   ]
  },
  {
   "cell_type": "code",
   "execution_count": 20,
   "metadata": {},
   "outputs": [
    {
     "name": "stdout",
     "output_type": "stream",
     "text": [
      "All tests passed for findBlank_8p\n"
     ]
    }
   ],
   "source": [
    "assert(findBlank_8p(startState) == (0,1))\n",
    "assert(findBlank_8p([1,2,3,0,5,6,7,8,4]) == (1,0))\n",
    "assert(findBlank_8p([1,2,3,8,5,6,7,4,0]) == (2,2))\n",
    "assert(findBlank_8p([1,2,3,8,0,6,7,4,5]) == (1,1))\n",
    "print(\"All tests passed for findBlank_8p\")"
   ]
  },
  {
   "cell_type": "code",
   "execution_count": 21,
   "metadata": {},
   "outputs": [
    {
     "name": "stdout",
     "output_type": "stream",
     "text": [
      "We expect left, right, down\n",
      "left\n",
      "right\n",
      "down\n"
     ]
    }
   ],
   "source": [
    "print(\"We expect left, right, down\")\n",
    "for action in actionsF_8p(startState):\n",
    "    print(action)"
   ]
  },
  {
   "cell_type": "code",
   "execution_count": 22,
   "metadata": {},
   "outputs": [],
   "source": [
    "actionList = list(actionsF_8p(startState))\n",
    "assert(actionList == ['left', 'right', 'down'])\n",
    "bottomRight, bottomLeft = [1,2,3,8,5,6,7,4,0], [1,2,3,8,5,6,0,4,7]\n",
    "topRight, topLeft = [1,2,0,8,5,6,7,4,1],[0,2,3,8,5,6,7,4,1]\n",
    "center = [1,2,3,4,0,5,6,7,8]\n",
    "actionList = list(actionsF_8p(bottomRight))\n",
    "assert(actionList == ['left', 'up'])\n",
    "actionList = list(actionsF_8p(bottomLeft))\n",
    "assert(actionList == ['right', 'up'])\n",
    "actionList = list(actionsF_8p(topRight))\n",
    "assert(actionList == ['left', 'down'])\n",
    "actionList = list(actionsF_8p(topLeft))\n",
    "assert(actionList == ['right', 'down'])\n",
    "actionList = list(actionsF_8p(center))\n",
    "assert(actionList == ['left', 'right', 'up', 'down'])"
   ]
  },
  {
   "cell_type": "code",
   "execution_count": 23,
   "metadata": {},
   "outputs": [
    {
     "data": {
      "text/plain": [
       "[1, 2, 3, 4, 0, 5, 6, 7, 8]"
      ]
     },
     "execution_count": 23,
     "metadata": {},
     "output_type": "execute_result"
    }
   ],
   "source": [
    "takeActionF_8p(startState, 'down')"
   ]
  },
  {
   "cell_type": "code",
   "execution_count": 24,
   "metadata": {},
   "outputs": [
    {
     "name": "stdout",
     "output_type": "stream",
     "text": [
      "1 - 3\n",
      "4 2 5\n",
      "6 7 8\n",
      "Moves down to\n",
      "1 2 3\n",
      "4 - 5\n",
      "6 7 8\n"
     ]
    }
   ],
   "source": [
    "printState_8p(startState)\n",
    "print(\"Moves down to\")\n",
    "printState_8p(takeActionF_8p(startState, 'down'))"
   ]
  },
  {
   "cell_type": "code",
   "execution_count": 25,
   "metadata": {},
   "outputs": [],
   "source": [
    "goalState = takeActionF_8p(startState, 'down')"
   ]
  },
  {
   "cell_type": "code",
   "execution_count": 26,
   "metadata": {},
   "outputs": [],
   "source": [
    "newState = takeActionF_8p(startState, 'down')"
   ]
  },
  {
   "cell_type": "code",
   "execution_count": 27,
   "metadata": {},
   "outputs": [
    {
     "data": {
      "text/plain": [
       "True"
      ]
     },
     "execution_count": 27,
     "metadata": {},
     "output_type": "execute_result"
    }
   ],
   "source": [
    "newState == goalState"
   ]
  },
  {
   "cell_type": "code",
   "execution_count": 28,
   "metadata": {},
   "outputs": [
    {
     "data": {
      "text/plain": [
       "[1, 0, 3, 4, 2, 5, 6, 7, 8]"
      ]
     },
     "execution_count": 28,
     "metadata": {},
     "output_type": "execute_result"
    }
   ],
   "source": [
    "startState"
   ]
  },
  {
   "cell_type": "code",
   "execution_count": 29,
   "metadata": {
    "scrolled": true
   },
   "outputs": [
    {
     "data": {
      "text/plain": [
       "[[0, 1, 3, 4, 2, 5, 6, 7, 8],\n",
       " [1, 0, 3, 4, 2, 5, 6, 7, 8],\n",
       " [1, 2, 3, 4, 0, 5, 6, 7, 8]]"
      ]
     },
     "execution_count": 29,
     "metadata": {},
     "output_type": "execute_result"
    }
   ],
   "source": [
    "path = depthLimitedSearch(startState, goalState, actionsF_8p, takeActionF_8p, 3)\n",
    "path"
   ]
  },
  {
   "cell_type": "markdown",
   "metadata": {},
   "source": [
    "Notice that `depthLimitedSearch` result is missing the start state.  This is inserted by `iterativeDeepeningSearch`.\n",
    "\n",
    "But, when we try `iterativeDeepeningSearch` to do the same search, it finds a shorter path!"
   ]
  },
  {
   "cell_type": "code",
   "execution_count": 30,
   "metadata": {
    "scrolled": true
   },
   "outputs": [
    {
     "data": {
      "text/plain": [
       "[[1, 0, 3, 4, 2, 5, 6, 7, 8], [1, 2, 3, 4, 0, 5, 6, 7, 8]]"
      ]
     },
     "execution_count": 30,
     "metadata": {},
     "output_type": "execute_result"
    }
   ],
   "source": [
    "path = iterativeDeepeningSearch(startState, goalState, actionsF_8p, takeActionF_8p, 3)\n",
    "path"
   ]
  },
  {
   "cell_type": "markdown",
   "metadata": {},
   "source": [
    "Also notice that the successor states are lists, not tuples.  This is okay, because the search functions for this assignment do not"
   ]
  },
  {
   "cell_type": "code",
   "execution_count": 31,
   "metadata": {},
   "outputs": [
    {
     "data": {
      "text/plain": [
       "'cutoff'"
      ]
     },
     "execution_count": 31,
     "metadata": {},
     "output_type": "execute_result"
    }
   ],
   "source": [
    "startState = [4, 7, 2, 1, 6, 5, 0, 3, 8]\n",
    "path = iterativeDeepeningSearch(startState, goalState, actionsF_8p, takeActionF_8p, 3)\n",
    "path"
   ]
  },
  {
   "cell_type": "code",
   "execution_count": 32,
   "metadata": {},
   "outputs": [
    {
     "data": {
      "text/plain": [
       "'cutoff'"
      ]
     },
     "execution_count": 32,
     "metadata": {},
     "output_type": "execute_result"
    }
   ],
   "source": [
    "startState = [4, 7, 2, 1, 6, 5, 0, 3, 8]\n",
    "path = iterativeDeepeningSearch(startState, goalState, actionsF_8p, takeActionF_8p, 5)\n",
    "path"
   ]
  },
  {
   "cell_type": "markdown",
   "metadata": {},
   "source": [
    "Humm...maybe we can't reach the goal state from this state.  We need a way to randomly generate a valid start state."
   ]
  },
  {
   "cell_type": "code",
   "execution_count": 33,
   "metadata": {},
   "outputs": [],
   "source": [
    "import random"
   ]
  },
  {
   "cell_type": "code",
   "execution_count": 34,
   "metadata": {},
   "outputs": [
    {
     "data": {
      "text/plain": [
       "'left'"
      ]
     },
     "execution_count": 34,
     "metadata": {},
     "output_type": "execute_result"
    }
   ],
   "source": [
    "random.choice(['left', 'right'])"
   ]
  },
  {
   "cell_type": "code",
   "execution_count": 35,
   "metadata": {},
   "outputs": [],
   "source": [
    "def randomStartState(goalState, actionsF, takeActionF, nSteps):\n",
    "    state = goalState\n",
    "    for i in range(nSteps):\n",
    "        l = list(actionsF(state))\n",
    "        state = takeActionF(state, random.choice(l))\n",
    "    return state"
   ]
  },
  {
   "cell_type": "code",
   "execution_count": 36,
   "metadata": {},
   "outputs": [
    {
     "data": {
      "text/plain": [
       "[1, 3, 0, 4, 2, 5, 6, 7, 8]"
      ]
     },
     "execution_count": 36,
     "metadata": {},
     "output_type": "execute_result"
    }
   ],
   "source": [
    "goalState = [1, 2, 3, 4, 0, 5, 6, 7, 8]\n",
    "randomStartState(goalState, actionsF_8p, takeActionF_8p, 10)"
   ]
  },
  {
   "cell_type": "code",
   "execution_count": 37,
   "metadata": {},
   "outputs": [
    {
     "data": {
      "text/plain": [
       "[1, 2, 0, 4, 8, 3, 6, 5, 7]"
      ]
     },
     "execution_count": 37,
     "metadata": {},
     "output_type": "execute_result"
    }
   ],
   "source": [
    "startState = randomStartState(goalState, actionsF_8p, takeActionF_8p, 50)\n",
    "startState"
   ]
  },
  {
   "cell_type": "code",
   "execution_count": 38,
   "metadata": {},
   "outputs": [
    {
     "data": {
      "text/plain": [
       "[[1, 2, 0, 4, 8, 3, 6, 5, 7],\n",
       " [1, 2, 3, 4, 8, 0, 6, 5, 7],\n",
       " [1, 2, 3, 4, 0, 8, 6, 5, 7],\n",
       " [1, 2, 3, 4, 5, 8, 6, 0, 7],\n",
       " [1, 2, 3, 4, 5, 8, 6, 7, 0],\n",
       " [1, 2, 3, 4, 5, 0, 6, 7, 8],\n",
       " [1, 2, 3, 4, 0, 5, 6, 7, 8]]"
      ]
     },
     "execution_count": 38,
     "metadata": {},
     "output_type": "execute_result"
    }
   ],
   "source": [
    "path = iterativeDeepeningSearch(startState, goalState, actionsF_8p, takeActionF_8p, 20)\n",
    "path"
   ]
  },
  {
   "cell_type": "markdown",
   "metadata": {},
   "source": [
    "Let's print out the state sequence in a readable form."
   ]
  },
  {
   "cell_type": "code",
   "execution_count": 39,
   "metadata": {},
   "outputs": [
    {
     "name": "stdout",
     "output_type": "stream",
     "text": [
      "1 2 -\n",
      "4 8 3\n",
      "6 5 7\n",
      "\n",
      "1 2 -\n",
      "4 8 3\n",
      "6 5 7\n",
      "\n",
      "1 2 3\n",
      "4 8 -\n",
      "6 5 7\n",
      "\n",
      "1 2 3\n",
      "4 - 8\n",
      "6 5 7\n",
      "\n",
      "1 2 3\n",
      "4 5 8\n",
      "6 - 7\n",
      "\n",
      "1 2 3\n",
      "4 5 8\n",
      "6 7 -\n",
      "\n",
      "1 2 3\n",
      "4 5 -\n",
      "6 7 8\n",
      "\n",
      "1 2 3\n",
      "4 - 5\n",
      "6 7 8\n",
      "\n",
      "1 2 3\n",
      "4 - 5\n",
      "6 7 8\n"
     ]
    }
   ],
   "source": [
    "printPath_8p(startState, goalState, path)"
   ]
  },
  {
   "cell_type": "markdown",
   "metadata": {},
   "source": [
    "## Testing 15p"
   ]
  },
  {
   "cell_type": "code",
   "execution_count": 59,
   "metadata": {},
   "outputs": [],
   "source": [
    "goalState = [1, 2, 3, 4, 5, 6, 7, 8, 9, 10, 11, 12, 13, 14, 15, 0]\n",
    "startState = [0, 2, 3, 4, 1, 6, 7, 8, 5, 14, 10, 11, 9, 13, 15, 12]"
   ]
  },
  {
   "cell_type": "code",
   "execution_count": 60,
   "metadata": {},
   "outputs": [
    {
     "name": "stdout",
     "output_type": "stream",
     "text": [
      "- 2 3 4\n",
      "1 6 7 8\n",
      "5 14 10 11\n",
      "9 13 15 12\n"
     ]
    }
   ],
   "source": [
    "printState_15p(startState) "
   ]
  },
  {
   "cell_type": "code",
   "execution_count": 62,
   "metadata": {},
   "outputs": [
    {
     "name": "stdout",
     "output_type": "stream",
     "text": [
      "We expect right, down\n",
      "right\n",
      "down\n",
      "We expect left, up\n",
      "left\n",
      "up\n"
     ]
    }
   ],
   "source": [
    "print(\"We expect right, down\")\n",
    "for action in actionsF_15p(startState):\n",
    "    print(action)\n",
    "print(\"We expect left, up\")\n",
    "for action in actionsF_15p(goalState):\n",
    "    print(action)"
   ]
  },
  {
   "cell_type": "markdown",
   "metadata": {},
   "source": [
    "Moving down"
   ]
  },
  {
   "cell_type": "code",
   "execution_count": 63,
   "metadata": {},
   "outputs": [
    {
     "name": "stdout",
     "output_type": "stream",
     "text": [
      "- 2 3 4\n",
      "1 6 7 8\n",
      "5 14 10 11\n",
      "9 13 15 12\n",
      "Moves down to\n",
      "1 2 3 4\n",
      "- 6 7 8\n",
      "5 14 10 11\n",
      "9 13 15 12\n"
     ]
    }
   ],
   "source": [
    "printState_15p(startState)\n",
    "print(\"Moves down to\")\n",
    "printState_15p(takeActionF_15p(startState, 'down'))"
   ]
  },
  {
   "cell_type": "code",
   "execution_count": 66,
   "metadata": {},
   "outputs": [
    {
     "name": "stdout",
     "output_type": "stream",
     "text": [
      "- 2 3 4\n",
      "1 6 7 8\n",
      "5 14 10 11\n",
      "9 13 15 12\n",
      "\n",
      "- 2 3 4\n",
      "1 6 7 8\n",
      "5 14 10 11\n",
      "9 13 15 12\n",
      "\n",
      "1 2 3 4\n",
      "- 6 7 8\n",
      "5 14 10 11\n",
      "9 13 15 12\n",
      "\n",
      "1 2 3 4\n",
      "5 6 7 8\n",
      "- 14 10 11\n",
      "9 13 15 12\n",
      "\n",
      "1 2 3 4\n",
      "5 6 7 8\n",
      "9 14 10 11\n",
      "- 13 15 12\n",
      "\n",
      "1 2 3 4\n",
      "5 6 7 8\n",
      "9 14 10 11\n",
      "13 - 15 12\n",
      "\n",
      "1 2 3 4\n",
      "5 6 7 8\n",
      "9 - 10 11\n",
      "13 14 15 12\n",
      "\n",
      "1 2 3 4\n",
      "5 6 7 8\n",
      "9 10 - 11\n",
      "13 14 15 12\n",
      "\n",
      "1 2 3 4\n",
      "5 6 7 8\n",
      "9 10 11 -\n",
      "13 14 15 12\n",
      "\n",
      "1 2 3 4\n",
      "5 6 7 8\n",
      "9 10 11 12\n",
      "13 14 15 -\n",
      "\n",
      "1 2 3 4\n",
      "5 6 7 8\n",
      "9 10 11 12\n",
      "13 14 15 -\n"
     ]
    }
   ],
   "source": [
    "path = iterativeDeepeningSearch(startState, goalState, actionsF_15p, takeActionF_15p, 15)\n",
    "printPath_15p(startState, goalState, path)"
   ]
  },
  {
   "cell_type": "markdown",
   "metadata": {},
   "source": [
    "## Testing the maze"
   ]
  },
  {
   "cell_type": "markdown",
   "metadata": {},
   "source": [
    "First, we have our start and goal states of the maze. \"O\" will move about the maze similar to how \"-\" did in the 8 puzzle. "
   ]
  },
  {
   "cell_type": "code",
   "execution_count": 67,
   "metadata": {},
   "outputs": [
    {
     "name": "stdout",
     "output_type": "stream",
     "text": [
      "The Start: \n",
      "O x - - - x - x x -\n",
      "- - - - x - - - x -\n",
      "x x x - - - x x - x\n",
      "x x - - - - - - x x\n",
      "x - x x x - x - x -\n",
      "- x - x x - - - - x\n",
      "- - - x - - - - - x\n",
      "x - x x - - - x - -\n",
      "x - x - - x x - - x\n",
      "x x - x x - - x - -\n",
      "The Goal: \n",
      "- x - - - x - x x -\n",
      "- - - - x - - - x -\n",
      "x x x - - - x x - x\n",
      "x x - - - - - - x x\n",
      "x - x x x - x - x -\n",
      "- x - x x - - - - x\n",
      "- - - x - - - - - x\n",
      "x - x x - - - x - -\n",
      "x - x - - x x - - x\n",
      "x x - x x - - x - O\n"
     ]
    }
   ],
   "source": [
    "startState = ['O', 'x', '-', '-', '-', 'x', '-', 'x', 'x','-',\n",
    " '-', '-', '-', '-', 'x', '-', '-',\n",
    " '-', 'x', '-', 'x', 'x', 'x', '-', '-',\n",
    " '-', 'x', 'x', '-', 'x', 'x', 'x', '-',\n",
    " '-', '-', '-', '-', '-', 'x', 'x', 'x',\n",
    " '-', 'x', 'x', 'x', '-', 'x',\n",
    " '-', 'x', '-', '-', 'x', '-', 'x', 'x',\n",
    " '-', '-', '-', '-', 'x', '-', '-', '-',\n",
    " 'x', '-', '-', '-', '-', '-', 'x', 'x',\n",
    " '-', 'x', 'x', '-', '-', '-', 'x', '-',\n",
    " '-', 'x', '-', 'x', '-', '-', 'x', 'x',\n",
    " '-', '-', 'x', 'x', 'x', '-', 'x', 'x',\n",
    " '-', '-', 'x', '-', '-']\n",
    "print(\"The Start: \")\n",
    "printMaze_10(startState)\n",
    "goalState = startState.copy()\n",
    "goalState[0] = \"-\"\n",
    "goalState[99] = \"O\"\n",
    "print(\"The Goal: \")\n",
    "printMaze_10(goalState)"
   ]
  },
  {
   "cell_type": "markdown",
   "metadata": {},
   "source": [
    "Some verification"
   ]
  },
  {
   "cell_type": "code",
   "execution_count": 68,
   "metadata": {},
   "outputs": [
    {
     "name": "stdout",
     "output_type": "stream",
     "text": [
      "Test Passed\n"
     ]
    }
   ],
   "source": [
    "assert(list(actionsF_maze(startState)) == ['down'])\n",
    "print(\"Test Passed\")"
   ]
  },
  {
   "cell_type": "markdown",
   "metadata": {},
   "source": [
    "Test that the action takes effect in the maze."
   ]
  },
  {
   "cell_type": "code",
   "execution_count": 69,
   "metadata": {},
   "outputs": [
    {
     "name": "stdout",
     "output_type": "stream",
     "text": [
      "- x - - - x - x x -\n",
      "O - - - x - - - x -\n",
      "x x x - - - x x - x\n",
      "x x - - - - - - x x\n",
      "x - x x x - x - x -\n",
      "- x - x x - - - - x\n",
      "- - - x - - - - - x\n",
      "x - x x - - - x - -\n",
      "x - x - - x x - - x\n",
      "x x - x x - - x - -\n"
     ]
    }
   ],
   "source": [
    "downone = takeActionF_maze(startState,\"down\")\n",
    "printMaze_10(downone)"
   ]
  },
  {
   "cell_type": "code",
   "execution_count": 70,
   "metadata": {},
   "outputs": [
    {
     "name": "stdout",
     "output_type": "stream",
     "text": [
      "Test Passed\n"
     ]
    }
   ],
   "source": [
    "assert(list(actionsF_maze(downone)) == ['right', 'up'])\n",
    "print(\"Test Passed\")"
   ]
  },
  {
   "cell_type": "code",
   "execution_count": 71,
   "metadata": {},
   "outputs": [],
   "source": [
    "result = iterativeDeepeningSearch(startState, goalState, actionsF_maze, takeActionF_maze, 20)"
   ]
  },
  {
   "cell_type": "code",
   "execution_count": 72,
   "metadata": {},
   "outputs": [
    {
     "name": "stdout",
     "output_type": "stream",
     "text": [
      "Path from startState S to goalState G\n",
      "S x - - - x - x x -\n",
      "~ ~ ~ ~ x - - - x -\n",
      "x x x ~ ~ ~ x x - x\n",
      "x x - - - ~ ~ ~ x x\n",
      "x - x x x - x ~ x -\n",
      "- x - x x - - ~ ~ x\n",
      "- - - x - - - - ~ x\n",
      "x - x x - - - x ~ -\n",
      "x - x - - x x - ~ x\n",
      "x x - x x - - x ~ G\n"
     ]
    }
   ],
   "source": [
    "printMazePath(startState, goalState, result)"
   ]
  },
  {
   "cell_type": "code",
   "execution_count": 78,
   "metadata": {},
   "outputs": [
    {
     "name": "stdout",
     "output_type": "stream",
     "text": [
      "- - - - x x - - x x\n",
      "- - - x x x - - x -\n",
      "x - - - - - x - - -\n",
      "- - x x x - - - - -\n",
      "x x - - - - x x x x\n",
      "x - - - - - - x - -\n",
      "- - - - - - - - x -\n",
      "- - - - - x - - - x\n",
      "- x - - x - x x - x\n",
      "- - x - x x - - - x\n"
     ]
    }
   ],
   "source": [
    "startState = regenerateMaze(startState)\n",
    "printMaze_10(startState)"
   ]
  },
  {
   "cell_type": "code",
   "execution_count": 79,
   "metadata": {},
   "outputs": [
    {
     "name": "stdout",
     "output_type": "stream",
     "text": [
      "- - - - x x - - x x\n",
      "- - - x x x - - x -\n",
      "x - - - - - x - - -\n",
      "- - x x x - - - - -\n",
      "x x - - - - x x x x\n",
      "x - - - - - - x - -\n",
      "- - - - - - - - x -\n",
      "- - - - - x - - - x\n",
      "- x - - x - x x - x\n",
      "- - O - x x - - - x\n",
      "goal: \n",
      "- - - - x x - - x x\n",
      "- - - x x x - - x -\n",
      "x - - - - - x - - -\n",
      "- - x x x - - - - -\n",
      "x x - - - - x x x x\n",
      "x - - - - - - x - -\n",
      "- - - - - - - - x -\n",
      "- - - - - x - - - x\n",
      "- x - - x - x x - x\n",
      "- - - - x x - O - x\n"
     ]
    }
   ],
   "source": [
    "startState[92] = \"-\"\n",
    "goalState = startState.copy()\n",
    "startState[92] = \"O\"\n",
    "printMaze_10(startState)\n",
    "goalState[97] = \"O\"\n",
    "print(\"goal: \")\n",
    "printMaze_10(goalState)"
   ]
  },
  {
   "cell_type": "code",
   "execution_count": 81,
   "metadata": {},
   "outputs": [
    {
     "name": "stdout",
     "output_type": "stream",
     "text": [
      "Path from startState S to goalState G\n",
      "- - - - x x - - x x\n",
      "- - - x x x - - x -\n",
      "x - - - - - x - - -\n",
      "- - x x x - - - - -\n",
      "x x - - - - x x x x\n",
      "x - - - - - - x - -\n",
      "- - - - ~ ~ ~ ~ x -\n",
      "- - - ~ ~ x - ~ ~ x\n",
      "- x - ~ x - x x ~ x\n",
      "- - S ~ x x - G ~ x\n"
     ]
    }
   ],
   "source": [
    "result = iterativeDeepeningSearch(startState, goalState, actionsF_maze, takeActionF_maze, 20)\n",
    "if result != \"cutoff\" and result != \"failure\":\n",
    "    printMazePath(startState, goalState, result)\n",
    "else:\n",
    "    print(result + \" at this Max Depth\")"
   ]
  },
  {
   "cell_type": "markdown",
   "metadata": {},
   "source": [
    "Extra Credit cases"
   ]
  },
  {
   "cell_type": "code",
   "execution_count": 92,
   "metadata": {},
   "outputs": [],
   "source": [
    "goodcase1 = ['-',\n",
    " '-',\n",
    " '-',\n",
    " '-',\n",
    " 'x',\n",
    " 'x',\n",
    " '-',\n",
    " '-',\n",
    " 'x',\n",
    " 'x',\n",
    " '-',\n",
    " '-',\n",
    " '-',\n",
    " 'x',\n",
    " 'x',\n",
    " 'x',\n",
    " '-',\n",
    " '-',\n",
    " 'x',\n",
    " '-',\n",
    " 'x',\n",
    " '-',\n",
    " '-',\n",
    " '-',\n",
    " '-',\n",
    " '-',\n",
    " 'x',\n",
    " '-',\n",
    " '-',\n",
    " '-',\n",
    " '-',\n",
    " '-',\n",
    " 'x',\n",
    " 'x',\n",
    " 'x',\n",
    " '-',\n",
    " '-',\n",
    " '-',\n",
    " '-',\n",
    " '-',\n",
    " 'x',\n",
    " 'x',\n",
    " '-',\n",
    " '-',\n",
    " '-',\n",
    " '-',\n",
    " 'x',\n",
    " 'x',\n",
    " 'x',\n",
    " 'x',\n",
    " 'x',\n",
    " '-',\n",
    " '-',\n",
    " '-',\n",
    " '-',\n",
    " '-',\n",
    " '-',\n",
    " 'x',\n",
    " '-',\n",
    " '-',\n",
    " '-',\n",
    " '-',\n",
    " '-',\n",
    " '-',\n",
    " '-',\n",
    " '-',\n",
    " '-',\n",
    " '-',\n",
    " 'x',\n",
    " '-',\n",
    " '-',\n",
    " '-',\n",
    " '-',\n",
    " '-',\n",
    " '-',\n",
    " 'x',\n",
    " '-',\n",
    " '-',\n",
    " '-',\n",
    " 'x',\n",
    " '-',\n",
    " 'x',\n",
    " '-',\n",
    " '-',\n",
    " 'x',\n",
    " '-',\n",
    " 'x',\n",
    " 'x',\n",
    " '-',\n",
    " 'x',\n",
    " '-',\n",
    " '-',\n",
    " 'O',\n",
    " '-',\n",
    " 'x',\n",
    " 'x',\n",
    " '-',\n",
    " '-',\n",
    " '-',\n",
    " 'x']\n",
    "goodgoal1 = ['-',\n",
    " '-',\n",
    " '-',\n",
    " '-',\n",
    " 'x',\n",
    " 'x',\n",
    " '-',\n",
    " '-',\n",
    " 'x',\n",
    " 'x',\n",
    " '-',\n",
    " '-',\n",
    " '-',\n",
    " 'x',\n",
    " 'x',\n",
    " 'x',\n",
    " '-',\n",
    " '-',\n",
    " 'x',\n",
    " '-',\n",
    " 'x',\n",
    " '-',\n",
    " '-',\n",
    " '-',\n",
    " '-',\n",
    " '-',\n",
    " 'x',\n",
    " '-',\n",
    " '-',\n",
    " '-',\n",
    " '-',\n",
    " '-',\n",
    " 'x',\n",
    " 'x',\n",
    " 'x',\n",
    " '-',\n",
    " '-',\n",
    " '-',\n",
    " '-',\n",
    " '-',\n",
    " 'x',\n",
    " 'x',\n",
    " '-',\n",
    " '-',\n",
    " '-',\n",
    " '-',\n",
    " 'x',\n",
    " 'x',\n",
    " 'x',\n",
    " 'x',\n",
    " 'x',\n",
    " '-',\n",
    " '-',\n",
    " '-',\n",
    " '-',\n",
    " '-',\n",
    " '-',\n",
    " 'x',\n",
    " '-',\n",
    " '-',\n",
    " '-',\n",
    " '-',\n",
    " '-',\n",
    " '-',\n",
    " '-',\n",
    " '-',\n",
    " '-',\n",
    " '-',\n",
    " 'x',\n",
    " '-',\n",
    " '-',\n",
    " '-',\n",
    " '-',\n",
    " '-',\n",
    " '-',\n",
    " 'x',\n",
    " '-',\n",
    " '-',\n",
    " '-',\n",
    " 'x',\n",
    " '-',\n",
    " 'x',\n",
    " '-',\n",
    " '-',\n",
    " 'x',\n",
    " '-',\n",
    " 'x',\n",
    " 'x',\n",
    " '-',\n",
    " 'x',\n",
    " '-',\n",
    " '-',\n",
    " '-',\n",
    " '-',\n",
    " 'x',\n",
    " 'x',\n",
    " '-',\n",
    " 'O',\n",
    " '-',\n",
    " 'x']\n",
    "case1 = ['-',\n",
    " '-', '-', '-', 'x', '-', '-',\n",
    " 'x', '-', 'x', '-', '-', '-', '-', '-', '-', '-', '-', '-', '-', '-', '-', '-',\n",
    " '-', 'x', '-', '-', '-', '-', 'x', 'x', 'x', 'x', '-', '-', 'x', '-', '-', '-',\n",
    " '-', 'x', 'x', '-', '-', '-', '-', '-', '-', 'x', '-', 'x', '-', 'x', '-', 'x',\n",
    " '-', 'x', 'x', '-', '-', 'x', 'x', '-', 'x', '-', '-', '-', '-', '-', '-', 'x',\n",
    " '-', '-', '-', 'x', '-', '-', 'x', '-', 'x', 'x', '-', '-', '-', '-', 'x', '-',\n",
    " '-', 'x', '-', 'x', 'x', '-', '-', '-', 'x', 'x', '-', '-', '-']\n",
    "goal1 = case1.copy()\n",
    "start1 = case1.copy()\n",
    "start1[0] = \"O\"\n",
    "goal1[99] = \"O\"\n",
    "case2 = ['-', '-', '-', '-', '-', '-', '-', '-',\n",
    " '-', 'x', '-', 'x', 'x', '-', 'x', '-', '-', '-', 'x', '-', '-', 'x', 'x', '-',\n",
    " '-', '-', '-', '-', 'x', '-', '-', 'x', 'x', '-', 'x', '-', '-', 'x', 'x', '-',\n",
    " '-', '-', 'x', '-', 'x', '-', 'x', 'x', 'x', 'x', '-', '-', 'x', 'x', '-', '-',\n",
    " '-', 'x', '-', '-', 'x', 'x', 'x', '-', '-', '-', '-', '-', '-', '-', '-', '-',\n",
    " '-', '-', 'x', '-', 'x', '-', 'x', 'x', '-', '-', '-', 'x', '-', '-', '-', 'x',\n",
    " '-', 'x', '-', '-', '-', '-', 'x', '-', '-', '-', 'x', '-']\n",
    "goal2 = case2.copy()\n",
    "start2 = case2.copy()\n",
    "start2[0] = \"O\"\n",
    "start2[90] = \"O\"\n",
    "case3 = ['-', '-',\n",
    " '-', '-', '-', '-', '-', '-', '-', 'x', '-', 'x', 'x', '-', 'x', '-', '-',\n",
    " '-', 'x', '-', '-', 'x', 'x', '-', '-', '-', '-', '-', 'x', '-', '-', 'x', 'x',\n",
    " '-', 'x', '-', '-', 'x', 'x', '-', '-', '-', 'x', '-', 'x', '-', 'x', 'x', 'x',\n",
    " 'x', '-', '-', 'x', 'x', '-', '-', '-', 'x', '-', '-', 'x', 'x', 'x', '-', '-',\n",
    " '-', '-', '-', '-', '-', '-', '-', '-', '-', 'x', '-', 'x', '-', 'x', 'x', '-',\n",
    " '-', '-', 'x', '-', '-', '-', 'x', '-', 'x', '-', '-', '-', '-', 'x', '-', '-',\n",
    " '-', 'x', '-']\n",
    "goal3 = case3.copy()\n",
    "start3 = case3.copy()\n",
    "start3[51] = \"O\"\n",
    "start3[54] = \"O\"\n",
    "case4 = ['x', '-', '-', '-', '-', '-', '-', '-', '-', 'x', '-', '-', 'x', 'x', 'x', '-',\n",
    " '-', 'x', '-', '-', 'x', '-', 'x', '-', '-', '-', 'x', 'x', '-', '-', '-', '-',\n",
    " '-', 'x', '-', '-', '-', '-', 'x', '-', 'x', '-', '-', '-', 'x', 'x', '-', '-',\n",
    " 'x', 'x', '-', '-', '-', '-', '-', '-', 'x', '-', '-', '-', '-', 'x', '-', '-',\n",
    " 'x', '-', '-', '-', 'x', 'x', 'x', '-', '-', '-', '-', 'x', '-', '-', '-', '-',\n",
    " '-', '-', '-', 'x', '-', '-', '-', '-', '-', '-', '-', '-', '-', 'x', 'x', 'x',\n",
    " '-', 'x', 'x', '-']\n",
    "goal4 = case4.copy()\n",
    "start4 = case4.copy()\n",
    "start4[39] = \"O\"\n",
    "start4[50] = \"O\""
   ]
  },
  {
   "cell_type": "code",
   "execution_count": 85,
   "metadata": {},
   "outputs": [
    {
     "name": "stdout",
     "output_type": "stream",
     "text": [
      "O - - - x - - x - x\n",
      "- - - - - - - - - -\n",
      "- - - - x - - - - x\n",
      "x x x - - x - - - -\n",
      "x x - - - - - - x -\n",
      "x - x - x - x x - -\n",
      "x x - x - - - - - -\n",
      "x - - - x - - x - x\n",
      "x - - - - x - - x -\n",
      "x x - - - x x - - -\n",
      "\n",
      "- - - - x - - x - x\n",
      "- - - - - - - - - -\n",
      "- - - - x - - - - x\n",
      "x x x - - x - - - -\n",
      "x x - - - - - - x -\n",
      "x - x - x - x x - -\n",
      "x x - x - - - - - -\n",
      "x - - - x - - x - x\n",
      "x - - - - x - - x -\n",
      "x x - - - x x - - O\n"
     ]
    }
   ],
   "source": [
    "printMaze_10(start1)\n",
    "print()\n",
    "printMaze_10(goal1)"
   ]
  },
  {
   "cell_type": "code",
   "execution_count": 90,
   "metadata": {},
   "outputs": [
    {
     "data": {
      "text/plain": [
       "['-',\n",
       " '-',\n",
       " '-',\n",
       " '-',\n",
       " 'x',\n",
       " 'x',\n",
       " '-',\n",
       " '-',\n",
       " 'x',\n",
       " 'x',\n",
       " '-',\n",
       " '-',\n",
       " '-',\n",
       " 'x',\n",
       " 'x',\n",
       " 'x',\n",
       " '-',\n",
       " '-',\n",
       " 'x',\n",
       " '-',\n",
       " 'x',\n",
       " '-',\n",
       " '-',\n",
       " '-',\n",
       " '-',\n",
       " '-',\n",
       " 'x',\n",
       " '-',\n",
       " '-',\n",
       " '-',\n",
       " '-',\n",
       " '-',\n",
       " 'x',\n",
       " 'x',\n",
       " 'x',\n",
       " '-',\n",
       " '-',\n",
       " '-',\n",
       " '-',\n",
       " '-',\n",
       " 'x',\n",
       " 'x',\n",
       " '-',\n",
       " '-',\n",
       " '-',\n",
       " '-',\n",
       " 'x',\n",
       " 'x',\n",
       " 'x',\n",
       " 'x',\n",
       " 'x',\n",
       " '-',\n",
       " '-',\n",
       " '-',\n",
       " '-',\n",
       " '-',\n",
       " '-',\n",
       " 'x',\n",
       " '-',\n",
       " '-',\n",
       " '-',\n",
       " '-',\n",
       " '-',\n",
       " '-',\n",
       " '-',\n",
       " '-',\n",
       " '-',\n",
       " '-',\n",
       " 'x',\n",
       " '-',\n",
       " '-',\n",
       " '-',\n",
       " '-',\n",
       " '-',\n",
       " '-',\n",
       " 'x',\n",
       " '-',\n",
       " '-',\n",
       " '-',\n",
       " 'x',\n",
       " '-',\n",
       " 'x',\n",
       " '-',\n",
       " '-',\n",
       " 'x',\n",
       " '-',\n",
       " 'x',\n",
       " 'x',\n",
       " '-',\n",
       " 'x',\n",
       " '-',\n",
       " '-',\n",
       " '-',\n",
       " '-',\n",
       " 'x',\n",
       " 'x',\n",
       " '-',\n",
       " 'O',\n",
       " '-',\n",
       " 'x']"
      ]
     },
     "execution_count": 90,
     "metadata": {},
     "output_type": "execute_result"
    }
   ],
   "source": [
    "goalState"
   ]
  },
  {
   "cell_type": "code",
   "execution_count": 176,
   "metadata": {},
   "outputs": [
    {
     "name": "stdout",
     "output_type": "stream",
     "text": [
      "cutoff at this Max Depth\n",
      "cutoff at this Max Depth\n",
      "cutoff at this Max Depth\n",
      "cutoff at this Max Depth\n"
     ]
    }
   ],
   "source": [
    "cases = [(start1, goal1),(start2, goal2),(start3, goal3),(start4, goal4)]\n",
    "for case in cases:\n",
    "    result = iterativeDeepeningSearch(case[0], case[1], actionsF_maze, takeActionF_maze, 17)\n",
    "    if result != \"cutoff\" and result != \"failure\":\n",
    "        printMazePath(result)\n",
    "    else:\n",
    "        print(result + \" at this Max Depth\")"
   ]
  },
  {
   "cell_type": "code",
   "execution_count": 196,
   "metadata": {},
   "outputs": [
    {
     "name": "stdout",
     "output_type": "stream",
     "text": [
      "O - - - x - - x - x\n",
      "- - - - - - - - - -\n",
      "- - - - x - - - - x\n",
      "x x x - - x - - - -\n",
      "x x - - - - - - x -\n",
      "x - x - x - x x - -\n",
      "x x - x - - - - - -\n",
      "x - - - x - - x - x\n",
      "x - - - - x - - x -\n",
      "x x - - - x x - - -\n",
      "\n",
      "- - - - x - - x - x\n",
      "- - - - - - - - - -\n",
      "- - - - x - - - - x\n",
      "x x x - - x - - - -\n",
      "x x - - - - - - x -\n",
      "x - x - x - x x - -\n",
      "x x - x - - - - - -\n",
      "x - - - x - - x - x\n",
      "x - - - - x - - x -\n",
      "x x - - - x x - - O\n"
     ]
    }
   ],
   "source": [
    "printMaze_10(start1)\n",
    "print()\n",
    "printMaze_10(goal1)"
   ]
  },
  {
   "cell_type": "markdown",
   "metadata": {},
   "source": [
    "download [A2grader.tar](A2grader.tar) and extract A2grader.py from it."
   ]
  },
  {
   "cell_type": "code",
   "execution_count": 214,
   "metadata": {
    "scrolled": true
   },
   "outputs": [
    {
     "name": "stdout",
     "output_type": "stream",
     "text": [
      "\n",
      "======================= Code Execution =======================\n",
      "\n",
      "Extracting python code from notebook named 'Newell-A2.ipynb' and storing in notebookcode.py\n",
      "Removing all statements that are not function or class defs or import statements.\n",
      "\n",
      "Searching this graph:\n",
      " {'a': ['b', 'z', 'd'], 'b': ['a'], 'e': ['z'], 'd': ['y'], 'y': ['z']}\n",
      "\n",
      "Looking for path from a to y with max depth of 1.\n",
      " 5/ 5 points. Your search correctly returned cutoff\n",
      "\n",
      "Looking for path from a to z with max depth of 5.\n",
      "10/10 points. Your search correctly returned ['a', 'z']\n",
      "\n",
      "Testing findBlank_8p([1, 2, 3, 4, 5, 6, 7, 0, 8])\n",
      " 5/ 5 points. Your findBlank_8p correctly returned 2 1\n",
      "\n",
      "Testing actionsF_8p([1, 2, 3, 4, 5, 6, 7, 0, 8])\n",
      " 0/10 points. Your actionsF_8p should have returned ['left', 'right', 'up'] but you returned <generator object actionsF_8p at 0x7fd0fc130830>\n",
      "\n",
      "Testing takeActionF_8p([1, 2, 3, 4, 5, 6, 7, 0, 8],up)\n",
      "10/10 points. Your takeActionsF_8p correctly returned [1, 2, 3, 4, 0, 6, 7, 5, 8]\n",
      "\n",
      "Testing iterativeDeepeningSearch([1, 2, 3, 4, 5, 6, 7, 0, 8],[0, 2, 3, 1, 4,  6, 7, 5, 8], actionsF_8p, takeActionF_8p, 5)\n",
      "20/20 points. Your search correctly returned [[1, 2, 3, 4, 5, 6, 7, 0, 8], [1, 2, 3, 4, 0, 6, 7, 5, 8], [1, 2, 3, 0, 4, 6, 7, 5, 8], [0, 2, 3, 1, 4, 6, 7, 5, 8]]\n",
      "\n",
      "Testing iterativeDeepeningSearch([5, 2, 8, 0, 1, 4, 3, 7, 6], [0, 2, 3, 1, 4,  6, 7, 5, 8], actionsF_8p, takeActionF_8p, 10)\n",
      "20/20 points. Your search correctly returned cutoff\n",
      "\n",
      "cs440 Grade is 70/80\n",
      "\n",
      "Up to 20 more points will be given based on the quality of your descriptions of the method and the results.\n"
     ]
    }
   ],
   "source": [
    "%run -i A2grader.py"
   ]
  },
  {
   "cell_type": "markdown",
   "metadata": {},
   "source": [
    "## Extra Credit\n",
    "\n",
    "For extra credit, apply your solution to the grid example in Assignment 1 with the addition of a horizontal and vertical barrier at least three positions long.  Demonstrate the solutions found in four different pairs of start and goal states."
   ]
  }
 ],
 "metadata": {
  "anaconda-cloud": {},
  "kernelspec": {
   "display_name": "Python 3",
   "language": "python",
   "name": "python3"
  },
  "language_info": {
   "codemirror_mode": {
    "name": "ipython",
    "version": 3
   },
   "file_extension": ".py",
   "mimetype": "text/x-python",
   "name": "python",
   "nbconvert_exporter": "python",
   "pygments_lexer": "ipython3",
   "version": "3.6.5"
  }
 },
 "nbformat": 4,
 "nbformat_minor": 1
}
