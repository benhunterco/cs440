{
 "cells": [
  {
   "cell_type": "markdown",
   "metadata": {},
   "source": [
    "# A3: A\\*, IDS, and Effective Branching Factor"
   ]
  },
  {
   "cell_type": "markdown",
   "metadata": {},
   "source": [
    "For this assignment, implement the Recursive Best-First Search\n",
    "implementation of the A\\* algorithm given in class.  Name this function `aStarSearch`.  Also in this notebook include your `iterativeDeepeningSearch` functions.  Define a new function named `ebf` that returns an estimate of the effective\n",
    "branching factor for a search algorithm applied to a search problem.\n",
    "\n",
    "So, the required functions are\n",
    "\n",
    "   - `aStarSearch(startState, actionsF, takeActionF, goalTestF, hF)`\n",
    "   - `iterativeDeepeningSearch(startState, goalState, actionsF, takeActionF, maxDepth)`\n",
    "   - `ebf(nNodes, depth, precision=0.01)`, returns the effective branching factor, given the number of nodes expanded and depth reached during a search.\n",
    "\n",
    "Apply `iterativeDeepeningSearch` and `aStarSearch` to several eight-tile sliding puzzle\n",
    "problems. For this you must include your implementations of these functions, from Assignment 2:\n",
    "\n",
    "  * `actionsF_8p(state)`: returns a list of up to four valid actions that can be applied in `state`. With each action include a step cost of 1. For example, if all four actions are possible from this state, return [('left', 1), ('right', 1), ('up', 1), ('down', 1)].\n",
    "  * `takeActionF_8p(state, action)`: return the state that results from applying `action` in `state` and the cost of the one step,\n",
    "  \n",
    "plus the following function for the eight-tile puzzle:\n",
    "\n",
    "  * `goalTestF_8p(state, goal)`\n",
    "  \n",
    "Compare their results by displayng\n",
    "solution path depth, number of nodes \n",
    "generated, and the effective branching factor, and discuss the results.  Do this by defining the following function that prints the table as shown in the example below.\n",
    "\n",
    "   - runExperiment(goalState1, goalState2, goalState3, [h1, h2, h3])\n",
    "   \n",
    "Define this function so it takes any number of $h$ functions in the list that is the fourth argument."
   ]
  },
  {
   "cell_type": "markdown",
   "metadata": {},
   "source": [
    "## Heuristic Functions\n",
    "\n",
    "For `aStarSearch` use the following two heuristic functions, plus one more of your own design, for a total of three heuristic functions.\n",
    "\n",
    "  * `h1_8p(state, goal)`: $h(state, goal) = 0$, for all states $state$ and all goal states $goal$,\n",
    "  * `h2_8p(state, goal)`: $h(state, goal) = m$, where $m$ is the Manhattan distance that the blank is from its goal position,\n",
    "  * `h3_8p(state, goal)`: $h(state, goal) = ?$, that you define.  It must be admissible, and not constant for all states."
   ]
  },
  {
   "cell_type": "markdown",
   "metadata": {},
   "source": [
    "## Comparison"
   ]
  },
  {
   "cell_type": "markdown",
   "metadata": {},
   "source": [
    "Apply all four algorithms (`iterativeDeepeningSearch` plus `aStarSearch` with the three heuristic\n",
    "functions) to three eight-tile puzzle problems with start state\n",
    "\n",
    "$$\n",
    "\\begin{array}{ccc}\n",
    "1 & 2 & 3\\\\\n",
    "4 & 0 & 5\\\\\n",
    "6 & 7 & 8\n",
    "\\end{array}\n",
    "$$\n",
    "\n",
    "and these three goal states.\n",
    "\n",
    "$$\n",
    "\\begin{array}{ccccccccccc}\n",
    "1 & 2 & 3  & ~~~~ & 1 & 2 & 3  &  ~~~~ & 1 & 0 &  3\\\\\n",
    "4 & 0 & 5  & & 4 & 5 & 8  & & 4 & 5 & 8\\\\\n",
    "6 & 7 & 8 &  & 6 & 0 & 7  & & 2 & 6 & 7\n",
    "\\end{array}\n",
    "$$"
   ]
  },
  {
   "cell_type": "markdown",
   "metadata": {},
   "source": [
    "Print a well-formatted table like the following.  Try to match this\n",
    "format. If you have time, you might consider learning a bit about the `DataFrame` class in the `pandas` package.  When displayed in jupyter notebooks, `pandas.DataFrame` objects are nicely formatted in html.\n",
    "\n",
    "           [1, 2, 3, 4, 0, 5, 6, 7, 8]    [1, 2, 3, 4, 5, 8, 6, 0, 7]    [1, 0, 3, 4, 5, 8, 2, 6, 7] \n",
    "    Algorithm    Depth  Nodes  EBF              Depth  Nodes  EBF              Depth  Nodes  EBF          \n",
    "         IDS       0      0  0.000                3     43  3.086               11 225850  2.954         \n",
    "        A*h1       0      0  0.000                3    116  4.488               11 643246  3.263         \n",
    "        A*h2       0      0  0.000                3     51  3.297               11 100046  2.733         \n",
    "\n",
    "Of course you will have one more line for `h3`."
   ]
  },
  {
   "cell_type": "markdown",
   "metadata": {},
   "source": [
    "# Function Definitions and Explanations"
   ]
  },
  {
   "cell_type": "markdown",
   "metadata": {},
   "source": [
    "### A* Functions and Node class"
   ]
  },
  {
   "cell_type": "markdown",
   "metadata": {},
   "source": [
    "Here we have the node class. This represents the extra information that each node in a A* search needs to carry out the search successfully. H represents the value of the heuristic function at that node. G represents the total cost so far to get to that node, and F is the total of the two, making it an estimate of the total path cost. "
   ]
  },
  {
   "cell_type": "code",
   "execution_count": 3,
   "metadata": {},
   "outputs": [],
   "source": [
    "class Node:\n",
    "    def __init__(self, state, f=0, g=0 ,h=0):\n",
    "        self.state = state\n",
    "        self.f = f\n",
    "        self.g = g\n",
    "        self.h = h\n",
    "    def __repr__(self):\n",
    "        return \"Node(\" + repr(self.state) + \", f=\" + repr(self.f) + \\\n",
    "               \", g=\" + repr(self.g) + \", h=\" + repr(self.h) + \")\""
   ]
  },
  {
   "cell_type": "markdown",
   "metadata": {},
   "source": [
    "Here is the `aStarSearch` which kicks off the A* search algorithm. It takes a startState representing the starting state of the puzzle, an actions function that allows successor states to be found, an action function that allows the states to be modified, a goal test function that can test for a successful state, as well as the heuristic function. It initializes the root `Node` with the given heuristic function, then passes it off to the helper.\n",
    "\n",
    "Node counting has also been implemented in addition to the supplied code. An additional default initialized variable is included so that the search returns the expected output normally. Python passes primitives by value, but to avoid using globals the node count is stored in an array. This way we can always access the same int by just using node_count[0]. If countNodes is set to True, we return the expected result in addition to the value of node_count."
   ]
  },
  {
   "cell_type": "code",
   "execution_count": 4,
   "metadata": {},
   "outputs": [],
   "source": [
    "def aStarSearch(startState, actionsF, takeActionF, goalTestF, hF, countNodes = False):\n",
    "    h = hF(startState)\n",
    "    startNode = Node(state=startState, f=0+h, g=0, h=h)\n",
    "    node_count = [0] \n",
    "    if countNodes: \n",
    "        return aStarSearchHelper(startNode, actionsF, takeActionF, goalTestF, hF, float('inf'), \n",
    "                                 node_count), node_count[0]\n",
    "    else:\n",
    "        return aStarSearchHelper(startNode, actionsF, takeActionF, goalTestF, hF, float('inf'), node_count[0])"
   ]
  },
  {
   "cell_type": "markdown",
   "metadata": {},
   "source": [
    "Here is the recursive helper method for A* search. It takes a parent node and fmax, which represents a cutoff f value, as well as the functions that were passed into `aStarSearch` above. First it checks the simple case of whether the goal has been found or not. Then it creates a list of possible actions using the action function. If no actions exist, then moves can be made from this state. In that case \"failure\" and $\\infty$ are returned because the goal state cannot ever be found. Otherwise, a list of children are generated using the action function. Each of these has a heuristic value H and path cost estimate F. We find the best cost estimate by sorting the children on F, and if this is higher than fmax the search is ended. Next we make the recursive call passing in the current best child and the second best as the new fmax. This means that if a higher f value is found than the second best, we end the search at that level and try again with the second best. \n",
    "\n",
    "node_count is an additional variable added on top of the supplied code. In order to avoid using globals, nodes are counted by using the zeroth index of the array node_count. It is pretty easy to tell when to count a node here, any time the `Node` constructor is called, we increment the total node count."
   ]
  },
  {
   "cell_type": "code",
   "execution_count": 5,
   "metadata": {},
   "outputs": [],
   "source": [
    "def aStarSearchHelper(parentNode, actionsF, takeActionF, goalTestF, hF, fmax, node_count):\n",
    "    if goalTestF(parentNode.state):\n",
    "        return ([parentNode.state], parentNode.g)\n",
    "    ## Construct list of children nodes with f, g, and h values\n",
    "    actions = actionsF(parentNode.state)\n",
    "    if not actions:\n",
    "        return (\"failure\", float('inf'))\n",
    "    children = []\n",
    "    for action in actions:\n",
    "        (childState, stepCost) = takeActionF(parentNode.state, action)\n",
    "        h = hF(childState)\n",
    "        g = parentNode.g + stepCost\n",
    "        f = max(h+g, parentNode.f)\n",
    "        childNode = Node(state=childState, f=f, g=g, h=h)\n",
    "        if node_count: node_count[0] += 1\n",
    "        children.append(childNode)\n",
    "    while True:\n",
    "        # find best child\n",
    "        children.sort(key = lambda n: n.f) # sort by f value\n",
    "        bestChild = children[0]\n",
    "        if bestChild.f > fmax:\n",
    "            return (\"failure\",bestChild.f)\n",
    "        # next lowest f value\n",
    "        alternativef = children[1].f if len(children) > 1 else float('inf')\n",
    "        # expand best child, reassign its f value to be returned value\n",
    "        result,bestChild.f = aStarSearchHelper(bestChild, actionsF, takeActionF, goalTestF,\n",
    "                                            hF, min(fmax,alternativef), node_count)\n",
    "        if result is not \"failure\":               \n",
    "            result.insert(0,parentNode.state)\n",
    "            retlist = [result, bestChild.f]\n",
    "            return tuple(retlist)        "
   ]
  },
  {
   "cell_type": "markdown",
   "metadata": {},
   "source": [
    "### Heuristic functions"
   ]
  },
  {
   "cell_type": "markdown",
   "metadata": {},
   "source": [
    "**H = 0**:\n",
    "\n",
    "The most simple possible heuristic function. Just estimates the cost as zero, which is never an over-estimate so it is admissible. "
   ]
  },
  {
   "cell_type": "code",
   "execution_count": 6,
   "metadata": {},
   "outputs": [],
   "source": [
    "def h1_8p(state, goal):\n",
    "    return 0"
   ]
  },
  {
   "cell_type": "markdown",
   "metadata": {},
   "source": [
    "**Manhattan Distance:**\n",
    "\n",
    "Finds the manhattan distance of the current state from the goal state by using a manhattan distance. This is calculating by adding the verticle moves and the horizontal moves together to get to the location, like moving through blocks in Manhattan. This will never over estimate the goal because the blank tile must move in a over and up fashion like the Manhattan distance calculates, and the best case is that only the blank tile has to move to the goal state. "
   ]
  },
  {
   "cell_type": "code",
   "execution_count": 7,
   "metadata": {},
   "outputs": [],
   "source": [
    "def h2_8p(state, goal):\n",
    "    currentIndex = state.index(0)\n",
    "    goalIndex = goal.index(0)\n",
    "    rowDelta = abs(currentIndex // 3 - goalIndex // 3)\n",
    "    colDelta = abs(currentIndex % 3 - goalIndex % 3)\n",
    "    return colDelta + rowDelta"
   ]
  },
  {
   "cell_type": "markdown",
   "metadata": {},
   "source": [
    "**Nodes Out Of Place:**\n",
    "\n",
    "Counts the total number of none-blank tiles that are not in their goalstate. This is an admissible heuristic because the total number of tiles out of place can never be more that the moves required to make the goalstate. This is because a tile must move for a cost of at least one to go from one state to another. It is also a reasonable guess because as we get closer to the solution, fewer tiles will be out of place. "
   ]
  },
  {
   "cell_type": "code",
   "execution_count": 8,
   "metadata": {},
   "outputs": [],
   "source": [
    "def h3_8p(state, goal):\n",
    "    h = 0\n",
    "    for i in range(0,9):\n",
    "        if state[i] != 0 and state[i] != goal[i]:\n",
    "            h += 1\n",
    "    return h"
   ]
  },
  {
   "cell_type": "markdown",
   "metadata": {},
   "source": [
    "**Not a Correct Heuristic**:\n",
    "\n",
    "Counts the out number of tiles out of their goal column and out of their goal row. [Here](http://www.cs.rpi.edu/academics/courses/fall00/ai/assignments/assign3heuristics.html) is the source for the heuristic. We accomplish this goal by using the symmetric difference between the goal row or column and the state row or column. The length of the symmetric difference tells us how many nodes are out of place. The heuristic is, as it turns out, is not admissible. I wrote the function for it and it seems to work. Howerver, it overestimates the cost remaining. A simple example illustrates why it isn't admissible. Say the startState was the solved goal state with the blank spot moved up one so that 0 and 2 had switched places. This heuristic would estimate the cost of two, because it would count the zero out of place and the two out of place. This is more than the actual cost of one, so the heuristic is not admissible. I left in just to look at how it might behave."
   ]
  },
  {
   "cell_type": "code",
   "execution_count": 9,
   "metadata": {},
   "outputs": [],
   "source": [
    "def h4_8p(state, goal):\n",
    "    stateRows = []\n",
    "    goalRows = []\n",
    "    stateCols = []\n",
    "    goalCols = []\n",
    "    \n",
    "    # Populate the individual rows\n",
    "    for i in range(0,3):\n",
    "        stateRows.append(state[i*3:(i+1)*3])\n",
    "        goalRows.append(state[i*3:(i+1)*3])\n",
    "    \n",
    "    # Populate the individual columns\n",
    "    for i in range(0, 3):\n",
    "        stateCols.append([state[i],state[i+3],state[i+6]])\n",
    "        goalCols.append([goal[i],goal[i+3],goal[i+6]])\n",
    "    \n",
    "    # The estimate of the distance, heuristic\n",
    "    h = 0    \n",
    "    for i in range(0,3):\n",
    "        h += len(set(stateRows[i]).symmetric_difference(goalRows[i]))\n",
    "        h += len(set(stateCols[i]).symmetric_difference(goalCols[i]))\n",
    "    \n",
    "    return h"
   ]
  },
  {
   "cell_type": "markdown",
   "metadata": {},
   "source": [
    "### Effective Branching Factor"
   ]
  },
  {
   "cell_type": "markdown",
   "metadata": {},
   "source": [
    "This is a helper function that calculates the quantity of $\\frac{1-b^{d+1}}{1-b}$, which finds the number of nodes, $n$ given the depth, $d$ and branching factor $b$. This helps to compartmentalize the code a bit. It also has a few hard coded values where there is an expected result but the algorithm fails to work correctly. If branch_guess = 1, then a /0 will occur. Although the algorithm does not work with this value, we know that if branch_guess is 1 the number of nodes is just depth * 1. Depth = 0 is also not anticipated by this algorithm and branching factor does not really exist if there is not a single branch, so 1 is hard coded when depth = 0. "
   ]
  },
  {
   "cell_type": "code",
   "execution_count": 10,
   "metadata": {},
   "outputs": [],
   "source": [
    "def ebf_calculation(depth, branch_guess):\n",
    "    if depth == 0:\n",
    "        return 1\n",
    "    if branch_guess == 1:\n",
    "        return depth\n",
    "    return (1-branch_guess ** (depth + 1)) /(1 - branch_guess)"
   ]
  },
  {
   "cell_type": "markdown",
   "metadata": {},
   "source": [
    "This is the helper method that does binary search in order to find EBF. It takes a lower and upper bound, as well as the real number of nodes, depth and precision. It calculates the midpoint of upper and lower, then finds the guess of the nodes using `ebf_calculation`. If the difference between this calculated quantity and the true number of nodes is less than precision, the search is done and we can return midpoint as the value of the branching factor. Otherwise we check to see whether the guessed number of nodes is less than the real number, and recursively call `ebf_helper` using midpoint as the lower bound. Otherwise, we know that the branch factor is lower than our guess, so we call `ebf_helper` with lower and midpoint as the bounds. "
   ]
  },
  {
   "cell_type": "code",
   "execution_count": 11,
   "metadata": {},
   "outputs": [],
   "source": [
    "def ebf_helper(lower, upper, nNodes, depth, precision):\n",
    "    midpoint = (lower + upper) / 2\n",
    "    guessed_nodes = ebf_calculation(depth, midpoint)\n",
    "    if abs(nNodes - guessed_nodes) < precision:\n",
    "        return midpoint\n",
    "    if guessed_nodes < nNodes:\n",
    "        return ebf_helper(midpoint, upper, nNodes, depth, precision)\n",
    "    else:\n",
    "        return ebf_helper(lower, midpoint, nNodes, depth, precision)    "
   ]
  },
  {
   "cell_type": "markdown",
   "metadata": {},
   "source": [
    "This starts of the search for ebf. It has a hard coded case for when both nNodes and depth = 0 to protect against infinite recursion. It uses 1 as the minimum branching factor, and nNodes as the maximum to give to `ebf_helper` because these are the minimum and maximum possible values for the given branching factor."
   ]
  },
  {
   "cell_type": "code",
   "execution_count": 12,
   "metadata": {},
   "outputs": [],
   "source": [
    "def ebf(nNodes, depth, precision=0.01):\n",
    "    if nNodes == 0 and depth == 0:\n",
    "        return 0.000\n",
    "    return ebf_helper(1, nNodes, nNodes, depth, precision)"
   ]
  },
  {
   "cell_type": "markdown",
   "metadata": {},
   "source": [
    "### Goal Test Function"
   ]
  },
  {
   "cell_type": "markdown",
   "metadata": {},
   "source": [
    "This is a simple goal test function, it just uses pythons list comparison to see whether the two lists are equal."
   ]
  },
  {
   "cell_type": "code",
   "execution_count": 13,
   "metadata": {},
   "outputs": [],
   "source": [
    "def goalTestF_8p(state, goal):\n",
    "    return state == goal"
   ]
  },
  {
   "cell_type": "markdown",
   "metadata": {},
   "source": [
    "### Experiment Function\n",
    "\n",
    "This is quite the function. It takes in three goalstates and runs them with `iterativeDeepeningSearch` and each heuristic in heuristicList with A*. Although it is a long function, all the work is going into repetitive function calls and formatting the output. The only calculation that is independent of the functions is correcting the depth by subtracting one from the solution list. We need to do this because both search methods add in the start state to the solution path, which is not counted as part of the depth. "
   ]
  },
  {
   "cell_type": "code",
   "execution_count": 56,
   "metadata": {},
   "outputs": [],
   "source": [
    "import pandas\n",
    "import time\n",
    "def runExperiment(goalState1, goalState2, goalState3, heuristicList):\n",
    "    startState = [1, 2, 3, 4, 0, 5, 6, 7, 8]\n",
    "    #print(\"\\t\" + str(goalState1) + \"   \"\n",
    "    #     + str(goalState2) + \"   \"\n",
    "    #     + str(goalState3))\n",
    "    \n",
    "    # Building the output\n",
    "    # How to concat https://stackoverflow.com/questions/13079852/how-do-i-stack-two-dataframes-next-to-each-other-in-pandas\n",
    "    rowNames = [\"IDS\"] + [\"A*h\" + str(s + 1) for s, _ in enumerate(heuristicList)] #NOICE\n",
    "    dataFrames = []\n",
    "    for goalState in [goalState1, goalState2, goalState3]:\n",
    "    \n",
    "        # Blank initialization\n",
    "        nodes = []\n",
    "        EBF = []\n",
    "        depths = []\n",
    "        times = []\n",
    "        # Get data from IDS\n",
    "        startTime = time.time()\n",
    "        idsResult, nodeCount = iterativeDeepeningSearch(startState, goalState, actionsF_8p, takeActionF_8p, 12, True)\n",
    "        endTime = time.time()\n",
    "        times.append(endTime - startTime)\n",
    "        nodes.append(nodeCount)\n",
    "        EBF.append(ebf(nodeCount, len(idsResult) - 1)) # Note the -1 on depth, because start was appended\n",
    "        depths.append(len(idsResult) - 1)\n",
    "        # Loop through and do the previous for all h in heuristicList\n",
    "        for h in heuristicList:\n",
    "            startTime = time.time()\n",
    "            hResult, nodeCount = aStarSearch(startState, actionsF_8p, takeActionF_8p, \n",
    "                                 lambda s: goalTestF_8p(s, goalState),\n",
    "                                 lambda s: h(s, goalState), True)\n",
    "            endTime = time.time()\n",
    "            times.append(endTime - startTime)\n",
    "            nodes.append(nodeCount)\n",
    "            EBF.append(ebf(nodeCount, len(hResult[0]) - 1))\n",
    "            depths.append(len(hResult[0]) - 1)\n",
    "        dataFrames.append(pandas.DataFrame({\"Algorithm\":rowNames,\n",
    "                           \"Depths\": depths,\n",
    "                           \"Nodes\":nodes,\n",
    "                            \"EBF\": EBF, \n",
    "                            \"Time (sec)\": times}).set_index(\"Algorithm\"))\n",
    "    # print(dataFrames)\n",
    "    pandas.set_option(\"precision\", 3)\n",
    "    #pandas.option_context(\"display.colheader_justify\", \"right\")\n",
    "    #pandas.set_option(\"expand_frame_repr\", False)\n",
    "    keys = [str(l) for l in [goalState1, goalState2, goalState3]]\n",
    "    print(pandas.concat(dataFrames, axis=1, keys = keys))\n",
    "    "
   ]
  },
  {
   "cell_type": "markdown",
   "metadata": {},
   "source": [
    "Example output of `runExperiment`. I put quite a lot of effort into matching the output, which did work! \n",
    ", \n",
    "                            \"   \":[\"\" for _ in range(0, len(heuristicList) + 1)]"
   ]
  },
  {
   "cell_type": "markdown",
   "metadata": {},
   "source": [
    "## Old Functions\n",
    "From A2. Only small changes were made to `depthLimitedSearch`, `iterativeDeepeningSearch` and `actionsF_8p`. Those changes are noted."
   ]
  },
  {
   "cell_type": "markdown",
   "metadata": {},
   "source": [
    "Added a variable for cost now that takeActionF returns a tuple. In addition, added the node counting functionality. Node_count is an array passed in with the total node count at index 0. Each action we explore in the actionsF for loop represents a created node, so for each iteration of this loop we increment node_count[0]."
   ]
  },
  {
   "cell_type": "code",
   "execution_count": 15,
   "metadata": {},
   "outputs": [],
   "source": [
    "def depthLimitedSearch(state, goalState, actionsF, takeActionF, depthLimit, node_count):\n",
    "    if state == goalState:\n",
    "        return []\n",
    "    if depthLimit == 0:\n",
    "        return \"cutoff\"\n",
    "    cutoffoccurred = False\n",
    "    for action in actionsF(state):          \n",
    "        (childState, _) = takeActionF(state, action) # This was modified to deal with the new cost.\n",
    "        node_count[0] += 1\n",
    "        result = depthLimitedSearch(childState, goalState, actionsF, takeActionF, depthLimit - 1, node_count)\n",
    "        if result == \"cutoff\":\n",
    "            cutoffoccurred = True\n",
    "        elif result != \"failure\":\n",
    "            result.insert(0, childState)\n",
    "            return result\n",
    "    if cutoffoccurred:\n",
    "        return \"cutoff\"\n",
    "    else:\n",
    "        return \"failure\"\n"
   ]
  },
  {
   "cell_type": "markdown",
   "metadata": {},
   "source": [
    "countNodes is added to indicate whether to return just the result or the result with node_count. "
   ]
  },
  {
   "cell_type": "code",
   "execution_count": 54,
   "metadata": {},
   "outputs": [],
   "source": [
    "def iterativeDeepeningSearch(startState, goalState, actionsF, takeActionF, maxDepth, countNodes = False):\n",
    "    node_count = [0]\n",
    "    for depth in range(0, maxDepth):\n",
    "        result = depthLimitedSearch(startState, goalState, actionsF, takeActionF, depth, node_count)\n",
    "        if result == \"failure\":\n",
    "            if countNodes:\n",
    "                return \"failure\", node_count[0]\n",
    "            else:\n",
    "                return \"failure\"\n",
    "        if result != \"cutoff\":\n",
    "            result.insert(0, startState)\n",
    "            if countNodes:\n",
    "                return result, node_count[0]\n",
    "            else: \n",
    "                return result\n",
    "    if countNodes:\n",
    "        return \"cutoff\", node_count[0]\n",
    "    else:\n",
    "        return \"cutoff\""
   ]
  },
  {
   "cell_type": "markdown",
   "metadata": {},
   "source": [
    "Converted this from a generator because of assignment requirements. Also added in the step cost of one to each action. "
   ]
  },
  {
   "cell_type": "code",
   "execution_count": 17,
   "metadata": {},
   "outputs": [],
   "source": [
    "def actionsF_8p(state):\n",
    "    i = state.index(0)\n",
    "    actions = []\n",
    "    if i % 3 > 0:\n",
    "        actions.append((\"left\",1))\n",
    "    if i % 3 < 2:\n",
    "        actions.append((\"right\",1))\n",
    "    if i // 3 > 0:\n",
    "        actions.append((\"up\",1))\n",
    "    if i // 3 < 2:\n",
    "        actions.append((\"down\",1))\n",
    "    return actions"
   ]
  },
  {
   "cell_type": "code",
   "execution_count": 18,
   "metadata": {},
   "outputs": [],
   "source": [
    "def takeActionF_8p(state, action):\n",
    "    #this does not check if action is allowed\n",
    "    newState = state.copy()\n",
    "    i = newState.index(0)\n",
    "    #print(action[0])\n",
    "    if action[0] == \"right\":\n",
    "        newState[i], newState[i+1] = newState[i+1], newState[i]\n",
    "    elif action[0] == \"left\":\n",
    "        newState[i], newState[i-1] = newState[i-1], newState[i]\n",
    "    elif action[0] == \"up\":\n",
    "        newState[i], newState[i-3] = newState[i-3], newState[i]\n",
    "    elif action[0] == \"down\":\n",
    "        newState[i], newState[i+3] = newState[i+3], newState[i]\n",
    "    return newState, action[1]\n"
   ]
  },
  {
   "cell_type": "code",
   "execution_count": 19,
   "metadata": {},
   "outputs": [],
   "source": [
    "def printPath_8p(startState, goalState, path):\n",
    "    for state in path:\n",
    "        printState_8p(state)\n",
    "        print()\n",
    "    printState_8p(goalState)"
   ]
  },
  {
   "cell_type": "markdown",
   "metadata": {},
   "source": [
    "# Tests"
   ]
  },
  {
   "cell_type": "markdown",
   "metadata": {},
   "source": [
    "### Updated old Functions"
   ]
  },
  {
   "cell_type": "markdown",
   "metadata": {},
   "source": [
    "These test to make sure that the costs are correctly handled by the old A2 functions."
   ]
  },
  {
   "cell_type": "code",
   "execution_count": 20,
   "metadata": {},
   "outputs": [
    {
     "name": "stdout",
     "output_type": "stream",
     "text": [
      "Tests for old functions passed\n"
     ]
    }
   ],
   "source": [
    "startState = [1,2,3,4,0,5,6,7,8]\n",
    "actions = actionsF_8p(startState)\n",
    "assert(('left', 1) == actions[0])\n",
    "down = takeActionF_8p(startState, actions[3])\n",
    "assert(([1, 2, 3, 4, 7, 5, 6, 0, 8], 1) == down)\n",
    "up = takeActionF_8p(startState, (\"up\", 1))\n",
    "assert(([1, 0, 3, 4, 2, 5, 6, 7, 8], 1) == up)\n",
    "print(\"Tests for old functions passed\")"
   ]
  },
  {
   "cell_type": "markdown",
   "metadata": {},
   "source": [
    "### Heuristic Functions"
   ]
  },
  {
   "cell_type": "markdown",
   "metadata": {},
   "source": [
    "Pretty simple to test this one."
   ]
  },
  {
   "cell_type": "code",
   "execution_count": 21,
   "metadata": {},
   "outputs": [
    {
     "name": "stdout",
     "output_type": "stream",
     "text": [
      "Test for h1_8p passed!\n"
     ]
    }
   ],
   "source": [
    "assert(0 == h1_8p(\"literally\", \"anything\"))\n",
    "print(\"Test for h1_8p passed!\")"
   ]
  },
  {
   "cell_type": "markdown",
   "metadata": {},
   "source": [
    "Here we test the expected values of the Manhattan Heuristic. It is simple to visually confirm the values by counting the horizontal and verticle moves required. This test checks the value of the heuristic as the blank approaches the goal state. "
   ]
  },
  {
   "cell_type": "code",
   "execution_count": 22,
   "metadata": {},
   "outputs": [
    {
     "name": "stdout",
     "output_type": "stream",
     "text": [
      "Tests for h2_8p passed!\n"
     ]
    }
   ],
   "source": [
    "startState = [0,1,2,3,4,5,6,7,8]\n",
    "goalState = [1,2,3,4,5,6,7,8,0]\n",
    "assert(4 == h2_8p(startState, goalState))\n",
    "goalState,_ = takeActionF_8p(goalState, (\"left\",1))\n",
    "assert(3 == h2_8p(startState, goalState))\n",
    "goalState,_ = takeActionF_8p(goalState, (\"left\",1))\n",
    "assert(2 == h2_8p(startState, goalState))\n",
    "goalState,_ = takeActionF_8p(goalState, (\"up\",1))\n",
    "assert(1 == h2_8p(startState, goalState))\n",
    "print(\"Tests for h2_8p passed!\")"
   ]
  },
  {
   "cell_type": "markdown",
   "metadata": {},
   "source": [
    "We test the tiles out of place heuristic in a similar fashion to the previous. The first case makes sure that it estimates one when only one remove remains. The others check other values. These were verified by hand by counting the out of place numbers excluding zero. Eight is the highest it can return as a predicted distance, because no more than eight pieces can be out of place in the 8-puzzle. "
   ]
  },
  {
   "cell_type": "code",
   "execution_count": 23,
   "metadata": {},
   "outputs": [
    {
     "name": "stdout",
     "output_type": "stream",
     "text": [
      "h3_8p tests successful!\n"
     ]
    }
   ],
   "source": [
    "startState = [1,2,3,4,0,5,6,7,8]\n",
    "goalState1 = [1,0,3,4,2,5,6,7,8]\n",
    "goalState2 = [1,2,3,4,5,8,6,0,7]\n",
    "goalState3 = [8,7,6,5,4,3,2,1,0]\n",
    "assert(1 == h3_8p(startState, goalState1))\n",
    "assert(3 == h3_8p(startState, goalState2))\n",
    "assert(8 == h3_8p(startState, goalState3))\n",
    "print(\"h3_8p tests successful!\")"
   ]
  },
  {
   "cell_type": "markdown",
   "metadata": {},
   "source": [
    "### Goal Test Functions"
   ]
  },
  {
   "cell_type": "markdown",
   "metadata": {},
   "source": [
    "`goaltTestF_8p` is fairly simple to test. We make two identical lists and test if the function returns true. Then modify one of those lists and see if it returns false. "
   ]
  },
  {
   "cell_type": "code",
   "execution_count": 24,
   "metadata": {},
   "outputs": [
    {
     "name": "stdout",
     "output_type": "stream",
     "text": [
      "Tests of goalTestF_8p passed!\n"
     ]
    }
   ],
   "source": [
    "startState = [1, 2, 3, 4, 5, 6, 7, 8, 0]\n",
    "goalState = startState.copy()\n",
    "assert(True == goalTestF_8p(startState, goalState))\n",
    "goalState = takeActionF_8p(goalState, \"left\")\n",
    "assert(False == goalTestF_8p(startState, goalState))\n",
    "print(\"Tests of goalTestF_8p passed!\")"
   ]
  },
  {
   "cell_type": "markdown",
   "metadata": {},
   "source": [
    "### Effective Branching Factor Testing"
   ]
  },
  {
   "cell_type": "markdown",
   "metadata": {},
   "source": [
    "First, test the calculation helper function first by using some handmade examples."
   ]
  },
  {
   "cell_type": "code",
   "execution_count": 25,
   "metadata": {},
   "outputs": [
    {
     "name": "stdout",
     "output_type": "stream",
     "text": [
      "Tests of ebf_calculation passed!\n"
     ]
    }
   ],
   "source": [
    "assert(7 == ebf_calculation(2,2))\n",
    "assert(6 == ebf_calculation(6, 1))\n",
    "assert(13 == ebf_calculation(2, 3))\n",
    "print(\"Tests of ebf_calculation passed!\")"
   ]
  },
  {
   "cell_type": "markdown",
   "metadata": {},
   "source": [
    "Now, test the main recursive funciton `ebf`. Tests a few intermediate values and to make sure the hardcoding works. "
   ]
  },
  {
   "cell_type": "code",
   "execution_count": 26,
   "metadata": {},
   "outputs": [
    {
     "name": "stdout",
     "output_type": "stream",
     "text": [
      "Tests of ebf passed!\n"
     ]
    }
   ],
   "source": [
    "assert(-0.0001 < ebf(0,0) < 0.0001)\n",
    "assert(-1.0001 < ebf(1,0) < 1.0001)\n",
    "assert(1.0078 < ebf(2,1) < 1.00789)\n",
    "assert(1.0000000 < ebf(2,1,precision = 0.000001) < 1.000001)\n",
    "assert(1.6613 < ebf(10,3) < 1.664)\n",
    "assert(11.2755 < ebf(200000, 5) < 11.2756)\n",
    "print(\"Tests of ebf passed!\")"
   ]
  },
  {
   "cell_type": "markdown",
   "metadata": {},
   "source": [
    "### Testing Node Counting\n",
    "This is used to find the count of nodes in an experiment. When the variable `countNodes` is set to True, the nodes created by the search is retuned in addition to the regular result. We test this against some given values."
   ]
  },
  {
   "cell_type": "code",
   "execution_count": 27,
   "metadata": {},
   "outputs": [
    {
     "name": "stdout",
     "output_type": "stream",
     "text": [
      "Tests of counting funcitonality passed!\n"
     ]
    }
   ],
   "source": [
    "startState = [1,2,3,4,0,5,6,7,8]\n",
    "goalState = [1,2,3,4,5,8,6,0,7]\n",
    "a, nodeCount = aStarSearch(startState, actionsF_8p, takeActionF_8p, \n",
    "                                 lambda s: goalTestF_8p(s, goalState),\n",
    "                                 lambda s: h1_8p(s, goalState), True)\n",
    "assert(nodeCount == 116)\n",
    "_, nodeCount = aStarSearch(startState, actionsF_8p, takeActionF_8p, \n",
    "                                 lambda s: goalTestF_8p(s, goalState),\n",
    "                                 lambda s: h2_8p(s, goalState), True)\n",
    "assert(nodeCount == 51)\n",
    "_, nodeCount = iterativeDeepeningSearch(startState, goalState, actionsF_8p, takeActionF_8p, 10, True)\n",
    "assert(nodeCount == 43)\n",
    "print(\"Tests of counting funcitonality passed!\")"
   ]
  },
  {
   "cell_type": "markdown",
   "metadata": {},
   "source": [
    "### Given Trial Run"
   ]
  },
  {
   "cell_type": "markdown",
   "metadata": {},
   "source": [
    "Here is a simple example using our usual simple graph search."
   ]
  },
  {
   "cell_type": "code",
   "execution_count": 28,
   "metadata": {},
   "outputs": [],
   "source": [
    "def actionsF_simple(state):\n",
    "    succs = {'a': ['b', 'c'], 'b':['a'], 'c':['h'], 'h':['i'], 'i':['j', 'k', 'l'], 'k':['z']}\n",
    "    return [(s, 1) for s in succs.get(state, [])]\n",
    "\n",
    "def takeActionF_simple(state, action):\n",
    "    return action\n",
    "\n",
    "def goalTestF_simple(state, goal):\n",
    "    return state == goal\n",
    "\n",
    "def h_simple(state, goal):\n",
    "    return 1"
   ]
  },
  {
   "cell_type": "code",
   "execution_count": 29,
   "metadata": {},
   "outputs": [
    {
     "data": {
      "text/plain": [
       "[('b', 1), ('c', 1)]"
      ]
     },
     "execution_count": 29,
     "metadata": {},
     "output_type": "execute_result"
    }
   ],
   "source": [
    "actions = actionsF_simple('a')\n",
    "actions"
   ]
  },
  {
   "cell_type": "code",
   "execution_count": 30,
   "metadata": {},
   "outputs": [
    {
     "data": {
      "text/plain": [
       "('b', 1)"
      ]
     },
     "execution_count": 30,
     "metadata": {},
     "output_type": "execute_result"
    }
   ],
   "source": [
    "takeActionF_simple('a', actions[0])"
   ]
  },
  {
   "cell_type": "code",
   "execution_count": 31,
   "metadata": {},
   "outputs": [
    {
     "data": {
      "text/plain": [
       "True"
      ]
     },
     "execution_count": 31,
     "metadata": {},
     "output_type": "execute_result"
    }
   ],
   "source": [
    "goalTestF_simple('a', 'a')"
   ]
  },
  {
   "cell_type": "code",
   "execution_count": 32,
   "metadata": {},
   "outputs": [
    {
     "data": {
      "text/plain": [
       "1"
      ]
     },
     "execution_count": 32,
     "metadata": {},
     "output_type": "execute_result"
    }
   ],
   "source": [
    "h_simple('a', 'z')"
   ]
  },
  {
   "cell_type": "code",
   "execution_count": 33,
   "metadata": {},
   "outputs": [
    {
     "data": {
      "text/plain": [
       "['a', 'c', 'h', 'i', 'k', 'z']"
      ]
     },
     "execution_count": 33,
     "metadata": {},
     "output_type": "execute_result"
    }
   ],
   "source": [
    "iterativeDeepeningSearch('a', 'z', actionsF_simple, takeActionF_simple, 10)"
   ]
  },
  {
   "cell_type": "code",
   "execution_count": 34,
   "metadata": {},
   "outputs": [
    {
     "data": {
      "text/plain": [
       "(['a', 'c', 'h', 'i', 'k', 'z'], 5)"
      ]
     },
     "execution_count": 34,
     "metadata": {},
     "output_type": "execute_result"
    }
   ],
   "source": [
    "aStarSearch('a',actionsF_simple, takeActionF_simple,\n",
    "            lambda s: goalTestF_simple(s, 'z'),\n",
    "            lambda s: h_simple(s, 'z'))"
   ]
  },
  {
   "cell_type": "markdown",
   "metadata": {},
   "source": [
    "### Experiment Trials"
   ]
  },
  {
   "cell_type": "markdown",
   "metadata": {},
   "source": [
    "Here we will use the `runExperiment` function to test out the algorithms on different goal states. First we do the given experiment to verify the values. "
   ]
  },
  {
   "cell_type": "code",
   "execution_count": 57,
   "metadata": {
    "scrolled": true
   },
   "outputs": [
    {
     "name": "stdout",
     "output_type": "stream",
     "text": [
      "          [1, 2, 3, 4, 0, 5, 6, 7, 8]                        \\\n",
      "                               Depths Nodes  EBF Time (sec)   \n",
      "Algorithm                                                     \n",
      "IDS                                 0     0  0.0  3.028e-05   \n",
      "A*h1                                0     0  0.0  5.531e-05   \n",
      "A*h2                                0     0  0.0  4.125e-05   \n",
      "A*h3                                0     0  0.0  3.815e-05   \n",
      "\n",
      "          [1, 2, 3, 4, 5, 8, 6, 0, 7]                          \\\n",
      "                               Depths Nodes    EBF Time (sec)   \n",
      "Algorithm                                                       \n",
      "IDS                                 3    43  3.086  2.847e-04   \n",
      "A*h1                                3   116  4.488  1.611e-03   \n",
      "A*h2                                3    51  3.297  7.849e-04   \n",
      "A*h3                                3     9  1.578  1.848e-04   \n",
      "\n",
      "          [1, 0, 3, 4, 5, 8, 2, 6, 7]                            \n",
      "                               Depths   Nodes    EBF Time (sec)  \n",
      "Algorithm                                                        \n",
      "IDS                                11  225850  2.954      0.266  \n",
      "A*h1                               11  643246  3.263      1.650  \n",
      "A*h2                               11  100046  2.733      0.291  \n",
      "A*h3                               11    4785  2.031      0.017  \n"
     ]
    }
   ],
   "source": [
    "g1 = [1,2,3,4,0,5,6,7,8]\n",
    "g2 = [1,2,3,4,5,8,6,0,7]\n",
    "g3 = [1,0,3,4,5,8,2,6,7]\n",
    "hlist = [h1_8p, h2_8p, h3_8p]\n",
    "runExperiment(g1,g2,g3,hlist)"
   ]
  },
  {
   "cell_type": "markdown",
   "metadata": {},
   "source": [
    "Testing some more states and some unreachable states."
   ]
  },
  {
   "cell_type": "code",
   "execution_count": null,
   "metadata": {},
   "outputs": [],
   "source": [
    "startState = [1,0,3,2,4,5,6,7,8]\n",
    "g1 = [1,2,3,4,0,5,6,7,8]\n",
    "# actionsF, takeActionF, goalTestF, hF, countNodes = False\n",
    "aStarSearch(startState, actionsF_8p, takeActionF_8p, lambda s: goalTestF_8p(s, g1),\n",
    "                                 lambda s: h3_8p(s, g1), True)\n"
   ]
  },
  {
   "cell_type": "code",
   "execution_count": 58,
   "metadata": {},
   "outputs": [
    {
     "ename": "KeyboardInterrupt",
     "evalue": "",
     "output_type": "error",
     "traceback": [
      "\u001b[0;31m---------------------------------------------------------------------------\u001b[0m",
      "\u001b[0;31mKeyboardInterrupt\u001b[0m                         Traceback (most recent call last)",
      "\u001b[0;32m~/classes/cs440/A3grader.py\u001b[0m in \u001b[0;36m<module>\u001b[0;34m()\u001b[0m\n\u001b[1;32m      3\u001b[0m \u001b[0mg3\u001b[0m \u001b[0;34m=\u001b[0m \u001b[0;34m[\u001b[0m\u001b[0;36m1\u001b[0m\u001b[0;34m,\u001b[0m\u001b[0;36m0\u001b[0m\u001b[0;34m,\u001b[0m\u001b[0;36m3\u001b[0m\u001b[0;34m,\u001b[0m\u001b[0;36m4\u001b[0m\u001b[0;34m,\u001b[0m\u001b[0;36m5\u001b[0m\u001b[0;34m,\u001b[0m\u001b[0;36m8\u001b[0m\u001b[0;34m,\u001b[0m\u001b[0;36m2\u001b[0m\u001b[0;34m,\u001b[0m\u001b[0;36m6\u001b[0m\u001b[0;34m,\u001b[0m\u001b[0;36m7\u001b[0m\u001b[0;34m]\u001b[0m\u001b[0;34m\u001b[0m\u001b[0m\n\u001b[1;32m      4\u001b[0m \u001b[0mhlist\u001b[0m \u001b[0;34m=\u001b[0m \u001b[0;34m[\u001b[0m\u001b[0mh1_8p\u001b[0m\u001b[0;34m,\u001b[0m \u001b[0mh2_8p\u001b[0m\u001b[0;34m,\u001b[0m \u001b[0mh3_8p\u001b[0m\u001b[0;34m]\u001b[0m\u001b[0;34m\u001b[0m\u001b[0m\n\u001b[0;32m----> 5\u001b[0;31m \u001b[0mrunExperiment\u001b[0m\u001b[0;34m(\u001b[0m\u001b[0mg1\u001b[0m\u001b[0;34m,\u001b[0m\u001b[0mg2\u001b[0m\u001b[0;34m,\u001b[0m\u001b[0mg3\u001b[0m\u001b[0;34m,\u001b[0m\u001b[0mhlist\u001b[0m\u001b[0;34m)\u001b[0m\u001b[0;34m\u001b[0m\u001b[0m\n\u001b[0m",
      "\u001b[0;32m~/classes/cs440/A3grader.py\u001b[0m in \u001b[0;36mrunExperiment\u001b[0;34m(goalState1, goalState2, goalState3, heuristicList)\u001b[0m\n\u001b[1;32m     31\u001b[0m             hResult, nodeCount = aStarSearch(startState, actionsF_8p, takeActionF_8p, \n\u001b[1;32m     32\u001b[0m                                  \u001b[0;32mlambda\u001b[0m \u001b[0ms\u001b[0m\u001b[0;34m:\u001b[0m \u001b[0mgoalTestF_8p\u001b[0m\u001b[0;34m(\u001b[0m\u001b[0ms\u001b[0m\u001b[0;34m,\u001b[0m \u001b[0mgoalState\u001b[0m\u001b[0;34m)\u001b[0m\u001b[0;34m,\u001b[0m\u001b[0;34m\u001b[0m\u001b[0m\n\u001b[0;32m---> 33\u001b[0;31m                                  lambda s: h(s, goalState), True)\n\u001b[0m\u001b[1;32m     34\u001b[0m             \u001b[0mendTime\u001b[0m \u001b[0;34m=\u001b[0m \u001b[0mtime\u001b[0m\u001b[0;34m.\u001b[0m\u001b[0mtime\u001b[0m\u001b[0;34m(\u001b[0m\u001b[0;34m)\u001b[0m\u001b[0;34m\u001b[0m\u001b[0m\n\u001b[1;32m     35\u001b[0m             \u001b[0mtimes\u001b[0m\u001b[0;34m.\u001b[0m\u001b[0mappend\u001b[0m\u001b[0;34m(\u001b[0m\u001b[0mendTime\u001b[0m \u001b[0;34m-\u001b[0m \u001b[0mstartTime\u001b[0m\u001b[0;34m)\u001b[0m\u001b[0;34m\u001b[0m\u001b[0m\n",
      "\u001b[0;32mnotebookcodeStripped.py\u001b[0m in \u001b[0;36maStarSearch\u001b[0;34m(startState, actionsF, takeActionF, goalTestF, hF, countNodes)\u001b[0m\n",
      "\u001b[0;32mnotebookcodeStripped.py\u001b[0m in \u001b[0;36maStarSearchHelper\u001b[0;34m(parentNode, actionsF, takeActionF, goalTestF, hF, fmax, node_count)\u001b[0m\n",
      "\u001b[0;32mnotebookcodeStripped.py\u001b[0m in \u001b[0;36maStarSearchHelper\u001b[0;34m(parentNode, actionsF, takeActionF, goalTestF, hF, fmax, node_count)\u001b[0m\n",
      "\u001b[0;32mnotebookcodeStripped.py\u001b[0m in \u001b[0;36maStarSearchHelper\u001b[0;34m(parentNode, actionsF, takeActionF, goalTestF, hF, fmax, node_count)\u001b[0m\n",
      "\u001b[0;32mnotebookcodeStripped.py\u001b[0m in \u001b[0;36maStarSearchHelper\u001b[0;34m(parentNode, actionsF, takeActionF, goalTestF, hF, fmax, node_count)\u001b[0m\n",
      "\u001b[0;32mnotebookcodeStripped.py\u001b[0m in \u001b[0;36maStarSearchHelper\u001b[0;34m(parentNode, actionsF, takeActionF, goalTestF, hF, fmax, node_count)\u001b[0m\n",
      "\u001b[0;32mnotebookcodeStripped.py\u001b[0m in \u001b[0;36maStarSearchHelper\u001b[0;34m(parentNode, actionsF, takeActionF, goalTestF, hF, fmax, node_count)\u001b[0m\n",
      "\u001b[0;32mnotebookcodeStripped.py\u001b[0m in \u001b[0;36maStarSearchHelper\u001b[0;34m(parentNode, actionsF, takeActionF, goalTestF, hF, fmax, node_count)\u001b[0m\n",
      "\u001b[0;32mnotebookcodeStripped.py\u001b[0m in \u001b[0;36maStarSearchHelper\u001b[0;34m(parentNode, actionsF, takeActionF, goalTestF, hF, fmax, node_count)\u001b[0m\n",
      "\u001b[0;32mnotebookcodeStripped.py\u001b[0m in \u001b[0;36maStarSearchHelper\u001b[0;34m(parentNode, actionsF, takeActionF, goalTestF, hF, fmax, node_count)\u001b[0m\n",
      "\u001b[0;32mnotebookcodeStripped.py\u001b[0m in \u001b[0;36maStarSearchHelper\u001b[0;34m(parentNode, actionsF, takeActionF, goalTestF, hF, fmax, node_count)\u001b[0m\n",
      "\u001b[0;32mnotebookcodeStripped.py\u001b[0m in \u001b[0;36maStarSearchHelper\u001b[0;34m(parentNode, actionsF, takeActionF, goalTestF, hF, fmax, node_count)\u001b[0m\n",
      "\u001b[0;32mnotebookcodeStripped.py\u001b[0m in \u001b[0;36maStarSearchHelper\u001b[0;34m(parentNode, actionsF, takeActionF, goalTestF, hF, fmax, node_count)\u001b[0m\n",
      "\u001b[0;32mnotebookcodeStripped.py\u001b[0m in \u001b[0;36maStarSearchHelper\u001b[0;34m(parentNode, actionsF, takeActionF, goalTestF, hF, fmax, node_count)\u001b[0m\n",
      "\u001b[0;32mnotebookcodeStripped.py\u001b[0m in \u001b[0;36maStarSearchHelper\u001b[0;34m(parentNode, actionsF, takeActionF, goalTestF, hF, fmax, node_count)\u001b[0m\n",
      "\u001b[0;31mKeyboardInterrupt\u001b[0m: "
     ]
    }
   ],
   "source": [
    "g1 = [1,0,3,2,4,5,6,7,8]\n",
    "g2 = [1,2,3,4,5,8,6,0,7]\n",
    "g3 = [1,0,3,4,5,8,2,6,7]\n",
    "hlist = [h1_8p, h2_8p, h3_8p]\n",
    "runExperiment(g1,g2,g3,hlist)"
   ]
  },
  {
   "cell_type": "markdown",
   "metadata": {},
   "source": [
    "## Grading"
   ]
  },
  {
   "cell_type": "markdown",
   "metadata": {},
   "source": [
    "Download [A3grader.tar](http://www.cs.colostate.edu/~anderson/cs440/notebooks/A3grader.tar) and extract A3grader.py from it."
   ]
  },
  {
   "cell_type": "code",
   "execution_count": 36,
   "metadata": {},
   "outputs": [
    {
     "name": "stdout",
     "output_type": "stream",
     "text": [
      "\n",
      "======================= Code Execution =======================\n",
      "\n",
      "Extracting python code from notebook named 'Newell-A3.ipynb' and storing in notebookcode.py\n",
      "Removing all statements that are not function or class defs or import statements.\n",
      "\n",
      "Testing actionsF_8p([1, 2, 3, 4, 5, 6, 7, 0, 8])\n",
      "\n",
      "--- 5/5 points. Your actionsF_8p correctly returned [('left', 1), ('right', 1), ('up', 1)]\n",
      "\n",
      "Testing takeActionF_8p([1, 2, 3, 4, 5, 6, 7, 0, 8], (up, 1))\n",
      "\n",
      "--- 5/5 points. Your takeActionsF_8p correctly returned ([1, 2, 3, 4, 0, 6, 7, 5, 8], 1)\n",
      "\n",
      "Testing goalTestF_8p([1, 2, 3, 4, 5, 6, 7, 0, 8], [1, 2, 3, 4, 5, 6, 7, 0, 8])\n",
      "\n",
      "--- 5/5 points. Your goalTestF_8p correctly True\n",
      "\n",
      "Testing aStarSearch(1, 2, 3, 4, 5, 6, 7, 0, 8],\n",
      "                     actionsF_8p, takeActionF_8p,\n",
      "                     lambda s: goalTestF_8p(s, [0, 2, 3, 1, 4,  6, 7, 5, 8]),\n",
      "                     lambda s: h1_8p(s, [0, 2, 3, 1, 4,  6, 7, 5, 8]))\n",
      "\n",
      "--- 20/20 points. Your search correctly returned ([[1, 2, 3, 4, 5, 6, 7, 0, 8], [1, 2, 3, 4, 0, 6, 7, 5, 8], [1, 2, 3, 0, 4, 6, 7, 5, 8], [0, 2, 3, 1, 4, 6, 7, 5, 8]], 3)\n",
      "\n",
      "Testing iterativeDeepeningSearch([1, 2, 3, 4, 5, 6, 7, 0, 8], \n",
      "                                 [0, 2, 3, 1, 4,  6, 7, 5, 8],\n",
      "                                 actionsF_8p, takeActionF_8p, 10)\n",
      "\n",
      "--- 15/15 points. Your search correctly returned [[1, 2, 3, 4, 5, 6, 7, 0, 8], [1, 2, 3, 4, 0, 6, 7, 5, 8], [1, 2, 3, 0, 4, 6, 7, 5, 8], [0, 2, 3, 1, 4, 6, 7, 5, 8]]\n",
      "\n",
      "Testing iterativeDeepeningSearch([5, 2, 8, 0, 1, 4, 3, 7, 6], \n",
      "                                 [0, 2, 3, 1, 4,  6, 7, 5, 8],\n",
      "                                 actionsF_8p, takeActionF_8p, 10)\n",
      "\n",
      "--- 15/15 points. Your search correctly returned cutoff\n",
      "\n",
      "Testing ebf(200, 6, 0.1)\n",
      "\n",
      "--- 15/15 points. Your call to ebf correctly returned 2.185373306274414\n",
      "\n",
      "cs440 Grade is 80/80\n",
      "\n",
      "Up to 20 more points will be given based on the quality of your descriptions of the method and the results.\n"
     ]
    }
   ],
   "source": [
    "%run -i A3grader.py"
   ]
  },
  {
   "cell_type": "markdown",
   "metadata": {},
   "source": [
    "## Extra Credit"
   ]
  },
  {
   "cell_type": "markdown",
   "metadata": {},
   "source": [
    "Add a third column for each result (from running `runExperiment`) that is the number of seconds each search required.  You may get the total run time when running a function by doing\n",
    "\n",
    "     import time\n",
    "    \n",
    "     start_time = time.time()\n",
    "    \n",
    "     < do some python stuff >\n",
    "    \n",
    "     end_time = time.time()\n",
    "     print('This took', end_time - start_time, 'seconds.')\n"
   ]
  }
 ],
 "metadata": {
  "anaconda-cloud": {},
  "kernelspec": {
   "display_name": "Python 3",
   "language": "python",
   "name": "python3"
  },
  "language_info": {
   "codemirror_mode": {
    "name": "ipython",
    "version": 3
   },
   "file_extension": ".py",
   "mimetype": "text/x-python",
   "name": "python",
   "nbconvert_exporter": "python",
   "pygments_lexer": "ipython3",
   "version": "3.6.5"
  }
 },
 "nbformat": 4,
 "nbformat_minor": 2
}
