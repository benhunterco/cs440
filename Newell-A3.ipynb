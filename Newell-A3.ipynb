{
 "cells": [
  {
   "cell_type": "markdown",
   "metadata": {},
   "source": [
    "# A3: A\\*, IDS, and Effective Branching Factor"
   ]
  },
  {
   "cell_type": "markdown",
   "metadata": {},
   "source": [
    "For this assignment, implement the Recursive Best-First Search\n",
    "implementation of the A\\* algorithm given in class.  Name this function `aStarSearch`.  Also in this notebook include your `iterativeDeepeningSearch` functions.  Define a new function named `ebf` that returns an estimate of the effective\n",
    "branching factor for a search algorithm applied to a search problem.\n",
    "\n",
    "So, the required functions are\n",
    "\n",
    "   - `aStarSearch(startState, actionsF, takeActionF, goalTestF, hF)`\n",
    "   - `iterativeDeepeningSearch(startState, goalState, actionsF, takeActionF, maxDepth)`\n",
    "   - `ebf(nNodes, depth, precision=0.01)`, returns the effective branching factor, given the number of nodes expanded and depth reached during a search.\n",
    "\n",
    "Apply `iterativeDeepeningSearch` and `aStarSearch` to several eight-tile sliding puzzle\n",
    "problems. For this you must include your implementations of these functions, from Assignment 2:\n",
    "\n",
    "  * `actionsF_8p(state)`: returns a list of up to four valid actions that can be applied in `state`. With each action include a step cost of 1. For example, if all four actions are possible from this state, return [('left', 1), ('right', 1), ('up', 1), ('down', 1)].\n",
    "  * `takeActionF_8p(state, action)`: return the state that results from applying `action` in `state` and the cost of the one step,\n",
    "  \n",
    "plus the following function for the eight-tile puzzle:\n",
    "\n",
    "  * `goalTestF_8p(state, goal)`\n",
    "  \n",
    "Compare their results by displayng\n",
    "solution path depth, number of nodes \n",
    "generated, and the effective branching factor, and discuss the results.  Do this by defining the following function that prints the table as shown in the example below.\n",
    "\n",
    "   - runExperiment(goalState1, goalState2, goalState3, [h1, h2, h3])\n",
    "   \n",
    "Define this function so it takes any number of $h$ functions in the list that is the fourth argument."
   ]
  },
  {
   "cell_type": "markdown",
   "metadata": {},
   "source": [
    "## Heuristic Functions\n",
    "\n",
    "For `aStarSearch` use the following two heuristic functions, plus one more of your own design, for a total of three heuristic functions.\n",
    "\n",
    "  * `h1_8p(state, goal)`: $h(state, goal) = 0$, for all states $state$ and all goal states $goal$,\n",
    "  * `h2_8p(state, goal)`: $h(state, goal) = m$, where $m$ is the Manhattan distance that the blank is from its goal position,\n",
    "  * `h3_8p(state, goal)`: $h(state, goal) = ?$, that you define.  It must be admissible, and not constant for all states."
   ]
  },
  {
   "cell_type": "markdown",
   "metadata": {},
   "source": [
    "## Comparison"
   ]
  },
  {
   "cell_type": "markdown",
   "metadata": {},
   "source": [
    "Apply all four algorithms (`iterativeDeepeningSearch` plus `aStarSearch` with the three heuristic\n",
    "functions) to three eight-tile puzzle problems with start state\n",
    "\n",
    "$$\n",
    "\\begin{array}{ccc}\n",
    "1 & 2 & 3\\\\\n",
    "4 & 0 & 5\\\\\n",
    "6 & 7 & 8\n",
    "\\end{array}\n",
    "$$\n",
    "\n",
    "and these three goal states.\n",
    "\n",
    "$$\n",
    "\\begin{array}{ccccccccccc}\n",
    "1 & 2 & 3  & ~~~~ & 1 & 2 & 3  &  ~~~~ & 1 & 0 &  3\\\\\n",
    "4 & 0 & 5  & & 4 & 5 & 8  & & 4 & 5 & 8\\\\\n",
    "6 & 7 & 8 &  & 6 & 0 & 7  & & 2 & 6 & 7\n",
    "\\end{array}\n",
    "$$"
   ]
  },
  {
   "cell_type": "markdown",
   "metadata": {},
   "source": [
    "Print a well-formatted table like the following.  Try to match this\n",
    "format. If you have time, you might consider learning a bit about the `DataFrame` class in the `pandas` package.  When displayed in jupyter notebooks, `pandas.DataFrame` objects are nicely formatted in html.\n",
    "\n",
    "           [1, 2, 3, 4, 0, 5, 6, 7, 8]    [1, 2, 3, 4, 5, 8, 6, 0, 7]    [1, 0, 3, 4, 5, 8, 2, 6, 7] \n",
    "    Algorithm    Depth  Nodes  EBF              Depth  Nodes  EBF              Depth  Nodes  EBF          \n",
    "         IDS       0      0  0.000                3     43  3.086               11 225850  2.954         \n",
    "        A*h1       0      0  0.000                3    116  4.488               11 643246  3.263         \n",
    "        A*h2       0      0  0.000                3     51  3.297               11 100046  2.733         \n",
    "\n",
    "Of course you will have one more line for `h3`."
   ]
  },
  {
   "cell_type": "markdown",
   "metadata": {},
   "source": [
    "# Function Definitions"
   ]
  },
  {
   "cell_type": "markdown",
   "metadata": {},
   "source": [
    "### A* Functions and Node class"
   ]
  },
  {
   "cell_type": "markdown",
   "metadata": {},
   "source": [
    "Here we have the node class. This represents the extra information that each node in a A* search needs to carry out the search successfully. H represents the value of the hueristic function at that node. G represents the total cost so far to get to that node, and F is the total of the two, making it an estimate of the total path cost. "
   ]
  },
  {
   "cell_type": "code",
   "execution_count": 53,
   "metadata": {},
   "outputs": [],
   "source": [
    "class Node:\n",
    "    def __init__(self, state, f=0, g=0 ,h=0):\n",
    "        self.state = state\n",
    "        self.f = f\n",
    "        self.g = g\n",
    "        self.h = h\n",
    "    def __repr__(self):\n",
    "        return \"Node(\" + repr(self.state) + \", f=\" + repr(self.f) + \\\n",
    "               \", g=\" + repr(self.g) + \", h=\" + repr(self.h) + \")\""
   ]
  },
  {
   "cell_type": "markdown",
   "metadata": {},
   "source": [
    "Here is the `aStarSearch` which kicks off the A* search algorithm. It takes a startState representing the starting state of the puzzle, an actions function that allows successor states to be found, an action function that allows the states to be modified, a goal test function that can test for a successful state, as well as the hueristic function. It initializes the root `Node` with the given hueristic function, then passes it off to the helper."
   ]
  },
  {
   "cell_type": "code",
   "execution_count": 86,
   "metadata": {},
   "outputs": [],
   "source": [
    "def aStarSearch(startState, actionsF, takeActionF, goalTestF, hF, countNodes = False):\n",
    "    h = hF(startState)\n",
    "    startNode = Node(state=startState, f=0+h, g=0, h=h)\n",
    "    node_count = 1 if countNodes else 0\n",
    "    return aStarSearchHelper(startNode, actionsF, takeActionF, goalTestF, hF, float('inf'), node_count)"
   ]
  },
  {
   "cell_type": "markdown",
   "metadata": {},
   "source": [
    "Here is the recursive helper method for A* search. It takes a parent node and fmax, which represents a cutoff f value, as well as the functions that were passed into `aStarSearch` above. First it checks the simple case of whether the goal has been found or not. Then it creates a list of possible actions using the action function. If no actions exist, then moves can be made from this state. In that case \"failure\" and $\\infty$ are returned because the goal state cannot ever be found. Otherwise, a list of children are generated using the action function. Each of these has a hueristic value H and path cost estimate F. We find the best cost estimate by sorting the children on F, and if this is higher than fmax the search is ended. Next we make the recursive call passing in the current best child and the second best as the new fmax. This means that if a higher f value is found than the second best, we end the search at that level and try again with the second best. "
   ]
  },
  {
   "cell_type": "code",
   "execution_count": 89,
   "metadata": {},
   "outputs": [],
   "source": [
    "def aStarSearchHelper(parentNode, actionsF, takeActionF, goalTestF, hF, fmax, node_count = 0):\n",
    "    if goalTestF(parentNode.state):\n",
    "        return ([parentNode.state], parentNode.g)\n",
    "    ## Construct list of children nodes with f, g, and h values\n",
    "    actions = actionsF(parentNode.state)\n",
    "    if not actions:\n",
    "        return (\"failure\", float('inf'))\n",
    "    children = []\n",
    "    for action in actions:\n",
    "        (childState,stepCost) = takeActionF(parentNode.state, action)\n",
    "        h = hF(childState)\n",
    "        g = parentNode.g + stepCost\n",
    "        f = max(h+g, parentNode.f)\n",
    "        childNode = Node(state=childState, f=f, g=g, h=h)\n",
    "        if node_count: node_count += 1\n",
    "        children.append(childNode)\n",
    "    while True:\n",
    "        # find best child\n",
    "        children.sort(key = lambda n: n.f) # sort by f value\n",
    "        bestChild = children[0]\n",
    "        if bestChild.f > fmax:\n",
    "            return (\"failure\",bestChild.f)\n",
    "        # next lowest f value\n",
    "        alternativef = children[1].f if len(children) > 1 else float('inf')\n",
    "        # expand best child, reassign its f value to be returned value\n",
    "        result,bestChild.f = aStarSearchHelper(bestChild, actionsF, takeActionF, goalTestF,\n",
    "                                            hF, min(fmax,alternativef), node_count)\n",
    "        if result is not \"failure\":               \n",
    "            result.insert(0,parentNode.state)\n",
    "            retlist = [result, bestChild.f]\n",
    "            if node_count: retlist.append(node_count)\n",
    "            return tuple(retlist)        "
   ]
  },
  {
   "cell_type": "markdown",
   "metadata": {},
   "source": [
    "### Hueristic functions"
   ]
  },
  {
   "cell_type": "markdown",
   "metadata": {},
   "source": [
    "The most simple possible hueristic function. Just estimates the cost as zero, which is never an over-estimate so it is admissible. "
   ]
  },
  {
   "cell_type": "code",
   "execution_count": 56,
   "metadata": {},
   "outputs": [],
   "source": [
    "def h1_8p(state, goal):\n",
    "    return 0"
   ]
  },
  {
   "cell_type": "markdown",
   "metadata": {},
   "source": [
    "Finds the manhattan distance of the current state from the goal state by using a manhattan distance. This is calculating by adding the verticle moves and the horizontal moves together to get to the location, like moving through blocks in Manhattan. "
   ]
  },
  {
   "cell_type": "code",
   "execution_count": 57,
   "metadata": {},
   "outputs": [],
   "source": [
    "def h2_8p(state, goal):\n",
    "    currentIndex = state.index(0)\n",
    "    goalIndex = goal.index(0)\n",
    "    rowDelta = abs(currentIndex // 3 - goalIndex // 3)\n",
    "    colDelta = abs(currentIndex % 3 - goalIndex % 3)\n",
    "    return colDelta + rowDelta"
   ]
  },
  {
   "cell_type": "markdown",
   "metadata": {},
   "source": [
    "### Effective Branching Factor"
   ]
  },
  {
   "cell_type": "code",
   "execution_count": 58,
   "metadata": {},
   "outputs": [],
   "source": [
    "def ebf_calculation(depth, branch_guess):\n",
    "    if depth == 0:\n",
    "        return 1\n",
    "    if branch_guess == 1:\n",
    "        return depth\n",
    "    return (1-branch_guess ** (depth + 1)) /(1 - branch_guess)"
   ]
  },
  {
   "cell_type": "code",
   "execution_count": 59,
   "metadata": {},
   "outputs": [],
   "source": [
    "def ebf_helper(lower, upper, nNodes, depth, precision):\n",
    "    midpoint = (lower + upper) / 2\n",
    "    guessed_nodes = ebf_calculation(depth, midpoint)\n",
    "    if abs(nNodes - guessed_nodes) < precision:\n",
    "        return midpoint\n",
    "    if guessed_nodes < nNodes:\n",
    "        return ebf_helper(midpoint, upper, nNodes, depth, precision)\n",
    "    else:\n",
    "        return ebf_helper(lower, midpoint, nNodes, depth, precision)    "
   ]
  },
  {
   "cell_type": "code",
   "execution_count": 60,
   "metadata": {},
   "outputs": [],
   "source": [
    "def ebf(nNodes, depth, precision=0.01):\n",
    "    return ebf_helper(1, nNodes, nNodes, depth, precision)"
   ]
  },
  {
   "cell_type": "markdown",
   "metadata": {},
   "source": [
    "### Goal Test Function"
   ]
  },
  {
   "cell_type": "markdown",
   "metadata": {},
   "source": [
    "This is a simple goal test function, it just uses pythons list comparison to see whether the two lists are equal."
   ]
  },
  {
   "cell_type": "code",
   "execution_count": 61,
   "metadata": {},
   "outputs": [],
   "source": [
    "def goalTestF_8p(state, goal):\n",
    "    return state == goal"
   ]
  },
  {
   "cell_type": "markdown",
   "metadata": {},
   "source": [
    "### Experiment Function"
   ]
  },
  {
   "cell_type": "code",
   "execution_count": 91,
   "metadata": {},
   "outputs": [],
   "source": [
    "def runExperiment(goalState1, goalState2, goalState3, hueristicList):\n",
    "    return \"nothing\""
   ]
  },
  {
   "cell_type": "markdown",
   "metadata": {},
   "source": [
    "## Old Functions\n",
    "From A2. Only small changes were made to `depthLimitedSearch` and `actionsF_8p`. Those changes are noted."
   ]
  },
  {
   "cell_type": "markdown",
   "metadata": {},
   "source": [
    "Added a variable for cost now that takeActionF usually returns a tuple. "
   ]
  },
  {
   "cell_type": "code",
   "execution_count": 62,
   "metadata": {},
   "outputs": [],
   "source": [
    "def depthLimitedSearch(state, goalState, actionsF, takeActionF, depthLimit):\n",
    "    if state == goalState:\n",
    "        return []\n",
    "    if depthLimit == 0:\n",
    "        return \"cutoff\"\n",
    "    cutoffoccurred = False\n",
    "    for action in actionsF(state):\n",
    "        childState,cost = takeActionF(state, action) # This was modified to deal with the new cost.\n",
    "        result = depthLimitedSearch(childState, goalState, actionsF, takeActionF, depthLimit - 1)\n",
    "        if result == \"cutoff\":\n",
    "            cutoffoccurred = True\n",
    "        elif result != \"failure\":\n",
    "            result.insert(0, childState)\n",
    "            return result\n",
    "    if cutoffoccurred:\n",
    "        return \"cutoff\"\n",
    "    else:\n",
    "        return \"failure\"\n"
   ]
  },
  {
   "cell_type": "code",
   "execution_count": 63,
   "metadata": {},
   "outputs": [],
   "source": [
    "def iterativeDeepeningSearch(startState, goalState, actionsF, takeActionF, maxDepth, countNodes = False):\n",
    "    node_count = 0\n",
    "    for depth in range(0, maxDepth):\n",
    "        result = depthLimitedSearch(startState, goalState, actionsF, takeActionF, depth)\n",
    "        if result == \"failure\":\n",
    "            return \"failure\"\n",
    "        if result != \"cutoff\":\n",
    "            result.insert(0, startState)\n",
    "            return result\n",
    "    return \"cutoff\""
   ]
  },
  {
   "cell_type": "markdown",
   "metadata": {},
   "source": [
    "Converted this from a generator because of assignment requirements. Also added in the step cost of one to each action. "
   ]
  },
  {
   "cell_type": "code",
   "execution_count": 64,
   "metadata": {},
   "outputs": [],
   "source": [
    "def actionsF_8p(state):\n",
    "    i = state.index(0)\n",
    "    actions = []\n",
    "    if i % 3 > 0:\n",
    "        actions.append(\"left\",1)\n",
    "    if i % 3 < 2:\n",
    "        actions.append(\"right\",1)\n",
    "    if i // 3 > 0:\n",
    "        actions.append(\"up\",1)\n",
    "    if i // 3 < 2:\n",
    "        actions.append(\"down\",1)\n",
    "    return actions"
   ]
  },
  {
   "cell_type": "code",
   "execution_count": 65,
   "metadata": {},
   "outputs": [],
   "source": [
    "def takeActionF_8p(state, action):\n",
    "    #this does not check if action is allowed\n",
    "    state = state.copy()\n",
    "    i = state.index(0)\n",
    "    if action == \"right\":\n",
    "        state[i], state[i+1] = state[i+1], state[i]\n",
    "    elif action == \"left\":\n",
    "        state[i], state[i-1] = state[i-1], state[i]\n",
    "    elif action == \"up\":\n",
    "        state[i], state[i-3] = state[i-3], state[i]\n",
    "    elif action == \"down\":\n",
    "        state[i], state[i+3] = state[i+3], state[i]\n",
    "    return state\n"
   ]
  },
  {
   "cell_type": "code",
   "execution_count": 66,
   "metadata": {},
   "outputs": [],
   "source": [
    "def printPath_8p(startState, goalState, path):\n",
    "    for state in path:\n",
    "        printState_8p(state)\n",
    "        print()\n",
    "    printState_8p(goalState)"
   ]
  },
  {
   "cell_type": "markdown",
   "metadata": {},
   "source": [
    "# Tests"
   ]
  },
  {
   "cell_type": "markdown",
   "metadata": {},
   "source": [
    "### Hueristic Functions"
   ]
  },
  {
   "cell_type": "markdown",
   "metadata": {},
   "source": [
    "Pretty simple to test this one."
   ]
  },
  {
   "cell_type": "code",
   "execution_count": 67,
   "metadata": {},
   "outputs": [
    {
     "name": "stdout",
     "output_type": "stream",
     "text": [
      "Test for h1_8p passed!\n"
     ]
    }
   ],
   "source": [
    "assert(0 == h1_8p(\"literally\", \"anything\"))\n",
    "print(\"Test for h1_8p passed!\")"
   ]
  },
  {
   "cell_type": "code",
   "execution_count": 68,
   "metadata": {},
   "outputs": [
    {
     "name": "stdout",
     "output_type": "stream",
     "text": [
      "Tests for h2_8p passed!\n"
     ]
    }
   ],
   "source": [
    "startState = [0,1,2,3,4,5,6,7,8]\n",
    "goalState = [1,2,3,4,5,6,7,8,0]\n",
    "assert(4 == h2_8p(startState, goalState))\n",
    "goalState = takeActionF_8p(goalState, \"left\")\n",
    "assert(3 == h2_8p(startState, goalState))\n",
    "goalState = takeActionF_8p(goalState, \"left\")\n",
    "assert(2 == h2_8p(startState, goalState))\n",
    "goalState = takeActionF_8p(goalState, \"up\")\n",
    "assert(1 == h2_8p(startState, goalState))\n",
    "print(\"Tests for h2_8p passed!\")"
   ]
  },
  {
   "cell_type": "markdown",
   "metadata": {},
   "source": [
    "### Goal Test Functions"
   ]
  },
  {
   "cell_type": "code",
   "execution_count": 69,
   "metadata": {},
   "outputs": [
    {
     "name": "stdout",
     "output_type": "stream",
     "text": [
      "Tests of goalTestF_8p passed!\n"
     ]
    }
   ],
   "source": [
    "startState = [1, 2, 3, 4, 5, 6, 7, 8, 0]\n",
    "goalState = startState.copy()\n",
    "assert(True == goalTestF_8p(startState, goalState))\n",
    "goalState = takeActionF_8p(goalState, \"left\")\n",
    "assert(False == goalTestF_8p(startState, goalState))\n",
    "print(\"Tests of goalTestF_8p passed!\")"
   ]
  },
  {
   "cell_type": "markdown",
   "metadata": {},
   "source": [
    "First, some example output for the ebf function.  During execution, this example shows debugging output which is the low and high values passed into a recursive helper function."
   ]
  },
  {
   "cell_type": "code",
   "execution_count": 70,
   "metadata": {
    "scrolled": true
   },
   "outputs": [
    {
     "data": {
      "text/plain": [
       "1.661376953125"
      ]
     },
     "execution_count": 70,
     "metadata": {},
     "output_type": "execute_result"
    }
   ],
   "source": [
    "ebf(10, 3)"
   ]
  },
  {
   "cell_type": "markdown",
   "metadata": {},
   "source": [
    "The smallest argument values should be a depth of 0, and 1 node."
   ]
  },
  {
   "cell_type": "code",
   "execution_count": 71,
   "metadata": {},
   "outputs": [
    {
     "data": {
      "text/plain": [
       "1.0"
      ]
     },
     "execution_count": 71,
     "metadata": {},
     "output_type": "execute_result"
    }
   ],
   "source": [
    "ebf(1, 0)"
   ]
  },
  {
   "cell_type": "code",
   "execution_count": 72,
   "metadata": {},
   "outputs": [
    {
     "data": {
      "text/plain": [
       "1.0078125"
      ]
     },
     "execution_count": 72,
     "metadata": {},
     "output_type": "execute_result"
    }
   ],
   "source": [
    "ebf(2, 1)"
   ]
  },
  {
   "cell_type": "code",
   "execution_count": 73,
   "metadata": {},
   "outputs": [
    {
     "data": {
      "text/plain": [
       "1.0000009536743164"
      ]
     },
     "execution_count": 73,
     "metadata": {},
     "output_type": "execute_result"
    }
   ],
   "source": [
    "ebf(2, 1, precision=0.000001)"
   ]
  },
  {
   "cell_type": "code",
   "execution_count": 74,
   "metadata": {},
   "outputs": [
    {
     "data": {
      "text/plain": [
       "11.275596931956898"
      ]
     },
     "execution_count": 74,
     "metadata": {},
     "output_type": "execute_result"
    }
   ],
   "source": [
    "ebf(200000, 5)"
   ]
  },
  {
   "cell_type": "code",
   "execution_count": 75,
   "metadata": {},
   "outputs": [
    {
     "data": {
      "text/plain": [
       "1.2348192492705223"
      ]
     },
     "execution_count": 75,
     "metadata": {},
     "output_type": "execute_result"
    }
   ],
   "source": [
    "ebf(200000, 50)"
   ]
  },
  {
   "cell_type": "markdown",
   "metadata": {},
   "source": [
    "Here is a simple example using our usual simple graph search."
   ]
  },
  {
   "cell_type": "code",
   "execution_count": 76,
   "metadata": {},
   "outputs": [],
   "source": [
    "def actionsF_simple(state):\n",
    "    succs = {'a': ['b', 'c'], 'b':['a'], 'c':['h'], 'h':['i'], 'i':['j', 'k', 'l'], 'k':['z']}\n",
    "    return [(s, 1) for s in succs.get(state, [])]\n",
    "\n",
    "def takeActionF_simple(state, action):\n",
    "    return action\n",
    "\n",
    "def goalTestF_simple(state, goal):\n",
    "    return state == goal\n",
    "\n",
    "def h_simple(state, goal):\n",
    "    return 1"
   ]
  },
  {
   "cell_type": "code",
   "execution_count": 77,
   "metadata": {},
   "outputs": [
    {
     "data": {
      "text/plain": [
       "[('b', 1), ('c', 1)]"
      ]
     },
     "execution_count": 77,
     "metadata": {},
     "output_type": "execute_result"
    }
   ],
   "source": [
    "actions = actionsF_simple('a')\n",
    "actions"
   ]
  },
  {
   "cell_type": "code",
   "execution_count": 78,
   "metadata": {},
   "outputs": [
    {
     "data": {
      "text/plain": [
       "('b', 1)"
      ]
     },
     "execution_count": 78,
     "metadata": {},
     "output_type": "execute_result"
    }
   ],
   "source": [
    "takeActionF_simple('a', actions[0])"
   ]
  },
  {
   "cell_type": "code",
   "execution_count": 79,
   "metadata": {},
   "outputs": [
    {
     "data": {
      "text/plain": [
       "True"
      ]
     },
     "execution_count": 79,
     "metadata": {},
     "output_type": "execute_result"
    }
   ],
   "source": [
    "goalTestF_simple('a', 'a')"
   ]
  },
  {
   "cell_type": "code",
   "execution_count": 80,
   "metadata": {},
   "outputs": [
    {
     "data": {
      "text/plain": [
       "1"
      ]
     },
     "execution_count": 80,
     "metadata": {},
     "output_type": "execute_result"
    }
   ],
   "source": [
    "h_simple('a', 'z')"
   ]
  },
  {
   "cell_type": "code",
   "execution_count": 81,
   "metadata": {},
   "outputs": [
    {
     "data": {
      "text/plain": [
       "['a', 'c', 'h', 'i', 'k', 'z']"
      ]
     },
     "execution_count": 81,
     "metadata": {},
     "output_type": "execute_result"
    }
   ],
   "source": [
    "iterativeDeepeningSearch('a', 'z', actionsF_simple, takeActionF_simple, 10)"
   ]
  },
  {
   "cell_type": "code",
   "execution_count": 90,
   "metadata": {},
   "outputs": [
    {
     "data": {
      "text/plain": [
       "(['a', 'c', 'h', 'i', 'k', 'z'], 5)"
      ]
     },
     "execution_count": 90,
     "metadata": {},
     "output_type": "execute_result"
    }
   ],
   "source": [
    "aStarSearch('a',actionsF_simple, takeActionF_simple,\n",
    "            lambda s: goalTestF_simple(s, 'z'),\n",
    "            lambda s: h_simple(s, 'z'))"
   ]
  },
  {
   "cell_type": "markdown",
   "metadata": {},
   "source": [
    "## Grading"
   ]
  },
  {
   "cell_type": "markdown",
   "metadata": {},
   "source": [
    "Download [A3grader.tar](http://www.cs.colostate.edu/~anderson/cs440/notebooks/A3grader.tar) and extract A3grader.py from it."
   ]
  },
  {
   "cell_type": "code",
   "execution_count": 1,
   "metadata": {},
   "outputs": [
    {
     "name": "stdout",
     "output_type": "stream",
     "text": [
      "\n",
      "======================= Code Execution =======================\n",
      "\n",
      "Extracting python code from notebook named 'Anderson-A3.ipynb' and storing in notebookcode.py\n",
      "Removing all statements that are not function or class defs or import statements.\n",
      "\n",
      "Testing actionsF_8p([1, 2, 3, 4, 5, 6, 7, 0, 8])\n",
      "\n",
      "--- 5/5 points. Your actionsF_8p correctly returned [('left', 1), ('right', 1), ('up', 1)]\n",
      "\n",
      "Testing takeActionF_8p([1, 2, 3, 4, 5, 6, 7, 0, 8], (up, 1))\n",
      "\n",
      "--- 5/5 points. Your takeActionsF_8p correctly returned ([1, 2, 3, 4, 0, 6, 7, 5, 8], 1)\n",
      "\n",
      "Testing goalTestF_8p([1, 2, 3, 4, 5, 6, 7, 0, 8], [1, 2, 3, 4, 5, 6, 7, 0, 8])\n",
      "\n",
      "--- 5/5 points. Your goalTestF_8p correctly True\n",
      "\n",
      "Testing aStarSearch(1, 2, 3, 4, 5, 6, 7, 0, 8],\n",
      "                     actionsF_8p, takeActionF_8p,\n",
      "                     lambda s: goalTestF_8p(s, [0, 2, 3, 1, 4,  6, 7, 5, 8]),\n",
      "                     lambda s: h1_8p(s, [0, 2, 3, 1, 4,  6, 7, 5, 8]))\n",
      "\n",
      "--- 20/20 points. Your search correctly returned ([[1, 2, 3, 4, 5, 6, 7, 0, 8], [1, 2, 3, 4, 0, 6, 7, 5, 8], [1, 2, 3, 0, 4, 6, 7, 5, 8], [0, 2, 3, 1, 4, 6, 7, 5, 8]], 3)\n",
      "\n",
      "Testing iterativeDeepeningSearch([1, 2, 3, 4, 5, 6, 7, 0, 8], \n",
      "                                 [0, 2, 3, 1, 4,  6, 7, 5, 8],\n",
      "                                 actionsF_8p, takeActionF_8p, 10)\n",
      "\n",
      "--- 15/15 points. Your search correctly returned [[1, 2, 3, 4, 5, 6, 7, 0, 8], [1, 2, 3, 4, 0, 6, 7, 5, 8], [1, 2, 3, 0, 4, 6, 7, 5, 8], [0, 2, 3, 1, 4, 6, 7, 5, 8]]\n",
      "\n",
      "Testing iterativeDeepeningSearch([5, 2, 8, 0, 1, 4, 3, 7, 6], \n",
      "                                 [0, 2, 3, 1, 4,  6, 7, 5, 8],\n",
      "                                 actionsF_8p, takeActionF_8p, 10)\n",
      "\n",
      "--- 15/15 points. Your search correctly returned cutoff\n",
      "\n",
      "Testing ebf(100, 6, 0.1)\n",
      "\n",
      "--- 15/15 points. Your call to ebf correctly returned 2.185373306274414\n",
      "\n",
      "A3 Grade is 80/80\n",
      "\n",
      "Up to 20 more points will be given based on the quality of your descriptions of the method and the results.\n"
     ]
    }
   ],
   "source": [
    "%run -i A3grader.py"
   ]
  },
  {
   "cell_type": "markdown",
   "metadata": {},
   "source": [
    "## Extra Credit"
   ]
  },
  {
   "cell_type": "markdown",
   "metadata": {},
   "source": [
    "Add a third column for each result (from running `runExperiment`) that is the number of seconds each search required.  You may get the total run time when running a function by doing\n",
    "\n",
    "     import time\n",
    "    \n",
    "     start_time = time.time()\n",
    "    \n",
    "     < do some python stuff >\n",
    "    \n",
    "     end_time = time.time()\n",
    "     print('This took', end_time - start_time, 'seconds.')\n"
   ]
  }
 ],
 "metadata": {
  "anaconda-cloud": {},
  "kernelspec": {
   "display_name": "Python 3",
   "language": "python",
   "name": "python3"
  },
  "language_info": {
   "codemirror_mode": {
    "name": "ipython",
    "version": 3
   },
   "file_extension": ".py",
   "mimetype": "text/x-python",
   "name": "python",
   "nbconvert_exporter": "python",
   "pygments_lexer": "ipython3",
   "version": "3.6.5"
  }
 },
 "nbformat": 4,
 "nbformat_minor": 2
}
