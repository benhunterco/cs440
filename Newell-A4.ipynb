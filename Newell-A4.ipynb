{
 "cells": [
  {
   "cell_type": "markdown",
   "metadata": {},
   "source": [
    "# Reinforcement Learning Solution to the Towers of Hanoi Puzzle"
   ]
  },
  {
   "cell_type": "markdown",
   "metadata": {},
   "source": [
    "For this assignment, you will use reinforcement learning to solve the [Towers of Hanoi](https://en.wikipedia.org/wiki/Tower_of_Hanoi) puzzle.  \n",
    "\n",
    "To accomplish this, you must modify the code discussed in lecture for learning to play Tic-Tac-Toe.  Modify the code  so that it learns to solve the three-disk, three-peg\n",
    "Towers of Hanoi Puzzle.  In some ways, this will be simpler than the\n",
    "Tic-Tac-Toe code.  \n",
    "\n",
    "Steps required to do this include the following:\n",
    "\n",
    "  - Represent the state, and use it as a tuple as a key to the Q dictionary.\n",
    "  - Make sure only valid moves are tried from each state.\n",
    "  - Assign reinforcement of $1$ to each move, even for the move that results in the goal state.\n",
    "\n",
    "Make a plot of the number of steps required to reach the goal for each\n",
    "trial.  Each trial starts from the same initial state.  Decay epsilon\n",
    "as in the Tic-Tac-Toe code."
   ]
  },
  {
   "cell_type": "markdown",
   "metadata": {},
   "source": [
    "## Requirements"
   ]
  },
  {
   "cell_type": "markdown",
   "metadata": {},
   "source": [
    "First, how should we represent the state of this puzzle?  We need to keep track of which disks are on which pegs. Name the disks 1, 2, and 3, with 1 being the smallest disk and 3 being the largest. The set of disks on a peg can be represented as a list of integers.  Then the state can be a list of three lists.\n",
    "\n",
    "For example, the starting state with all disks being on the left peg would be `[[1, 2, 3], [], []]`.  After moving disk 1 to peg 2, we have `[[2, 3], [1], []]`.\n",
    "\n",
    "To represent that move we just made, we can use a list of two peg numbers, like `[1, 2]`, representing a move of the top disk on peg 1 to peg 2."
   ]
  },
  {
   "cell_type": "markdown",
   "metadata": {},
   "source": [
    "Now on to some functions. Define at least the following functions. Examples showing required output appear below.\n",
    "\n",
    "   - `printState(state)`: prints the state in the form shown below\n",
    "   - `validMoves(state)`: returns list of moves that are valid from `state`\n",
    "   - `makeMove(state, move)`: returns new (copy of) state after move has been applied.\n",
    "   - `trainQ(nRepetitions, learningRate, epsilonDecayFactor, validMovesF, makeMoveF)`: train the Q function for number of repetitions, decaying epsilon at start of each repetition. Returns Q and list or array of number of steps to reach goal for each repetition.\n",
    "   - `testQ(Q, maxSteps, validMovesF, makeMoveF)`: without updating Q, use Q to find greedy action each step until goal is found. Return path of states.\n",
    "\n",
    "A function that you might choose to implement is\n",
    "\n",
    "   - `stateMoveTuple(state, move)`: returns tuple of state and move.  \n",
    "    \n",
    "This is useful for converting state and move to a key to be used for the Q dictionary.\n",
    "\n",
    "Show the code and results for testing each function.  Then experiment with various values of `nRepetitions`, `learningRate`, and `epsilonDecayFactor` to find values that work reasonably well, meaning that eventually the minimum solution path of seven steps is found consistently.\n",
    "\n",
    "Make a plot of the number of steps in the solution path versus number of repetitions. The plot should clearly show the number of steps in the solution path eventually reaching the minimum of seven steps, though the decrease will not be monotonic.  Also plot a horizontal, dashed line at 7 to show the optimal path length.\n",
    "\n",
    "Add markdown cells in which you describe the Q learning algorithm and your implementation of Q learning as applied to the Towers of Hanoi problem.  Use at least 15 sentences, in one or more markdown cells."
   ]
  },
  {
   "cell_type": "markdown",
   "metadata": {},
   "source": [
    "## Printing and Formatting\n",
    "Code in this section provides a readable format of the towers of hanoi state and a tuple utility function."
   ]
  },
  {
   "cell_type": "markdown",
   "metadata": {},
   "source": [
    "The method `printState` prints out a representation of the state of the towers of hanoi puzzle. As and example, the state [[1,2,3],[],[]], which is the starting state, would return:\n",
    "```\n",
    "1 \n",
    "2\n",
    "3\n",
    "------\n",
    "```\n",
    "To create this representation, a new copy of the state is made to leave the original intact. Then each list in the state is filled with space characters so they each have equal length. Finally, the i'th element of each list is printed in column format."
   ]
  },
  {
   "cell_type": "code",
   "execution_count": 1,
   "metadata": {},
   "outputs": [],
   "source": [
    "import copy as cp\n",
    "#Prints based on how many rows there are.\n",
    "def printState(state):\n",
    "    #Deep copy ensures each inner list is also copied into a new list.\n",
    "    printState = cp.deepcopy(state)\n",
    "    for s in printState:\n",
    "        while len(s) < 3:\n",
    "            s.insert(0, \" \")\n",
    "    for i in range(3):\n",
    "        print(printState[0][i],printState[1][i],printState[2][i], sep = \" \")\n",
    "    print(\"-----\")"
   ]
  },
  {
   "cell_type": "markdown",
   "metadata": {},
   "source": [
    "This method returns a tuple pair of the provided state and move. In the Q dicionary, the values are stored based on their `(state,move)` key. This helper function makes each list in state into a tuple, then makes the move list into a tuple and returns both of them as a pair. "
   ]
  },
  {
   "cell_type": "code",
   "execution_count": 2,
   "metadata": {},
   "outputs": [],
   "source": [
    "def stateMoveTuple(state, move):\n",
    "    statetup = tuple([tuple(l) for l in state])\n",
    "    movetup = tuple(move)\n",
    "    return(statetup, movetup)"
   ]
  },
  {
   "cell_type": "code",
   "execution_count": 3,
   "metadata": {},
   "outputs": [
    {
     "data": {
      "text/plain": [
       "(((1, 2, 3), (), ()), (1, 2))"
      ]
     },
     "execution_count": 3,
     "metadata": {},
     "output_type": "execute_result"
    }
   ],
   "source": [
    "stateMoveTuple([[1,2,3],[],[]], [1,2])"
   ]
  },
  {
   "cell_type": "markdown",
   "metadata": {},
   "source": [
    "## Manipulating state of the puzzle\n",
    "Code in this section provides methods of finding changing the puzzle in a way that is consistent with the constraints of the towers of hanoi. "
   ]
  },
  {
   "cell_type": "markdown",
   "metadata": {},
   "source": [
    "This function will return a new state given a state and move that reflects the given move on that state. `state` is the list representation of the puzzle discussed above. `move` is a list of length 2 where the first element is the peg to move from and the second element is the peg to move too. So `move = [1,2]` would indicate moving the disk on top of peg 1 to peg 2. \n",
    "\n",
    "First, `state` is copied into `newState` so that `state` is left intact. Then `disk`, representing the disk being moved from peg to peg, is poped of the first member of `move`. Finally, `disk` is inserted at the front of the destination list, placing it ontop of the peg stack. The only slight complication is that peg indexes must be adjusted from their move represenation. So a move from peg 1 to peg 2 must access `state[0]` and `state[1]`.\n",
    "\n",
    "The method assumes that the given move is valid, so it could fail on incorrect input."
   ]
  },
  {
   "cell_type": "code",
   "execution_count": 4,
   "metadata": {},
   "outputs": [],
   "source": [
    "import copy as cp\n",
    "def makeMove(state, move):\n",
    "    newState = cp.deepcopy(state)\n",
    "    #um, this isn't at all how this should work...\n",
    "    #I seriously don't know How I even wrote this or why I would think this was correct\n",
    "    #for l in newState:\n",
    "    #    if move[0] in l:\n",
    "    #        l.remove(move[0])\n",
    "    #        newState[move[1] - 1].append(move[0])\n",
    "    disk = newState[move[0] - 1].pop(0)\n",
    "    newState[move[1] - 1].insert(0, disk)\n",
    "    return newState"
   ]
  },
  {
   "cell_type": "markdown",
   "metadata": {},
   "source": [
    "This method is a helper method to the following method `validMoves`. Given a `state`, index `i` and index `j`, it determines whether the state has a disk at that index. This is a common check in `validMoves`. "
   ]
  },
  {
   "cell_type": "code",
   "execution_count": 29,
   "metadata": {},
   "outputs": [],
   "source": [
    "def nullCheck(state, i, j):\n",
    "    if len(state) > i and len(state[i]) > j:\n",
    "        return True\n",
    "    else:\n",
    "        return False"
   ]
  },
  {
   "cell_type": "markdown",
   "metadata": {},
   "source": [
    "This method determines the valid moves from a given `state` following the rules of the towers of hanoi puzzle. The only restriction in the puzzle is that a disk cannot be moved onto a smaller disk. In our representation, this means that an int cannot be moved into another list in `state` where the following int in the destination list is greater. \n",
    "\n",
    "The method breaks the valid moves into three sections, one for each source peg. So the first line `if nullCheck(state, 0, 0):` determines all valid moves from the first peg given `state`. Then the inner if statements check the other two pegs "
   ]
  },
  {
   "cell_type": "code",
   "execution_count": 5,
   "metadata": {},
   "outputs": [],
   "source": [
    "def validMoves(state):\n",
    "    retList = []\n",
    "    #Pretty much just going to check each possible move. \n",
    "    #Don't see an easier way to do it, or a reason why. \n",
    "    if nullCheck(state, 0, 0):\n",
    "        if not nullCheck(state, 1, 0) or state[0][0] < state[1][0]:\n",
    "            retList.append([1,2])\n",
    "        if not nullCheck(state, 2, 0) or state[0][0] < state[2][0]:\n",
    "            retList.append([1,3])\n",
    "    if nullCheck(state, 1, 0):\n",
    "        if not nullCheck(state, 0, 0) or state[1][0] < state[0][0]:\n",
    "            retList.append([2,1])\n",
    "        if not nullCheck(state, 2, 0) or state[1][0] < state[2][0]:\n",
    "            retList.append([2,3])s\n",
    "    if nullCheck(state, 2, 0):\n",
    "        if not nullCheck(state, 0, 0) or state[2][0] < state[0][0]:\n",
    "            retList.append([3,1])\n",
    "        if not nullCheck(state, 1, 0) or state[2][0] < state[1][0]:\n",
    "            retList.append([3,2])\n",
    "    return retList"
   ]
  },
  {
   "cell_type": "code",
   "execution_count": 6,
   "metadata": {},
   "outputs": [
    {
     "name": "stdout",
     "output_type": "stream",
     "text": [
      "1    \n",
      "2    \n",
      "3    \n",
      "-----\n",
      "[[1, 2], [1, 3]]\n",
      "     \n",
      "2    \n",
      "3   1\n",
      "-----\n",
      "[[1, 2], [3, 1], [3, 2]]\n",
      "     \n",
      "     \n",
      "3 2 1\n",
      "-----\n",
      "[[2, 1], [3, 1], [3, 2]]\n",
      "     \n",
      "  1  \n",
      "3 2  \n",
      "-----\n",
      "[[1, 3], [2, 1], [2, 3]]\n",
      "     \n",
      "  1  \n",
      "  2 3\n",
      "-----\n",
      "[[2, 1], [2, 3], [3, 1]]\n",
      "     \n",
      "     \n",
      "1 2 3\n",
      "-----\n",
      "[[1, 2], [1, 3], [2, 3]]\n",
      "     \n",
      "    2\n",
      "1   3\n",
      "-----\n",
      "[[1, 2], [1, 3], [3, 2]]\n",
      "    1\n",
      "    2\n",
      "    3\n",
      "-----\n",
      "[[3, 1], [3, 2]]\n"
     ]
    }
   ],
   "source": [
    "state = [[1,2,3],[],[]]\n",
    "printState(state)\n",
    "moves = validMoves(state)\n",
    "print(moves)\n",
    "state = makeMove(state, moves[1])\n",
    "printState(state)\n",
    "moves = validMoves(state)\n",
    "print(moves)\n",
    "state = makeMove(state, moves[0])\n",
    "printState(state)\n",
    "moves = validMoves(state)\n",
    "print(moves)\n",
    "state = makeMove(state,moves[2])\n",
    "printState(state)\n",
    "moves = validMoves(state)\n",
    "print(moves)\n",
    "state = makeMove(state, moves[0])\n",
    "printState(state)\n",
    "moves  = validMoves(state)\n",
    "print(moves)\n",
    "state = makeMove(state, moves[0])\n",
    "printState(state)\n",
    "moves  = validMoves(state)\n",
    "print(moves)\n",
    "state = makeMove(state, moves[2])\n",
    "printState(state)\n",
    "moves  = validMoves(state)\n",
    "print(moves)\n",
    "state = makeMove(state, moves[1])\n",
    "printState(state)\n",
    "moves  = validMoves(state)\n",
    "print(moves)"
   ]
  },
  {
   "cell_type": "markdown",
   "metadata": {},
   "source": [
    "Epsilon greedy function. Just a cleaner way of writing trainQ. Either chooses a random move, or based on Q"
   ]
  },
  {
   "cell_type": "code",
   "execution_count": 8,
   "metadata": {},
   "outputs": [],
   "source": [
    "import numpy as np\n",
    "def epsilonGreedy(epsilon, Q, state):\n",
    "    moveList = validMoves(state)\n",
    "    if np.random.uniform() < epsilon:\n",
    "        #This is the random move, just choose one of our valid moves\n",
    "        choice = np.random.choice(range(len(moveList)))\n",
    "        return moveList[choice]\n",
    "    else:\n",
    "        # Use our Q function to greedily pick the next move. \n",
    "        statesAndMovesTuples = [stateMoveTuple(state, move) for move in moveList]\n",
    "        #Theoretically, we want to choose the lowest Q, so if we haven't seen it\n",
    "        #assume that it isn't good: its value is inf. \n",
    "        #This is reflected in choosing argmin, not argmax. \n",
    "        Qs = np.array([Q.get(tup, float('inf')) for tup in statesAndMovesTuples])\n",
    "        return moveList[np.argmin(Qs)]"
   ]
  },
  {
   "cell_type": "code",
   "execution_count": 12,
   "metadata": {},
   "outputs": [
    {
     "name": "stdout",
     "output_type": "stream",
     "text": [
      "[[1, 2], [1, 3]]\n"
     ]
    }
   ],
   "source": [
    "\n",
    "state = [[1,2,3],[],[]]\n",
    "print(validMoves(state))\n",
    "Q = {}\n",
    "#Q[stateMoveTuple(state, [1,3])] = 0\n",
    "#epsilonGreedy(0, Q, state)"
   ]
  },
  {
   "cell_type": "markdown",
   "metadata": {},
   "source": [
    "This is the Q training algorithm from the tictactoe version."
   ]
  },
  {
   "cell_type": "code",
   "execution_count": 10,
   "metadata": {},
   "outputs": [],
   "source": [
    "def trainQ(nRepetitions, learningRate, epsilonDecayFactor, validMovesF, makeMoveF, showMoves = False):\n",
    "    Q = {}\n",
    "    #Dictionary to represent our Q function. \n",
    "    #MakeTuple of the state can get the unique value.\n",
    "    numberSteps = []\n",
    "    epsilon = 1.0\n",
    "    for trial in range(nRepetitions):\n",
    "        epsilon *= epsilonDecayFactor\n",
    "        step = 0\n",
    "        state = [[1,2,3],[],[]] #Default starting state.\n",
    "        done = False\n",
    "        \n",
    "        while not done:\n",
    "            step += 1 #not sure what this does. Reinforcement?\n",
    "            #choose a move from the current state\n",
    "            move = epsilonGreedy(epsilon, Q, state)\n",
    "            #make a new state from the greedy move.\n",
    "            newState = makeMoveF(state, move)\n",
    "           \n",
    "            #if showMoves:\n",
    "            #    printState(newState)\n",
    "            Tup = stateMoveTuple(state, move)\n",
    "            newTup = stateMoveTuple(newState, move)\n",
    "            #print(step, newTup)\n",
    "            if Tup not in Q:\n",
    "                Q[Tup] = 0 #initiallizes unseen Qs\n",
    "            \n",
    "            if newState == [[],[],[1,2,3]]: #this means we found the solution.\n",
    "                if showMoves:\n",
    "                    print(\"Found solution in \" + str(step))\n",
    "                Q[Tup] = 1\n",
    "                Q[newTup] = 0\n",
    "                done = True\n",
    "                numberSteps.append(step)\n",
    "                \n",
    "            #Do not need the move for O like in tic tac toe, because this is not adversarial.\n",
    "            \n",
    "            if step > 1: #Don't do this on first step, got it. \n",
    "                #Also, old state and move are set in the first term, so other we can reference them here.\n",
    "                #Q[(tuple(boardOld),moveOld)] += rho * (Q[(tuple(board),move)] - Q[(tuple(boardOld),moveOld)])\n",
    "                #print(step, newTup)\n",
    "                #print(stateMoveTuple(stateOld, moveOld))\n",
    "                Q[(stateMoveTuple(stateOld, moveOld))] += learningRate * (1 + Q[Tup] -\n",
    "                                                                         Q[stateMoveTuple(stateOld, moveOld)])\n",
    "            \n",
    "            #set old variables\n",
    "            stateOld, moveOld = state, move\n",
    "            state = newState\n",
    "    return Q, numberSteps\n",
    "            "
   ]
  },
  {
   "cell_type": "code",
   "execution_count": 21,
   "metadata": {},
   "outputs": [],
   "source": [
    "def testQ(Q, maxSteps, validMovesF, makeMoveF):\n",
    "    state = [[1,2,3],[],[]]\n",
    "    path = []\n",
    "    path.append(state)\n",
    "    for i in range(maxSteps):\n",
    "        state = makeMove(state, epsilonGreedy(0, Q, state)) # 0 ensures we always take greedy Q\n",
    "        path.append(state)\n",
    "        if state == [[],[],[1,2,3]]:\n",
    "            return path\n",
    "        "
   ]
  },
  {
   "cell_type": "markdown",
   "metadata": {},
   "source": [
    "# Examples"
   ]
  },
  {
   "cell_type": "code",
   "execution_count": 13,
   "metadata": {},
   "outputs": [
    {
     "name": "stdout",
     "output_type": "stream",
     "text": [
      "     \n",
      "     \n",
      "1 2 3\n",
      "-----\n",
      "     \n",
      "1    \n",
      "2   3\n",
      "-----\n",
      "     \n",
      "    2\n",
      "  1 3\n",
      "-----\n",
      "1    \n",
      "2    \n",
      "3    \n",
      "-----\n"
     ]
    }
   ],
   "source": [
    "state = [[1],[2],[3]]\n",
    "printState(state)\n",
    "state = [[1,2], [], [3]]\n",
    "printState(state)\n",
    "state = [[],[1],[2,3]]\n",
    "printState(state)\n",
    "state = [[1, 2, 3], [], []]\n",
    "printState(state)"
   ]
  },
  {
   "cell_type": "code",
   "execution_count": 14,
   "metadata": {},
   "outputs": [
    {
     "data": {
      "text/plain": [
       "(((1, 2, 3), (), ()), (1, 2))"
      ]
     },
     "execution_count": 14,
     "metadata": {},
     "output_type": "execute_result"
    }
   ],
   "source": [
    "move =[1, 2]\n",
    "\n",
    "stateMoveTuple(state, move)"
   ]
  },
  {
   "cell_type": "code",
   "execution_count": 15,
   "metadata": {},
   "outputs": [
    {
     "data": {
      "text/plain": [
       "[[2, 3], [1], []]"
      ]
     },
     "execution_count": 15,
     "metadata": {},
     "output_type": "execute_result"
    }
   ],
   "source": [
    "newstate = makeMove(state, move)\n",
    "newstate"
   ]
  },
  {
   "cell_type": "code",
   "execution_count": 16,
   "metadata": {},
   "outputs": [
    {
     "name": "stdout",
     "output_type": "stream",
     "text": [
      "     \n",
      "2    \n",
      "3 1  \n",
      "-----\n"
     ]
    }
   ],
   "source": [
    "printState(newstate)"
   ]
  },
  {
   "cell_type": "code",
   "execution_count": 17,
   "metadata": {},
   "outputs": [],
   "source": [
    "Q, stepsToGoal = trainQ(50, 0.5, 0.7, validMoves, makeMove)"
   ]
  },
  {
   "cell_type": "code",
   "execution_count": 18,
   "metadata": {},
   "outputs": [
    {
     "data": {
      "text/plain": [
       "{(((1, 2, 3), (), ()), (1, 2)): 7.004690781235695,\n",
       " (((2, 3), (1,), ()), (2, 3)): 6.575040586292744,\n",
       " (((2, 3), (), (1,)), (3, 1)): 6.820275651291013,\n",
       " (((1, 2, 3), (), ()), (1, 3)): 6.999999786973564,\n",
       " (((2, 3), (), (1,)), (3, 2)): 6.105263352394104,\n",
       " (((2, 3), (), (1,)), (1, 2)): 5.999999972654616,\n",
       " (((3,), (2,), (1,)), (3, 1)): 5.220488548278809,\n",
       " (((1, 3), (2,), ()), (2, 3)): 5.29463529586792,\n",
       " (((1, 3), (), (2,)), (1, 3)): 5.591808319091797,\n",
       " (((3,), (), (1, 2)), (1, 2)): 5.378212928771973,\n",
       " (((), (3,), (1, 2)), (2, 1)): 4.656547546386719,\n",
       " (((3,), (), (1, 2)), (3, 1)): 5.547206401824951,\n",
       " (((1, 3), (), (2,)), (3, 2)): 5.225260496139526,\n",
       " (((1, 3), (), (2,)), (1, 2)): 5.754269361495972,\n",
       " (((3,), (1,), (2,)), (2, 1)): 5.58940315246582,\n",
       " (((1, 3), (2,), ()), (1, 3)): 4.95655632019043,\n",
       " (((3,), (2,), (1,)), (2, 1)): 5.866792686283588,\n",
       " (((2, 3), (1,), ()), (2, 1)): 6.8947274424135685,\n",
       " (((3,), (2,), (1,)), (3, 2)): 4.9999999972818925,\n",
       " (((3,), (1, 2), ()), (2, 3)): 4.278619766235352,\n",
       " (((3,), (1, 2), ()), (2, 1)): 4.184474945068359,\n",
       " (((3,), (1,), (2,)), (2, 3)): 5.7538135051727295,\n",
       " (((3,), (), (1, 2)), (3, 2)): 5.287317752838135,\n",
       " (((), (3,), (1, 2)), (3, 2)): 4.729381561279297,\n",
       " (((), (1, 3), (2,)), (3, 1)): 3.8644866943359375,\n",
       " (((2,), (1, 3), ()), (1, 3)): 3.488037109375,\n",
       " (((), (1, 3), (2,)), (2, 1)): 4.040069580078125,\n",
       " (((1,), (3,), (2,)), (3, 2)): 4.2423095703125,\n",
       " (((1,), (2, 3), ()), (1, 3)): 3.4620361328125,\n",
       " (((), (2, 3), (1,)), (2, 1)): 3.4952392578125,\n",
       " (((2,), (3,), (1,)), (1, 2)): 3.884765625,\n",
       " (((), (2, 3), (1,)), (3, 2)): 3.701416015625,\n",
       " (((), (1, 2, 3), ()), (2, 1)): 3.7391357421875,\n",
       " (((1,), (2, 3), ()), (1, 2)): 3.29150390625,\n",
       " (((), (2, 3), (1,)), (3, 1)): 3.279541015625,\n",
       " (((), (1, 2, 3), ()), (2, 3)): 3.462890625,\n",
       " (((1,), (2, 3), ()), (2, 3)): 3.91497802734375,\n",
       " (((1,), (3,), (2,)), (1, 2)): 4.608001708984375,\n",
       " (((1,), (3,), (2,)), (1, 3)): 4.419525146484375,\n",
       " (((1, 3), (2,), ()), (1, 2)): 4.743415147066116,\n",
       " (((3,), (1, 2), ()), (1, 3)): 3.9999999998069358,\n",
       " (((), (1, 2), (3,)), (2, 1)): 2.999999999991566,\n",
       " (((1,), (2,), (3,)), (1, 2)): 2.621124267578125,\n",
       " (((1,), (2,), (3,)), (1, 3)): 2.488372802734375,\n",
       " (((), (2,), (1, 3)), (3, 2)): 3.0324859619140625,\n",
       " (((), (1, 2), (3,)), (2, 3)): 3.2463531494140625,\n",
       " (((), (1, 2), (3,)), (3, 1)): 3.5986328125,\n",
       " (((1,), (2,), (3,)), (2, 3)): 1.9999999999998437,\n",
       " (((1,), (), (2, 3)), (1, 3)): 1,\n",
       " (((), (), (1, 2, 3)), (1, 3)): 0,\n",
       " (((), (3,), (1, 2)), (3, 1)): 4.759651184082031,\n",
       " (((2,), (1, 3), ()), (2, 3)): 3.587371826171875,\n",
       " (((2,), (3,), (1,)), (3, 2)): 3.4281005859375,\n",
       " (((2,), (1, 3), ()), (2, 1)): 3.201679229736328,\n",
       " (((1, 2), (3,), ()), (1, 3)): 3.43896484375,\n",
       " (((1, 2), (3,), ()), (1, 2)): 3.0223388671875,\n",
       " (((2,), (3,), (1,)), (3, 1)): 3.24554443359375,\n",
       " (((1, 2), (3,), ()), (2, 3)): 2.9467735290527344,\n",
       " (((1, 2), (), (3,)), (3, 2)): 2.59979248046875,\n",
       " (((), (1, 3), (2,)), (2, 3)): 4.510097503662109,\n",
       " (((1, 2), (), (3,)), (1, 3)): 2.812713623046875,\n",
       " (((2,), (), (1, 3)), (3, 1)): 2.55511474609375,\n",
       " (((1, 2), (), (3,)), (1, 2)): 2.578125,\n",
       " (((2,), (1,), (3,)), (1, 3)): 1.986328125,\n",
       " (((), (1,), (2, 3)), (3, 1)): 1.1875,\n",
       " (((2,), (1,), (3,)), (2, 3)): 2.2899169921875,\n",
       " (((2,), (), (1, 3)), (3, 2)): 2.599609375,\n",
       " (((), (1,), (2, 3)), (2, 3)): 1,\n",
       " (((), (), (1, 2, 3)), (2, 3)): 0,\n",
       " (((2, 3), (1,), ()), (1, 3)): 6.270624220371246,\n",
       " (((3,), (1,), (2,)), (3, 1)): 6.339106798171997,\n",
       " (((), (2,), (1, 3)), (3, 1)): 2.748870849609375,\n",
       " (((1,), (), (2, 3)), (3, 2)): 1.625,\n",
       " (((1,), (), (2, 3)), (1, 2)): 1.1875,\n",
       " (((), (1,), (2, 3)), (2, 1)): 1.0625}"
      ]
     },
     "execution_count": 18,
     "metadata": {},
     "output_type": "execute_result"
    }
   ],
   "source": [
    "Q"
   ]
  },
  {
   "cell_type": "code",
   "execution_count": 19,
   "metadata": {},
   "outputs": [
    {
     "data": {
      "text/plain": [
       "[142,\n",
       " 161,\n",
       " 46,\n",
       " 58,\n",
       " 36,\n",
       " 25,\n",
       " 8,\n",
       " 26,\n",
       " 14,\n",
       " 23,\n",
       " 19,\n",
       " 7,\n",
       " 14,\n",
       " 15,\n",
       " 8,\n",
       " 7,\n",
       " 16,\n",
       " 10,\n",
       " 9,\n",
       " 17,\n",
       " 9,\n",
       " 13,\n",
       " 8,\n",
       " 7,\n",
       " 7,\n",
       " 7,\n",
       " 7,\n",
       " 7,\n",
       " 7,\n",
       " 7,\n",
       " 7,\n",
       " 7,\n",
       " 7,\n",
       " 7,\n",
       " 7,\n",
       " 7,\n",
       " 7,\n",
       " 7,\n",
       " 7,\n",
       " 7,\n",
       " 7,\n",
       " 7,\n",
       " 7,\n",
       " 7,\n",
       " 7,\n",
       " 7,\n",
       " 7,\n",
       " 7,\n",
       " 7,\n",
       " 7]"
      ]
     },
     "execution_count": 19,
     "metadata": {},
     "output_type": "execute_result"
    }
   ],
   "source": [
    "stepsToGoal"
   ]
  },
  {
   "cell_type": "code",
   "execution_count": 22,
   "metadata": {},
   "outputs": [],
   "source": [
    "path = testQ(Q, 20, validMoves, makeMove)"
   ]
  },
  {
   "cell_type": "code",
   "execution_count": 214,
   "metadata": {},
   "outputs": [
    {
     "data": {
      "text/plain": [
       "[[[1, 2, 3], [], []],\n",
       " [[2, 3], [], [1]],\n",
       " [[3], [2], [1]],\n",
       " [[3], [1, 2], []],\n",
       " [[], [1, 2], [3]],\n",
       " [[1], [2], [3]],\n",
       " [[1], [], [2, 3]],\n",
       " [[], [], [1, 2, 3]]]"
      ]
     },
     "execution_count": 214,
     "metadata": {},
     "output_type": "execute_result"
    }
   ],
   "source": [
    "path"
   ]
  },
  {
   "cell_type": "code",
   "execution_count": 23,
   "metadata": {},
   "outputs": [
    {
     "name": "stdout",
     "output_type": "stream",
     "text": [
      "1    \n",
      "2    \n",
      "3    \n",
      "-----\n",
      "\n",
      "     \n",
      "2    \n",
      "3   1\n",
      "-----\n",
      "\n",
      "     \n",
      "     \n",
      "3 2 1\n",
      "-----\n",
      "\n",
      "     \n",
      "  1  \n",
      "3 2  \n",
      "-----\n",
      "\n",
      "     \n",
      "  1  \n",
      "  2 3\n",
      "-----\n",
      "\n",
      "     \n",
      "     \n",
      "1 2 3\n",
      "-----\n",
      "\n",
      "     \n",
      "    2\n",
      "1   3\n",
      "-----\n",
      "\n",
      "    1\n",
      "    2\n",
      "    3\n",
      "-----\n",
      "\n"
     ]
    }
   ],
   "source": [
    "for s in path:\n",
    "    printState(s)\n",
    "    print()"
   ]
  },
  {
   "cell_type": "markdown",
   "metadata": {},
   "source": [
    "## Grading"
   ]
  },
  {
   "cell_type": "markdown",
   "metadata": {
    "collapsed": true
   },
   "source": [
    "Download and extract `A4grader.py` from [A4grader.tar](http://www.cs.colostate.edu/~anderson/cs440/notebooks/A4grader.tar)."
   ]
  },
  {
   "cell_type": "code",
   "execution_count": 28,
   "metadata": {},
   "outputs": [
    {
     "name": "stdout",
     "output_type": "stream",
     "text": [
      "\n",
      "======================= Code Execution =======================\n",
      "\n",
      "Extracting python code from notebook named 'Newell-A4.ipynb' and storing in notebookcode.py\n",
      "Removing all statements that are not function or class defs or import statements.\n",
      "\n",
      "Testing validMoves([[1], [2], [3]])\n",
      "\n",
      "--- 10/10 points. Correctly returned [[1, 2], [1, 3], [2, 3]]\n",
      "\n",
      "Testing validMoves([[], [], [1, 2, 3]])\n",
      "\n",
      "--- 10/10 points. Correctly returned [[3, 1], [3, 2]]\n",
      "\n",
      "Testing makeMove([[], [], [1, 2, 3]], [3, 2])\n",
      "\n",
      "--- 10/10 points. Correctly returned [[], [1], [2, 3]]\n",
      "\n",
      "Testing makeMove([[2], [3], [1]], [1, 2])\n",
      "\n",
      "--- 10/10 points. Correctly returned [[], [2, 3], [1]]\n",
      "\n",
      "Testing   Q, steps = trainQ(1000, 0.5, 0.7, validMoves, makeMove).\n",
      "\n",
      "---  0/10 points. Q dictionary should have close to 76 entries. Yours has 67\n",
      "\n",
      "--- 10/10 points. The mean of the number of steps of 7.54 is correctly < 10.\n",
      "\n",
      "Testing   path = testQ(Q, 20, validMoves, makeMove).\n",
      "\n",
      "--- 20/20 points. Correctly returns path of length 8, which is correctly less than 10.\n",
      "\n",
      "cs440 Execution Grade is 70 / 80\n",
      "\n",
      " Remaining 20 points will be based on your text describing the trainQ and testQ functions.\n",
      "\n",
      "cs440 FINAL GRADE is   / 100\n",
      "\n",
      "cs440 EXTRA CREDIT is   / 1\n"
     ]
    }
   ],
   "source": [
    "%run -i A4grader.py"
   ]
  },
  {
   "cell_type": "markdown",
   "metadata": {},
   "source": [
    "## Extra Credit"
   ]
  },
  {
   "cell_type": "markdown",
   "metadata": {},
   "source": [
    "Modify your code to solve the Towers of Hanoi puzzle with 4 disks instead of 3.  Name your functions\n",
    "\n",
    "    - printState_4disk\n",
    "    - validMoves_4disk\n",
    "    - makeMove_4disk\n",
    "\n",
    "Find values for number of repetitions, learning rate, and epsilon decay factor for which trainQ learns a Q function that testQ can use to find the shortest solution path.  Include the output from the successful calls to trainQ and testQ."
   ]
  }
 ],
 "metadata": {
  "kernelspec": {
   "display_name": "Python 3",
   "language": "python",
   "name": "python3"
  },
  "language_info": {
   "codemirror_mode": {
    "name": "ipython",
    "version": 3
   },
   "file_extension": ".py",
   "mimetype": "text/x-python",
   "name": "python",
   "nbconvert_exporter": "python",
   "pygments_lexer": "ipython3",
   "version": "3.6.5"
  }
 },
 "nbformat": 4,
 "nbformat_minor": 2
}
