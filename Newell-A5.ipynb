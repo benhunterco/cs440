{
 "cells": [
  {
   "cell_type": "markdown",
   "metadata": {},
   "source": [
    "$\\newcommand{\\xv}{\\mathbf{x}}\n",
    "\\newcommand{\\Xv}{\\mathbf{X}}\n",
    "\\newcommand{\\yv}{\\mathbf{y}}\n",
    "\\newcommand{\\zv}{\\mathbf{z}}\n",
    "\\newcommand{\\av}{\\mathbf{a}}\n",
    "\\newcommand{\\Wv}{\\mathbf{W}}\n",
    "\\newcommand{\\wv}{\\mathbf{w}}\n",
    "\\newcommand{\\tv}{\\mathbf{t}}\n",
    "\\newcommand{\\Tv}{\\mathbf{T}}\n",
    "\\newcommand{\\muv}{\\boldsymbol{\\mu}}\n",
    "\\newcommand{\\sigmav}{\\boldsymbol{\\sigma}}\n",
    "\\newcommand{\\phiv}{\\boldsymbol{\\phi}}\n",
    "\\newcommand{\\Phiv}{\\boldsymbol{\\Phi}}\n",
    "\\newcommand{\\Sigmav}{\\boldsymbol{\\Sigma}}\n",
    "\\newcommand{\\Lambdav}{\\boldsymbol{\\Lambda}}\n",
    "\\newcommand{\\half}{\\frac{1}{2}}\n",
    "\\newcommand{\\argmax}[1]{\\underset{#1}{\\operatorname{argmax}}}\n",
    "\\newcommand{\\argmin}[1]{\\underset{#1}{\\operatorname{argmin}}}$"
   ]
  },
  {
   "cell_type": "markdown",
   "metadata": {},
   "source": [
    "# Assignment 5: Neural Networks"
   ]
  },
  {
   "cell_type": "markdown",
   "metadata": {},
   "source": [
    "*Ben Newell*"
   ]
  },
  {
   "cell_type": "markdown",
   "metadata": {},
   "source": [
    "## Overview"
   ]
  },
  {
   "cell_type": "markdown",
   "metadata": {},
   "source": [
    "You will write and apply code that trains neural networks of various numbers of hidden layers and units in each hidden layer and returns results as specified below.  You will do this once for a regression problem and once for a classification problem. "
   ]
  },
  {
   "cell_type": "markdown",
   "metadata": {},
   "source": [
    "## Required Code"
   ]
  },
  {
   "cell_type": "markdown",
   "metadata": {},
   "source": [
    "Download [nn2.tar](http://www.cs.colostate.edu/~anderson/cs440/notebooks/nn2.tar) that was used in lecture and extract its contents, which are\n",
    "\n",
    "* `neuralnetworks.py`\n",
    "* `scaledconjugategradient.py`\n",
    "* `mlutils.py`"
   ]
  },
  {
   "cell_type": "markdown",
   "metadata": {},
   "source": [
    "Write the following functions that train and evaluate neural network models.\n",
    "\n",
    "* `results = trainNNs(X, T, trainFraction, hiddenLayerStructures, numberRepetitions, numberIterations, classify)`\n",
    "\n",
    "The arguments to `trainNNs` are\n",
    "\n",
    "* `X` is a matrix of input data of shape `nSamples x nFeatures`\n",
    "* `T` is a matrix of target data of shape `nSamples x nOutputs`\n",
    "* `trainFraction` is fraction of samples to use as training data. 1-`trainFraction` is number of samples for testing data\n",
    "* `hiddenLayerStructures` is list of network architectures. For example, to test two networks, one with one hidden layer of 20 units, and one with 3 hidden layers with 5, 10, and 20 units in each layer, this argument would be `[[20], [5, 10, 20]]`.\n",
    "* `numberRepetitions` is number of times to train a neural network.  Calculate training and testing average performance (two separate averages) of this many training runs.\n",
    "* `numberIterations` is the number of iterations to run the scaled conjugate gradient algorithm when a neural network is trained.\n",
    "* `classify` is set to `True` if you are doing a classification problem, in which case `T` must be a single column of target class integers.\n",
    "\n",
    "This function returns `results` which is list with one element for each network structure tested.  Each element is a list containing \n",
    "\n",
    "* the hidden layer structure (as a list),\n",
    "* a list of training data performance for each repetition, \n",
    "* a list of testing data performance for each repetition, and\n",
    "* the number of seconds it took to run this many repetitions for this network structure.\n",
    "\n",
    "This function should follow these steps:\n",
    "\n",
    "  * For each network structure given in `hiddenLayerStructures`\n",
    "    * For numberRepetitions\n",
    "      * Use `ml.partition` to randomly partition X and T into training and testing sets.\n",
    "      * Create a neural network of the given structure\n",
    "      * Train it for numberIterations\n",
    "      * Use the trained network to produce outputs for the training and for the testing sets\n",
    "      * If classifying, calculate the fraction of samples incorrectly classified for training and testing sets.\n",
    "       Otherwise, calculate the RMSE of training and testing sets.\n",
    "      * Add the training and testing performance to a collection (such as a list) for this network structure\n",
    "    * Add to a collection of all results the hidden layer structure, lists of training performance and testing performance, and seconds taken to do these repetitions.\n",
    "  * return the collection of all results"
   ]
  },
  {
   "cell_type": "markdown",
   "metadata": {},
   "source": [
    "Also write the following two functions. `summarize(results)` returns a list of lists like `results` but with the list of training performances replaced by their mean and the list of testing performances replaced by their mean.   \n",
    "`bestNetwork(summary)` takes the output of `summarize(results)` and returns the best element of `results`, determined by the element that has the smallest test performance.\n",
    "\n",
    "* `summary = summarize(results)` where `results` is returned by `trainNNs` and `summary` is like `results` with the training and testing performance lists replaced by their means\n",
    "* `best = bestNetwork(summary)` where `summary` is returned by `summarize` and `best` is the best element of `summary`"
   ]
  },
  {
   "cell_type": "markdown",
   "metadata": {},
   "source": [
    "Here are all of this notebooks required imports. The first three are from the supplied tar. They effectively make up the supplied neural network. Time is used for timing the individual trials. numpy is used for some of its utility functions. matplotlib.pyplot is used for plotting data about the networks. pandas is used for its ease of reading in csvs. "
   ]
  },
  {
   "cell_type": "code",
   "execution_count": 1,
   "metadata": {},
   "outputs": [],
   "source": [
    "import neuralnetworks as nn\n",
    "import scaledconjugategradient as scg\n",
    "import mlutils as ml\n",
    "import time\n",
    "import numpy as np\n",
    "import matplotlib.pyplot as plt\n",
    "import pandas as pd\n"
   ]
  },
  {
   "cell_type": "code",
   "execution_count": 176,
   "metadata": {},
   "outputs": [],
   "source": [
    "def trainNNs(X, Y, trainFraction, hiddenLayerStructures, numberRepetitions,\n",
    "             numberIterations, classify = False, residuals = False):\n",
    "    #In statistics and in the neural net code, the \"target\" matrix is Y\n",
    "    #I'm more used to this.\n",
    "    results = []\n",
    "    start = time.time()\n",
    "    for structure in hiddenLayerStructures:\n",
    "        trainedList = []\n",
    "        testedList = []\n",
    "        for _ in range(numberRepetitions):\n",
    "            #Unsure about what the validation return does.\n",
    "            Xtrain,Ytrain,Xtest,Ytest = ml.partition(X, Y, \n",
    "                                        (trainFraction, 1 - trainFraction), False)\n",
    "            #create nn with the right structure.\n",
    "            #initiallizes ni->columns of X\n",
    "            #             no->columns of Y\n",
    "            #             nhs->our given structure in hidden layers\n",
    "            if not classify:\n",
    "                nnet = nn.NeuralNetwork(X.shape[1], structure, Y.shape[1])\n",
    "            else:\n",
    "                nnet = nn.NeuralNetworkClassifier(X.shape[1],structure, len(np.unique(Y)))\n",
    "            #Train for number of iterations.\n",
    "            nnet.train(Xtrain, Ytrain, numberIterations)\n",
    "            #collect the trained outputs with training data and test data\n",
    "            predictedYTrained = nnet.use(Xtrain)\n",
    "            predictedYTested = nnet.use(Xtest)\n",
    "            #calculate the mean standard error for these dudes.\n",
    "            # VVVVVVVV THE BELOW IS FOR SIGMA SQUARED, DATA ITSELF\n",
    "            # not the statistically correct way of doing it, need n - estimated paramaters df.\n",
    "            # so for simple regression n -2 df, = number of columns in X with column of ones.\n",
    "            #Difference between measuring the amount of error and trying to estimate\n",
    "            #Epsilons in the model.\n",
    "            if not classify:\n",
    "                rmseTrained = np.sqrt(np.mean((Ytrain - predictedYTrained) ** 2))\n",
    "                rmseTested = np.sqrt(np.mean((Ytest - predictedYTested) ** 2))\n",
    "            else:\n",
    "                rmseTrained =(1 - sum(Ytrain.ravel()==predictedYTrained.ravel())/ float(len(Ytrain))) * 100\n",
    "                rmseTested =(1 - sum(Ytest.ravel()==predictedYTested.ravel())/ float(len(Ytest))) * 100\n",
    "            #could also save the residuals here and talk about trends...\n",
    "            trainedList.append(rmseTrained)\n",
    "            testedList.append(rmseTested)\n",
    "        end = time.time()\n",
    "        results.append([structure, trainedList, testedList, end - start])\n",
    "        if residuals:\n",
    "            results.append([Ytrain - predictedYTrained, Ytest - predictedYTested])            \n",
    "    return results"
   ]
  },
  {
   "cell_type": "markdown",
   "metadata": {},
   "source": [
    "Although not required, I've implemented a regular linear regression method here. It finds the Ordinary Least Squares estimator of the linear model. I return the rmse to compare it to the neural networks created throughout the project, and the matrix of betas that can be used to use the model. "
   ]
  },
  {
   "cell_type": "code",
   "execution_count": 3,
   "metadata": {},
   "outputs": [],
   "source": [
    "def linearRegression(X,Y):\n",
    "    newX = np.c_[np.ones(len(X)), X] #Adds a column of ones to the beginning for intercept.\n",
    "    #This finds the OLS estimator for the model\n",
    "    #beta = (XtX)-1XtY. Thanks cooley!\n",
    "    betas = np.linalg.inv((np.transpose(newX) @ newX)) @ np.transpose(newX) @ Y\n",
    "    # our prediction will the be Xo @ beta.\n",
    "    predictedYs = newX @ betas\n",
    "    rmse = np.sqrt(np.mean((predictedYs - Y) ** 2))\n",
    "    #not sdhat     |msres~~~~~~~~~~~~~~~~~~~~~~~~~| <- actually not, should be adjusted for df.\n",
    "    return rmse, betas"
   ]
  },
  {
   "cell_type": "code",
   "execution_count": 4,
   "metadata": {},
   "outputs": [],
   "source": [
    "def summarize(results):\n",
    "    summarized = list(range(len(results)))\n",
    "    for t in range(len(results)):\n",
    "        summarized[t] = [results[t][0], np.mean(results[t][1]), np.mean(results[t][2]), results[t][3]]\n",
    "    return summarized"
   ]
  },
  {
   "cell_type": "code",
   "execution_count": 165,
   "metadata": {},
   "outputs": [],
   "source": [
    "def bestNetwork(summary):\n",
    "    lowestError = float('inf')\n",
    "    lowestNetwork = summary[0]\n",
    "    for s in summary:\n",
    "        if s[2] < lowestError:\n",
    "            lowestError = s[2]\n",
    "            lowestNetwork = s\n",
    "        \n",
    "    return lowestNetwork\n",
    "#NOT NEEDED\n",
    "#the definition of best for these is opposite\n",
    "def bestNetworkClassification(summary):\n",
    "    highestPercent = 0;\n",
    "    highestNetwork = summary[0]\n",
    "    for s in summary:\n",
    "        if s[2] > highestPercent:\n",
    "            highestPercent = s[2]\n",
    "            highestNetwork = s\n",
    "    return highestNetwork"
   ]
  },
  {
   "cell_type": "markdown",
   "metadata": {},
   "source": [
    "## Examples\n"
   ]
  },
  {
   "cell_type": "code",
   "execution_count": 6,
   "metadata": {},
   "outputs": [],
   "source": [
    "%matplotlib inline"
   ]
  },
  {
   "cell_type": "code",
   "execution_count": 7,
   "metadata": {},
   "outputs": [],
   "source": [
    "X = np.arange(10).reshape((-1,1))\n",
    "T = X + 1 + np.random.uniform(-1, 1, ((10,1)))"
   ]
  },
  {
   "cell_type": "code",
   "execution_count": 8,
   "metadata": {},
   "outputs": [],
   "source": [
    "Xtrain,Train, Xtest,Ttest =ml.partition(X, T, (0.7, 0.3), False)"
   ]
  },
  {
   "cell_type": "code",
   "execution_count": 9,
   "metadata": {},
   "outputs": [
    {
     "data": {
      "text/plain": [
       "array([[0],\n",
       "       [1],\n",
       "       [2],\n",
       "       [3],\n",
       "       [4],\n",
       "       [5],\n",
       "       [6],\n",
       "       [7],\n",
       "       [8],\n",
       "       [9]])"
      ]
     },
     "execution_count": 9,
     "metadata": {},
     "output_type": "execute_result"
    }
   ],
   "source": [
    "X"
   ]
  },
  {
   "cell_type": "code",
   "execution_count": 10,
   "metadata": {},
   "outputs": [
    {
     "name": "stdout",
     "output_type": "stream",
     "text": [
      "[[9]\n",
      " [3]\n",
      " [0]\n",
      " [4]\n",
      " [6]\n",
      " [7]\n",
      " [8]]\n",
      "[[10.89424218]\n",
      " [ 3.99255954]\n",
      " [ 0.78539209]\n",
      " [ 5.32849101]\n",
      " [ 7.82124644]\n",
      " [ 7.06575746]\n",
      " [ 9.67918442]]\n",
      "[[2]\n",
      " [5]\n",
      " [1]]\n",
      "[[2.3881754 ]\n",
      " [5.92449829]\n",
      " [1.6661739 ]]\n",
      "[[0]\n",
      " [1]\n",
      " [2]\n",
      " [3]\n",
      " [4]\n",
      " [5]\n",
      " [6]\n",
      " [7]\n",
      " [8]\n",
      " [9]]\n",
      "[[ 0.78539209]\n",
      " [ 1.6661739 ]\n",
      " [ 2.3881754 ]\n",
      " [ 3.99255954]\n",
      " [ 5.32849101]\n",
      " [ 5.92449829]\n",
      " [ 7.82124644]\n",
      " [ 7.06575746]\n",
      " [ 9.67918442]\n",
      " [10.89424218]]\n"
     ]
    }
   ],
   "source": [
    "print(Xtrain)\n",
    "print(Train)\n",
    "print(Xtest)\n",
    "print(Ttest)\n",
    "print(X)\n",
    "print(T)"
   ]
  },
  {
   "cell_type": "code",
   "execution_count": 11,
   "metadata": {},
   "outputs": [
    {
     "data": {
      "image/png": "[encoded data removed]",
      "text/plain": [
       "<Figure size 432x288 with 1 Axes>"
      ]
     },
     "metadata": {},
     "output_type": "display_data"
    }
   ],
   "source": [
    "plt.plot(X, T, 'o-');"
   ]
  },
  {
   "cell_type": "code",
   "execution_count": 12,
   "metadata": {},
   "outputs": [
    {
     "data": {
      "text/plain": [
       "array([0.70710678, 0.12918593, 0.11512843, 0.11498691, 0.11497268,\n",
       "       0.11472728, 0.11392082, 0.11353898, 0.11349255, 0.11299397,\n",
       "       0.11294893, 0.11293888, 0.11280089, 0.11279172, 0.11279172,\n",
       "       0.11279172, 0.11279172, 0.11279172, 0.11279172, 0.11279172,\n",
       "       0.11279172, 0.11279172, 0.11279172, 0.11279172, 0.11279172,\n",
       "       0.11260567, 0.1116486 , 0.11161301, 0.11137455, 0.11134479,\n",
       "       0.11134339, 0.11133243, 0.1112952 , 0.11128079, 0.11127531,\n",
       "       0.1112152 , 0.11121226, 0.11113611, 0.11113051, 0.11108149,\n",
       "       0.11104527, 0.1110406 , 0.1109984 , 0.11099364, 0.1109321 ,\n",
       "       0.11090112, 0.11090112, 0.11090112, 0.11090112, 0.11090112,\n",
       "       0.11090112, 0.11090112, 0.11090112, 0.11090112, 0.11090112,\n",
       "       0.11090112, 0.11063922, 0.11052738, 0.11051619, 0.11042732,\n",
       "       0.11037691, 0.11037691, 0.11037691, 0.11003676, 0.1100367 ,\n",
       "       0.10961299, 0.10951558, 0.1093555 , 0.1093453 , 0.10931673,\n",
       "       0.10930435, 0.10930435, 0.10930435, 0.10930435, 0.10908663,\n",
       "       0.1088154 , 0.10867055, 0.10826541, 0.10821421, 0.10801071,\n",
       "       0.10801071, 0.10801071, 0.10753725, 0.10752979, 0.10716196,\n",
       "       0.10688185, 0.10685922, 0.10678911, 0.10676821, 0.10645394,\n",
       "       0.10644183, 0.10582781, 0.10559762, 0.10557971, 0.10557719,\n",
       "       0.10557719, 0.10557719, 0.10557719, 0.10557719, 0.10557719,\n",
       "       0.10504398])"
      ]
     },
     "execution_count": 12,
     "metadata": {},
     "output_type": "execute_result"
    }
   ],
   "source": [
    "nnet = nn.NeuralNetwork(X.shape[1], 2, T.shape[1])\n",
    "nnet.train(X, T, 100)\n",
    "nnet.getErrorTrace()"
   ]
  },
  {
   "cell_type": "code",
   "execution_count": 13,
   "metadata": {},
   "outputs": [
    {
     "data": {
      "text/plain": [
       "array([0.70710678, 0.3791626 , 0.3791626 , 0.3791626 , 0.3791626 ,\n",
       "       0.3791626 , 0.3791626 , 0.3791626 , 0.3791626 , 0.3791626 ,\n",
       "       0.3791626 , 0.31081566, 0.20745166, 0.17439222, 0.12766226,\n",
       "       0.1270329 , 0.12643874, 0.12172076, 0.11982146, 0.1141798 ,\n",
       "       0.11304266, 0.11231167, 0.11076172, 0.110538  , 0.11030181,\n",
       "       0.10906318, 0.10823969, 0.10603134, 0.10396355, 0.10367794,\n",
       "       0.10360662, 0.10351284, 0.10338982, 0.10324631, 0.10322722,\n",
       "       0.10309378, 0.10185245, 0.10085803, 0.09941816, 0.09898609,\n",
       "       0.09869123, 0.09848059, 0.09823173, 0.09741213, 0.09654086,\n",
       "       0.09644271, 0.09641263, 0.09617706, 0.0953908 , 0.09518229,\n",
       "       0.0948084 , 0.09476756, 0.09446319, 0.09439982, 0.09435909,\n",
       "       0.09376985, 0.0934011 , 0.0931468 , 0.09309116, 0.09301244,\n",
       "       0.09297248, 0.09287536, 0.09270018, 0.09268487, 0.092679  ,\n",
       "       0.09240927, 0.09227761, 0.09205422, 0.09160296, 0.09154976,\n",
       "       0.09153083, 0.09147347, 0.09147277, 0.09146993, 0.09141254,\n",
       "       0.09140897, 0.09139227, 0.09137025, 0.09104439, 0.09101085,\n",
       "       0.09096119, 0.09091487, 0.09091174, 0.0909072 , 0.0909012 ,\n",
       "       0.09079583, 0.09075287, 0.09073755, 0.09068732, 0.09033737,\n",
       "       0.09019187, 0.08991043, 0.08986596, 0.08986254, 0.08984436,\n",
       "       0.08981991, 0.08981388, 0.08978977, 0.08975033, 0.08973551,\n",
       "       0.0897313 ])"
      ]
     },
     "execution_count": 13,
     "metadata": {},
     "output_type": "execute_result"
    }
   ],
   "source": [
    "nnet = nn.NeuralNetwork(X.shape[1], [5, 5, 5], T.shape[1])\n",
    "nnet.train(X, T, 100)\n",
    "nnet.getErrorTrace()"
   ]
  },
  {
   "cell_type": "code",
   "execution_count": 14,
   "metadata": {},
   "outputs": [
    {
     "data": {
      "text/plain": [
       "[[2,\n",
       "  [0.518999818995279,\n",
       "   0.45825958413146906,\n",
       "   0.5106672653488212,\n",
       "   0.19968148415578177,\n",
       "   0.45940410389069464],\n",
       "  [0.10841065403357449,\n",
       "   0.8464863363533626,\n",
       "   0.4115053255735229,\n",
       "   1.1954710523896446,\n",
       "   0.24928396299285918],\n",
       "  0.08630228042602539],\n",
       " [10,\n",
       "  [0.20013044393037102,\n",
       "   0.40944324487518885,\n",
       "   0.03952206515484427,\n",
       "   0.44903581246197594,\n",
       "   0.45544792779957666],\n",
       "  [1.2316484586411123,\n",
       "   0.6690955466687777,\n",
       "   1.3940637305952837,\n",
       "   0.7185245258206282,\n",
       "   0.3879650200264065],\n",
       "  0.17310309410095215],\n",
       " [[10, 10],\n",
       "  [0.43059814438352445,\n",
       "   0.4161910136764814,\n",
       "   0.07731576442997419,\n",
       "   0.3449855114475281,\n",
       "   0.09983044184011473],\n",
       "  [0.41854978576937824,\n",
       "   0.8608342602074378,\n",
       "   1.3072210322388411,\n",
       "   1.1380464722650079,\n",
       "   1.8862531557330453],\n",
       "  0.30185699462890625]]"
      ]
     },
     "execution_count": 14,
     "metadata": {},
     "output_type": "execute_result"
    }
   ],
   "source": [
    "results = trainNNs(X, T, 0.8, [2, 10, [10, 10]], 5, 100, classify=False)\n",
    "results"
   ]
  },
  {
   "cell_type": "code",
   "execution_count": 15,
   "metadata": {},
   "outputs": [],
   "source": [
    "results = trainNNs(X, T, 0.8, [0, 1, 2, 10, [10, 10], [5, 5, 5, 5], [2]*5], 50, 100, classify=False)"
   ]
  },
  {
   "cell_type": "code",
   "execution_count": 16,
   "metadata": {},
   "outputs": [
    {
     "data": {
      "text/plain": [
       "[[0, 0.4733824165948905, 0.5135222800957089, 0.01844644546508789],\n",
       " [1, 0.4495931894183331, 0.6298370499873888, 0.7831287384033203],\n",
       " [2, 0.39254208415437375, 0.7247673187140786, 1.5807857513427734],\n",
       " [10, 0.3191142300696245, 0.8493281085445201, 2.459808111190796],\n",
       " [[10, 10], 0.25995748000276314, 1.116679656529771, 3.6735589504241943],\n",
       " [[5, 5, 5, 5], 0.3644858990851654, 0.86017119762591, 5.441510915756226],\n",
       " [[2, 2, 2, 2, 2], 0.44471176537241325, 0.7048981651821914, 7.232424736022949]]"
      ]
     },
     "execution_count": 16,
     "metadata": {},
     "output_type": "execute_result"
    }
   ],
   "source": [
    "summarize(results)"
   ]
  },
  {
   "cell_type": "code",
   "execution_count": 17,
   "metadata": {},
   "outputs": [],
   "source": [
    "model = linearRegression(X, T)"
   ]
  },
  {
   "cell_type": "markdown",
   "metadata": {},
   "source": [
    "Here we print out the model, which takes the form of RMSE, array of betas (Weights)"
   ]
  },
  {
   "cell_type": "code",
   "execution_count": 18,
   "metadata": {},
   "outputs": [
    {
     "data": {
      "text/plain": [
       "(0.4991562861148287, array([[0.57618927],\n",
       "        [1.10630729]]))"
      ]
     },
     "execution_count": 18,
     "metadata": {},
     "output_type": "execute_result"
    }
   ],
   "source": [
    "model"
   ]
  },
  {
   "cell_type": "markdown",
   "metadata": {},
   "source": [
    "Linear regression plot of model versus line"
   ]
  },
  {
   "cell_type": "code",
   "execution_count": 19,
   "metadata": {},
   "outputs": [
    {
     "data": {
      "image/png": "[encoded data removed]",
      "text/plain": [
       "<Figure size 432x288 with 1 Axes>"
      ]
     },
     "metadata": {},
     "output_type": "display_data"
    }
   ],
   "source": [
    "def abline(slope, intercept):\n",
    "    #borrowed from: \n",
    "    #https://stackoverflow.com/questions/7941226/how-to-add-line-based-on-slope-and-intercept-in-matplotlib\n",
    "    \"\"\"Plot a line from slope and intercept\"\"\"\n",
    "    axes = plt.gca()\n",
    "    x_vals = np.array(axes.get_xlim())\n",
    "    y_vals = intercept + slope * x_vals\n",
    "    plt.plot(x_vals, y_vals, '--')\n",
    "\n",
    "plt.plot(X, T, \".\")\n",
    "abline(model[1][1], model[1][0])"
   ]
  },
  {
   "cell_type": "code",
   "execution_count": 20,
   "metadata": {},
   "outputs": [
    {
     "name": "stdout",
     "output_type": "stream",
     "text": [
      "[0, 0.4733824165948905, 0.5135222800957089, 0.01844644546508789]\n",
      "Hidden Layers 0 Average RMSE Training 0.47 Testing 0.51 Took 0.02 seconds\n"
     ]
    }
   ],
   "source": [
    "best = bestNetwork(summarize(results))\n",
    "print(best)\n",
    "print('Hidden Layers {} Average RMSE Training {:.2f} Testing {:.2f} Took {:.2f} seconds'.format(*best))"
   ]
  },
  {
   "cell_type": "markdown",
   "metadata": {},
   "source": [
    "Hummm...neural nets with no hidden layers did best on this simple data set.  Why?  Remember what \"best\" means."
   ]
  },
  {
   "cell_type": "markdown",
   "metadata": {},
   "source": [
    "Because its a linear trend!"
   ]
  },
  {
   "cell_type": "markdown",
   "metadata": {},
   "source": [
    "## Data for Regression Experiment\n",
    "\n",
    "From the UCI Machine Learning Repository, download the [Appliances energy prediction](http://archive.ics.uci.edu/ml/datasets/Appliances+energy+prediction) data.  You can do this by visiting the Data Folder for this data set, or just do this:\n",
    "\n",
    "     !wget http://archive.ics.uci.edu/ml/machine-learning-databases/00374/energydata_complete.csv\n",
    "\n"
   ]
  },
  {
   "cell_type": "markdown",
   "metadata": {},
   "source": [
    "Read this data into python.  One suggestion is to use the `loadtxt` function in the `numpy` package.  You may ignore the first column of each row which contains a data and time.  Also ignore the last two columns of random variables.  We will not use that in our modeling of this data.  You will also have to deal with the double quotes that surround every value in every field.  Read the first line of this file to get the names of the features.\n",
    "\n",
    "Once you have read this in correctly, you should see values like this:"
   ]
  },
  {
   "cell_type": "markdown",
   "metadata": {},
   "source": [
    "Here is where the data from `energydata_complete.csv` is read in. This uses pandas, which has a function to read a csv into a pandas dataframe really easily! It handles the double quotes just fine as well, correctly reading the values as floats. In order to drop columns from a pandas dataframe, the drop function with a list of names to remove is used. This removes the date, rv1 and rv2 columns from the dataframe."
   ]
  },
  {
   "cell_type": "code",
   "execution_count": 21,
   "metadata": {},
   "outputs": [],
   "source": [
    "csv = pd.read_csv(\"energydata_complete.csv\")\n",
    "#drop unneeded columns\n",
    "csv = csv.drop(['date', 'rv1', 'rv2'], axis = 1)"
   ]
  },
  {
   "cell_type": "markdown",
   "metadata": {},
   "source": [
    "Here are the columns loaded in from the csv. I do not read this into its own variable names. "
   ]
  },
  {
   "cell_type": "code",
   "execution_count": 22,
   "metadata": {
    "scrolled": false
   },
   "outputs": [
    {
     "data": {
      "text/plain": [
       "Index(['Appliances', 'lights', 'T1', 'RH_1', 'T2', 'RH_2', 'T3', 'RH_3', 'T4',\n",
       "       'RH_4', 'T5', 'RH_5', 'T6', 'RH_6', 'T7', 'RH_7', 'T8', 'RH_8', 'T9',\n",
       "       'RH_9', 'T_out', 'Press_mm_hg', 'RH_out', 'Windspeed', 'Visibility',\n",
       "       'Tdewpoint'],\n",
       "      dtype='object')"
      ]
     },
     "execution_count": 22,
     "metadata": {},
     "output_type": "execute_result"
    }
   ],
   "source": [
    "#names\n",
    "csv.columns"
   ]
  },
  {
   "cell_type": "markdown",
   "metadata": {},
   "source": [
    "The dataframe still needs to be converted to a numpy array however. Luckily, this is easy to do. "
   ]
  },
  {
   "cell_type": "code",
   "execution_count": 23,
   "metadata": {},
   "outputs": [
    {
     "data": {
      "text/plain": [
       "(19735, 26)"
      ]
     },
     "execution_count": 23,
     "metadata": {},
     "output_type": "execute_result"
    }
   ],
   "source": [
    "data = csv.values #.values is a numpy array! \n",
    "data.shape"
   ]
  },
  {
   "cell_type": "markdown",
   "metadata": {},
   "source": [
    "Here are a few sample rows. The first two, appliances and lights, are the targets of the model. "
   ]
  },
  {
   "cell_type": "code",
   "execution_count": 25,
   "metadata": {
    "scrolled": false
   },
   "outputs": [
    {
     "data": {
      "text/plain": [
       "array([[ 60.        ,  30.        ,  19.89      ,  47.59666667,\n",
       "         19.2       ,  44.79      ,  19.79      ,  44.73      ,\n",
       "         19.        ,  45.56666667,  17.16666667,  55.2       ,\n",
       "          7.02666667,  84.25666667,  17.2       ,  41.62666667,\n",
       "         18.2       ,  48.9       ,  17.03333333,  45.53      ,\n",
       "          6.6       , 733.5       ,  92.        ,   7.        ,\n",
       "         63.        ,   5.3       ],\n",
       "       [ 60.        ,  30.        ,  19.89      ,  46.69333333,\n",
       "         19.2       ,  44.7225    ,  19.79      ,  44.79      ,\n",
       "         19.        ,  45.9925    ,  17.16666667,  55.2       ,\n",
       "          6.83333333,  84.06333333,  17.2       ,  41.56      ,\n",
       "         18.2       ,  48.86333333,  17.06666667,  45.56      ,\n",
       "          6.48333333, 733.6       ,  92.        ,   6.66666667,\n",
       "         59.16666667,   5.2       ]])"
      ]
     },
     "execution_count": 25,
     "metadata": {},
     "output_type": "execute_result"
    }
   ],
   "source": [
    "data[:2,:]"
   ]
  },
  {
   "cell_type": "markdown",
   "metadata": {},
   "source": [
    "Use the first two columns, labelled `Appliances` and `lights` as the target variables, and the remaining 24 columns as the input features.  So we split off the first two columns into the target matrix, and the remaining into the X matrix. "
   ]
  },
  {
   "cell_type": "code",
   "execution_count": null,
   "metadata": {},
   "outputs": [],
   "source": [
    "Tenergy = data[:, :2]\n",
    "Xenergy = data[:, 2:]"
   ]
  },
  {
   "cell_type": "code",
   "execution_count": null,
   "metadata": {},
   "outputs": [],
   "source": [
    "Xenergy.shape, Tenergy.shape"
   ]
  },
  {
   "cell_type": "markdown",
   "metadata": {},
   "source": [
    "Train several neural networks on all of this data for 100 iterations.  Plot the error trace (nnet.getErrorTrace()) to help you decide now many iterations might be needed.  100 may not be enough.  If for your larger networks the error is still decreasing after 100 iterations you should train all nets for more than 100 iterations.\n",
    "\n",
    "Now use your `trainNNs`, `summarize`, and `bestNetwork` functions on this data to investigate various network sizes."
   ]
  },
  {
   "cell_type": "code",
   "execution_count": 177,
   "metadata": {},
   "outputs": [],
   "source": [
    "results = trainNNs(Xenergy, Tenergy, 0.8, [0, 5, [5, 5], [10, 10]], 10, 100)"
   ]
  },
  {
   "cell_type": "code",
   "execution_count": 32,
   "metadata": {
    "scrolled": true
   },
   "outputs": [
    {
     "data": {
      "text/plain": [
       "[[0, 67.0119220291367, 67.7873824983066, 0.7857398986816406],\n",
       " [5, 65.28282314337837, 65.54429699191795, 7.517106771469116],\n",
       " [[5, 5], 65.03531799352909, 65.30075957627932, 16.302370309829712],\n",
       " [[10, 10], 62.77482764041488, 64.2704059870164, 28.526667594909668]]"
      ]
     },
     "execution_count": 32,
     "metadata": {},
     "output_type": "execute_result"
    }
   ],
   "source": [
    "summarize(results)"
   ]
  },
  {
   "cell_type": "code",
   "execution_count": 33,
   "metadata": {
    "scrolled": true
   },
   "outputs": [
    {
     "data": {
      "text/plain": [
       "[[10, 10], 62.77482764041488, 64.2704059870164, 28.526667594909668]"
      ]
     },
     "execution_count": 33,
     "metadata": {},
     "output_type": "execute_result"
    }
   ],
   "source": [
    "bestNetwork(summarize(results))"
   ]
  },
  {
   "cell_type": "markdown",
   "metadata": {},
   "source": [
    "Test at least 10 different hidden layer structures.  Larger numbers of layers and units may do the best on training data, but not on testing data. Why?\n",
    "\n",
    "Now train another network with your best hidden layer structure on 0.8 of the data and use the trained network on the testing data (the remaining 0.2 of the date).  As before use `ml.partition` to produce the training and testing sets.\n",
    "\n",
    "For the testing data, plot the predicted and actual `Appliances` energy use, and the predicted and actual `lights` energy use, in two separate plots.  Discuss what you see."
   ]
  },
  {
   "cell_type": "markdown",
   "metadata": {},
   "source": [
    "### Finding  a (reasonable) Number of Iterations.\n",
    "Finding the proper number of iterations. It continues to reduce over time, but around 400 seems to be a good sweet spot in terms of runtime. "
   ]
  },
  {
   "cell_type": "code",
   "execution_count": 79,
   "metadata": {},
   "outputs": [
    {
     "data": {
      "text/plain": [
       "NeuralNetwork(24, [10, 10], 2)\n",
       "   Network was trained for 1001 iterations. Final error is 0.5394427796165684."
      ]
     },
     "execution_count": 79,
     "metadata": {},
     "output_type": "execute_result"
    }
   ],
   "source": [
    "#Create and train the nn.\n",
    "#Do this with 1000, but maybe on your desktop.\n",
    "testNN = nn.NeuralNetwork(Xenergy.shape[1], [10,10], Tenergy.shape[1])\n",
    "Xtrain,Ytrain,Xtest,Ytest=ml.partition(Xenergy, Tenergy, (.8, .2), False)\n",
    "testNN.train(Xtrain, Ytrain, 1000) #300 should be fine\n",
    "#Final error is not the same as RMSE\n"
   ]
  },
  {
   "cell_type": "code",
   "execution_count": 80,
   "metadata": {},
   "outputs": [
    {
     "data": {
      "text/plain": [
       "[<matplotlib.lines.Line2D at 0x7fd1081ccf28>]"
      ]
     },
     "execution_count": 80,
     "metadata": {},
     "output_type": "execute_result"
    },
    {
     "data": {
      "image/png": "[encoded data removed]",
      "text/plain": [
       "<Figure size 432x288 with 1 Axes>"
      ]
     },
     "metadata": {},
     "output_type": "display_data"
    }
   ],
   "source": [
    "plt.plot(bestNN.getErrorTrace())"
   ]
  },
  {
   "cell_type": "markdown",
   "metadata": {},
   "source": [
    "### Testing structures\n",
    "Here we try some interesting and large neural net structures. I broke it into two stages because of how long they take. I tried to get a wide variety of structures too. The first run found just 100 to be the best, implying that the sheer number of hidden units is favored. [20,20] also did quite well. "
   ]
  },
  {
   "cell_type": "code",
   "execution_count": 82,
   "metadata": {},
   "outputs": [],
   "source": [
    "results = trainNNs(Xenergy, Tenergy, 0.8, [0, [1,1,1,1,1,1], [5, 5, 5], [20, 20], [10, 10, 10, 10],[100]], 10, 400)"
   ]
  },
  {
   "cell_type": "code",
   "execution_count": 85,
   "metadata": {
    "scrolled": true
   },
   "outputs": [
    {
     "data": {
      "text/plain": [
       "[[0, 67.33032919191253, 66.49118453892186, 0.8347780704498291],\n",
       " [[1, 1, 1, 1, 1, 1], 69.97741144764575, 70.25745458631054, 20.21030282974243],\n",
       " [[5, 5, 5], 63.09756731614442, 64.92000926454517, 60.75912380218506],\n",
       " [[20, 20], 52.8496572295128, 59.78772428389192, 138.05959963798523],\n",
       " [[10, 10, 10, 10], 56.969469270275496, 63.39168433771374, 210.96005415916443],\n",
       " [[100], 52.92414386395851, 58.228311834909505, 418.4718759059906]]"
      ]
     },
     "execution_count": 85,
     "metadata": {},
     "output_type": "execute_result"
    }
   ],
   "source": [
    "summarize(results)"
   ]
  },
  {
   "cell_type": "markdown",
   "metadata": {},
   "source": [
    "I followed up on the previous structures to see whether more hidden layers  or hidden units is effective. The first two structures have the same number of units but with different layering. The difference between these can show whether breaking into layers is helpful for the neural network to pick up trends. Then I double the amount of units for the last structure, to see how much performance comes from brute force. 400 seems to be taking an absurd amount of time. I probably will not use that again if I can avoid it. "
   ]
  },
  {
   "cell_type": "code",
   "execution_count": 100,
   "metadata": {},
   "outputs": [],
   "source": [
    "resultsPlus = trainNNs(Xenergy, Tenergy, 0.8, [0, [20, 20, 20, 20], \n",
    "                                                [50,50,50,50], [200]], 10, 400)"
   ]
  },
  {
   "cell_type": "code",
   "execution_count": 102,
   "metadata": {},
   "outputs": [
    {
     "data": {
      "text/plain": [
       "[[0, 67.17327210457066, 67.14093638835263, 0.7700586318969727],\n",
       " [[20, 20, 20, 20], 47.20646818406259, 60.51538959553417, 137.62338042259216],\n",
       " [[50, 50, 50, 50], 43.245099013072625, 55.01606475671939, 664.0171720981598],\n",
       " [[200], 51.46236082423652, 57.58437924277861, 1223.3430888652802]]"
      ]
     },
     "execution_count": 102,
     "metadata": {},
     "output_type": "execute_result"
    }
   ],
   "source": [
    "summarize(resultsPlus)"
   ]
  },
  {
   "cell_type": "markdown",
   "metadata": {},
   "source": [
    "Training the best neural network and analyzing the results."
   ]
  },
  {
   "cell_type": "code",
   "execution_count": 106,
   "metadata": {},
   "outputs": [
    {
     "name": "stdout",
     "output_type": "stream",
     "text": [
      "[[100], 52.92414386395851, 58.228311834909505, 418.4718759059906]\n",
      "[[50, 50, 50, 50], 43.245099013072625, 55.01606475671939, 664.0171720981598]\n"
     ]
    }
   ],
   "source": [
    "resultsPlus = restultsPlus\n",
    "print(bestNetwork(summarize(results)))\n",
    "print(bestNetwork(summarize(resultsPlus)))"
   ]
  },
  {
   "cell_type": "code",
   "execution_count": 108,
   "metadata": {},
   "outputs": [
    {
     "data": {
      "text/plain": [
       "NeuralNetwork(24, [50, 50, 50, 50], 2)\n",
       "   Network was trained for 401 iterations. Final error is 0.41391912948847."
      ]
     },
     "execution_count": 108,
     "metadata": {},
     "output_type": "execute_result"
    }
   ],
   "source": [
    "bestNN = nn.NeuralNetwork(Xenergy.shape[1], [50,50,50,50], Tenergy.shape[1])\n",
    "Xtrain,Ytrain,Xtest,Ytest=ml.partition(Xenergy, Tenergy, (.8, .2), False)\n",
    "bestNN.train(Xtrain, Ytrain, 400) #300 should be fine"
   ]
  },
  {
   "cell_type": "markdown",
   "metadata": {},
   "source": [
    "Here we will test the neural network by comparing its predicted results to the actual results. "
   ]
  },
  {
   "cell_type": "code",
   "execution_count": 109,
   "metadata": {},
   "outputs": [],
   "source": [
    "Ypredicted = bestNN.use(Xenergy)"
   ]
  },
  {
   "cell_type": "code",
   "execution_count": 210,
   "metadata": {},
   "outputs": [
    {
     "data": {
      "text/plain": [
       "[<matplotlib.lines.Line2D at 0x7fd0cdd3cbe0>]"
      ]
     },
     "execution_count": 210,
     "metadata": {},
     "output_type": "execute_result"
    },
    {
     "data": {
      "image/png": "[encoded data removed]",
      "text/plain": [
       "<Figure size 432x288 with 1 Axes>"
      ]
     },
     "metadata": {},
     "output_type": "display_data"
    }
   ],
   "source": [
    "plt.plot(Tenergy[:,0], Ypredicted[:,0], \".\")"
   ]
  },
  {
   "cell_type": "markdown",
   "metadata": {},
   "source": [
    "This graph shows the actual vs predicted value of appliance using the \"best\" neural network. There at least appears to be a postive trend, but it is not a clean predictive graph. One of the biggest trends is that the network does not ever predict high values. The actual data has outputs all the way up to 1000, but because so many of the outputs are much lower, the neural network has not learned to output values that high frequently. "
   ]
  },
  {
   "cell_type": "code",
   "execution_count": 112,
   "metadata": {},
   "outputs": [
    {
     "data": {
      "text/plain": [
       "[<matplotlib.lines.Line2D at 0x7fd0ef57cac8>]"
      ]
     },
     "execution_count": 112,
     "metadata": {},
     "output_type": "execute_result"
    },
    {
     "data": {
      "image/png": "[encoded data removed]",
      "text/plain": [
       "<Figure size 432x288 with 1 Axes>"
      ]
     },
     "metadata": {},
     "output_type": "display_data"
    }
   ],
   "source": [
    "plt.plot(Tenergy[:,1], Ypredicted[:,1], \".\")"
   ]
  },
  {
   "cell_type": "markdown",
   "metadata": {},
   "source": [
    "Here we will take a close look at the graph above by expanding one of the vertical stripes."
   ]
  },
  {
   "cell_type": "code",
   "execution_count": 138,
   "metadata": {
    "scrolled": true
   },
   "outputs": [
    {
     "data": {
      "text/plain": [
       "[<matplotlib.lines.Line2D at 0x7fd0ce45ef60>]"
      ]
     },
     "execution_count": 138,
     "metadata": {},
     "output_type": "execute_result"
    },
    {
     "data": {
      "image/png": "[encoded data removed]",
      "text/plain": [
       "<Figure size 432x288 with 1 Axes>"
      ]
     },
     "metadata": {},
     "output_type": "display_data"
    }
   ],
   "source": [
    "zeroIndices = np.where(Tenergy[:,1] == 0)\n",
    "zeroIndices\n",
    "vals = Ypredicted[zeroIndices,1]\n",
    "plt.plot(vals.transpose(), \".\")"
   ]
  },
  {
   "cell_type": "markdown",
   "metadata": {},
   "source": [
    "Here is a plot of the actual vs predicted at only the actual values of zero. This gives a better visual than the graph above by not collapsing all of the observations onto one axis. According to this graph, the neural network seems to actually be doing a good jop of predicting near zero when the input results in zero. "
   ]
  },
  {
   "cell_type": "code",
   "execution_count": 137,
   "metadata": {},
   "outputs": [
    {
     "data": {
      "text/plain": [
       "[<matplotlib.lines.Line2D at 0x7fd0ce480390>]"
      ]
     },
     "execution_count": 137,
     "metadata": {},
     "output_type": "execute_result"
    },
    {
     "data": {
      "image/png": "[encoded data removed]",
      "text/plain": [
       "<Figure size 432x288 with 1 Axes>"
      ]
     },
     "metadata": {},
     "output_type": "display_data"
    }
   ],
   "source": [
    "fortyIndices = np.where(Tenergy[:,1] == 40)\n",
    "fortyIndices\n",
    "vals = Ypredicted[fortyIndices,1]\n",
    "plt.plot(vals.transpose(), \".\")"
   ]
  },
  {
   "cell_type": "markdown",
   "metadata": {},
   "source": [
    "When we pick a higher traget though, the picture is not nearly as good. The neural network does not seem to have any pattern to its predictions when the result should be forty. Although much of this is because there are simply not many samples that have this target value."
   ]
  },
  {
   "cell_type": "markdown",
   "metadata": {},
   "source": [
    "This compares the lights data with the same predicted vs actual structure. This shows an interesting trend about the lights data. Only the values [0,20,30,40,50,60,70] appear in the dataset, but the neural network outputs data all over the place, and never abouve 30. Because of this binning of lights, its possible a classification could work better. "
   ]
  },
  {
   "cell_type": "markdown",
   "metadata": {},
   "source": [
    "Here are some plots of residuals! I encluded these just to see if any clear trends could be found even though they are not required. "
   ]
  },
  {
   "cell_type": "code",
   "execution_count": 50,
   "metadata": {},
   "outputs": [
    {
     "data": {
      "text/plain": [
       "[<matplotlib.lines.Line2D at 0x7fd111dd1b00>]"
      ]
     },
     "execution_count": 50,
     "metadata": {},
     "output_type": "execute_result"
    },
    {
     "data": {
      "image/png": "[encoded data removed]",
      "text/plain": [
       "<Figure size 432x288 with 1 Axes>"
      ]
     },
     "metadata": {},
     "output_type": "display_data"
    }
   ],
   "source": [
    "plt.plot(Tenergy[:,0] - Ypredicted[:,0], \".\")"
   ]
  },
  {
   "cell_type": "markdown",
   "metadata": {},
   "source": [
    "This does not look so bad, especially compared to the plot of predicted vs actual. There is a definite positive bias in the residuals that could indicate some consistent errors in the model. There is also some stripping issues. This could be something in the data that throws off the model, like a certain variable that tends to make it predict wrongly. "
   ]
  },
  {
   "cell_type": "code",
   "execution_count": 51,
   "metadata": {
    "scrolled": true
   },
   "outputs": [
    {
     "data": {
      "text/plain": [
       "[<matplotlib.lines.Line2D at 0x7fd111e976a0>]"
      ]
     },
     "execution_count": 51,
     "metadata": {},
     "output_type": "execute_result"
    },
    {
     "data": {
      "image/png": "[encoded data removed]",
      "text/plain": [
       "<Figure size 432x288 with 1 Axes>"
      ]
     },
     "metadata": {},
     "output_type": "display_data"
    }
   ],
   "source": [
    "plt.plot(Tenergy[:,1] - Ypredicted[:,1], \".\")"
   ]
  },
  {
   "cell_type": "markdown",
   "metadata": {},
   "source": [
    "This residual plot for lights is really interesting. You can see the horizontal stripes of consitent erro. These move in ten step increments, showing that the model is sort of misclassifying the data. "
   ]
  },
  {
   "cell_type": "markdown",
   "metadata": {},
   "source": [
    "If you were stuck on a desert island with a raspberry pi, this might be the fastest way to go. "
   ]
  },
  {
   "cell_type": "markdown",
   "metadata": {},
   "source": [
    "Here, plot the residuals of the best versus the residuals of the linear regression to see what sort of trend neural net might have picked up. "
   ]
  },
  {
   "cell_type": "code",
   "execution_count": 86,
   "metadata": {},
   "outputs": [],
   "source": [
    "mod = linearRegression(Xenergy, Tenergy)"
   ]
  },
  {
   "cell_type": "code",
   "execution_count": 89,
   "metadata": {
    "scrolled": true
   },
   "outputs": [],
   "source": [
    "mod\n",
    "#adds a column of ones for intercept.\n",
    "XenergyPrime = np.c_[np.ones(len(Xenergy)), Xenergy] \n",
    "linearPrediction = XenergyPrime @ mod[1]"
   ]
  },
  {
   "cell_type": "code",
   "execution_count": null,
   "metadata": {},
   "outputs": [],
   "source": [
    "plt.plot(plt.plot(Tenergy[:,0], linearPrediction[:,0], \".\"))"
   ]
  },
  {
   "cell_type": "code",
   "execution_count": null,
   "metadata": {},
   "outputs": [],
   "source": [
    "plt.plot(plt.plot(Tenergy[:,1], linearPrediction[:,1], \".\"))"
   ]
  },
  {
   "cell_type": "code",
   "execution_count": 97,
   "metadata": {},
   "outputs": [
    {
     "data": {
      "text/plain": [
       "[<matplotlib.lines.Line2D at 0x7fd0ef6b6710>]"
      ]
     },
     "execution_count": 97,
     "metadata": {},
     "output_type": "execute_result"
    },
    {
     "data": {
      "image/png": "[encoded data removed]",
      "text/plain": [
       "<Figure size 432x288 with 1 Axes>"
      ]
     },
     "metadata": {},
     "output_type": "display_data"
    }
   ],
   "source": [
    "plt.plot(Tenergy[:,0] - linearPrediction[:,0], \".\")"
   ]
  },
  {
   "cell_type": "markdown",
   "metadata": {},
   "source": [
    "The residual plot of the linear regression for appliances looks similar to the one produced by the neural network. It helps to show that the positive bias of the residuals was not due to something wrong with the network, but rather a bias and non-normality in the data. "
   ]
  },
  {
   "cell_type": "code",
   "execution_count": 139,
   "metadata": {},
   "outputs": [
    {
     "data": {
      "text/plain": [
       "[<matplotlib.lines.Line2D at 0x7fd0ce3cb208>]"
      ]
     },
     "execution_count": 139,
     "metadata": {},
     "output_type": "execute_result"
    },
    {
     "data": {
      "image/png": "[encoded data removed]",
      "text/plain": [
       "<Figure size 432x288 with 1 Axes>"
      ]
     },
     "metadata": {},
     "output_type": "display_data"
    }
   ],
   "source": [
    "plt.plot(Tenergy[:,1] - linearPrediction[:,1], \".\")"
   ]
  },
  {
   "cell_type": "markdown",
   "metadata": {},
   "source": [
    "Here we see a different picture than the residuals created by the neural network when predicting for lights. The striping does not really appear here, probably because the simple linear regression can not pick up on the binned nature of the data while the neural network does. "
   ]
  },
  {
   "cell_type": "markdown",
   "metadata": {},
   "source": [
    "## Data for Classification Experiment\n",
    "\n",
    "From the UCI Machine Learning Repository, download the [Anuran Calls (MFCCs)](http://archive.ics.uci.edu/ml/datasets/Anuran+Calls+%28MFCCs%29) data.  You can do this by visiting the Data Folder for this data set, or just do this:\n",
    "\n",
    "     !wget 'http://archive.ics.uci.edu/ml/machine-learning-databases/00406/Anuran Calls (MFCCs).zip'\n",
    "     !unzip Anuran*zip\n",
    "     \n",
    "Read the data in the file `Frogs_MFCCs.csv` into python.  This will be a little tricky. Each line of the file is a sample of audio features plus three columns that label the sample by family, genus, and species. We will try to predict the species.  The tricky part is that the species is given as text.  We need to convert this to a target class, as an integer. The `numpy` function `unique` will come in handy here."
   ]
  },
  {
   "cell_type": "code",
   "execution_count": 52,
   "metadata": {},
   "outputs": [],
   "source": [
    "csv = pd.read_csv(\"Frogs_MFCCs.csv\")\n",
    "csv = csv.drop(['RecordID', 'Family', 'Genus', 'MFCCs_ 1'], axis = 1) #also drops MFCCs_1, \n",
    "                                                                    #which only has the value 1, no in his."
   ]
  },
  {
   "cell_type": "code",
   "execution_count": 53,
   "metadata": {
    "scrolled": true
   },
   "outputs": [
    {
     "data": {
      "text/plain": [
       "(7195, 22)"
      ]
     },
     "execution_count": 53,
     "metadata": {},
     "output_type": "execute_result"
    }
   ],
   "source": [
    "csv.shape"
   ]
  },
  {
   "cell_type": "markdown",
   "metadata": {},
   "source": [
    "Here we convert the pandas data frame into a numpy matrix. It is mostly striaghtforward like the regression data, except for the typing. For some reason pandas read the call data as python floats, which cannot be used like numpy floats. This caused me a giant headache and threw all sorts of weird errors later on. Eventually I worked my way back here and realized I needed to change the matrix to use numpy.float64 instead of python float."
   ]
  },
  {
   "cell_type": "code",
   "execution_count": 54,
   "metadata": {},
   "outputs": [],
   "source": [
    "data = csv.values\n",
    "Tanuran = data[:, 21:]\n",
    "Xanuran = data[:, :21]\n",
    "Xanuran = Xanuran.astype(np.float64)\n",
    "#print(type(Xanuran[1,1]))\n",
    "#print(Xanuran.astype(np.float64))\n",
    "#print(type(Xenergy[1,1]))"
   ]
  },
  {
   "cell_type": "code",
   "execution_count": 83,
   "metadata": {},
   "outputs": [
    {
     "data": {
      "text/plain": [
       "((7195, 21), (7195, 1))"
      ]
     },
     "execution_count": 83,
     "metadata": {},
     "output_type": "execute_result"
    }
   ],
   "source": [
    "Xanuran.shape, Tanuran.shape"
   ]
  },
  {
   "cell_type": "code",
   "execution_count": 84,
   "metadata": {},
   "outputs": [
    {
     "data": {
      "text/plain": [
       "array([[ 0.15, -0.11,  0.2 ,  0.32,  0.26,  0.1 , -0.15, -0.17,  0.12,\n",
       "         0.19, -0.08, -0.16,  0.08,  0.14, -0.02, -0.11, -0.08, -0.01,\n",
       "         0.06,  0.12,  0.01],\n",
       "       [ 0.17, -0.1 ,  0.27,  0.34,  0.27,  0.06, -0.22, -0.21,  0.17,\n",
       "         0.27, -0.1 , -0.25,  0.02,  0.16,  0.01, -0.09, -0.06, -0.04,\n",
       "         0.02,  0.08,  0.03]])"
      ]
     },
     "execution_count": 84,
     "metadata": {},
     "output_type": "execute_result"
    }
   ],
   "source": [
    "Xanuran[:2,:]"
   ]
  },
  {
   "cell_type": "code",
   "execution_count": 57,
   "metadata": {},
   "outputs": [],
   "source": [
    "names = np.unique(Tanuran)\n",
    "names = list(names)\n",
    "for i in range(len(Tanuran)):\n",
    "    Tanuran[i] = names.index(Tanuran[i])\n",
    "#Tanuran = [names.index(n) for n in Tanuran]\n",
    "#Tanuran = [[x] for x in Tanuran]\n",
    "#Tanuran = np.array(Tanuran)"
   ]
  },
  {
   "cell_type": "code",
   "execution_count": 65,
   "metadata": {},
   "outputs": [
    {
     "data": {
      "text/plain": [
       "21"
      ]
     },
     "execution_count": 65,
     "metadata": {},
     "output_type": "execute_result"
    }
   ],
   "source": [
    "Xanuran.shape[1]"
   ]
  },
  {
   "cell_type": "code",
   "execution_count": 62,
   "metadata": {
    "scrolled": true
   },
   "outputs": [
    {
     "data": {
      "text/plain": [
       "array([[0],\n",
       "       [0]])"
      ]
     },
     "execution_count": 62,
     "metadata": {},
     "output_type": "execute_result"
    }
   ],
   "source": [
    "Tanuran = Tanuran.astype(np.int)\n",
    "Tanuran[:2]"
   ]
  },
  {
   "cell_type": "code",
   "execution_count": 63,
   "metadata": {},
   "outputs": [
    {
     "name": "stdout",
     "output_type": "stream",
     "text": [
      "672 samples in class 0\n",
      "3478 samples in class 1\n",
      "542 samples in class 2\n",
      "310 samples in class 3\n",
      "472 samples in class 4\n",
      "1121 samples in class 5\n",
      "270 samples in class 6\n",
      "114 samples in class 7\n",
      "68 samples in class 8\n",
      "148 samples in class 9\n"
     ]
    }
   ],
   "source": [
    "for i in range(10):\n",
    "    print('{} samples in class {}'.format(np.sum(Tanuran==i), i))"
   ]
  },
  {
   "cell_type": "code",
   "execution_count": 178,
   "metadata": {},
   "outputs": [],
   "source": [
    "results = trainNNs(Xanuran, Tanuran, 0.8, [0, 5, [5, 5]], 10, 100, classify=True)"
   ]
  },
  {
   "cell_type": "code",
   "execution_count": 179,
   "metadata": {
    "scrolled": true
   },
   "outputs": [
    {
     "data": {
      "text/plain": [
       "[[0, 2.738012508686589, 3.7665045170257114, 2.0394036769866943],\n",
       " [5, 3.571924947880474, 4.808895066018069, 6.026899576187134],\n",
       " [[5, 5], 6.064975677553856, 6.858929812369702, 10.823338508605957]]"
      ]
     },
     "execution_count": 179,
     "metadata": {},
     "output_type": "execute_result"
    }
   ],
   "source": [
    "summarize(results)"
   ]
  },
  {
   "cell_type": "code",
   "execution_count": 181,
   "metadata": {},
   "outputs": [
    {
     "data": {
      "text/plain": [
       "[0, 2.738012508686589, 3.7665045170257114, 2.0394036769866943]"
      ]
     },
     "execution_count": 181,
     "metadata": {},
     "output_type": "execute_result"
    }
   ],
   "source": [
    "bestNetwork(summarize(results))"
   ]
  },
  {
   "cell_type": "markdown",
   "metadata": {},
   "source": [
    "### Finding a  reasonable number of iterations\n",
    "Follow the same logic as last time. We run on the most complex of the preliminary structures above to see if it is getting enough time to learn. "
   ]
  },
  {
   "cell_type": "code",
   "execution_count": 161,
   "metadata": {
    "scrolled": true
   },
   "outputs": [
    {
     "data": {
      "text/plain": [
       "[<matplotlib.lines.Line2D at 0x7fd0ce1011d0>]"
      ]
     },
     "execution_count": 161,
     "metadata": {},
     "output_type": "execute_result"
    },
    {
     "data": {
      "image/png": "[encoded data removed]",
      "text/plain": [
       "<Figure size 432x288 with 1 Axes>"
      ]
     },
     "metadata": {},
     "output_type": "display_data"
    }
   ],
   "source": [
    "#Create and train the nn.\n",
    "#Do this with 1000, but maybe on your desktop.\n",
    "testNN = nn.NeuralNetworkClassifier(Xanuran.shape[1], [5,5], len(np.unique(Tanuran)))\n",
    "Xtrain,Ytrain,Xtest,Ytest=ml.partition(Xanuran, Tanuran, (.8, .2), False)\n",
    "testNN.train(Xtrain, Ytrain, 500) #300 should be fine\n",
    "#Final error is not the same as RMSE\n",
    "plt.plot(testNN.getErrorTrace())"
   ]
  },
  {
   "cell_type": "markdown",
   "metadata": {},
   "source": [
    "Following this trial, 250 should give enough iterations. More complex models may need more time to learn the model, but without GPU acceleration I will not have the time!"
   ]
  },
  {
   "cell_type": "markdown",
   "metadata": {},
   "source": [
    "## Testing Structures\n",
    "Like last time, testing will be broken up. This makes it more reasonable to rerun some of the tests from a time standpoint."
   ]
  },
  {
   "cell_type": "markdown",
   "metadata": {},
   "source": [
    "Now do an investigation like you did for the regression data. \n",
    "\n",
    "Test at least 10 different hidden layer structures. Then train another network with your best hidden layer structure on 0.8 of the data and use the trained network on the testing data (the remaining 0.2 of the date). \n",
    "\n",
    "Plot the predicted and actual `Species` for the testing data as an integer.  Discuss what you see."
   ]
  },
  {
   "cell_type": "code",
   "execution_count": 187,
   "metadata": {},
   "outputs": [],
   "source": [
    "results = trainNNs(Xanuran, Tanuran, 0.8, [0, [1,1,2,3,5,8,13,21], [20,10,5, 5,10, 20], [100]], 5, 250, classify=True)"
   ]
  },
  {
   "cell_type": "code",
   "execution_count": 196,
   "metadata": {
    "scrolled": true
   },
   "outputs": [
    {
     "data": {
      "text/plain": [
       "([[0, 2.755385684503126, 3.794301598332175, 2.624049425125122],\n",
       "  [[1, 1, 2, 3, 5, 8, 13, 21],\n",
       "   32.26198749131341,\n",
       "   31.466296038915914,\n",
       "   17.614604473114014],\n",
       "  [[20, 10, 5, 5, 10, 20],\n",
       "   1.431549687282836,\n",
       "   3.7248088950660163,\n",
       "   35.25487017631531],\n",
       "  [[100], 0.0, 1.0701876302988178, 57.074690103530884]],\n",
       " [[100], 0.0, 1.0701876302988178, 57.074690103530884])"
      ]
     },
     "execution_count": 196,
     "metadata": {},
     "output_type": "execute_result"
    }
   ],
   "source": [
    "summarize(results),bestNetwork(summarize(results))"
   ]
  },
  {
   "cell_type": "markdown",
   "metadata": {},
   "source": [
    "Looks like the fibbonacci network is not very effective. The second structure is not too bad, works better than a regression. The big network worked very well on the training data, but also worked well on the test data. With that many hidden units, it could be that the neural network is learning every training input."
   ]
  },
  {
   "cell_type": "code",
   "execution_count": 184,
   "metadata": {},
   "outputs": [],
   "source": [
    "resultsTwo = trainNNs(Xanuran, Tanuran, 0.8, [200, [50, 2, 50], [2]*20], 5, 250, classify=True)"
   ]
  },
  {
   "cell_type": "code",
   "execution_count": 195,
   "metadata": {
    "scrolled": true
   },
   "outputs": [
    {
     "data": {
      "text/plain": [
       "([[200, 0.0, 0.9173036831132751, 39.51124119758606],\n",
       "  [[50, 2, 50], 5.319666435024324, 8.408617095205004, 59.8610405921936],\n",
       "  [[2, 2, 2, 2, 2, 2, 2, 2, 2, 2, 2, 2, 2, 2, 2, 2, 2, 2, 2, 2],\n",
       "   51.4593467685893,\n",
       "   52.46699096594857,\n",
       "   62.307069063186646]],\n",
       " [200, 0.0, 0.9173036831132751, 39.51124119758606])"
      ]
     },
     "execution_count": 195,
     "metadata": {},
     "output_type": "execute_result"
    }
   ],
   "source": [
    "summarize(resultsTwo),bestNetwork(summarize(resultsTwo))"
   ]
  },
  {
   "cell_type": "markdown",
   "metadata": {},
   "source": [
    "Here I tried another odd structure to see how it would behave. Looks like a whole bunch of layers with few units does not do a good job of classifying. The 200 hidden unit structure continued to improve upon the last large structure, although continuing to add units may not work well. Also interesting to see was the [50,2,50] structure, which still classified well even with the chokepoint. "
   ]
  },
  {
   "cell_type": "code",
   "execution_count": 188,
   "metadata": {},
   "outputs": [],
   "source": [
    "resultsThree = trainNNs(Xanuran, Tanuran, 0.8, [[10,10], [5, 5, 5]], 5, 250, classify=True)"
   ]
  },
  {
   "cell_type": "code",
   "execution_count": 192,
   "metadata": {},
   "outputs": [
    {
     "name": "stdout",
     "output_type": "stream",
     "text": [
      "[[[10, 10], 0.13551077136900513, 2.8630993745656697, 7.665461540222168], [[5, 5, 5], 2.8978457261987485, 4.072272411396802, 14.866990804672241]]\n"
     ]
    },
    {
     "data": {
      "text/plain": [
       "[[10, 10], 0.13551077136900513, 2.8630993745656697, 7.665461540222168]"
      ]
     },
     "execution_count": 192,
     "metadata": {},
     "output_type": "execute_result"
    }
   ],
   "source": [
    "summarize(resultsThree),bestNetwork(summarize(resultsThree))"
   ]
  },
  {
   "cell_type": "markdown",
   "metadata": {},
   "source": [
    "Of all of the network structures tested, the 200 hidden unit performed the best. This has a high change of over fitting the model however, and it may be better to use a simpler model to be able to more easily interpret the data. A simple network without any hidden units classifies correctly 3.79% of the time on test data, so it may be worth choosing for its simplicity over difficult to interpret hidden units. For analyses, I will look at the [10,10] network. Even though it did not perform the best, it does not have as much of a chance of over fitting ast the other models. "
   ]
  },
  {
   "cell_type": "code",
   "execution_count": 199,
   "metadata": {},
   "outputs": [
    {
     "data": {
      "text/plain": [
       "NeuralNetwork(21, [10, 10], 10)\n",
       "   Network was trained for 250 iterations. Final error is 0.00047599250155310824."
      ]
     },
     "execution_count": 199,
     "metadata": {},
     "output_type": "execute_result"
    }
   ],
   "source": [
    "bestNN = nn.NeuralNetworkClassifier(Xanuran.shape[1], [10,10], len(np.unique(Tanuran)))\n",
    "Xtrain,Ytrain,Xtest,Ytest=ml.partition(Xanuran, Tanuran, (.8, .2), False)\n",
    "bestNN.train(Xtrain, Ytrain, 250) #300 should be fine"
   ]
  },
  {
   "cell_type": "markdown",
   "metadata": {},
   "source": [
    "We see that the error is low, so the network is well trained. We will continue by looking at the amount of correctly classified frogs."
   ]
  },
  {
   "cell_type": "code",
   "execution_count": 206,
   "metadata": {},
   "outputs": [
    {
     "data": {
      "image/png": "[encoded data removed]",
      "text/plain": [
       "<Figure size 432x288 with 1 Axes>"
      ]
     },
     "metadata": {},
     "output_type": "display_data"
    }
   ],
   "source": [
    "predictedClass = bestNN.use(Xanuran)\n",
    "plt.plot(predictedClass, Tanuran, \".\")\n",
    "abline(1,0)"
   ]
  },
  {
   "cell_type": "markdown",
   "metadata": {},
   "source": [
    "Looks like a good looking line! Its hard to tell the proportion of mis classifications though. So lets try some other graphs?"
   ]
  },
  {
   "cell_type": "code",
   "execution_count": 207,
   "metadata": {},
   "outputs": [
    {
     "data": {
      "text/plain": [
       "[<matplotlib.lines.Line2D at 0x7fd0cde0ebe0>]"
      ]
     },
     "execution_count": 207,
     "metadata": {},
     "output_type": "execute_result"
    },
    {
     "data": {
      "image/png": "[encoded data removed]",
      "text/plain": [
       "<Figure size 432x288 with 1 Axes>"
      ]
     },
     "metadata": {},
     "output_type": "display_data"
    }
   ],
   "source": [
    "plt.plot(predictedClass - Tanuran, \".\")"
   ]
  },
  {
   "cell_type": "code",
   "execution_count": 233,
   "metadata": {},
   "outputs": [
    {
     "data": {
      "text/plain": [
       "(array([2.00e+00, 1.00e+00, 2.00e+00, 4.00e+00, 9.00e+00, 7.15e+03,\n",
       "        9.00e+00, 1.10e+01, 2.00e+00, 4.00e+00, 3.00e+00, 1.00e+00]),\n",
       " array([-8.  , -6.58, -5.17, -3.75, -2.33, -0.92,  0.5 ,  1.92,  3.33,\n",
       "         4.75,  6.17,  7.58,  9.  ]),\n",
       " <a list of 12 Patch objects>)"
      ]
     },
     "execution_count": 233,
     "metadata": {},
     "output_type": "execute_result"
    },
    {
     "data": {
      "image/png": "[encoded data removed]",
      "text/plain": [
       "<Figure size 432x288 with 1 Axes>"
      ]
     },
     "metadata": {},
     "output_type": "display_data"
    }
   ],
   "source": [
    "plt.hist(predictedClass - Tanuran, bins = 12)"
   ]
  },
  {
   "cell_type": "markdown",
   "metadata": {},
   "source": [
    "This extremely meaningful histogram is terrible and should be deleted. "
   ]
  },
  {
   "cell_type": "markdown",
   "metadata": {},
   "source": [
    "Residuals are not as meaningful when using classification either. If this was a normal linear regression, we would worry about normality. However, a correct classification of 9 can only really have negative error. So this graph does not really say much else either. "
   ]
  },
  {
   "cell_type": "code",
   "execution_count": 236,
   "metadata": {},
   "outputs": [
    {
     "data": {
      "image/png": "[encoded data removed]",
      "text/plain": [
       "<Figure size 432x288 with 1 Axes>"
      ]
     },
     "metadata": {},
     "output_type": "display_data"
    },
    {
     "data": {
      "image/png": "[encoded data removed]",
      "text/plain": [
       "<Figure size 432x288 with 1 Axes>"
      ]
     },
     "metadata": {},
     "output_type": "display_data"
    }
   ],
   "source": [
    "#plt.hist([0,1,2,4,5,5,5,5,5,6,7,8,9], bins=9)\n",
    "indices = np.where(Tanuran[:,0] == 1)\n",
    "indices\n",
    "vals = predictedClass[indices,0]\n",
    "plt.plot(vals.transpose(), \".\")\n",
    "plt.show()\n",
    "plt.hist(vals.transpose())\n",
    "plt.show()"
   ]
  },
  {
   "cell_type": "markdown",
   "metadata": {},
   "source": [
    "These plots might do the best job at getting across how well this classification works. Out of the few thousand inputs, only a handful are mis-classified. "
   ]
  },
  {
   "cell_type": "markdown",
   "metadata": {},
   "source": [
    "## Grading\n",
    "\n",
    "Download [A5grader.tar](http://www.cs.colostate.edu/~anderson/cs440/notebooks/A5grader.tar) and extract `A5grader.py` from it."
   ]
  },
  {
   "cell_type": "code",
   "execution_count": 78,
   "metadata": {
    "scrolled": true
   },
   "outputs": [
    {
     "name": "stdout",
     "output_type": "stream",
     "text": [
      "\n",
      "======================= Code Execution =======================\n",
      "\n",
      "Extracting python code from notebook named 'Newell-A5.ipynb' and storing in notebookcode.py\n",
      "Removing all statements that are not function or class defs or import statements.\n",
      "\n",
      "Testing summarize([[[1,1], [1.2, 1.3, 1.4], [2.2, 2.3, 2.4], 0.5], [[2,2,2], [4.4, 4.3, 4.2], [6.5, 6.4, 6.3], 0.6]])\n",
      "\n",
      "--- 10/10 points. Correctly returned [[[1, 1], 1.3, 2.3000000000000003, 0.5], [[2, 2, 2], 4.3, 6.3999999999999995, 0.6]]\n",
      "\n",
      "Testing bestNetwork([[[1, 1], 1.3, 2.3, 0.5], [[2, 2, 2], 4.3, 1.3, 0.6]])\n",
      "\n",
      "--- 10/10 points. Correctly returned [[2, 2, 2], 4.3, 1.3, 0.6]\n",
      "\n",
      "X = np.random.uniform(-1, 1, (100, 3))\n",
      "T = np.hstack(((X**2 - 0.2*X**3).sum(axis=1,keepdims=True),\n",
      "               (np.sin(X)).sum(axis=1,keepdims=True)))\n",
      "result = trainNNs(X, T, 0.7, [0, 5, 10, [20, 20]], 10, 100, False)\n",
      "\n",
      "--- 20/20 points. Correct.\n",
      "\n",
      "Testing bestNetwork(summarize(result))\n",
      "\n",
      "--- 20/20 points. You correctly found that network [20, 20] is best.\n",
      "\n",
      "cs440 Execution Grade is 60 / 60\n",
      "\n",
      "======================= The regression data set =======================\n",
      "\n",
      "--- _ / 5 points. Read the data in energydata_complete.csv into variables Xenergy and Tenergy.\n",
      "\n",
      "--- _ / 5 points. Train some networks by calling the NeuralNetwork constructor and train method and plot the error trace to help you decide now many iterations might be needed.\n",
      "\n",
      "--- _ / 5 points. Try at least 10 different hidden layer structures using trainNNs.\n",
      "\n",
      "--- _ / 5 points. Train another network with your best hidden layer structure on 0.8 of the data and test it on remaining 0.2 of the data. Plot the predicted and actual Appliances energy use, and the predicted and actual lights energy use, in two separate plots. Discuss what you see.\n",
      "\n",
      "======================= Classification data set =======================\n",
      "\n",
      "--- _ / 5 points. Read the data in Frogs_MFCCs.csv into variables Xanuran and Tanuran.\n",
      "\n",
      "--- _ / 5 points. Train some networks by calling the NeuralNetwork constructor and train method and plot the error trace to help you decide now many iterations might be needed.\n",
      "\n",
      "--- _ / 5 points. Try at least 10 different hidden layer structures using trainNNs.\n",
      "\n",
      "--- _ / 5 points. Train another network with your best hidden layer structure on 0.8 of the data and test it on remaining 0.2 of the data. Plot the predicted and actual class labels. Discuss what you see.\n",
      "\n",
      "cs440 Notebook Grade is   / 40\n",
      "\n",
      "cs440 FINAL GRADE is  / 100\n",
      "\n",
      "\n",
      "cs440 EXTRA CREDIT is  / 1\n"
     ]
    },
    {
     "data": {
      "text/plain": [
       "<Figure size 432x288 with 0 Axes>"
      ]
     },
     "metadata": {},
     "output_type": "display_data"
    }
   ],
   "source": [
    "%run -i \"A5grader.py\""
   ]
  },
  {
   "cell_type": "markdown",
   "metadata": {},
   "source": [
    "## Check-in"
   ]
  },
  {
   "cell_type": "markdown",
   "metadata": {},
   "source": [
    "Do not include this section in your notebook.\n",
    "\n",
    "Name your notebook ```Lastname-A5.ipynb```.  So, for me it would be ```Anderson-A5.ipynb```.  Submit the file using the ```Assignment 5``` link on [Canvas](https://colostate.instructure.com/courses/68135)."
   ]
  },
  {
   "cell_type": "markdown",
   "metadata": {},
   "source": [
    "## Extra Credit\n",
    "\n",
    "  2. Repeat the above regression and classification experiments with a second regression data set and a second classification data set.\n",
    "  \n",
    "  2. Since you are collecting the performance of all repetitions for each network structure, you can calculate a confidence interval about the mean, to help judge significant differences. Do this for either the regression or the classification data and plot the mean test performance with confidence intervals for each network structure tested.  Discuss the statistical significance of the differences among the means.  One website I found to help with this is the site [Correct way to obtain confidence interval with scipy](https://stackoverflow.com/questions/28242593/correct-way-to-obtain-confidence-interval-with-scipy).\n",
    "  \n"
   ]
  }
 ],
 "metadata": {
  "anaconda-cloud": {},
  "kernelspec": {
   "display_name": "Python 3",
   "language": "python",
   "name": "python3"
  },
  "language_info": {
   "codemirror_mode": {
    "name": "ipython",
    "version": 3
   },
   "file_extension": ".py",
   "mimetype": "text/x-python",
   "name": "python",
   "nbconvert_exporter": "python",
   "pygments_lexer": "ipython3",
   "version": "3.6.5"
  },
  "toc": {
   "nav_menu": {},
   "number_sections": true,
   "sideBar": true,
   "skip_h1_title": false,
   "toc_cell": false,
   "toc_position": {},
   "toc_section_display": "block",
   "toc_window_display": false
  }
 },
 "nbformat": 4,
 "nbformat_minor": 1
}
