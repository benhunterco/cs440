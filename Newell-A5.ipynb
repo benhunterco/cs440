{
 "cells": [
  {
   "cell_type": "markdown",
   "metadata": {},
   "source": [
    "$\\newcommand{\\xv}{\\mathbf{x}}\n",
    "\\newcommand{\\Xv}{\\mathbf{X}}\n",
    "\\newcommand{\\yv}{\\mathbf{y}}\n",
    "\\newcommand{\\zv}{\\mathbf{z}}\n",
    "\\newcommand{\\av}{\\mathbf{a}}\n",
    "\\newcommand{\\Wv}{\\mathbf{W}}\n",
    "\\newcommand{\\wv}{\\mathbf{w}}\n",
    "\\newcommand{\\tv}{\\mathbf{t}}\n",
    "\\newcommand{\\Tv}{\\mathbf{T}}\n",
    "\\newcommand{\\muv}{\\boldsymbol{\\mu}}\n",
    "\\newcommand{\\sigmav}{\\boldsymbol{\\sigma}}\n",
    "\\newcommand{\\phiv}{\\boldsymbol{\\phi}}\n",
    "\\newcommand{\\Phiv}{\\boldsymbol{\\Phi}}\n",
    "\\newcommand{\\Sigmav}{\\boldsymbol{\\Sigma}}\n",
    "\\newcommand{\\Lambdav}{\\boldsymbol{\\Lambda}}\n",
    "\\newcommand{\\half}{\\frac{1}{2}}\n",
    "\\newcommand{\\argmax}[1]{\\underset{#1}{\\operatorname{argmax}}}\n",
    "\\newcommand{\\argmin}[1]{\\underset{#1}{\\operatorname{argmin}}}$"
   ]
  },
  {
   "cell_type": "markdown",
   "metadata": {},
   "source": [
    "# Assignment 5: Neural Networks"
   ]
  },
  {
   "cell_type": "markdown",
   "metadata": {},
   "source": [
    "*Ben Newell*"
   ]
  },
  {
   "cell_type": "markdown",
   "metadata": {},
   "source": [
    "## Overview"
   ]
  },
  {
   "cell_type": "markdown",
   "metadata": {},
   "source": [
    "You will write and apply code that trains neural networks of various numbers of hidden layers and units in each hidden layer and returns results as specified below.  You will do this once for a regression problem and once for a classification problem. "
   ]
  },
  {
   "cell_type": "markdown",
   "metadata": {},
   "source": [
    "## Required Code"
   ]
  },
  {
   "cell_type": "markdown",
   "metadata": {},
   "source": [
    "Download [nn2.tar](http://www.cs.colostate.edu/~anderson/cs440/notebooks/nn2.tar) that was used in lecture and extract its contents, which are\n",
    "\n",
    "* `neuralnetworks.py`\n",
    "* `scaledconjugategradient.py`\n",
    "* `mlutils.py`"
   ]
  },
  {
   "cell_type": "markdown",
   "metadata": {},
   "source": [
    "Write the following functions that train and evaluate neural network models.\n",
    "\n",
    "* `results = trainNNs(X, T, trainFraction, hiddenLayerStructures, numberRepetitions, numberIterations, classify)`\n",
    "\n",
    "The arguments to `trainNNs` are\n",
    "\n",
    "* `X` is a matrix of input data of shape `nSamples x nFeatures`\n",
    "* `T` is a matrix of target data of shape `nSamples x nOutputs`\n",
    "* `trainFraction` is fraction of samples to use as training data. 1-`trainFraction` is number of samples for testing data\n",
    "* `hiddenLayerStructures` is list of network architectures. For example, to test two networks, one with one hidden layer of 20 units, and one with 3 hidden layers with 5, 10, and 20 units in each layer, this argument would be `[[20], [5, 10, 20]]`.\n",
    "* `numberRepetitions` is number of times to train a neural network.  Calculate training and testing average performance (two separate averages) of this many training runs.\n",
    "* `numberIterations` is the number of iterations to run the scaled conjugate gradient algorithm when a neural network is trained.\n",
    "* `classify` is set to `True` if you are doing a classification problem, in which case `T` must be a single column of target class integers.\n",
    "\n",
    "This function returns `results` which is list with one element for each network structure tested.  Each element is a list containing \n",
    "\n",
    "* the hidden layer structure (as a list),\n",
    "* a list of training data performance for each repetition, \n",
    "* a list of testing data performance for each repetition, and\n",
    "* the number of seconds it took to run this many repetitions for this network structure.\n",
    "\n",
    "This function should follow these steps:\n",
    "\n",
    "  * For each network structure given in `hiddenLayerStructures`\n",
    "    * For numberRepetitions\n",
    "      * Use `ml.partition` to randomly partition X and T into training and testing sets.\n",
    "      * Create a neural network of the given structure\n",
    "      * Train it for numberIterations\n",
    "      * Use the trained network to produce outputs for the training and for the testing sets\n",
    "      * If classifying, calculate the fraction of samples incorrectly classified for training and testing sets.\n",
    "       Otherwise, calculate the RMSE of training and testing sets.\n",
    "      * Add the training and testing performance to a collection (such as a list) for this network structure\n",
    "    * Add to a collection of all results the hidden layer structure, lists of training performance and testing performance, and seconds taken to do these repetitions.\n",
    "  * return the collection of all results"
   ]
  },
  {
   "cell_type": "markdown",
   "metadata": {},
   "source": [
    "Also write the following two functions. `summarize(results)` returns a list of lists like `results` but with the list of training performances replaced by their mean and the list of testing performances replaced by their mean.   \n",
    "`bestNetwork(summary)` takes the output of `summarize(results)` and returns the best element of `results`, determined by the element that has the smallest test performance.\n",
    "\n",
    "* `summary = summarize(results)` where `results` is returned by `trainNNs` and `summary` is like `results` with the training and testing performance lists replaced by their means\n",
    "* `best = bestNetwork(summary)` where `summary` is returned by `summarize` and `best` is the best element of `summary`"
   ]
  },
  {
   "cell_type": "markdown",
   "metadata": {},
   "source": [
    "Here are the imports from the supplied code. "
   ]
  },
  {
   "cell_type": "code",
   "execution_count": 36,
   "metadata": {},
   "outputs": [],
   "source": [
    "import neuralnetworks as nn\n",
    "import scaledconjugategradient as scg\n",
    "import mlutils as ml\n",
    "import time"
   ]
  },
  {
   "cell_type": "code",
   "execution_count": 145,
   "metadata": {},
   "outputs": [],
   "source": [
    "def trainNNs(X, Y, trainFraction, hiddenLayerStructures, numberRepetitions, numberIterations, classify = False):\n",
    "    #In statistics and in the neural net code, the \"target\" matrix is Y\n",
    "    #I'm more used to this.\n",
    "    results = []\n",
    "    start = time.time()\n",
    "    for structure in hiddenLayerStructures:\n",
    "        trainedList = []\n",
    "        testedList = []\n",
    "        for _ in range(numberRepetitions):\n",
    "            #Unsure about this bad boy\n",
    "            Xtrain,Ytrain,Xtest,Ytest = ml.partition(X, Y, \n",
    "                                        (trainFraction, 1 - trainFraction), False)\n",
    "            #create nn with the right structure.\n",
    "            #initiallizes ni->columns of X\n",
    "            #             no->columns of Y\n",
    "            #             nhs->our given structure in hidden layers\n",
    "            nnet = nn.NeuralNetwork(X.shape[1], structure, Y.shape[1])\n",
    "            #Train for number of iterations.\n",
    "            nnet.train(Xtrain, Ytrain, numberIterations)\n",
    "            #collect the trained outputs with training data and test data\n",
    "            predictedYTrained = nnet.use(Xtrain)\n",
    "            predictedYTested = nnet.use(Xtest)\n",
    "            #calculate the mean standard error for these dudes.\n",
    "            rmseTrained = np.sqrt(np.mean((Ytrain - predictedYTrained) ** 2))\n",
    "            rmseTested = np.sqrt(np.mean((Ytest - predictedYTested) ** 2))\n",
    "            #could also save the residuals here and talk about trends...\n",
    "            trainedList.append(rmseTrained)\n",
    "            testedList.append(rmseTested)\n",
    "        end = time.time()\n",
    "        results.append([structure, trainedList, testedList, end - start])\n",
    "            \n",
    "    return results"
   ]
  },
  {
   "cell_type": "code",
   "execution_count": 148,
   "metadata": {},
   "outputs": [],
   "source": [
    "def linearRegression(X,Y):\n",
    "    newX = np.c_[np.ones(len(X)), X] #Adds a column of ones to the beginning for intercept.\n",
    "    #This finds the OLS estimator for the model\n",
    "    #beta = (XtX)-1XtY. Thanks cooley!\n",
    "    betas = np.linalg.inv((np.transpose(newX) @ newX)) @ np.transpose(newX) @ Y\n",
    "    # our prediction will the be Xo @ beta.\n",
    "    predictedYs = newX @ betas\n",
    "    rmse = np.sqrt(np.mean((predictedYs - Y) ** 2))\n",
    "    #sdhat         |msres~~~~~~~~~~~~~~~~~~~~~~~~~| <- actually not, should be adjusted for df.\n",
    "    return rmse, betas"
   ]
  },
  {
   "cell_type": "code",
   "execution_count": 82,
   "metadata": {},
   "outputs": [],
   "source": [
    "def summarize(results):\n",
    "    summarized = list(range(len(results)))\n",
    "    for t in range(len(results)):\n",
    "        summarized[t] = [results[t][0], np.mean(results[t][1]), np.mean(results[t][2]), results[t][3]]\n",
    "    return summarized"
   ]
  },
  {
   "cell_type": "markdown",
   "metadata": {},
   "source": [
    "## Examples\n"
   ]
  },
  {
   "cell_type": "code",
   "execution_count": 91,
   "metadata": {},
   "outputs": [],
   "source": [
    "import neuralnetworks as nn\n",
    "import numpy as np\n",
    "\n",
    "import matplotlib.pyplot as plt\n",
    "%matplotlib inline"
   ]
  },
  {
   "cell_type": "code",
   "execution_count": 92,
   "metadata": {},
   "outputs": [],
   "source": [
    "X = np.arange(10).reshape((-1,1))\n",
    "T = X + 1 + np.random.uniform(-1, 1, ((10,1)))"
   ]
  },
  {
   "cell_type": "code",
   "execution_count": 93,
   "metadata": {},
   "outputs": [],
   "source": [
    "Xtrain,Train, Xtest,Ttest =ml.partition(X, T, (0.7, 0.3), False)"
   ]
  },
  {
   "cell_type": "code",
   "execution_count": 94,
   "metadata": {},
   "outputs": [
    {
     "data": {
      "text/plain": [
       "array([[0],\n",
       "       [1],\n",
       "       [2],\n",
       "       [3],\n",
       "       [4],\n",
       "       [5],\n",
       "       [6],\n",
       "       [7],\n",
       "       [8],\n",
       "       [9]])"
      ]
     },
     "execution_count": 94,
     "metadata": {},
     "output_type": "execute_result"
    }
   ],
   "source": [
    "X"
   ]
  },
  {
   "cell_type": "code",
   "execution_count": 95,
   "metadata": {},
   "outputs": [
    {
     "name": "stdout",
     "output_type": "stream",
     "text": [
      "[[9]\n",
      " [3]\n",
      " [2]\n",
      " [1]\n",
      " [5]\n",
      " [0]\n",
      " [8]]\n",
      "[[10.08156583]\n",
      " [ 3.94074902]\n",
      " [ 3.67260616]\n",
      " [ 2.68189957]\n",
      " [ 5.2452511 ]\n",
      " [ 0.96237252]\n",
      " [ 8.2575155 ]]\n",
      "[[7]\n",
      " [4]\n",
      " [6]]\n",
      "[[7.31318444]\n",
      " [5.23176149]\n",
      " [6.0373664 ]]\n",
      "[[0]\n",
      " [1]\n",
      " [2]\n",
      " [3]\n",
      " [4]\n",
      " [5]\n",
      " [6]\n",
      " [7]\n",
      " [8]\n",
      " [9]]\n",
      "[[ 0.96237252]\n",
      " [ 2.68189957]\n",
      " [ 3.67260616]\n",
      " [ 3.94074902]\n",
      " [ 5.23176149]\n",
      " [ 5.2452511 ]\n",
      " [ 6.0373664 ]\n",
      " [ 7.31318444]\n",
      " [ 8.2575155 ]\n",
      " [10.08156583]]\n"
     ]
    }
   ],
   "source": [
    "print(Xtrain)\n",
    "print(Train)\n",
    "print(Xtest)\n",
    "print(Ttest)\n",
    "print(X)\n",
    "print(T)"
   ]
  },
  {
   "cell_type": "code",
   "execution_count": 96,
   "metadata": {},
   "outputs": [
    {
     "data": {
      "image/png": "[encoded data removed]",
      "text/plain": [
       "<Figure size 432x288 with 1 Axes>"
      ]
     },
     "metadata": {},
     "output_type": "display_data"
    }
   ],
   "source": [
    "plt.plot(X, T, 'o-');"
   ]
  },
  {
   "cell_type": "code",
   "execution_count": 97,
   "metadata": {},
   "outputs": [
    {
     "data": {
      "text/plain": [
       "array([0.70710678, 0.45315577, 0.45315577, 0.45315577, 0.45315577,\n",
       "       0.45315577, 0.45315577, 0.45315577, 0.45315577, 0.45315577,\n",
       "       0.45315577, 0.32109627, 0.20731556, 0.19909665, 0.18694897,\n",
       "       0.16497021, 0.15492585, 0.15069399, 0.15042835, 0.14958897,\n",
       "       0.14958897, 0.14958897, 0.14466271, 0.13665762, 0.13654028,\n",
       "       0.13579241, 0.1351385 , 0.13511471, 0.1336826 , 0.12911664,\n",
       "       0.12905624, 0.12889919, 0.12733917, 0.12732114, 0.12725018,\n",
       "       0.12725018, 0.12725018, 0.12725018, 0.12725018, 0.12725018,\n",
       "       0.12648971, 0.1259429 , 0.1256814 , 0.12323069, 0.12321601,\n",
       "       0.12319091, 0.12319091, 0.12319091, 0.12319091, 0.12070658,\n",
       "       0.11992406, 0.11155151, 0.11146554, 0.10884511, 0.10791718,\n",
       "       0.10258293, 0.10220629, 0.09959248, 0.09864091, 0.09847838,\n",
       "       0.0969777 , 0.09694778, 0.09694062, 0.09587707, 0.09573054,\n",
       "       0.08896351, 0.08854646, 0.08799963, 0.08702709, 0.08671193,\n",
       "       0.0866962 , 0.08644423, 0.08639028, 0.0861179 , 0.0861179 ,\n",
       "       0.0861179 , 0.0861179 , 0.0861179 , 0.0861179 , 0.0861179 ,\n",
       "       0.0861179 , 0.0861179 , 0.0861179 , 0.0861179 , 0.08451123,\n",
       "       0.08262918, 0.08102178, 0.08094104, 0.08063283, 0.08060166,\n",
       "       0.08058477, 0.08058477, 0.08058477, 0.08058477, 0.08058477,\n",
       "       0.07860583, 0.07741549, 0.07670904, 0.07669303, 0.07657224,\n",
       "       0.07646808])"
      ]
     },
     "execution_count": 97,
     "metadata": {},
     "output_type": "execute_result"
    }
   ],
   "source": [
    "nnet = nn.NeuralNetwork(X.shape[1], 2, T.shape[1])\n",
    "nnet.train(X, T, 100)\n",
    "nnet.getErrorTrace()"
   ]
  },
  {
   "cell_type": "code",
   "execution_count": 98,
   "metadata": {},
   "outputs": [
    {
     "data": {
      "text/plain": [
       "array([0.70710678, 0.69425772, 0.69425772, 0.66613965, 0.55775856,\n",
       "       0.52548919, 0.45701128, 0.34748945, 0.28199342, 0.26986647,\n",
       "       0.26980756, 0.19743313, 0.18104527, 0.15829449, 0.15415697,\n",
       "       0.15239968, 0.14352627, 0.14068017, 0.1339384 , 0.12242298,\n",
       "       0.11967939, 0.11898051, 0.11355092, 0.11354107, 0.10203384,\n",
       "       0.10004758, 0.09236223, 0.09105529, 0.08833836, 0.08833836,\n",
       "       0.08833836, 0.08833836, 0.08833836, 0.08833836, 0.08833836,\n",
       "       0.08833836, 0.08553728, 0.0793222 , 0.06956919, 0.06255614,\n",
       "       0.06198421, 0.0618505 , 0.06175368, 0.06090381, 0.06019015,\n",
       "       0.06009148, 0.05997721, 0.05994031, 0.05991478, 0.05988653,\n",
       "       0.05973474, 0.05964621, 0.05958476, 0.05946488, 0.05945814,\n",
       "       0.05940784, 0.05931977, 0.05925271, 0.05864111, 0.05824092,\n",
       "       0.05810878, 0.05805738, 0.05779261, 0.05747838, 0.05733298,\n",
       "       0.0571378 , 0.05712151, 0.05711017, 0.05708626, 0.05705812,\n",
       "       0.05691335, 0.05683117, 0.05682604, 0.05680369, 0.05677291,\n",
       "       0.05670558, 0.05629366, 0.05597183, 0.05593773, 0.05572783,\n",
       "       0.05564866, 0.05561064, 0.05552481, 0.05549914, 0.05547592,\n",
       "       0.05545401, 0.05542585, 0.05536553, 0.05518435, 0.05508878,\n",
       "       0.05508572, 0.05508434, 0.05508244, 0.05507916, 0.05507582,\n",
       "       0.05507088, 0.05506628, 0.05506261, 0.05505871, 0.05503425,\n",
       "       0.05502657])"
      ]
     },
     "execution_count": 98,
     "metadata": {},
     "output_type": "execute_result"
    }
   ],
   "source": [
    "nnet = nn.NeuralNetwork(X.shape[1], [5, 5, 5], T.shape[1])\n",
    "nnet.train(X, T, 100)\n",
    "nnet.getErrorTrace()"
   ]
  },
  {
   "cell_type": "code",
   "execution_count": 99,
   "metadata": {},
   "outputs": [
    {
     "data": {
      "text/plain": [
       "[[2,\n",
       "  [0.20280414635916938,\n",
       "   0.211326803970694,\n",
       "   0.20458206640087845,\n",
       "   0.14457685946960688,\n",
       "   0.13427591218170462],\n",
       "  [0.658112920957654,\n",
       "   1.4886035456180304,\n",
       "   0.2622510388997689,\n",
       "   0.9396065471205719,\n",
       "   0.8782995535404875],\n",
       "  0.08642578125],\n",
       " [10,\n",
       "  [0.12566286242656388,\n",
       "   0.19008449766476637,\n",
       "   0.17550166022717217,\n",
       "   0.11178817553620653,\n",
       "   0.1978853344575516],\n",
       "  [0.5109273422346328,\n",
       "   0.2947924824124047,\n",
       "   1.3627404273382693,\n",
       "   0.55496809928552,\n",
       "   0.2985201165090034],\n",
       "  0.17875385284423828],\n",
       " [[10, 10],\n",
       "  [0.177035720923999,\n",
       "   0.11292265858283106,\n",
       "   0.18929800741597963,\n",
       "   0.19567208666448552,\n",
       "   0.18763268241477393],\n",
       "  [1.3467881990451933,\n",
       "   0.5087142701467191,\n",
       "   1.0022779073810908,\n",
       "   0.4426254966447486,\n",
       "   0.38186780084719535],\n",
       "  0.30566835403442383]]"
      ]
     },
     "execution_count": 99,
     "metadata": {},
     "output_type": "execute_result"
    }
   ],
   "source": [
    "results = trainNNs(X, T, 0.8, [2, 10, [10, 10]], 5, 100, classify=False)\n",
    "results"
   ]
  },
  {
   "cell_type": "code",
   "execution_count": 100,
   "metadata": {},
   "outputs": [],
   "source": [
    "results = trainNNs(X, T, 0.8, [0, 1, 2, 10, [10, 10], [5, 5, 5, 5], [2]*5], 50, 100, classify=False)"
   ]
  },
  {
   "cell_type": "code",
   "execution_count": 101,
   "metadata": {},
   "outputs": [
    {
     "data": {
      "text/plain": [
       "[[0, 0.44950267605284083, 0.5325437338136799, 0.019112110137939453],\n",
       " [1, 0.3914888370451793, 0.8184899193289362, 0.7326905727386475],\n",
       " [2, 0.20779038055765692, 0.45552026539845225, 1.5425136089324951],\n",
       " [10, 0.16032514515990803, 0.5312072588276195, 2.4305145740509033],\n",
       " [[10, 10], 0.15397000104340738, 0.6409462646137744, 3.718287706375122],\n",
       " [[5, 5, 5, 5], 0.19307033817377117, 0.5403802177152943, 5.495914936065674],\n",
       " [[2, 2, 2, 2, 2], 0.3184487400728586, 0.6774389137047528, 7.283288955688477]]"
      ]
     },
     "execution_count": 101,
     "metadata": {},
     "output_type": "execute_result"
    }
   ],
   "source": [
    "summarize(results)"
   ]
  },
  {
   "cell_type": "code",
   "execution_count": 149,
   "metadata": {},
   "outputs": [],
   "source": [
    "model = linearRegression(X, T)"
   ]
  },
  {
   "cell_type": "code",
   "execution_count": 150,
   "metadata": {},
   "outputs": [
    {
     "data": {
      "text/plain": [
       "(0.4598025947826101, array([[1.37129217],\n",
       "        [0.88247445]]))"
      ]
     },
     "execution_count": 150,
     "metadata": {},
     "output_type": "execute_result"
    }
   ],
   "source": [
    "model"
   ]
  },
  {
   "cell_type": "markdown",
   "metadata": {},
   "source": [
    "Plotting our linear regression, which absolutely destroys the machine learning with this very linear trend. Once we go beyond one dimensional data though, it won't be so easy to graph. "
   ]
  },
  {
   "cell_type": "code",
   "execution_count": 151,
   "metadata": {},
   "outputs": [
    {
     "data": {
      "image/png": "[encoded data removed]",
      "text/plain": [
       "<Figure size 432x288 with 1 Axes>"
      ]
     },
     "metadata": {},
     "output_type": "display_data"
    }
   ],
   "source": [
    "def abline(slope, intercept):\n",
    "    #burrowed from: \n",
    "    #https://stackoverflow.com/questions/7941226/how-to-add-line-based-on-slope-and-intercept-in-matplotlib\n",
    "    \"\"\"Plot a line from slope and intercept\"\"\"\n",
    "    axes = plt.gca()\n",
    "    x_vals = np.array(axes.get_xlim())\n",
    "    y_vals = intercept + slope * x_vals\n",
    "    plt.plot(x_vals, y_vals, '--')\n",
    "\n",
    "plt.plot(X, T, \".\")\n",
    "abline(model[1][1], model[1][0])"
   ]
  },
  {
   "cell_type": "code",
   "execution_count": 102,
   "metadata": {},
   "outputs": [
    {
     "ename": "NameError",
     "evalue": "name 'bestNetwork' is not defined",
     "output_type": "error",
     "traceback": [
      "\u001b[0;31m---------------------------------------------------------------------------\u001b[0m",
      "\u001b[0;31mNameError\u001b[0m                                 Traceback (most recent call last)",
      "\u001b[0;32m<ipython-input-102-18ea513d3111>\u001b[0m in \u001b[0;36m<module>\u001b[0;34m()\u001b[0m\n\u001b[0;32m----> 1\u001b[0;31m \u001b[0mbest\u001b[0m \u001b[0;34m=\u001b[0m \u001b[0mbestNetwork\u001b[0m\u001b[0;34m(\u001b[0m\u001b[0msummarize\u001b[0m\u001b[0;34m(\u001b[0m\u001b[0mresults\u001b[0m\u001b[0;34m)\u001b[0m\u001b[0;34m)\u001b[0m\u001b[0;34m\u001b[0m\u001b[0m\n\u001b[0m\u001b[1;32m      2\u001b[0m \u001b[0mprint\u001b[0m\u001b[0;34m(\u001b[0m\u001b[0mbest\u001b[0m\u001b[0;34m)\u001b[0m\u001b[0;34m\u001b[0m\u001b[0m\n\u001b[1;32m      3\u001b[0m \u001b[0mprint\u001b[0m\u001b[0;34m(\u001b[0m\u001b[0;34m'Hidden Layers {} Average RMSE Training {:.2f} Testing {:.2f} Took {:.2f} seconds'\u001b[0m\u001b[0;34m.\u001b[0m\u001b[0mformat\u001b[0m\u001b[0;34m(\u001b[0m\u001b[0;34m*\u001b[0m\u001b[0mbest\u001b[0m\u001b[0;34m)\u001b[0m\u001b[0;34m)\u001b[0m\u001b[0;34m\u001b[0m\u001b[0m\n",
      "\u001b[0;31mNameError\u001b[0m: name 'bestNetwork' is not defined"
     ]
    }
   ],
   "source": [
    "best = bestNetwork(summarize(results))\n",
    "print(best)\n",
    "print('Hidden Layers {} Average RMSE Training {:.2f} Testing {:.2f} Took {:.2f} seconds'.format(*best))"
   ]
  },
  {
   "cell_type": "markdown",
   "metadata": {},
   "source": [
    "Hummm...neural nets with no hidden layers did best on this simple data set.  Why?  Remember what \"best\" means."
   ]
  },
  {
   "cell_type": "markdown",
   "metadata": {},
   "source": [
    "## Data for Regression Experiment\n",
    "\n",
    "From the UCI Machine Learning Repository, download the [Appliances energy prediction](http://archive.ics.uci.edu/ml/datasets/Appliances+energy+prediction) data.  You can do this by visiting the Data Folder for this data set, or just do this:\n",
    "\n",
    "     !wget http://archive.ics.uci.edu/ml/machine-learning-databases/00374/energydata_complete.csv\n",
    "\n"
   ]
  },
  {
   "cell_type": "markdown",
   "metadata": {},
   "source": [
    "Read this data into python.  One suggestion is to use the `loadtxt` function in the `numpy` package.  You may ignore the first column of each row which contains a data and time.  Also ignore the last two columns of random variables.  We will not use that in our modeling of this data.  You will also have to deal with the double quotes that surround every value in every field.  Read the first line of this file to get the names of the features.\n",
    "\n",
    "Once you have read this in correctly, you should see values like this:"
   ]
  },
  {
   "cell_type": "markdown",
   "metadata": {},
   "source": [
    "CSV reading"
   ]
  },
  {
   "cell_type": "code",
   "execution_count": 122,
   "metadata": {},
   "outputs": [],
   "source": [
    "import pandas as pd\n",
    "csv = pd.read_csv(\"energydata_complete.csv\")\n",
    "#drop unneeded columns\n",
    "csv = csv.drop(['date', 'rv1', 'rv2'], axis = 1)"
   ]
  },
  {
   "cell_type": "code",
   "execution_count": 123,
   "metadata": {
    "scrolled": false
   },
   "outputs": [
    {
     "data": {
      "text/plain": [
       "Index(['Appliances', 'lights', 'T1', 'RH_1', 'T2', 'RH_2', 'T3', 'RH_3', 'T4',\n",
       "       'RH_4', 'T5', 'RH_5', 'T6', 'RH_6', 'T7', 'RH_7', 'T8', 'RH_8', 'T9',\n",
       "       'RH_9', 'T_out', 'Press_mm_hg', 'RH_out', 'Windspeed', 'Visibility',\n",
       "       'Tdewpoint'],\n",
       "      dtype='object')"
      ]
     },
     "execution_count": 123,
     "metadata": {},
     "output_type": "execute_result"
    }
   ],
   "source": [
    "#names\n",
    "csv.columns"
   ]
  },
  {
   "cell_type": "code",
   "execution_count": 124,
   "metadata": {},
   "outputs": [
    {
     "data": {
      "text/plain": [
       "(19735, 26)"
      ]
     },
     "execution_count": 124,
     "metadata": {},
     "output_type": "execute_result"
    }
   ],
   "source": [
    "data = csv.values #.values is a numpy array! \n",
    "data.shape"
   ]
  },
  {
   "cell_type": "code",
   "execution_count": 143,
   "metadata": {},
   "outputs": [
    {
     "data": {
      "text/plain": [
       "array([[ 60.        ,  30.        ,  19.89      , ...,   7.        ,\n",
       "         63.        ,   5.3       ],\n",
       "       [ 60.        ,  30.        ,  19.89      , ...,   6.66666667,\n",
       "         59.16666667,   5.2       ],\n",
       "       [ 50.        ,  30.        ,  19.89      , ...,   6.33333333,\n",
       "         55.33333333,   5.1       ],\n",
       "       ...,\n",
       "       [270.        ,  10.        ,  25.5       , ...,   3.66666667,\n",
       "         25.33333333,  13.26666667],\n",
       "       [420.        ,  10.        ,  25.5       , ...,   3.83333333,\n",
       "         26.16666667,  13.23333333],\n",
       "       [430.        ,  10.        ,  25.5       , ...,   4.        ,\n",
       "         27.        ,  13.2       ]])"
      ]
     },
     "execution_count": 143,
     "metadata": {},
     "output_type": "execute_result"
    }
   ],
   "source": [
    "data\n"
   ]
  },
  {
   "cell_type": "code",
   "execution_count": 125,
   "metadata": {
    "scrolled": true
   },
   "outputs": [
    {
     "data": {
      "text/plain": [
       "array([[ 60.        ,  30.        ,  19.89      ,  47.59666667,\n",
       "         19.2       ,  44.79      ,  19.79      ,  44.73      ,\n",
       "         19.        ,  45.56666667,  17.16666667,  55.2       ,\n",
       "          7.02666667,  84.25666667,  17.2       ,  41.62666667,\n",
       "         18.2       ,  48.9       ,  17.03333333,  45.53      ,\n",
       "          6.6       , 733.5       ,  92.        ,   7.        ,\n",
       "         63.        ,   5.3       ],\n",
       "       [ 60.        ,  30.        ,  19.89      ,  46.69333333,\n",
       "         19.2       ,  44.7225    ,  19.79      ,  44.79      ,\n",
       "         19.        ,  45.9925    ,  17.16666667,  55.2       ,\n",
       "          6.83333333,  84.06333333,  17.2       ,  41.56      ,\n",
       "         18.2       ,  48.86333333,  17.06666667,  45.56      ,\n",
       "          6.48333333, 733.6       ,  92.        ,   6.66666667,\n",
       "         59.16666667,   5.2       ]])"
      ]
     },
     "execution_count": 125,
     "metadata": {},
     "output_type": "execute_result"
    }
   ],
   "source": [
    "data[:2,:]"
   ]
  },
  {
   "cell_type": "markdown",
   "metadata": {},
   "source": [
    "Use the first two columns, labelled `Appliances` and `lights` as the target variables, and the remaining 24 columns as the input features.  So"
   ]
  },
  {
   "cell_type": "code",
   "execution_count": 138,
   "metadata": {},
   "outputs": [],
   "source": [
    "Tenergy = data[:, :2]\n",
    "Xenergy = data[:, 2:]"
   ]
  },
  {
   "cell_type": "code",
   "execution_count": 139,
   "metadata": {},
   "outputs": [
    {
     "data": {
      "text/plain": [
       "((19735, 24), (19735, 2))"
      ]
     },
     "execution_count": 139,
     "metadata": {},
     "output_type": "execute_result"
    }
   ],
   "source": [
    "Xenergy.shape, Tenergy.shape"
   ]
  },
  {
   "cell_type": "markdown",
   "metadata": {},
   "source": [
    "If you were stuck on a desert island with a raspberry pi, this might be the fastest way to go. "
   ]
  },
  {
   "cell_type": "code",
   "execution_count": 152,
   "metadata": {},
   "outputs": [],
   "source": [
    "mod = linearRegression(Xenergy, Tenergy)"
   ]
  },
  {
   "cell_type": "code",
   "execution_count": 153,
   "metadata": {},
   "outputs": [
    {
     "data": {
      "text/plain": [
       "(67.16000985310131, array([[ 3.46616565e+01, -7.43996497e+00],\n",
       "        [ 3.87404950e-01,  4.99478315e-01],\n",
       "        [ 1.60676718e+01,  4.60447964e-01],\n",
       "        [-2.03023792e+01, -1.30706445e+00],\n",
       "        [-1.44106352e+01, -4.68988706e-01],\n",
       "        [ 2.53782507e+01, -1.58894399e-02],\n",
       "        [ 5.04805794e+00,  6.24637873e-02],\n",
       "        [ 2.97566214e+00,  3.23981594e+00],\n",
       "        [ 1.94699006e+00,  1.06951427e+00],\n",
       "        [-1.10836970e-02,  3.85602767e-03],\n",
       "        [ 2.39073626e-01,  4.88359182e-02],\n",
       "        [ 7.66167382e+00,  2.68051223e-01],\n",
       "        [ 3.47156267e-01,  2.98243731e-02],\n",
       "        [ 1.13054583e+00, -3.34818514e-01],\n",
       "        [-1.84314955e+00, -1.46848016e-01],\n",
       "        [ 1.01537621e+01,  1.00751733e+00],\n",
       "        [-5.90648932e+00, -6.20613175e-01],\n",
       "        [-2.21080671e+01, -3.12484426e+00],\n",
       "        [-1.50004806e+00, -3.03505238e-01],\n",
       "        [-1.06453244e+01, -2.07106041e-01],\n",
       "        [ 1.23031901e-01, -8.36014279e-03],\n",
       "        [-9.12029515e-01,  7.70472294e-02],\n",
       "        [ 2.12928730e+00,  2.13752603e-01],\n",
       "        [ 1.76197324e-01,  1.11212678e-02],\n",
       "        [ 5.08145346e+00,  1.37636066e-02]]))"
      ]
     },
     "execution_count": 153,
     "metadata": {},
     "output_type": "execute_result"
    }
   ],
   "source": [
    "mod"
   ]
  },
  {
   "cell_type": "code",
   "execution_count": 142,
   "metadata": {},
   "outputs": [
    {
     "ename": "NameError",
     "evalue": "name 'Xnames' is not defined",
     "output_type": "error",
     "traceback": [
      "\u001b[0;31m---------------------------------------------------------------------------\u001b[0m",
      "\u001b[0;31mNameError\u001b[0m                                 Traceback (most recent call last)",
      "\u001b[0;32m<ipython-input-142-e91d4937c5df>\u001b[0m in \u001b[0;36m<module>\u001b[0;34m()\u001b[0m\n\u001b[0;32m----> 1\u001b[0;31m \u001b[0mXnames\u001b[0m\u001b[0;34m\u001b[0m\u001b[0m\n\u001b[0m",
      "\u001b[0;31mNameError\u001b[0m: name 'Xnames' is not defined"
     ]
    }
   ],
   "source": [
    "Xnames"
   ]
  },
  {
   "cell_type": "code",
   "execution_count": 16,
   "metadata": {},
   "outputs": [
    {
     "data": {
      "text/plain": [
       "['Appliances', 'lights']"
      ]
     },
     "execution_count": 16,
     "metadata": {},
     "output_type": "execute_result"
    }
   ],
   "source": [
    "Tnames"
   ]
  },
  {
   "cell_type": "markdown",
   "metadata": {},
   "source": [
    "Train several neural networks on all of this data for 100 iterations.  Plot the error trace (nnet.getErrorTrace()) to help you decide now many iterations might be needed.  100 may not be enough.  If for your larger networks the error is still decreasing after 100 iterations you should train all nets for more than 100 iterations.\n",
    "\n",
    "Now use your `trainNNs`, `summarize`, and `bestNetwork` functions on this data to investigate various network sizes."
   ]
  },
  {
   "cell_type": "code",
   "execution_count": 146,
   "metadata": {},
   "outputs": [],
   "source": [
    "results = trainNNs(Xenergy, Tenergy, 0.8, [0, 5, [5, 5], [10, 10]], 10, 100)"
   ]
  },
  {
   "cell_type": "code",
   "execution_count": 147,
   "metadata": {},
   "outputs": [
    {
     "data": {
      "text/plain": [
       "[[0, 67.21793767485569, 66.9627160667176, 0.7804896831512451],\n",
       " [5, 65.67598237631867, 66.20311403994997, 8.233144283294678],\n",
       " [[5, 5], 64.92089874484353, 65.62523500429494, 17.32454204559326],\n",
       " [[10, 10], 63.033402062141114, 64.26937042021616, 29.92343759536743]]"
      ]
     },
     "execution_count": 147,
     "metadata": {},
     "output_type": "execute_result"
    }
   ],
   "source": [
    "summarize(results)"
   ]
  },
  {
   "cell_type": "code",
   "execution_count": 20,
   "metadata": {},
   "outputs": [
    {
     "data": {
      "text/plain": [
       "[[10, 10], 62.741905999268582, 64.979550044221469, 33.62221097946167]"
      ]
     },
     "execution_count": 20,
     "metadata": {},
     "output_type": "execute_result"
    }
   ],
   "source": [
    "bestNetwork(summarize(results))"
   ]
  },
  {
   "cell_type": "markdown",
   "metadata": {},
   "source": [
    "Test at least 10 different hidden layer structures.  Larger numbers of layers and units may do the best on training data, but not on testing data. Why?\n",
    "\n",
    "Now train another network with your best hidden layer structure on 0.8 of the data and use the trained network on the testing data (the remaining 0.2 of the date).  As before use `ml.partition` to produce the training and testing sets.\n",
    "\n",
    "For the testing data, plot the predicted and actual `Appliances` energy use, and the predicted and actual `lights` energy use, in two separate plots.  Discuss what you see."
   ]
  },
  {
   "cell_type": "markdown",
   "metadata": {},
   "source": [
    "## Data for Classification Experiment\n",
    "\n",
    "From the UCI Machine Learning Repository, download the [Anuran Calls (MFCCs)](http://archive.ics.uci.edu/ml/datasets/Anuran+Calls+%28MFCCs%29) data.  You can do this by visiting the Data Folder for this data set, or just do this:\n",
    "\n",
    "     !wget 'http://archive.ics.uci.edu/ml/machine-learning-databases/00406/Anuran Calls (MFCCs).zip'\n",
    "     !unzip Anuran*zip\n",
    "     \n",
    "Read the data in the file `Frogs_MFCCs.csv` into python.  This will be a little tricky. Each line of the file is a sample of audio features plus three columns that label the sample by family, genus, and species. We will try to predict the species.  The tricky part is that the species is given as text.  We need to convert this to a target class, as an integer. The `numpy` function `unique` will come in handy here."
   ]
  },
  {
   "cell_type": "code",
   "execution_count": 21,
   "metadata": {},
   "outputs": [
    {
     "data": {
      "text/plain": [
       "((7195, 21), (7195, 1))"
      ]
     },
     "execution_count": 21,
     "metadata": {},
     "output_type": "execute_result"
    }
   ],
   "source": [
    "Xanuran.shape, Tanuran.shape"
   ]
  },
  {
   "cell_type": "code",
   "execution_count": 22,
   "metadata": {},
   "outputs": [
    {
     "data": {
      "text/plain": [
       "array([[ 0.1529363 , -0.1055859 ,  0.20072191,  0.31720106,  0.26076385,\n",
       "         0.10094464, -0.1500626 , -0.17112763,  0.12467644,  0.18865415,\n",
       "        -0.07562172, -0.15643593,  0.08224512,  0.13575204, -0.02401665,\n",
       "        -0.10835111, -0.07762252, -0.0095678 ,  0.05768398,  0.11868014,\n",
       "         0.01403845],\n",
       "       [ 0.17153426, -0.09897474,  0.26842522,  0.33867186,  0.2683531 ,\n",
       "         0.06083509, -0.22247464, -0.20769267,  0.17088287,  0.27095828,\n",
       "        -0.09500394, -0.25434147,  0.02278623,  0.1633201 ,  0.01202228,\n",
       "        -0.09097401, -0.05650952, -0.03530336,  0.02013996,  0.08226299,\n",
       "         0.02905574]])"
      ]
     },
     "execution_count": 22,
     "metadata": {},
     "output_type": "execute_result"
    }
   ],
   "source": [
    "Xanuran[:2,:]"
   ]
  },
  {
   "cell_type": "code",
   "execution_count": 23,
   "metadata": {},
   "outputs": [
    {
     "data": {
      "text/plain": [
       "array([[0],\n",
       "       [0]])"
      ]
     },
     "execution_count": 23,
     "metadata": {},
     "output_type": "execute_result"
    }
   ],
   "source": [
    "Tanuran[:2]"
   ]
  },
  {
   "cell_type": "code",
   "execution_count": 24,
   "metadata": {},
   "outputs": [
    {
     "name": "stdout",
     "output_type": "stream",
     "text": [
      "672 samples in class 0\n",
      "3478 samples in class 1\n",
      "542 samples in class 2\n",
      "310 samples in class 3\n",
      "472 samples in class 4\n",
      "1121 samples in class 5\n",
      "270 samples in class 6\n",
      "114 samples in class 7\n",
      "68 samples in class 8\n",
      "148 samples in class 9\n"
     ]
    }
   ],
   "source": [
    "for i in range(10):\n",
    "    print('{} samples in class {}'.format(np.sum(Tanuran==i), i))"
   ]
  },
  {
   "cell_type": "code",
   "execution_count": 25,
   "metadata": {
    "collapsed": true
   },
   "outputs": [],
   "source": [
    "results = trainNNs(Xanuran, Tanuran, 0.8, [0, 5, [5, 5]], 5, 100, classify=True)"
   ]
  },
  {
   "cell_type": "code",
   "execution_count": 26,
   "metadata": {},
   "outputs": [
    {
     "data": {
      "text/plain": [
       "[[0, 0.028179291174426684, 0.034885337039610845, 2.706338405609131],\n",
       " [5, 0.035267546907574707, 0.041000694927032663, 5.346082448959351],\n",
       " [[5, 5], 0.046699096594857534, 0.057956914523974987, 6.503756046295166]]"
      ]
     },
     "execution_count": 26,
     "metadata": {},
     "output_type": "execute_result"
    }
   ],
   "source": [
    "summarize(results)"
   ]
  },
  {
   "cell_type": "code",
   "execution_count": 27,
   "metadata": {},
   "outputs": [
    {
     "data": {
      "text/plain": [
       "[0, 0.028179291174426684, 0.034885337039610845, 2.706338405609131]"
      ]
     },
     "execution_count": 27,
     "metadata": {},
     "output_type": "execute_result"
    }
   ],
   "source": [
    "bestNetwork(summarize(results))"
   ]
  },
  {
   "cell_type": "markdown",
   "metadata": {},
   "source": [
    "Now do an investigation like you did for the regression data. \n",
    "\n",
    "Test at least 10 different hidden layer structures. Then train another network with your best hidden layer structure on 0.8 of the data and use the trained network on the testing data (the remaining 0.2 of the date). \n",
    "\n",
    "Plot the predicted and actual `Species` for the testing data as an integer.  Discuss what you see."
   ]
  },
  {
   "cell_type": "markdown",
   "metadata": {},
   "source": [
    "## Grading\n",
    "\n",
    "Download [A5grader.tar](http://www.cs.colostate.edu/~anderson/cs440/notebooks/A5grader.tar) and extract `A5grader.py` from it."
   ]
  },
  {
   "cell_type": "code",
   "execution_count": 27,
   "metadata": {
    "scrolled": true
   },
   "outputs": [
    {
     "name": "stdout",
     "output_type": "stream",
     "text": [
      "\n",
      "======================= Code Execution =======================\n",
      "\n",
      "\n",
      "Testing summarize([[[1,1], [1.2, 1.3, 1.4], [2.2, 2.3, 2.4], 0.5], [[2,2,2], [4.4, 4.3, 4.2], [6.5, 6.4, 6.3], 0.6]])\n",
      "\n",
      "--- 10/10 points. Correctly returned [[[1, 1], 1.3, 2.3000000000000003, 0.5], [[2, 2, 2], 4.3, 6.3999999999999995, 0.6]]\n",
      "\n",
      "Testing bestNetwork([[[1, 1], 1.3, 2.3, 0.5], [[2, 2, 2], 4.3, 1.3, 0.6]])\n",
      "\n",
      "--- 10/10 points. Correctly returned [[2, 2, 2], 4.3, 1.3, 0.6]\n",
      "\n",
      "X = np.random.uniform(-1, 1, (100, 3))\n",
      "T = np.hstack(((X**2 - 0.2*X**3).sum(axis=1,keepdims=True),\n",
      "               (np.sin(X)).sum(axis=1,keepdims=True)))\n",
      "result = trainNNs(X, T, 0.7, [0, 5, 10, [20, 20]], 10, 100, False)\n",
      "\n",
      "--- 20/20 points. Correct.\n",
      "\n",
      "Testing bestNetwork(summarize(result))\n",
      "\n",
      "--- 20/20 points. You correctly found that network [20, 20] is best.\n",
      "\n",
      "A5 Execution Grade is 60 / 60\n",
      "\n",
      "======================= The regression data set =======================\n",
      "\n",
      "--- _ / 5 points. Read the data in energydata_complete.csv into variables Xenergy and Tenergy.\n",
      "\n",
      "--- _ / 5 points. Train some networks by calling the NeuralNetwork constructor and train method and plot the error trace to help you decide now many iterations might be needed.\n",
      "\n",
      "--- _ / 5 points. Try at least 10 different hidden layer structures using trainNNs.\n",
      "\n",
      "--- _ / 5 points. Train another network with your best hidden layer structure on 0.8 of the data and test it on remaining 0.2 of the data. Plot the predicted and actual Appliances energy use, and the predicted and actual lights energy use, in two separate plots. Discuss what you see.\n",
      "\n",
      "======================= Classification data set =======================\n",
      "\n",
      "--- _ / 5 points. Read the data in Frogs_MFCCs.csv into variables Xanuran and Tanuran.\n",
      "\n",
      "--- _ / 5 points. Train some networks by calling the NeuralNetwork constructor and train method and plot the error trace to help you decide now many iterations might be needed.\n",
      "\n",
      "--- _ / 5 points. Try at least 10 different hidden layer structures using trainNNs.\n",
      "\n",
      "--- _ / 5 points. Train another network with your best hidden layer structure on 0.8 of the data and test it on remaining 0.2 of the data. Plot the predicted and actual class labels. Discuss what you see.\n",
      "\n",
      "A5 Notebook Grade is   / 40\n",
      "\n",
      "A5 FINAL GRADE is  / 100\n",
      "\n",
      "\n",
      "A5 EXTRA CREDIT is  / 1\n"
     ]
    }
   ],
   "source": [
    "%run -i \"A5grader.py\""
   ]
  },
  {
   "cell_type": "markdown",
   "metadata": {},
   "source": [
    "## Check-in"
   ]
  },
  {
   "cell_type": "markdown",
   "metadata": {},
   "source": [
    "Do not include this section in your notebook.\n",
    "\n",
    "Name your notebook ```Lastname-A5.ipynb```.  So, for me it would be ```Anderson-A5.ipynb```.  Submit the file using the ```Assignment 5``` link on [Canvas](https://colostate.instructure.com/courses/68135)."
   ]
  },
  {
   "cell_type": "markdown",
   "metadata": {},
   "source": [
    "## Extra Credit\n",
    "\n",
    "  2. Repeat the above regression and classification experiments with a second regression data set and a second classification data set.\n",
    "  \n",
    "  2. Since you are collecting the performance of all repetitions for each network structure, you can calculate a confidence interval about the mean, to help judge significant differences. Do this for either the regression or the classification data and plot the mean test performance with confidence intervals for each network structure tested.  Discuss the statistical significance of the differences among the means.  One website I found to help with this is the site [Correct way to obtain confidence interval with scipy](https://stackoverflow.com/questions/28242593/correct-way-to-obtain-confidence-interval-with-scipy).\n",
    "  \n"
   ]
  }
 ],
 "metadata": {
  "anaconda-cloud": {},
  "kernelspec": {
   "display_name": "Python 3",
   "language": "python",
   "name": "python3"
  },
  "language_info": {
   "codemirror_mode": {
    "name": "ipython",
    "version": 3
   },
   "file_extension": ".py",
   "mimetype": "text/x-python",
   "name": "python",
   "nbconvert_exporter": "python",
   "pygments_lexer": "ipython3",
   "version": "3.6.5"
  },
  "toc": {
   "nav_menu": {},
   "number_sections": true,
   "sideBar": true,
   "skip_h1_title": false,
   "toc_cell": false,
   "toc_position": {},
   "toc_section_display": "block",
   "toc_window_display": false
  }
 },
 "nbformat": 4,
 "nbformat_minor": 1
}
