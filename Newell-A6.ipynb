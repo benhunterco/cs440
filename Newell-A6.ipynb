{
 "cells": [
  {
   "cell_type": "markdown",
   "metadata": {},
   "source": [
    "$\\newcommand{\\xv}{\\mathbf{x}}\n",
    "\\newcommand{\\Xv}{\\mathbf{X}}\n",
    "\\newcommand{\\yv}{\\mathbf{y}}\n",
    "\\newcommand{\\zv}{\\mathbf{z}}\n",
    "\\newcommand{\\av}{\\mathbf{a}}\n",
    "\\newcommand{\\Wv}{\\mathbf{W}}\n",
    "\\newcommand{\\wv}{\\mathbf{w}}\n",
    "\\newcommand{\\tv}{\\mathbf{t}}\n",
    "\\newcommand{\\Tv}{\\mathbf{T}}\n",
    "\\newcommand{\\muv}{\\boldsymbol{\\mu}}\n",
    "\\newcommand{\\sigmav}{\\boldsymbol{\\sigma}}\n",
    "\\newcommand{\\phiv}{\\boldsymbol{\\phi}}\n",
    "\\newcommand{\\Phiv}{\\boldsymbol{\\Phi}}\n",
    "\\newcommand{\\Sigmav}{\\boldsymbol{\\Sigma}}\n",
    "\\newcommand{\\Lambdav}{\\boldsymbol{\\Lambda}}\n",
    "\\newcommand{\\half}{\\frac{1}{2}}\n",
    "\\newcommand{\\argmax}[1]{\\underset{#1}{\\operatorname{argmax}}}\n",
    "\\newcommand{\\argmin}[1]{\\underset{#1}{\\operatorname{argmin}}}$"
   ]
  },
  {
   "cell_type": "markdown",
   "metadata": {},
   "source": [
    "# Assignment 6: Min-Conflicts"
   ]
  },
  {
   "cell_type": "markdown",
   "metadata": {},
   "source": [
    "*Ben Newell*"
   ]
  },
  {
   "cell_type": "markdown",
   "metadata": {},
   "source": [
    "## Given Functions\n",
    "\n",
    "These functions were given and described in class. They are included here to for the implemented code to function properly. "
   ]
  },
  {
   "cell_type": "code",
   "execution_count": 2,
   "metadata": {},
   "outputs": [],
   "source": [
    "import random\n",
    "\n",
    "def min_conflicts(vars, domains, constraints, neighbors, max_steps=1000): \n",
    "    \"\"\"Solve a CSP by stochastic hillclimbing on the number of conflicts.\"\"\"\n",
    "    # Generate a complete assignment for all vars (probably with conflicts)\n",
    "    current = {}\n",
    "    for var in vars:\n",
    "        val = min_conflicts_value(var, current, domains, constraints, neighbors)\n",
    "        current[var] = val\n",
    "    # Now repeatedly choose a random conflicted variable and change it\n",
    "    for i in range(max_steps):\n",
    "        conflicted = conflicted_vars(current,vars,constraints,neighbors)\n",
    "        if not conflicted:\n",
    "            return (current,i)\n",
    "        var = random.choice(conflicted)\n",
    "        val = min_conflicts_value(var, current, domains, constraints, neighbors)\n",
    "        current[var] = val\n",
    "    return (None,None)"
   ]
  },
  {
   "cell_type": "code",
   "execution_count": 3,
   "metadata": {},
   "outputs": [],
   "source": [
    "def min_conflicts_value(var, current, domains, constraints, neighbors):\n",
    "    \"\"\"Return the value that will give var the least number of conflicts.\n",
    "    If there is a tie, choose at random.\"\"\"\n",
    "    return argmin_random_tie(domains[var],\n",
    "                             lambda val: nconflicts(var, val, current, constraints, neighbors)) "
   ]
  },
  {
   "cell_type": "code",
   "execution_count": 4,
   "metadata": {},
   "outputs": [],
   "source": [
    "def conflicted_vars(current,vars,constraints,neighbors):\n",
    "    \"Return a list of variables in current assignment that are in conflict\"\n",
    "    return [var for var in vars\n",
    "            if nconflicts(var, current[var], current, constraints, neighbors) > 0]"
   ]
  },
  {
   "cell_type": "code",
   "execution_count": 5,
   "metadata": {},
   "outputs": [],
   "source": [
    "def nconflicts(var, val, assignment, constraints, neighbors):\n",
    "    \"Return the number of conflicts var=val has with other variables.\"\n",
    "    # Subclasses may implement this more efficiently\n",
    "    def conflict(var2):\n",
    "        val2 = assignment.get(var2, None)\n",
    "        return val2 != None and not constraints(var, val, var2, val2)\n",
    "    return len(list(filter(conflict, neighbors[var])))"
   ]
  },
  {
   "cell_type": "code",
   "execution_count": 6,
   "metadata": {},
   "outputs": [],
   "source": [
    "def argmin_random_tie(seq, fn):\n",
    "    \"\"\"Return an element with lowest fn(seq[i]) score; break ties at random.\n",
    "    Thus, for all s,f: argmin_random_tie(s, f) in argmin_list(s, f)\"\"\"\n",
    "    best_score = fn(seq[0]); n = 0\n",
    "    for x in seq:\n",
    "        x_score = fn(x)\n",
    "        if x_score < best_score:\n",
    "            best, best_score = x, x_score; n = 1\n",
    "        elif x_score == best_score:\n",
    "            n += 1\n",
    "            if random.randrange(n) == 0:\n",
    "                    best = x\n",
    "    return best"
   ]
  },
  {
   "cell_type": "markdown",
   "metadata": {},
   "source": [
    "## Implemented Functions"
   ]
  },
  {
   "cell_type": "markdown",
   "metadata": {},
   "source": [
    "`build_tuples` is a helper function for `schedule`. It takes a list of times and a list of rooms and builds a list containing each combination of times and rooms. "
   ]
  },
  {
   "cell_type": "code",
   "execution_count": 7,
   "metadata": {},
   "outputs": [],
   "source": [
    "def build_tuples(times, rooms):\n",
    "    retlist = []\n",
    "    for t in times:\n",
    "        for r in rooms:\n",
    "            retlist.append((r,t))\n",
    "    return retlist"
   ]
  },
  {
   "cell_type": "markdown",
   "metadata": {},
   "source": [
    "First, `schedule` builds the list of domains. This is simply all the possible combinations of times and rooms that is built by `build_tuples`. Then it creates the domains dictionary by giving this list to each class as a key to a dictionary. The neighbors dictionary is then created where each class is a key that has every other class as a neighbor in its value list. Finally, `min_conflicts` is called which returns a non-conflicting solution if one is found."
   ]
  },
  {
   "cell_type": "code",
   "execution_count": 8,
   "metadata": {},
   "outputs": [],
   "source": [
    "def schedule(classes, times, rooms, max_steps):\n",
    "    #classes are your variables\n",
    "    # times and rooms are your domains, these are the things constraints ok checkts\n",
    "    #max_steps is the time to run the min_constraints.\n",
    "    \n",
    "    #build full list of tuples.\n",
    "    domainList = build_tuples(times, rooms)\n",
    "\n",
    "    # create domains. To start, each class has each room and time\n",
    "    domains = {key: domainList for key in classes} \n",
    "    \n",
    "    #create neighbors\n",
    "    neighbors = {key: [c for c in classes if c != key] for key in classes}\n",
    "    \n",
    "    solution, steps = min_conflicts(classes, domains, constraints_ok, neighbors, max_steps)\n",
    "    \n",
    "    return solution, steps"
   ]
  },
  {
   "cell_type": "markdown",
   "metadata": {},
   "source": [
    "`constraints_ok` takes a two class value pairs and compares them to see if they have any scheduling conflicts. First it checks to see whether the classes occur at the same time. If they don't then there cannot be a conflict, so True is returned. Then it checks two conditions at once. One is valid for all classes, if they occur at the same time and the same room, then there is a conflict so the function returns false. In addition, it checks to see whether the third digit, which indicates the class level, is the same. If it is, then the the constraints are broken so False is returned. If both of these constraints are passed, the we return True."
   ]
  },
  {
   "cell_type": "code",
   "execution_count": 9,
   "metadata": {},
   "outputs": [],
   "source": [
    "def constraints_ok(class_name_1, value_1, class_name_2, value_2):\n",
    "    ##class_name_1&2 are just string names.\n",
    "    ##value_1&2 are tuples of (class name, time). Both strings\n",
    "    class1_room, class1_time = value_1\n",
    "    class2_room, class2_time = value_2\n",
    "    \n",
    "    ##should we check to see if names are the same? that doesn't violate constraints.\n",
    "    ##Can't be in the same room at the same time. True for everyone.\n",
    "    if (class1_time != class2_time):\n",
    "        #we're good no matter what in this case.\n",
    "        return True\n",
    "    ##classes with the same first digit cannot be at the same time. \n",
    "    elif (class1_room != class2_room and class_name_1[2] != class_name_2[2]):\n",
    "        #in this case their in different rooms, so same time is ok unless they have same level\n",
    "        return True\n",
    "    \n",
    "    \n",
    "    return False"
   ]
  },
  {
   "cell_type": "markdown",
   "metadata": {},
   "source": [
    "The `display` function takes the assignments result from `schedule` along with a list of room and times and displays them in a reasonable manner. It uses format strings to adapt to the number of rooms and times passed in and display them in a reasonable way. "
   ]
  },
  {
   "cell_type": "code",
   "execution_count": 137,
   "metadata": {},
   "outputs": [],
   "source": [
    "def display(assignments, rooms, times):\n",
    "    length = len(rooms)\n",
    "    print('   ',('   {} '*length).format(*rooms))\n",
    "    print('---' + '-----------' * length)\n",
    "    for t in times:\n",
    "        classes = [class_number for class_number,pair in assignments.items() if pair[1] == t]\n",
    "        print(t + ('   {}   '*len(classes)).format(*classes))\n",
    "        #print(classes)"
   ]
  },
  {
   "cell_type": "markdown",
   "metadata": {},
   "source": [
    "### Extra Credit Functions\n",
    "\n",
    "This will prefer a solution that has later meeting times and schedules the entry level classes around one and two.\n"
   ]
  },
  {
   "cell_type": "markdown",
   "metadata": {},
   "source": [
    "`schedule_advanced` works by calling schedule for `max_tries` and keeping track of whichever trial has the lowest number of the violated preferences (specific meeting times). "
   ]
  },
  {
   "cell_type": "code",
   "execution_count": 117,
   "metadata": {},
   "outputs": [],
   "source": [
    "def schedule_advanced(classes, times, rooms, max_steps, max_tries):\n",
    "    # call schedule and get the returns\n",
    "    best_schedule, best_steps = schedule(classes, times, rooms, max_steps)\n",
    "    min_count = preference_count(best_schedule)\n",
    "    # min solution is set to that one.\n",
    "    # min bad things is set to bad_things(schedule)\n",
    "    # for number of steps\n",
    "    for _ in range(max_tries):\n",
    "        new_schedule, new_steps = schedule(classes, times, rooms, max_steps)\n",
    "        new_count = preference_count(new_schedule)\n",
    "        if new_count < min_count:\n",
    "            best_schedule = new_schedule\n",
    "            min_count = new_count\n",
    "            best_steps = new_steps\n",
    "    return best_schedule, best_steps\n",
    "    # if min bad things > badThings[step], replace"
   ]
  },
  {
   "cell_type": "markdown",
   "metadata": {},
   "source": [
    "`preference_count` returns the number of special preferences violated by a given schedule. It goes through each class's meeting time and checks to see whether it occurs early or late or a lunch because people prefere not to have classes at these times. Then it has a special preference for scheduling the intro level classes during the middle of the day so it is easier for students to fit them in. After counting all of these, it returns the count. "
   ]
  },
  {
   "cell_type": "code",
   "execution_count": 127,
   "metadata": {},
   "outputs": [],
   "source": [
    "def preference_count(schedule):\n",
    "    #returns a count of violated preference.\n",
    "    count = 0\n",
    "    # count each class that occurs at 9, 12 or 4.\n",
    "    for class_name in schedule:\n",
    "        _, time = schedule[class_name]\n",
    "\n",
    "        if time == \" 9 am\" or time == \"12 pm\" or time == \" 4 pm\":\n",
    "            count += 1\n",
    "        if class_name == \"CS163\" or class_name == \"CS164\":\n",
    "            if not (time == \" 1 pm\" or time == \" 2 pm\"):\n",
    "                count += 1\n",
    "    return count\n",
    "        \n",
    "    # do not count if CS163 and CS164 meeting at 1 pm or 2 pm, otherwise count for each non occurance."
   ]
  },
  {
   "cell_type": "markdown",
   "metadata": {},
   "source": [
    "## Testing "
   ]
  },
  {
   "cell_type": "markdown",
   "metadata": {},
   "source": [
    "Testing `constraints_ok`"
   ]
  },
  {
   "cell_type": "code",
   "execution_count": 141,
   "metadata": {},
   "outputs": [
    {
     "name": "stdout",
     "output_type": "stream",
     "text": [
      "constraints_ok passed all tests!\n"
     ]
    }
   ],
   "source": [
    "assert(not constraints_ok(\"CS160\", (\"CLARK 101\", '9 am'), \"CS200\", (\"CLARK 101\", '9 am')))\n",
    "assert(not constraints_ok(\"CS160\", (\"CLARK 101\", '9 am'), \"CS161\", (\"CSB130\", '9 am')))\n",
    "assert(constraints_ok(\"CS160\", (\"CLARK 101\", '9 am'), \"CS161\", (\"CSB130\", '8 am')))\n",
    "assert(constraints_ok(\"CS160\", (\"CLARK 101\", '9 am'), \"CS270\", (\"CSB130\", '9 am')))\n",
    "print(\"constraints_ok passed all tests!\")"
   ]
  },
  {
   "cell_type": "markdown",
   "metadata": {},
   "source": [
    "Testing `build_tuples`"
   ]
  },
  {
   "cell_type": "code",
   "execution_count": 142,
   "metadata": {},
   "outputs": [
    {
     "data": {
      "text/plain": [
       "{'CS160': [('CSB 130', ' 9 am'),\n",
       "  ('CSB 325', ' 9 am'),\n",
       "  ('CSB 425', ' 9 am'),\n",
       "  ('CSB 130', '10 am'),\n",
       "  ('CSB 325', '10 am'),\n",
       "  ('CSB 425', '10 am'),\n",
       "  ('CSB 130', '11 am'),\n",
       "  ('CSB 325', '11 am'),\n",
       "  ('CSB 425', '11 am'),\n",
       "  ('CSB 130', '12 pm'),\n",
       "  ('CSB 325', '12 pm'),\n",
       "  ('CSB 425', '12 pm'),\n",
       "  ('CSB 130', ' 1 pm'),\n",
       "  ('CSB 325', ' 1 pm'),\n",
       "  ('CSB 425', ' 1 pm'),\n",
       "  ('CSB 130', ' 2 pm'),\n",
       "  ('CSB 325', ' 2 pm'),\n",
       "  ('CSB 425', ' 2 pm'),\n",
       "  ('CSB 130', ' 3 pm'),\n",
       "  ('CSB 325', ' 3 pm'),\n",
       "  ('CSB 425', ' 3 pm'),\n",
       "  ('CSB 130', ' 4 pm'),\n",
       "  ('CSB 325', ' 4 pm'),\n",
       "  ('CSB 425', ' 4 pm')],\n",
       " 'CS163': [('CSB 130', ' 9 am'),\n",
       "  ('CSB 325', ' 9 am'),\n",
       "  ('CSB 425', ' 9 am'),\n",
       "  ('CSB 130', '10 am'),\n",
       "  ('CSB 325', '10 am'),\n",
       "  ('CSB 425', '10 am'),\n",
       "  ('CSB 130', '11 am'),\n",
       "  ('CSB 325', '11 am'),\n",
       "  ('CSB 425', '11 am'),\n",
       "  ('CSB 130', '12 pm'),\n",
       "  ('CSB 325', '12 pm'),\n",
       "  ('CSB 425', '12 pm'),\n",
       "  ('CSB 130', ' 1 pm'),\n",
       "  ('CSB 325', ' 1 pm'),\n",
       "  ('CSB 425', ' 1 pm'),\n",
       "  ('CSB 130', ' 2 pm'),\n",
       "  ('CSB 325', ' 2 pm'),\n",
       "  ('CSB 425', ' 2 pm'),\n",
       "  ('CSB 130', ' 3 pm'),\n",
       "  ('CSB 325', ' 3 pm'),\n",
       "  ('CSB 425', ' 3 pm'),\n",
       "  ('CSB 130', ' 4 pm'),\n",
       "  ('CSB 325', ' 4 pm'),\n",
       "  ('CSB 425', ' 4 pm')],\n",
       " 'CS164': [('CSB 130', ' 9 am'),\n",
       "  ('CSB 325', ' 9 am'),\n",
       "  ('CSB 425', ' 9 am'),\n",
       "  ('CSB 130', '10 am'),\n",
       "  ('CSB 325', '10 am'),\n",
       "  ('CSB 425', '10 am'),\n",
       "  ('CSB 130', '11 am'),\n",
       "  ('CSB 325', '11 am'),\n",
       "  ('CSB 425', '11 am'),\n",
       "  ('CSB 130', '12 pm'),\n",
       "  ('CSB 325', '12 pm'),\n",
       "  ('CSB 425', '12 pm'),\n",
       "  ('CSB 130', ' 1 pm'),\n",
       "  ('CSB 325', ' 1 pm'),\n",
       "  ('CSB 425', ' 1 pm'),\n",
       "  ('CSB 130', ' 2 pm'),\n",
       "  ('CSB 325', ' 2 pm'),\n",
       "  ('CSB 425', ' 2 pm'),\n",
       "  ('CSB 130', ' 3 pm'),\n",
       "  ('CSB 325', ' 3 pm'),\n",
       "  ('CSB 425', ' 3 pm'),\n",
       "  ('CSB 130', ' 4 pm'),\n",
       "  ('CSB 325', ' 4 pm'),\n",
       "  ('CSB 425', ' 4 pm')],\n",
       " 'CS220': [('CSB 130', ' 9 am'),\n",
       "  ('CSB 325', ' 9 am'),\n",
       "  ('CSB 425', ' 9 am'),\n",
       "  ('CSB 130', '10 am'),\n",
       "  ('CSB 325', '10 am'),\n",
       "  ('CSB 425', '10 am'),\n",
       "  ('CSB 130', '11 am'),\n",
       "  ('CSB 325', '11 am'),\n",
       "  ('CSB 425', '11 am'),\n",
       "  ('CSB 130', '12 pm'),\n",
       "  ('CSB 325', '12 pm'),\n",
       "  ('CSB 425', '12 pm'),\n",
       "  ('CSB 130', ' 1 pm'),\n",
       "  ('CSB 325', ' 1 pm'),\n",
       "  ('CSB 425', ' 1 pm'),\n",
       "  ('CSB 130', ' 2 pm'),\n",
       "  ('CSB 325', ' 2 pm'),\n",
       "  ('CSB 425', ' 2 pm'),\n",
       "  ('CSB 130', ' 3 pm'),\n",
       "  ('CSB 325', ' 3 pm'),\n",
       "  ('CSB 425', ' 3 pm'),\n",
       "  ('CSB 130', ' 4 pm'),\n",
       "  ('CSB 325', ' 4 pm'),\n",
       "  ('CSB 425', ' 4 pm')],\n",
       " 'CS270': [('CSB 130', ' 9 am'),\n",
       "  ('CSB 325', ' 9 am'),\n",
       "  ('CSB 425', ' 9 am'),\n",
       "  ('CSB 130', '10 am'),\n",
       "  ('CSB 325', '10 am'),\n",
       "  ('CSB 425', '10 am'),\n",
       "  ('CSB 130', '11 am'),\n",
       "  ('CSB 325', '11 am'),\n",
       "  ('CSB 425', '11 am'),\n",
       "  ('CSB 130', '12 pm'),\n",
       "  ('CSB 325', '12 pm'),\n",
       "  ('CSB 425', '12 pm'),\n",
       "  ('CSB 130', ' 1 pm'),\n",
       "  ('CSB 325', ' 1 pm'),\n",
       "  ('CSB 425', ' 1 pm'),\n",
       "  ('CSB 130', ' 2 pm'),\n",
       "  ('CSB 325', ' 2 pm'),\n",
       "  ('CSB 425', ' 2 pm'),\n",
       "  ('CSB 130', ' 3 pm'),\n",
       "  ('CSB 325', ' 3 pm'),\n",
       "  ('CSB 425', ' 3 pm'),\n",
       "  ('CSB 130', ' 4 pm'),\n",
       "  ('CSB 325', ' 4 pm'),\n",
       "  ('CSB 425', ' 4 pm')],\n",
       " 'CS253': [('CSB 130', ' 9 am'),\n",
       "  ('CSB 325', ' 9 am'),\n",
       "  ('CSB 425', ' 9 am'),\n",
       "  ('CSB 130', '10 am'),\n",
       "  ('CSB 325', '10 am'),\n",
       "  ('CSB 425', '10 am'),\n",
       "  ('CSB 130', '11 am'),\n",
       "  ('CSB 325', '11 am'),\n",
       "  ('CSB 425', '11 am'),\n",
       "  ('CSB 130', '12 pm'),\n",
       "  ('CSB 325', '12 pm'),\n",
       "  ('CSB 425', '12 pm'),\n",
       "  ('CSB 130', ' 1 pm'),\n",
       "  ('CSB 325', ' 1 pm'),\n",
       "  ('CSB 425', ' 1 pm'),\n",
       "  ('CSB 130', ' 2 pm'),\n",
       "  ('CSB 325', ' 2 pm'),\n",
       "  ('CSB 425', ' 2 pm'),\n",
       "  ('CSB 130', ' 3 pm'),\n",
       "  ('CSB 325', ' 3 pm'),\n",
       "  ('CSB 425', ' 3 pm'),\n",
       "  ('CSB 130', ' 4 pm'),\n",
       "  ('CSB 325', ' 4 pm'),\n",
       "  ('CSB 425', ' 4 pm')],\n",
       " 'CS320': [('CSB 130', ' 9 am'),\n",
       "  ('CSB 325', ' 9 am'),\n",
       "  ('CSB 425', ' 9 am'),\n",
       "  ('CSB 130', '10 am'),\n",
       "  ('CSB 325', '10 am'),\n",
       "  ('CSB 425', '10 am'),\n",
       "  ('CSB 130', '11 am'),\n",
       "  ('CSB 325', '11 am'),\n",
       "  ('CSB 425', '11 am'),\n",
       "  ('CSB 130', '12 pm'),\n",
       "  ('CSB 325', '12 pm'),\n",
       "  ('CSB 425', '12 pm'),\n",
       "  ('CSB 130', ' 1 pm'),\n",
       "  ('CSB 325', ' 1 pm'),\n",
       "  ('CSB 425', ' 1 pm'),\n",
       "  ('CSB 130', ' 2 pm'),\n",
       "  ('CSB 325', ' 2 pm'),\n",
       "  ('CSB 425', ' 2 pm'),\n",
       "  ('CSB 130', ' 3 pm'),\n",
       "  ('CSB 325', ' 3 pm'),\n",
       "  ('CSB 425', ' 3 pm'),\n",
       "  ('CSB 130', ' 4 pm'),\n",
       "  ('CSB 325', ' 4 pm'),\n",
       "  ('CSB 425', ' 4 pm')],\n",
       " 'CS314': [('CSB 130', ' 9 am'),\n",
       "  ('CSB 325', ' 9 am'),\n",
       "  ('CSB 425', ' 9 am'),\n",
       "  ('CSB 130', '10 am'),\n",
       "  ('CSB 325', '10 am'),\n",
       "  ('CSB 425', '10 am'),\n",
       "  ('CSB 130', '11 am'),\n",
       "  ('CSB 325', '11 am'),\n",
       "  ('CSB 425', '11 am'),\n",
       "  ('CSB 130', '12 pm'),\n",
       "  ('CSB 325', '12 pm'),\n",
       "  ('CSB 425', '12 pm'),\n",
       "  ('CSB 130', ' 1 pm'),\n",
       "  ('CSB 325', ' 1 pm'),\n",
       "  ('CSB 425', ' 1 pm'),\n",
       "  ('CSB 130', ' 2 pm'),\n",
       "  ('CSB 325', ' 2 pm'),\n",
       "  ('CSB 425', ' 2 pm'),\n",
       "  ('CSB 130', ' 3 pm'),\n",
       "  ('CSB 325', ' 3 pm'),\n",
       "  ('CSB 425', ' 3 pm'),\n",
       "  ('CSB 130', ' 4 pm'),\n",
       "  ('CSB 325', ' 4 pm'),\n",
       "  ('CSB 425', ' 4 pm')],\n",
       " 'CS356': [('CSB 130', ' 9 am'),\n",
       "  ('CSB 325', ' 9 am'),\n",
       "  ('CSB 425', ' 9 am'),\n",
       "  ('CSB 130', '10 am'),\n",
       "  ('CSB 325', '10 am'),\n",
       "  ('CSB 425', '10 am'),\n",
       "  ('CSB 130', '11 am'),\n",
       "  ('CSB 325', '11 am'),\n",
       "  ('CSB 425', '11 am'),\n",
       "  ('CSB 130', '12 pm'),\n",
       "  ('CSB 325', '12 pm'),\n",
       "  ('CSB 425', '12 pm'),\n",
       "  ('CSB 130', ' 1 pm'),\n",
       "  ('CSB 325', ' 1 pm'),\n",
       "  ('CSB 425', ' 1 pm'),\n",
       "  ('CSB 130', ' 2 pm'),\n",
       "  ('CSB 325', ' 2 pm'),\n",
       "  ('CSB 425', ' 2 pm'),\n",
       "  ('CSB 130', ' 3 pm'),\n",
       "  ('CSB 325', ' 3 pm'),\n",
       "  ('CSB 425', ' 3 pm'),\n",
       "  ('CSB 130', ' 4 pm'),\n",
       "  ('CSB 325', ' 4 pm'),\n",
       "  ('CSB 425', ' 4 pm')],\n",
       " 'CS370': [('CSB 130', ' 9 am'),\n",
       "  ('CSB 325', ' 9 am'),\n",
       "  ('CSB 425', ' 9 am'),\n",
       "  ('CSB 130', '10 am'),\n",
       "  ('CSB 325', '10 am'),\n",
       "  ('CSB 425', '10 am'),\n",
       "  ('CSB 130', '11 am'),\n",
       "  ('CSB 325', '11 am'),\n",
       "  ('CSB 425', '11 am'),\n",
       "  ('CSB 130', '12 pm'),\n",
       "  ('CSB 325', '12 pm'),\n",
       "  ('CSB 425', '12 pm'),\n",
       "  ('CSB 130', ' 1 pm'),\n",
       "  ('CSB 325', ' 1 pm'),\n",
       "  ('CSB 425', ' 1 pm'),\n",
       "  ('CSB 130', ' 2 pm'),\n",
       "  ('CSB 325', ' 2 pm'),\n",
       "  ('CSB 425', ' 2 pm'),\n",
       "  ('CSB 130', ' 3 pm'),\n",
       "  ('CSB 325', ' 3 pm'),\n",
       "  ('CSB 425', ' 3 pm'),\n",
       "  ('CSB 130', ' 4 pm'),\n",
       "  ('CSB 325', ' 4 pm'),\n",
       "  ('CSB 425', ' 4 pm')],\n",
       " 'CS410': [('CSB 130', ' 9 am'),\n",
       "  ('CSB 325', ' 9 am'),\n",
       "  ('CSB 425', ' 9 am'),\n",
       "  ('CSB 130', '10 am'),\n",
       "  ('CSB 325', '10 am'),\n",
       "  ('CSB 425', '10 am'),\n",
       "  ('CSB 130', '11 am'),\n",
       "  ('CSB 325', '11 am'),\n",
       "  ('CSB 425', '11 am'),\n",
       "  ('CSB 130', '12 pm'),\n",
       "  ('CSB 325', '12 pm'),\n",
       "  ('CSB 425', '12 pm'),\n",
       "  ('CSB 130', ' 1 pm'),\n",
       "  ('CSB 325', ' 1 pm'),\n",
       "  ('CSB 425', ' 1 pm'),\n",
       "  ('CSB 130', ' 2 pm'),\n",
       "  ('CSB 325', ' 2 pm'),\n",
       "  ('CSB 425', ' 2 pm'),\n",
       "  ('CSB 130', ' 3 pm'),\n",
       "  ('CSB 325', ' 3 pm'),\n",
       "  ('CSB 425', ' 3 pm'),\n",
       "  ('CSB 130', ' 4 pm'),\n",
       "  ('CSB 325', ' 4 pm'),\n",
       "  ('CSB 425', ' 4 pm')],\n",
       " 'CS414': [('CSB 130', ' 9 am'),\n",
       "  ('CSB 325', ' 9 am'),\n",
       "  ('CSB 425', ' 9 am'),\n",
       "  ('CSB 130', '10 am'),\n",
       "  ('CSB 325', '10 am'),\n",
       "  ('CSB 425', '10 am'),\n",
       "  ('CSB 130', '11 am'),\n",
       "  ('CSB 325', '11 am'),\n",
       "  ('CSB 425', '11 am'),\n",
       "  ('CSB 130', '12 pm'),\n",
       "  ('CSB 325', '12 pm'),\n",
       "  ('CSB 425', '12 pm'),\n",
       "  ('CSB 130', ' 1 pm'),\n",
       "  ('CSB 325', ' 1 pm'),\n",
       "  ('CSB 425', ' 1 pm'),\n",
       "  ('CSB 130', ' 2 pm'),\n",
       "  ('CSB 325', ' 2 pm'),\n",
       "  ('CSB 425', ' 2 pm'),\n",
       "  ('CSB 130', ' 3 pm'),\n",
       "  ('CSB 325', ' 3 pm'),\n",
       "  ('CSB 425', ' 3 pm'),\n",
       "  ('CSB 130', ' 4 pm'),\n",
       "  ('CSB 325', ' 4 pm'),\n",
       "  ('CSB 425', ' 4 pm')],\n",
       " 'CS420': [('CSB 130', ' 9 am'),\n",
       "  ('CSB 325', ' 9 am'),\n",
       "  ('CSB 425', ' 9 am'),\n",
       "  ('CSB 130', '10 am'),\n",
       "  ('CSB 325', '10 am'),\n",
       "  ('CSB 425', '10 am'),\n",
       "  ('CSB 130', '11 am'),\n",
       "  ('CSB 325', '11 am'),\n",
       "  ('CSB 425', '11 am'),\n",
       "  ('CSB 130', '12 pm'),\n",
       "  ('CSB 325', '12 pm'),\n",
       "  ('CSB 425', '12 pm'),\n",
       "  ('CSB 130', ' 1 pm'),\n",
       "  ('CSB 325', ' 1 pm'),\n",
       "  ('CSB 425', ' 1 pm'),\n",
       "  ('CSB 130', ' 2 pm'),\n",
       "  ('CSB 325', ' 2 pm'),\n",
       "  ('CSB 425', ' 2 pm'),\n",
       "  ('CSB 130', ' 3 pm'),\n",
       "  ('CSB 325', ' 3 pm'),\n",
       "  ('CSB 425', ' 3 pm'),\n",
       "  ('CSB 130', ' 4 pm'),\n",
       "  ('CSB 325', ' 4 pm'),\n",
       "  ('CSB 425', ' 4 pm')]}"
      ]
     },
     "execution_count": 142,
     "metadata": {},
     "output_type": "execute_result"
    }
   ],
   "source": [
    "domainList = build_tuples(times, rooms)\n",
    "domains = {key: domainList for key in classes}\n",
    "domains\n",
    "#each class should have all combos as its list"
   ]
  },
  {
   "cell_type": "markdown",
   "metadata": {},
   "source": [
    "Looks like the large list of domains is being built correctly."
   ]
  },
  {
   "cell_type": "markdown",
   "metadata": {},
   "source": [
    "Testing `schedule` with the classes, times and rooms required by the assignment. "
   ]
  },
  {
   "cell_type": "code",
   "execution_count": 157,
   "metadata": {},
   "outputs": [],
   "source": [
    "classes = ['CS160', 'CS163', 'CS164',\n",
    "           'CS220', 'CS270', 'CS253',\n",
    "           'CS320', 'CS314', 'CS356', 'CS370',\n",
    "           'CS410', 'CS414', 'CS420', 'CS430', 'CS440', 'CS445', 'CS453', 'CS464',\n",
    "           'CS510', 'CS514', 'CS535', 'CS540', 'CS545']\n",
    "\n",
    "times = [' 9 am',\n",
    "         '10 am',\n",
    "         '11 am',\n",
    "         '12 pm',\n",
    "         ' 1 pm',\n",
    "         ' 2 pm',\n",
    "         ' 3 pm',\n",
    "         ' 4 pm']\n",
    "\n",
    "rooms = ['CSB 130', 'CSB 325', 'CSB 425']"
   ]
  },
  {
   "cell_type": "code",
   "execution_count": 158,
   "metadata": {},
   "outputs": [
    {
     "name": "stdout",
     "output_type": "stream",
     "text": [
      "Took 0 steps\n",
      "{'CS160': ('CSB 425', ' 2 pm'), 'CS163': ('CSB 130', '12 pm'), 'CS164': ('CSB 130', '10 am'), 'CS220': ('CSB 130', ' 4 pm'), 'CS270': ('CSB 425', ' 9 am'), 'CS253': ('CSB 130', ' 2 pm'), 'CS320': ('CSB 425', '12 pm'), 'CS314': ('CSB 130', '11 am'), 'CS356': ('CSB 425', ' 3 pm'), 'CS370': ('CSB 425', '10 am'), 'CS410': ('CSB 325', ' 1 pm'), 'CS414': ('CSB 325', ' 2 pm'), 'CS420': ('CSB 130', ' 3 pm'), 'CS430': ('CSB 130', ' 9 am'), 'CS440': ('CSB 325', '10 am'), 'CS445': ('CSB 325', '11 am'), 'CS453': ('CSB 325', '12 pm'), 'CS464': ('CSB 325', ' 4 pm'), 'CS510': ('CSB 130', ' 1 pm'), 'CS514': ('CSB 325', ' 3 pm'), 'CS535': ('CSB 425', ' 4 pm'), 'CS540': ('CSB 325', ' 9 am'), 'CS545': ('CSB 425', '11 am')}\n"
     ]
    }
   ],
   "source": [
    "max_steps = 100\n",
    "assignments, steps = schedule(classes, times, rooms, max_steps)\n",
    "print('Took', steps, 'steps')\n",
    "print(assignments)"
   ]
  },
  {
   "cell_type": "markdown",
   "metadata": {},
   "source": [
    "Its hard to see whether `schedule` is working correctly at this point without the nice formatting from `display`, but it looks like the correctly length and output is being generated. "
   ]
  },
  {
   "cell_type": "markdown",
   "metadata": {},
   "source": [
    "Testing `display` on the output from above."
   ]
  },
  {
   "cell_type": "code",
   "execution_count": 159,
   "metadata": {
    "scrolled": false
   },
   "outputs": [
    {
     "name": "stdout",
     "output_type": "stream",
     "text": [
      "       CSB 130    CSB 325    CSB 425 \n",
      "------------------------------------\n",
      " 9 am   CS270      CS430      CS540   \n",
      "10 am   CS164      CS370      CS440   \n",
      "11 am   CS314      CS445      CS545   \n",
      "12 pm   CS163      CS320      CS453   \n",
      " 1 pm   CS410      CS510   \n",
      " 2 pm   CS160      CS253      CS414   \n",
      " 3 pm   CS356      CS420      CS514   \n",
      " 4 pm   CS220      CS464      CS535   \n"
     ]
    }
   ],
   "source": [
    "display(assignments, rooms, times)"
   ]
  },
  {
   "cell_type": "markdown",
   "metadata": {},
   "source": [
    "With this readable format we can see that `schedule` finds a working schedule using `min_conflicts` that does not violate the constraints function."
   ]
  },
  {
   "cell_type": "markdown",
   "metadata": {},
   "source": [
    "Using larger sets to test whether `display` handles them correctly."
   ]
  },
  {
   "cell_type": "code",
   "execution_count": 163,
   "metadata": {},
   "outputs": [],
   "source": [
    "classes_ex = ['CS100', 'CS160', 'CS163', 'CS164',\n",
    "           'CS220', 'CS270', 'CS253',\n",
    "           'CS320', 'CS314', 'CS356', 'CS370',\n",
    "           'CS410', 'CS414', 'CS420', 'CS430', 'CS440', 'CS445', 'CS453', 'CS464',\n",
    "           'CS510', 'CS514', 'CS535', 'CS540', 'CS545']\n",
    "\n",
    "times_ex = [' 8 am',\n",
    "         ' 9 am',\n",
    "         '10 am',\n",
    "         '11 am',\n",
    "         '12 pm',\n",
    "         ' 1 pm',\n",
    "         ' 2 pm',\n",
    "         ' 3 pm',\n",
    "         ' 4 pm']\n",
    "\n",
    "rooms_ex = ['CSB 130', 'CSB 325', 'CSB 425', 'CLARK 101']"
   ]
  },
  {
   "cell_type": "code",
   "execution_count": 164,
   "metadata": {},
   "outputs": [
    {
     "name": "stdout",
     "output_type": "stream",
     "text": [
      "       CSB 130    CSB 325    CSB 425    CLARK 101 \n",
      "-----------------------------------------------\n",
      " 8 am   CS160      CS270      CS414   \n",
      " 9 am   CS370      CS410      CS545   \n",
      "10 am   CS440      CS535   \n",
      "11 am   CS464      CS510   \n",
      "12 pm   CS100      CS253      CS314      CS420   \n",
      " 1 pm   CS163      CS220      CS320      CS453   \n",
      " 2 pm   CS445      CS540   \n",
      " 3 pm   CS356   \n",
      " 4 pm   CS164      CS430      CS514   \n"
     ]
    }
   ],
   "source": [
    "assignments, steps = schedule(classes_ex, times_ex, rooms_ex, max_steps)\n",
    "display(assignments, rooms_ex, times_ex)"
   ]
  },
  {
   "cell_type": "markdown",
   "metadata": {},
   "source": [
    "Looks like it expands the columns fairly well. "
   ]
  },
  {
   "cell_type": "markdown",
   "metadata": {},
   "source": [
    "Testing `schedule_advanced` and `preference_count` with a reduced class list to see whether it adjusts for preferences. "
   ]
  },
  {
   "cell_type": "code",
   "execution_count": 165,
   "metadata": {},
   "outputs": [],
   "source": [
    "# shortened set to see what solutions it comes up with\n",
    "classes = ['CS160', 'CS163', 'CS164',\n",
    "           'CS220', 'CS270', 'CS253',\n",
    "           'CS320', 'CS314', 'CS356', 'CS370',\n",
    "           'CS410', 'CS414', 'CS420']\n",
    "times = [' 9 am',\n",
    "         '10 am',\n",
    "         '11 am',\n",
    "         '12 pm',\n",
    "         ' 1 pm',\n",
    "         ' 2 pm',\n",
    "         ' 3 pm',\n",
    "         ' 4 pm']\n",
    "rooms = ['CSB 130', 'CSB 325', 'CSB 425']"
   ]
  },
  {
   "cell_type": "code",
   "execution_count": 166,
   "metadata": {},
   "outputs": [
    {
     "name": "stdout",
     "output_type": "stream",
     "text": [
      "       CSB 130    CSB 325    CSB 425 \n",
      "------------------------------------\n",
      " 9 am   CS270   \n",
      "10 am   CS220      CS356   \n",
      "11 am   CS320   \n",
      "12 pm   CS314   \n",
      " 1 pm   CS164      CS370      CS420   \n",
      " 2 pm   CS163      CS414   \n",
      " 3 pm   CS160      CS253      CS410   \n",
      " 4 pm\n"
     ]
    }
   ],
   "source": [
    "best, steps = schedule_advanced(classes, times, rooms, 100, 5000)\n",
    "display(best, rooms, times)"
   ]
  },
  {
   "cell_type": "code",
   "execution_count": 167,
   "metadata": {},
   "outputs": [
    {
     "data": {
      "text/plain": [
       "2"
      ]
     },
     "execution_count": 167,
     "metadata": {},
     "output_type": "execute_result"
    }
   ],
   "source": [
    "preference_count(best)"
   ]
  },
  {
   "cell_type": "code",
   "execution_count": 168,
   "metadata": {},
   "outputs": [
    {
     "name": "stdout",
     "output_type": "stream",
     "text": [
      "       CSB 130    CSB 325    CSB 425    CLARK 101 \n",
      "-----------------------------------------------\n",
      " 8 am   CS160      CS370      CS430   \n",
      " 9 am   CS356      CS464   \n",
      "10 am   CS270      CS445      CS545   \n",
      "11 am   CS100      CS453      CS510   \n",
      "12 pm   CS410      CS535   \n",
      " 1 pm   CS164      CS220      CS414   \n",
      " 2 pm   CS163      CS440      CS514   \n",
      " 3 pm   CS253      CS320      CS420      CS540   \n",
      " 4 pm   CS314   \n"
     ]
    }
   ],
   "source": [
    "best, steps = schedule_advanced(classes_ex, times_ex, rooms_ex, 100, 5000)\n",
    "display(best, rooms_ex, times_ex)"
   ]
  },
  {
   "cell_type": "code",
   "execution_count": 169,
   "metadata": {},
   "outputs": [
    {
     "data": {
      "text/plain": [
       "5"
      ]
     },
     "execution_count": 169,
     "metadata": {},
     "output_type": "execute_result"
    }
   ],
   "source": [
    "preference_count(best)"
   ]
  },
  {
   "cell_type": "markdown",
   "metadata": {},
   "source": [
    "## Conclusion and Notes\n",
    "\n",
    "Ovearall, `min_conflicts` does a good job of finding a solution without conflicts. When I tried it, the steps to solution was very variable, sometimes landing on a solution right away and at others taking 18 or so steps to get there. I have noticed that it tends to favor the first class room very heavily. The expanded sets show this problem fairly well. It stacks everything into CSB 130 even when there is plenty of space in CLARK. Possibly randomization in the building of domains could help to spread out the assignments some. This becomes a problem with the extra credit because even though there is space to move around the assignments and violate fewer preferences, min_conflicts doesn't tend to return those sorts of solutions"
   ]
  }
 ],
 "metadata": {
  "anaconda-cloud": {},
  "kernelspec": {
   "display_name": "Python 3",
   "language": "python",
   "name": "python3"
  },
  "language_info": {
   "codemirror_mode": {
    "name": "ipython",
    "version": 3
   },
   "file_extension": ".py",
   "mimetype": "text/x-python",
   "name": "python",
   "nbconvert_exporter": "python",
   "pygments_lexer": "ipython3",
   "version": "3.6.5"
  },
  "toc": {
   "nav_menu": {},
   "number_sections": true,
   "sideBar": true,
   "skip_h1_title": false,
   "toc_cell": false,
   "toc_position": {},
   "toc_section_display": "block",
   "toc_window_display": false
  }
 },
 "nbformat": 4,
 "nbformat_minor": 1
}
